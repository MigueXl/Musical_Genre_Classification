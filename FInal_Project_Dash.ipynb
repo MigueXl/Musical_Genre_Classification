{
 "cells": [
  {
   "attachments": {},
   "cell_type": "markdown",
   "metadata": {},
   "source": [
    "# **Machine Learning Applications Final Project Dash**\n",
    "\n",
    "Date: May 9, 2023\n",
    "\n",
    "Authors: Óscar Montoya Amores (100451858), Javier Serrano Sánchez-Ocaña (100451673), Miguel Ángel Ponce Martínez (100451309)"
   ]
  },
  {
   "cell_type": "markdown",
   "metadata": {},
   "source": [
    "#### **LIBRARIES IMPORT**"
   ]
  },
  {
   "cell_type": "code",
   "execution_count": 1,
   "metadata": {},
   "outputs": [],
   "source": [
    "import joblib\n",
    "\n",
    "from jupyter_dash import JupyterDash\n",
    "from dash import dash, dcc, html, Input, Output\n",
    "\n",
    "import plotly.express as px\n",
    "import pandas as pd\n",
    "import numpy as np\n",
    "# import gensim\n",
    "import pyLDAvis.gensim as gensimvis\n",
    "import pyLDAvis"
   ]
  },
  {
   "attachments": {},
   "cell_type": "markdown",
   "metadata": {},
   "source": [
    "PLOTS A IMPLEMENTAR, BORRAR CUANDO ESTE ACABADO:\n",
    "\n",
    "-LDA CON LOS TÓPICOS DEPENDIENDO DE CADA GENERO, ES DECIR PODER ELEGIR QUE GENERO PLOTEAR Y QUE SALGAN LAS PALABRAS Q CONFORMAN EL TOPICO"
   ]
  },
  {
   "cell_type": "code",
   "execution_count": 4,
   "metadata": {},
   "outputs": [
    {
     "name": "stdout",
     "output_type": "stream",
     "text": [
      "Index(['song', 'artist', 'type', 'lyrics'], dtype='object')\n",
      "4000\n",
      "3731\n"
     ]
    },
    {
     "name": "stderr",
     "output_type": "stream",
     "text": [
      "c:\\Users\\34649\\anaconda3\\envs\\ML\\lib\\site-packages\\pyLDAvis\\_prepare.py:232: FutureWarning: In a future version of pandas all arguments of DataFrame.drop except for the argument 'labels' will be keyword-only.\n",
      "  head(R).drop('saliency', 1)\n",
      "c:\\Users\\34649\\anaconda3\\envs\\ML\\lib\\site-packages\\sklearn\\manifold\\_t_sne.py:780: FutureWarning: The default initialization in TSNE will change from 'random' to 'pca' in 1.2.\n",
      "  warnings.warn(\n",
      "c:\\Users\\34649\\anaconda3\\envs\\ML\\lib\\site-packages\\sklearn\\manifold\\_t_sne.py:790: FutureWarning: The default learning rate in TSNE will change from 200.0 to 'auto' in 1.2.\n",
      "  warnings.warn(\n",
      "c:\\Users\\34649\\anaconda3\\envs\\ML\\lib\\site-packages\\sklearn\\manifold\\_t_sne.py:819: FutureWarning: 'square_distances' has been introduced in 0.24 to help phase out legacy squaring behavior. The 'legacy' setting will be removed in 1.1 (renaming of 0.26), and the default setting will be changed to True. In 1.3, 'square_distances' will be removed altogether, and distances will be squared by default. Set 'square_distances'=True to silence this warning.\n",
      "  warnings.warn(\n"
     ]
    }
   ],
   "source": [
    "df = pd.read_csv('all_lyrics.csv')\n",
    "print(df.columns)\n",
    "print(len(df))\n",
    "\n",
    "ldag = joblib.load(\"lda_model.joblib\")\n",
    "hdp = joblib.load(\"hdp_model.joblib\")\n",
    "\n",
    "from gensim.corpora import Dictionary\n",
    "\n",
    "dictionary_file = \"dictionary.gensim\"\n",
    "D = Dictionary.load(dictionary_file)\n",
    "from gensim import corpora\n",
    "# load the corpus from file\n",
    "corpus = corpora.MmCorpus('corpus.mm')\n",
    "\n",
    "corpus_words = [[D[word_id] for word_id, count in doc] for doc in corpus]\n",
    "\n",
    "\"\"\"\n",
    "print(len(corpus))\n",
    "print(type(ldag))\n",
    "print(type(corpus))\n",
    "print(corpus_words[1])\n",
    "print(type(D))\n",
    "print(\"wa\" in corpus_words[0])\n",
    "\"\"\"\n",
    "\n",
    "# Visualize topics using pyLDAvis\n",
    "vocab = {D[i]: i for i in range(len(D))}\n",
    "vocab2 = {i: D[i] for i in range(len(D))}\n",
    "term_frequency = {D[i]: freq for i, freq in D.cfs.items()}\n",
    "term_frequency = pd.Series(term_frequency)\n",
    "vis = gensimvis.prepare(ldag, corpus, D, mds='tsne', vocab=vocab2, sort_topics=False, term_frequency=term_frequency)"
   ]
  },
  {
   "cell_type": "code",
   "execution_count": 7,
   "metadata": {},
   "outputs": [],
   "source": [
    "#Open probs df for roc curves, and Y\n",
    "pd.read_csv('probs_df.csv')\n",
    "Y = joblib.load(\"Y.joblib\")\n",
    "from sklearn.model_selection import train_test_split\n",
    "X_train, X_test, y_train, y_test = train_test_split(Y, Y, test_size=0.3, random_state=33)"
   ]
  },
  {
   "cell_type": "code",
   "execution_count": 3,
   "metadata": {},
   "outputs": [
    {
     "name": "stderr",
     "output_type": "stream",
     "text": [
      "c:\\Users\\34649\\anaconda3\\envs\\ML\\lib\\site-packages\\jupyter_dash\\jupyter_app.py:310: DeprecationWarning: setDaemon() is deprecated, set the daemon attribute instead\n",
      "  thread.setDaemon(True)\n"
     ]
    },
    {
     "name": "stdout",
     "output_type": "stream",
     "text": [
      "Dash app running on http://127.0.0.1:8050/\n"
     ]
    },
    {
     "name": "stdout",
     "output_type": "stream",
     "text": [
      "[('wa', 0.022217337), ('one', 0.010883816)]\n",
      "['one']\n",
      "3731\n",
      "[0, 1, 7, 16, 17, 21, 22, 23, 28, 29, 31, 32, 38, 39, 42, 45, 46, 53, 54, 55, 57, 62, 64, 68, 69, 70, 72, 73, 74, 78, 79, 85, 86, 87, 88, 92, 95, 96, 99, 101, 103, 107, 109, 113, 115, 118, 121, 122, 124, 126, 127, 129, 131, 135, 143, 148, 149, 150, 155, 156, 157, 160, 161, 163, 166, 167, 168, 169, 179, 180, 182, 186, 188, 195, 198, 200, 204, 210, 214, 216, 218, 221, 222, 223, 227, 229, 231, 233, 235, 237, 240, 244, 249, 253, 255, 257, 258, 264, 265, 272, 273, 275, 276, 279, 282, 283, 287, 289, 290, 293, 295, 297, 298, 304, 306, 310, 311, 319, 324, 326, 333, 334, 335, 343, 344, 345, 346, 347, 350, 355, 356, 362, 363, 365, 367, 368, 379, 381, 389, 390, 391, 396, 402, 404, 405, 414, 415, 416, 417, 418, 420, 421, 423, 431, 433, 437, 440, 442, 443, 444, 447, 450, 453, 457, 462, 464, 469, 470, 471, 473, 477, 479, 480, 482, 483, 484, 485, 487, 494, 497, 498, 504, 507, 508, 512, 513, 516, 517, 529, 530, 531, 533, 535, 538, 541, 542, 545, 547, 549, 550, 553, 557, 559, 560, 562, 566, 571, 576, 577, 578, 581, 583, 584, 585, 594, 596, 597, 599, 600, 604, 605, 607, 608, 610, 614, 616, 623, 625, 626, 628, 631, 635, 636, 638, 643, 646, 650, 653, 655, 658, 659, 672, 673, 680, 683, 684, 690, 691, 692, 694, 695, 697, 699, 701, 706, 709, 710, 714, 716, 724, 729, 733, 737, 739, 741, 745, 749, 755, 756, 757, 758, 762, 763, 764, 771, 772, 774, 776, 777, 779, 783, 786, 787, 793, 794, 795, 798, 801, 802, 808, 819, 824, 828, 833, 835, 837, 838, 840, 847, 850, 851, 859, 860, 861, 864, 865, 866, 871, 879, 880, 881, 884, 887, 889, 893, 894, 896, 897, 899, 903, 904, 905, 909, 916, 921, 923, 925, 926, 929, 930, 934, 935, 937, 938, 946, 952, 953, 954, 956, 957, 960, 963, 964, 967, 968, 970, 971, 972, 973, 974, 975, 977, 978, 980, 982, 985, 988, 990, 994, 997, 998, 1001, 1006, 1007, 1009, 1010, 1015, 1016, 1019, 1021, 1024, 1026, 1028, 1031, 1033, 1034, 1035, 1038, 1041, 1042, 1046, 1047, 1048, 1051, 1057, 1061, 1062, 1064, 1066, 1067, 1069, 1070, 1072, 1073, 1078, 1080, 1090, 1091, 1093, 1094, 1095, 1099, 1103, 1105, 1107, 1108, 1109, 1110, 1114, 1117, 1122, 1124, 1128, 1136, 1142, 1143, 1144, 1145, 1146, 1155, 1156, 1157, 1158, 1159, 1162, 1164, 1167, 1171, 1174, 1176, 1177, 1179, 1180, 1181, 1182, 1186, 1190, 1191, 1192, 1196, 1197, 1198, 1200, 1201, 1203, 1208, 1212, 1217, 1218, 1219, 1221, 1223, 1224, 1225, 1227, 1232, 1236, 1241, 1247, 1253, 1255, 1258, 1259, 1260, 1261, 1266, 1268, 1269, 1273, 1274, 1277, 1278, 1279, 1280, 1283, 1284, 1285, 1286, 1287, 1288, 1290, 1291, 1293, 1294, 1295, 1296, 1297, 1302, 1303, 1304, 1305, 1306, 1308, 1310, 1319, 1320, 1322, 1324, 1327, 1329, 1331, 1333, 1334, 1335, 1339, 1341, 1342, 1346, 1347, 1352, 1353, 1355, 1359, 1360, 1363, 1365, 1366, 1367, 1372, 1373, 1374, 1379, 1381, 1382, 1383, 1386, 1389, 1394, 1403, 1404, 1405, 1409, 1411, 1415, 1416, 1421, 1423, 1424, 1428, 1432, 1436, 1451, 1454, 1456, 1460, 1461, 1466, 1469, 1472, 1476, 1480, 1483, 1485, 1486, 1487, 1489, 1491, 1494, 1495, 1501, 1504, 1505, 1507, 1510, 1513, 1518, 1521, 1522, 1523, 1524, 1525, 1531, 1532, 1541, 1546, 1549, 1551, 1554, 1558, 1559, 1562, 1564, 1565, 1566, 1572, 1576, 1577, 1578, 1582, 1585, 1586, 1588, 1592, 1596, 1598, 1601, 1605, 1606, 1607, 1609, 1610, 1615, 1619, 1622, 1625, 1626, 1630, 1632, 1633, 1636, 1637, 1638, 1639, 1643, 1645, 1647, 1649, 1652, 1654, 1655, 1656, 1658, 1664, 1665, 1666, 1668, 1670, 1671, 1676, 1678, 1683, 1684, 1686, 1687, 1688, 1689, 1690, 1699, 1700, 1701, 1705, 1706, 1708, 1709, 1712, 1716, 1717, 1718, 1720, 1721, 1724, 1731, 1732, 1733, 1734, 1737, 1738, 1739, 1741, 1742, 1743, 1744, 1745, 1747, 1748, 1749, 1751, 1754, 1755, 1757, 1758, 1759, 1763, 1764, 1765, 1767, 1769, 1772, 1773, 1775, 1776, 1778, 1783, 1788, 1789, 1790, 1791, 1796, 1800, 1803, 1804, 1805, 1807, 1809, 1812, 1814, 1821, 1827, 1828, 1834, 1837, 1839, 1840, 1845, 1847, 1848, 1849, 1850, 1855, 1856, 1857, 1858, 1862, 1863, 1866, 1869, 1870, 1871, 1872, 1875, 1876, 1878, 1881, 1882, 1884, 1885, 1888, 1890, 1892, 1898, 1899, 1900, 1901, 1904, 1906, 1908, 1912, 1914, 1915, 1916, 1917, 1918, 1919, 1921, 1923, 1925, 1927, 1929, 1932, 1933, 1934, 1935, 1937, 1939, 1940, 1943, 1945, 1951, 1952, 1954, 1955, 1956, 1959, 1961, 1962, 1968, 1969, 1970, 1972, 1976, 1977, 1987, 1988, 1990, 1992, 1994, 2001, 2002, 2006, 2007, 2008, 2009, 2010, 2013, 2014, 2015, 2022, 2025, 2026, 2027, 2028, 2030, 2034, 2035, 2037, 2038, 2041, 2044, 2045, 2052, 2053, 2054, 2055, 2056, 2065, 2067, 2068, 2070, 2072, 2073, 2074, 2076, 2077, 2078, 2083, 2084, 2091, 2093, 2095, 2097, 2098, 2101, 2103, 2104, 2106, 2108, 2109, 2111, 2112, 2116, 2118, 2119, 2120, 2121, 2124, 2125, 2126, 2129, 2130, 2131, 2136, 2138, 2139, 2141, 2143, 2144, 2146, 2148, 2150, 2151, 2153, 2154, 2156, 2159, 2162, 2164, 2170, 2172, 2173, 2177, 2178, 2181, 2183, 2185, 2187, 2189, 2190, 2193, 2194, 2196, 2197, 2198, 2199, 2200, 2201, 2203, 2204, 2207, 2208, 2209, 2212, 2214, 2216, 2218, 2219, 2221, 2222, 2223, 2225, 2228, 2229, 2230, 2231, 2232, 2233, 2237, 2240, 2242, 2243, 2245, 2250, 2252, 2253, 2258, 2259, 2260, 2261, 2262, 2263, 2266, 2269, 2270, 2274, 2275, 2276, 2278, 2281, 2283, 2287, 2291, 2296, 2297, 2298, 2301, 2304, 2306, 2308, 2309, 2310, 2311, 2312, 2314, 2315, 2317, 2318, 2320, 2322, 2324, 2325, 2327, 2329, 2333, 2337, 2340, 2345, 2347, 2348, 2350, 2352, 2353, 2357, 2358, 2359, 2365, 2367, 2368, 2370, 2373, 2374, 2376, 2377, 2378, 2379, 2380, 2381, 2387, 2388, 2390, 2391, 2392, 2393, 2395, 2397, 2398, 2399, 2402, 2403, 2406, 2407, 2412, 2415, 2416, 2418, 2420, 2425, 2426, 2427, 2428, 2433, 2435, 2436, 2437, 2438, 2441, 2445, 2448, 2449, 2455, 2461, 2462, 2463, 2464, 2466, 2471, 2472, 2473, 2474, 2475, 2476, 2480, 2482, 2483, 2484, 2489, 2490, 2495, 2497, 2502, 2505, 2508, 2509, 2510, 2511, 2512, 2516, 2518, 2520, 2521, 2522, 2523, 2524, 2525, 2527, 2529, 2532, 2533, 2540, 2543, 2544, 2545, 2546, 2551, 2553, 2554, 2556, 2559, 2562, 2563, 2566, 2570, 2572, 2573, 2574, 2577, 2581, 2584, 2588, 2591, 2592, 2593, 2597, 2599, 2601, 2605, 2607, 2611, 2613, 2617, 2619, 2621, 2628, 2629, 2630, 2631, 2636, 2637, 2640, 2641, 2642, 2646, 2647, 2650, 2651, 2652, 2653, 2655, 2656, 2657, 2661, 2665, 2667, 2668, 2672, 2674, 2678, 2681, 2682, 2684, 2686, 2687, 2689, 2692, 2696, 2700, 2708, 2710, 2713, 2714, 2715, 2717, 2718, 2722, 2723, 2725, 2726, 2728, 2729, 2732, 2734, 2735, 2736, 2739, 2742, 2743, 2748, 2749, 2754, 2758, 2759, 2761, 2762, 2763, 2764, 2767, 2770, 2773, 2780, 2782, 2783, 2784, 2795, 2796, 2797, 2798, 2801, 2802, 2803, 2804, 2811, 2814, 2816, 2817, 2822, 2826, 2836, 2837, 2839, 2844, 2847, 2850, 2851, 2852, 2853, 2854, 2856, 2857, 2859, 2860, 2861, 2862, 2863, 2865, 2866, 2867, 2869, 2870, 2871, 2874, 2877, 2878, 2879, 2880, 2881, 2883, 2884, 2885, 2886, 2888, 2890, 2892, 2893, 2894, 2895, 2896, 2897, 2898, 2899, 2901, 2902, 2905, 2906, 2908, 2909, 2911, 2912, 2913, 2914, 2915, 2916, 2917, 2918, 2919, 2920, 2921, 2922, 2923, 2924, 2925, 2926, 2927, 2928, 2929, 2930, 2932, 2934, 2935, 2936, 2938, 2939, 2941, 2942, 2943, 2944, 2946, 2948, 2949, 2950, 2952, 2953, 2954, 2955, 2956, 2957, 2959, 2960, 2964, 2965, 2966, 2967, 2968, 2969, 2970, 2971, 2972, 2973, 2974, 2976, 2977, 2978, 2980, 2982, 2983, 2984, 2986, 2987, 2988, 2989, 2991, 2992, 2993, 2994, 2995, 2997, 2998, 3000, 3001, 3002, 3003, 3005, 3006, 3007, 3008, 3010, 3011, 3012, 3014, 3015, 3016, 3019, 3023, 3024, 3026, 3029, 3030, 3032, 3033, 3034, 3035, 3036, 3037, 3038, 3039, 3041, 3043, 3044, 3046, 3047, 3048, 3049, 3050, 3051, 3052, 3053, 3054, 3055, 3056, 3057, 3058, 3059, 3060, 3062, 3063, 3064, 3065, 3066, 3068, 3069, 3070, 3071, 3072, 3074, 3075, 3076, 3077, 3078, 3079, 3080, 3082, 3083, 3084, 3085, 3086, 3089, 3090, 3091, 3093, 3095, 3096, 3097, 3099, 3100, 3101, 3102, 3103, 3104, 3105, 3106, 3107, 3108, 3109, 3110, 3111, 3113, 3115, 3116, 3118, 3119, 3120, 3121, 3122, 3123, 3124, 3125, 3126, 3128, 3129, 3131, 3134, 3136, 3137, 3140, 3141, 3142, 3144, 3145, 3146, 3147, 3150, 3151, 3153, 3154, 3155, 3156, 3158, 3159, 3160, 3162, 3163, 3165, 3166, 3168, 3171, 3173, 3174, 3175, 3177, 3179, 3180, 3181, 3182, 3183, 3186, 3189, 3190, 3192, 3193, 3194, 3195, 3196, 3197, 3198, 3200, 3202, 3203, 3205, 3206, 3207, 3209, 3210, 3212, 3213, 3214, 3215, 3216, 3217, 3219, 3220, 3221, 3222, 3224, 3225, 3226, 3229, 3230, 3231, 3232, 3233, 3235, 3237, 3240, 3241, 3242, 3243, 3244, 3245, 3248, 3249, 3250, 3252, 3253, 3255, 3256, 3257, 3260, 3263, 3264, 3265, 3266, 3267, 3268, 3269, 3272, 3274, 3276, 3277, 3278, 3279, 3280, 3281, 3283, 3285, 3287, 3288, 3290, 3291, 3292, 3295, 3297, 3299, 3300, 3301, 3303, 3304, 3305, 3306, 3307, 3310, 3311, 3313, 3315, 3316, 3317, 3318, 3319, 3320, 3322, 3323, 3324, 3326, 3328, 3329, 3330, 3331, 3332, 3335, 3336, 3337, 3338, 3340, 3342, 3343, 3344, 3345, 3346, 3348, 3349, 3350, 3351, 3352, 3354, 3355, 3356, 3359, 3360, 3361, 3362, 3363, 3364, 3365, 3367, 3368, 3370, 3372, 3373, 3374, 3375, 3376, 3378, 3379, 3382, 3383, 3385, 3386, 3389, 3390, 3391, 3393, 3394, 3395, 3396, 3397, 3399, 3400, 3401, 3402, 3405, 3406, 3407, 3408, 3409, 3410, 3415, 3416, 3417, 3418, 3419, 3421, 3422, 3423, 3424, 3427, 3428, 3429, 3430, 3431, 3433, 3434, 3435, 3436, 3438, 3439, 3440, 3441, 3442, 3444, 3445, 3447, 3450, 3451, 3452, 3453, 3456, 3457, 3458, 3459, 3460, 3461, 3462, 3463, 3464, 3466, 3467, 3468, 3469, 3471, 3473, 3476, 3478, 3479, 3480, 3481, 3482, 3484, 3485, 3486, 3488, 3489, 3490, 3491, 3492, 3495, 3499, 3500, 3501, 3502, 3503, 3504, 3506, 3507, 3508, 3509, 3510, 3512, 3514, 3515, 3516, 3518, 3519, 3520, 3521, 3522, 3525, 3526, 3528, 3529, 3532, 3535, 3537, 3538, 3539, 3541, 3545, 3546, 3547, 3549, 3550, 3551, 3552, 3554, 3557, 3559, 3561, 3562, 3563, 3566, 3567, 3568, 3569, 3570, 3571, 3572, 3573, 3574, 3575, 3576, 3577, 3578, 3579, 3580, 3581, 3583, 3584, 3585, 3586, 3588, 3589, 3590, 3591, 3592, 3593, 3594, 3595, 3596, 3598, 3599, 3600, 3601, 3604, 3605, 3608, 3612, 3613, 3615, 3616, 3617, 3618, 3620, 3622, 3623, 3624, 3629, 3630, 3631, 3632, 3633, 3634, 3635, 3640, 3643, 3646, 3648, 3649, 3650, 3651, 3652, 3653, 3654, 3655, 3656, 3657, 3658, 3660, 3661, 3662, 3666, 3670, 3672, 3674, 3675, 3676, 3677, 3681, 3682, 3684, 3685, 3686, 3687, 3688, 3690, 3691, 3692, 3694, 3695, 3696, 3697, 3698, 3699, 3701, 3702, 3703, 3704, 3706, 3707, 3710, 3712, 3713, 3714, 3717, 3719, 3721, 3722, 3724, 3725, 3727, 3728, 3729, 3730]\n",
      "                               song                         artist  \\\n",
      "0                Stairway to Heaven                   Led Zeppelin   \n",
      "1                          Hey Jude                        Beatles   \n",
      "7                  Hotel California                         Eagles   \n",
      "16                You Really Got Me                      Van Halen   \n",
      "17              More Than a Feeling                         Boston   \n",
      "...                             ...                            ...   \n",
      "3725  The Roach (The Chronic Outro)                        Dr. Dre   \n",
      "3727             Nobody Believes Me        Styles P feat. Jae Hood   \n",
      "3728                Playa’s Holiday  Rappin’ 4 Tay feat. Too Short   \n",
      "3729                        Respect               Notorious B.I.G.   \n",
      "3730             The Good Die Young                        50 Cent   \n",
      "\n",
      "               type                                             lyrics  \n",
      "0              rock  Stairway to Heaven Lyrics[Intro]\\r\\n\\r\\n[Verse...  \n",
      "1              rock  Hey Jude Lyrics[Verse 1: Paul McCartney]\\r\\nHe...  \n",
      "7              rock  Hotel California Lyrics[Verse 1]\\r\\nOn a dark ...  \n",
      "16             rock  You Really Got Me Lyrics[Verse 1]\\r\\nGirl, you...  \n",
      "17             rock  More Than a Feeling Lyrics[Verse 1]\\r\\nI looke...  \n",
      "...             ...                                                ...  \n",
      "3725  rap & hip hop  The Roach (The Chronic Outro) Lyrics[Intro: RB...  \n",
      "3727  rap & hip hop  2018 haywoodindahood Listening Log LyricsLast ...  \n",
      "3728  rap & hip hop  Hip-Hop’s Greatest Singles By Year Lyrics1979\\...  \n",
      "3729  rap & hip hop  Respect Lyrics[Intro: Diana King & The Notorio...  \n",
      "3730  rap & hip hop  The Good Die Young Lyrics[Intro]\\r\\nYo, you kn...  \n",
      "\n",
      "[1787 rows x 4 columns]\n",
      "[('nigga', 0.028915735), ('like', 0.016894875)]\n",
      "['nigga', 'like']\n",
      "3731\n",
      "[26, 96, 101, 255, 399, 535, 615, 616, 716, 791, 1015, 1067, 1247, 1559, 1841, 1876, 1922, 1927, 1933, 1939, 1955, 1961, 2025, 2063, 2071, 2081, 2098, 2116, 2135, 2165, 2223, 2226, 2230, 2231, 2269, 2298, 2343, 2376, 2398, 2401, 2405, 2440, 2465, 2491, 2505, 2584, 2629, 2641, 2673, 2688, 2726, 2768, 2775, 2781, 2784, 2818, 2822, 2849, 2850, 2852, 2854, 2856, 2860, 2862, 2863, 2864, 2865, 2866, 2867, 2869, 2870, 2871, 2872, 2873, 2875, 2878, 2881, 2883, 2884, 2887, 2888, 2889, 2890, 2893, 2894, 2895, 2897, 2898, 2901, 2902, 2903, 2904, 2905, 2906, 2907, 2908, 2913, 2914, 2917, 2920, 2922, 2923, 2924, 2925, 2930, 2931, 2932, 2935, 2936, 2940, 2941, 2942, 2946, 2948, 2950, 2954, 2956, 2957, 2959, 2960, 2962, 2964, 2965, 2971, 2973, 2974, 2976, 2978, 2979, 2980, 2981, 2986, 2988, 2989, 2990, 2991, 2992, 2993, 2994, 2995, 2996, 2997, 2998, 2999, 3001, 3002, 3003, 3005, 3006, 3007, 3008, 3010, 3013, 3014, 3015, 3017, 3018, 3020, 3024, 3025, 3028, 3029, 3030, 3034, 3036, 3037, 3038, 3043, 3045, 3046, 3047, 3048, 3049, 3050, 3051, 3053, 3054, 3055, 3057, 3060, 3062, 3064, 3065, 3068, 3069, 3070, 3072, 3073, 3076, 3077, 3078, 3082, 3083, 3084, 3085, 3087, 3088, 3089, 3090, 3091, 3092, 3093, 3094, 3095, 3096, 3097, 3099, 3102, 3104, 3108, 3109, 3110, 3111, 3112, 3115, 3117, 3118, 3120, 3121, 3122, 3123, 3124, 3125, 3126, 3127, 3128, 3131, 3136, 3137, 3138, 3139, 3140, 3141, 3142, 3143, 3145, 3146, 3148, 3149, 3152, 3155, 3156, 3157, 3158, 3163, 3164, 3165, 3169, 3171, 3174, 3175, 3177, 3178, 3179, 3180, 3181, 3183, 3185, 3188, 3190, 3191, 3192, 3196, 3198, 3201, 3202, 3203, 3204, 3206, 3207, 3209, 3210, 3211, 3212, 3213, 3214, 3215, 3220, 3225, 3228, 3231, 3232, 3235, 3240, 3243, 3244, 3245, 3246, 3249, 3250, 3252, 3253, 3256, 3258, 3261, 3262, 3263, 3264, 3265, 3269, 3271, 3272, 3273, 3274, 3276, 3277, 3280, 3281, 3282, 3284, 3285, 3287, 3290, 3291, 3292, 3293, 3294, 3295, 3296, 3297, 3299, 3300, 3301, 3305, 3307, 3308, 3309, 3310, 3316, 3319, 3322, 3323, 3324, 3325, 3326, 3328, 3329, 3331, 3333, 3334, 3335, 3336, 3337, 3340, 3341, 3343, 3344, 3347, 3350, 3351, 3352, 3354, 3356, 3357, 3358, 3359, 3361, 3362, 3365, 3367, 3369, 3370, 3373, 3374, 3377, 3381, 3382, 3384, 3387, 3389, 3390, 3391, 3392, 3393, 3395, 3396, 3398, 3400, 3401, 3402, 3404, 3405, 3407, 3408, 3409, 3410, 3411, 3414, 3415, 3418, 3419, 3420, 3421, 3425, 3426, 3429, 3430, 3431, 3432, 3433, 3435, 3436, 3438, 3439, 3441, 3443, 3444, 3446, 3447, 3448, 3449, 3450, 3451, 3452, 3454, 3456, 3457, 3458, 3459, 3461, 3466, 3468, 3469, 3471, 3474, 3476, 3477, 3479, 3483, 3485, 3486, 3488, 3490, 3492, 3493, 3494, 3496, 3497, 3498, 3499, 3500, 3501, 3503, 3504, 3507, 3509, 3511, 3512, 3513, 3514, 3517, 3524, 3525, 3526, 3527, 3532, 3533, 3534, 3535, 3537, 3538, 3539, 3540, 3542, 3546, 3550, 3551, 3552, 3553, 3554, 3558, 3559, 3561, 3562, 3563, 3564, 3566, 3568, 3570, 3571, 3572, 3573, 3574, 3575, 3576, 3578, 3580, 3581, 3582, 3583, 3584, 3587, 3589, 3590, 3591, 3594, 3597, 3598, 3600, 3601, 3602, 3605, 3607, 3609, 3610, 3612, 3617, 3618, 3619, 3622, 3625, 3626, 3628, 3630, 3631, 3632, 3634, 3636, 3637, 3639, 3640, 3643, 3644, 3646, 3647, 3649, 3651, 3652, 3653, 3654, 3656, 3657, 3661, 3662, 3663, 3667, 3668, 3669, 3670, 3671, 3672, 3674, 3675, 3678, 3680, 3681, 3682, 3685, 3686, 3687, 3688, 3690, 3691, 3692, 3694, 3695, 3696, 3697, 3702, 3703, 3704, 3705, 3706, 3707, 3708, 3709, 3713, 3714, 3715, 3716, 3717, 3718, 3720, 3721, 3723, 3724, 3726, 3729, 3730]\n",
      "                                         song              artist  \\\n",
      "26                          Magic Carpet Ride         Steppenwolf   \n",
      "96                           Bennie  The Jets         John, Elton   \n",
      "101                               Louie Louie       Kingsmen, The   \n",
      "255                            Love Her Madly               Doors   \n",
      "399                           End Of The Line  Traveling Wilburys   \n",
      "...                                       ...                 ...   \n",
      "3723  Reservoir Dogs ft. L.O.X & Beanie Sigel               Jay-Z   \n",
      "3724                            Platinum Plus               Big L   \n",
      "3726                            How Many MC’s          Black Moon   \n",
      "3729                                  Respect    Notorious B.I.G.   \n",
      "3730                       The Good Die Young             50 Cent   \n",
      "\n",
      "               type                                             lyrics  \n",
      "26             rock  Magic Carpet Ride Lyrics{Instrumental}\\r\\nI li...  \n",
      "96             rock  Bennie and the Jets Lyrics[Verse 1]\\r\\nHey kid...  \n",
      "101            rock  Louie Louie Lyrics[Intro chords]\\r\\nLouie Loui...  \n",
      "255            rock  Love Her Madly Lyrics[Intro]\\r\\nDon't ya love ...  \n",
      "399            rock  Traveling Wilburys LyricsTraveling Wilburys\\r\\...  \n",
      "...             ...                                                ...  \n",
      "3723  rap & hip hop  Reservoir Dogs Lyrics[Intro: Sheek Louch]\\r\\nF...  \n",
      "3724  rap & hip hop  Platinum Plus Lyrics[Intro: Big L]\\r\\nYo yo wh...  \n",
      "3726  rap & hip hop  How Many MC’s... Lyrics[Verse 1]\\r\\nI'm takin ...  \n",
      "3729  rap & hip hop  Respect Lyrics[Intro: Diana King & The Notorio...  \n",
      "3730  rap & hip hop  The Good Die Young Lyrics[Intro]\\r\\nYo, you kn...  \n",
      "\n",
      "[579 rows x 4 columns]\n"
     ]
    }
   ],
   "source": [
    "# Initialize the Dash app\n",
    "app = JupyterDash(__name__)\n",
    "\n",
    "server = app.server\n",
    "\n",
    "# Define the layout of the Dash app\n",
    "app.layout = html.Div([\n",
    "    html.H1(\"Song Genre Topic Modeling\"),\n",
    "    dcc.Dropdown(\n",
    "        id='dropdown',\n",
    "        options=[{'label': 'Topic {}'.format(i), 'value': i} for i in range(ldag.num_topics)],\n",
    "        value=0\n",
    "    ),\n",
    "    dcc.Graph(id='topic-type-plot'),\n",
    "    html.Iframe(\n",
    "        id='pyldavis',\n",
    "        srcDoc=pyLDAvis.prepared_data_to_html(vis),\n",
    "        style={'width': '100%', 'height': '500px'}\n",
    "    )\n",
    "])\n",
    "\n",
    "# Define the update functions for the Dash app\n",
    "@app.callback(\n",
    "    Output('pyldavis', 'srcDoc'),\n",
    "    Input('dropdown', 'value')\n",
    ")\n",
    "def update_pyldavis(selected_topic):\n",
    "    return pyLDAvis.prepared_data_to_html(vis)\n",
    "\n",
    "@app.callback(\n",
    "    Output('topic-type-plot', 'figure'),\n",
    "    Input('dropdown', 'value')\n",
    ")\n",
    "def update_topic_type_plot(selected_topic):\n",
    "    # Get the top 20 words for the selected topic\n",
    "    top_words = ldag.show_topic(selected_topic, topn=2)\n",
    "    print(top_words)\n",
    "    top_words = [word[0] for word in top_words]\n",
    "    if \"wa\" in top_words:\n",
    "        top_words.remove(\"wa\")\n",
    "    print(top_words)\n",
    "    # Find the indices of the songs in the corpus that contain any of the top 20 words for the selected topic\n",
    "    indices = []\n",
    "    print(len(corpus_words))\n",
    "    \"\"\"\n",
    "    i = 0\n",
    "    while i<len(corpus_words):\n",
    "        for word in top_words:\n",
    "            if word!=\"wa\":\n",
    "                if word in corpus_words[i]:\n",
    "                    #print(word)\n",
    "                    indices.append(i)\n",
    "                    break\n",
    "        i+=1\n",
    "    \"\"\"\n",
    "\n",
    "    for i in range(len(corpus_words)):\n",
    "        j=0\n",
    "        for word in top_words:\n",
    "            if word in corpus_words[i]:\n",
    "                j+=1\n",
    "        if j==len(top_words):\n",
    "            indices.append(i)\n",
    "            \n",
    "    print(indices)\n",
    "    # Filter the dataframe to include only songs with indices in the list of indices\n",
    "    topic_df = df[df.index.isin(indices)]\n",
    "    print(topic_df)\n",
    "    # Check if any songs match the selected topic\n",
    "    if topic_df.empty:\n",
    "        return {'data': [], 'layout': {}}\n",
    "    # Get the genre of each song in the selected topic\n",
    "    genres = [genre for genre in topic_df['type']]\n",
    "    # Count the number of songs in each genre for the selected topic\n",
    "    genre_counts = pd.Series(genres).value_counts().sort_index()\n",
    "    # Create the plot\n",
    "    fig = {\n",
    "        'data': [{'x': genre_counts.index, 'y': genre_counts.values, 'type': 'bar', 'marker': {'color': ['red', 'green', 'blue', 'orange']}}],\n",
    "        'layout': {'title': f'Topic {selected_topic} {top_words} Song Genres by LDA' ,'xaxis': {'title': 'Genre'}, 'yaxis': {'title': 'Count'}}\n",
    "    }\n",
    "    return fig\n",
    "\n",
    "# Run the app\n",
    "if __name__ == '__main__':\n",
    "    app.run_server(debug=True)\n",
    "\n"
   ]
  }
 ],
 "metadata": {
  "kernelspec": {
   "display_name": "Python 3.10.10 ('finalML')",
   "language": "python",
   "name": "python3"
  },
  "language_info": {
   "codemirror_mode": {
    "name": "ipython",
    "version": 3
   },
   "file_extension": ".py",
   "mimetype": "text/x-python",
   "name": "python",
   "nbconvert_exporter": "python",
   "pygments_lexer": "ipython3",
   "version": "3.10.4"
  },
  "orig_nbformat": 4,
  "vscode": {
   "interpreter": {
    "hash": "9ffb13643f58659a366a8d1a886476c8d650c48df7782f3d3477a7c406b6c188"
   }
  }
 },
 "nbformat": 4,
 "nbformat_minor": 2
}
