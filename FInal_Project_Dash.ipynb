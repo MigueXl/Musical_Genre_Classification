{
 "cells": [
  {
   "attachments": {},
   "cell_type": "markdown",
   "metadata": {},
   "source": [
    "# **Machine Learning Applications Final Project Dash**\n",
    "\n",
    "Date: May 9, 2023\n",
    "\n",
    "Authors: Óscar Montoya Amores (100451858), Javier Serrano Sánchez-Ocaña (100451673), Miguel Ángel Ponce Martínez (100451309)"
   ]
  },
  {
   "cell_type": "markdown",
   "metadata": {},
   "source": [
    "#### **LIBRARIES IMPORT**"
   ]
  },
  {
   "cell_type": "code",
   "execution_count": 1,
   "metadata": {},
   "outputs": [],
   "source": [
    "import joblib\n",
    "\n",
    "from jupyter_dash import JupyterDash\n",
    "from dash import dash, dcc, html, Input, Output\n",
    "\n",
    "import plotly.express as px\n",
    "import pandas as pd\n",
    "import numpy as np\n",
    "# import gensim\n",
    "import pyLDAvis.gensim as gensimvis\n",
    "import pyLDAvis\n",
    "\n",
    "from io import BytesIO\n",
    "\n",
    "import pandas as pd\n",
    "from wordcloud import WordCloud\n",
    "import base64"
   ]
  },
  {
   "attachments": {},
   "cell_type": "markdown",
   "metadata": {},
   "source": [
    "PLOTS A IMPLEMENTAR, BORRAR CUANDO ESTE ACABADO:\n",
    "\n",
    "-LDA CON LOS TÓPICOS DEPENDIENDO DE CADA GENERO, ES DECIR PODER ELEGIR QUE GENERO PLOTEAR Y QUE SALGAN LAS PALABRAS Q CONFORMAN EL TOPICO"
   ]
  },
  {
   "cell_type": "code",
   "execution_count": 2,
   "metadata": {},
   "outputs": [],
   "source": [
    "df = pd.read_csv('clean_songs.csv')\n",
    "# print(df.columns)\n",
    "\n",
    "ldag = joblib.load(\"lda_model.joblib\")\n",
    "\n",
    "from gensim.corpora import Dictionary\n",
    "\n",
    "dictionary_file = \"dictionary.gensim\"\n",
    "D = Dictionary.load(dictionary_file)\n",
    "from gensim import corpora\n",
    "# load the corpus from file\n",
    "corpus = corpora.MmCorpus('corpus.mm')\n",
    "\n",
    "corpus_words = [[D[word_id] for word_id, count in doc] for doc in corpus]\n",
    "\n",
    "# print(type(ldag))\n",
    "# print(type(corpus))\n",
    "# print(corpus_words[0])\n",
    "# print(type(D))\n",
    "# print(\"wa\" in corpus_words[0])\n",
    "\n",
    "# Visualize topics using pyLDAvis\n",
    "vocab = {D[i]: i for i in range(len(D))}\n",
    "vocab2 = {i: D[i] for i in range(len(D))}\n",
    "term_frequency = {D[i]: freq for i, freq in D.cfs.items()}\n",
    "term_frequency = pd.Series(term_frequency)\n",
    "vis = gensimvis.prepare(ldag, corpus, D, mds='tsne', vocab=vocab2, sort_topics=False, term_frequency=term_frequency)"
   ]
  },
  {
   "cell_type": "code",
   "execution_count": 3,
   "metadata": {},
   "outputs": [
    {
     "name": "stdout",
     "output_type": "stream",
     "text": [
      "['rock', 'country', 'R&B', 'rap & hip hop']\n",
      "Index([  0,   1,   2,   3,   4,   5,   6,   7,   8,   9,\n",
      "       ...\n",
      "       953, 954, 955, 956, 957, 958, 959, 960, 961, 962],\n",
      "      dtype='int64', length=963)\n"
     ]
    }
   ],
   "source": [
    "#0. Obtain genres\n",
    "genres = df['type'].unique().tolist()\n",
    "print(genres)\n",
    "#1. Obtain the Indices of each song genre\n",
    "typeSer = df['type']\n",
    "rock_idx  = typeSer[typeSer == 'rock'].index\n",
    "print(rock_idx)\n"
   ]
  },
  {
   "cell_type": "code",
   "execution_count": 4,
   "metadata": {},
   "outputs": [],
   "source": [
    "dfm = pd.DataFrame({'word': ['apple', 'pear', 'orange','Nano'], 'freq': [1,3,9,20]})\n",
    "dfm2 = pd.DataFrame({'word': ['apple', 'pear', 'orange','Vettel'], 'freq': [1,3,9,20]})"
   ]
  },
  {
   "cell_type": "code",
   "execution_count": 5,
   "metadata": {},
   "outputs": [
    {
     "name": "stdout",
     "output_type": "stream",
     "text": [
      "Dash is running on http://127.0.0.1:8050/\n",
      "\n"
     ]
    },
    {
     "name": "stderr",
     "output_type": "stream",
     "text": [
      "c:\\Users\\migue\\anaconda4\\envs\\finalML\\lib\\site-packages\\jupyter_dash\\jupyter_app.py:310: DeprecationWarning: setDaemon() is deprecated, set the daemon attribute instead\n",
      "  thread.setDaemon(True)\n"
     ]
    }
   ],
   "source": [
    "# Initialize the Dash app\n",
    "app = JupyterDash(__name__)\n",
    "\n",
    "server = app.server\n",
    "\n",
    "# Define the layout of the Dash app\n",
    "app.layout = html.Div([\n",
    "    html.H1(\"Song Lyrics Wordcloud by Genre\"),\n",
    "    dcc.Dropdown(\n",
    "        id='dropdown_words',\n",
    "        options=[{'label': f'Genre: {i}', 'value': i} for i in genres],\n",
    "        value=genres[0]\n",
    "    ),\n",
    "    html.Img(id=\"image_wc\"),\n",
    "    html.H1(\"Song Genre Topic Modeling\"),\n",
    "    dcc.Dropdown(\n",
    "        id='dropdown',\n",
    "        options=[{'label': 'Topic {}'.format(i), 'value': i} for i in range(ldag.num_topics)],\n",
    "        value=0\n",
    "    ),\n",
    "    dcc.Graph(id='topic-type-plot'),\n",
    "    html.Iframe(\n",
    "        id='pyldavis',\n",
    "        srcDoc=pyLDAvis.prepared_data_to_html(vis),\n",
    "        style={'width': '100%', 'height': '500px'}\n",
    "    )\n",
    "])\n",
    "\n",
    "#Creation of WordCloud\n",
    "@app.callback(\n",
    "    Output('image_wc', 'src'), \n",
    "    [Input('image_wc', 'id'), \n",
    "     Input('dropdown_words', 'value')]\n",
    ")\n",
    "\n",
    "def make_image(b, gr):\n",
    "    img = BytesIO()\n",
    "    if gr == 'rock':\n",
    "        plot_wordcloud(data=dfm).save(img, format='PNG')\n",
    "    else:\n",
    "        plot_wordcloud(data=dfm2).save(img, format='PNG')\n",
    "    return 'data:image/png;base64,{}'.format(base64.b64encode(img.getvalue()).decode())\n",
    "\n",
    "def plot_wordcloud(data):\n",
    "    d = {a: x for a, x in data.values}\n",
    "    wc = WordCloud(colormap='prism', background_color='black', width=1900, height=640)#.generate(data)\n",
    "    wc.fit_words(d)\n",
    "    return wc.to_image()\n",
    "\n",
    "# Define the update functions for the Dash app\n",
    "@app.callback(\n",
    "    Output('pyldavis', 'srcDoc'),\n",
    "    Input('dropdown', 'value')\n",
    ")\n",
    "def update_pyldavis(selected_topic):\n",
    "    return pyLDAvis.prepared_data_to_html(vis)\n",
    "\n",
    "@app.callback(\n",
    "    Output('topic-type-plot', 'figure'),\n",
    "    Input('dropdown', 'value')\n",
    ")\n",
    "def update_topic_type_plot(selected_topic):\n",
    "    # Get the top 20 words for the selected topic\n",
    "    top_words = ldag.show_topic(selected_topic, topn=2)\n",
    "    # print(top_words)\n",
    "    top_words = [word[0] for word in top_words]\n",
    "    if \"wa\" in top_words:\n",
    "        top_words.remove(\"wa\")\n",
    "    # print(top_words)\n",
    "    # Find the indices of the songs in the corpus that contain any of the top 20 words for the selected topic\n",
    "    indices = []\n",
    "    # print(len(corpus_words))\n",
    "    \"\"\"\n",
    "    i = 0\n",
    "    while i<len(corpus_words):\n",
    "        for word in top_words:\n",
    "            if word!=\"wa\":\n",
    "                if word in corpus_words[i]:\n",
    "                    #print(word)\n",
    "                    indices.append(i)\n",
    "                    break\n",
    "        i+=1\n",
    "    \"\"\"\n",
    "\n",
    "    for i in range(len(corpus_words)):\n",
    "        j=0\n",
    "        for word in top_words:\n",
    "            if word in corpus_words[i]:\n",
    "                j+=1\n",
    "        if j==len(top_words):\n",
    "            indices.append(i)\n",
    "            \n",
    "    # print(indices)\n",
    "    # Filter the dataframe to include only songs with indices in the list of indices\n",
    "    topic_df = df[df.index.isin(indices)]\n",
    "    # print(topic_df)\n",
    "    # Check if any songs match the selected topic\n",
    "    if topic_df.empty:\n",
    "        return {'data': [], 'layout': {}}\n",
    "    # Get the genre of each song in the selected topic\n",
    "    genres = [genre for genre in topic_df['type']]\n",
    "    # Count the number of songs in each genre for the selected topic\n",
    "    genre_counts = pd.Series(genres).value_counts().sort_index()\n",
    "    # Create the plot\n",
    "    fig = {\n",
    "        'data': [{'x': genre_counts.index, 'y': genre_counts.values, 'type': 'bar', 'marker': {'color': ['red', 'green', 'blue', 'orange']}}],\n",
    "        'layout': {'title': f'Topic {selected_topic} {top_words} Song Genres by LDA' ,'xaxis': {'title': 'Genre'}, 'yaxis': {'title': 'Count'}}\n",
    "    }\n",
    "    return fig\n",
    "\n",
    "# Run the app\n",
    "if __name__ == '__main__':\n",
    "    app.run_server(debug=True)\n",
    "\n"
   ]
  },
  {
   "cell_type": "code",
   "execution_count": null,
   "metadata": {},
   "outputs": [],
   "source": []
  }
 ],
 "metadata": {
  "kernelspec": {
   "display_name": "Python 3.10.10 ('finalML')",
   "language": "python",
   "name": "python3"
  },
  "language_info": {
   "codemirror_mode": {
    "name": "ipython",
    "version": 3
   },
   "file_extension": ".py",
   "mimetype": "text/x-python",
   "name": "python",
   "nbconvert_exporter": "python",
   "pygments_lexer": "ipython3",
   "version": "3.10.10"
  },
  "orig_nbformat": 4,
  "vscode": {
   "interpreter": {
    "hash": "9ffb13643f58659a366a8d1a886476c8d650c48df7782f3d3477a7c406b6c188"
   }
  }
 },
 "nbformat": 4,
 "nbformat_minor": 2
}
