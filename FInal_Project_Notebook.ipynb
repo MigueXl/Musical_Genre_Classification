{
 "cells": [
  {
   "cell_type": "markdown",
   "metadata": {},
   "source": [
    "# **Machine Learning Applications Final Project Notebook**\n",
    "\n",
    "Date: May 9, 2023\n",
    "\n",
    "Authors: Óscar Montoya Amores (100451858), Javier Serrano Sánchez-Ocaña (100451673), Miguel Ángel Ponce Martínez (100451309)"
   ]
  },
  {
   "cell_type": "markdown",
   "metadata": {},
   "source": [
    "#### **LIBRARIES IMPORT**"
   ]
  },
  {
   "cell_type": "code",
   "execution_count": 11,
   "metadata": {},
   "outputs": [],
   "source": [
    "import numpy as np\n",
    "import pandas as pd\n",
    "import zipfile as zp\n",
    "from termcolor import colored\n",
    "import seaborn as sns\n",
    "import matplotlib.pyplot as plt\n",
    "\n",
    "import spacy    "
   ]
  },
  {
   "cell_type": "markdown",
   "metadata": {},
   "source": [
    "## **0. Dataset Loading and DF Preprocessing**"
   ]
  },
  {
   "cell_type": "markdown",
   "metadata": {},
   "source": [
    "#### **DATASET IMPORT**"
   ]
  },
  {
   "cell_type": "markdown",
   "metadata": {},
   "source": [
    "Let's load the dataset obtained from Kaggle (https://www.kaggle.com/datasets/elizzyliu/song-lyrics) and obtain the main insights from this data:"
   ]
  },
  {
   "cell_type": "code",
   "execution_count": 21,
   "metadata": {},
   "outputs": [
    {
     "data": {
      "text/html": [
       "<div>\n",
       "<style scoped>\n",
       "    .dataframe tbody tr th:only-of-type {\n",
       "        vertical-align: middle;\n",
       "    }\n",
       "\n",
       "    .dataframe tbody tr th {\n",
       "        vertical-align: top;\n",
       "    }\n",
       "\n",
       "    .dataframe thead th {\n",
       "        text-align: right;\n",
       "    }\n",
       "</style>\n",
       "<table border=\"1\" class=\"dataframe\">\n",
       "  <thead>\n",
       "    <tr style=\"text-align: right;\">\n",
       "      <th></th>\n",
       "      <th>song</th>\n",
       "      <th>artist</th>\n",
       "      <th>type</th>\n",
       "      <th>lyrics</th>\n",
       "    </tr>\n",
       "  </thead>\n",
       "  <tbody>\n",
       "    <tr>\n",
       "      <th>0</th>\n",
       "      <td>Stairway to Heaven</td>\n",
       "      <td>Led Zeppelin</td>\n",
       "      <td>rock</td>\n",
       "      <td>Stairway to Heaven Lyrics[Intro]\\r\\n\\r\\n[Verse...</td>\n",
       "    </tr>\n",
       "    <tr>\n",
       "      <th>1</th>\n",
       "      <td>Hey Jude</td>\n",
       "      <td>Beatles</td>\n",
       "      <td>rock</td>\n",
       "      <td>Hey Jude Lyrics[Verse 1: Paul McCartney]\\r\\nHe...</td>\n",
       "    </tr>\n",
       "    <tr>\n",
       "      <th>2</th>\n",
       "      <td>All Along the Watchtower</td>\n",
       "      <td>Hendrix, Jimi</td>\n",
       "      <td>rock</td>\n",
       "      <td>Ii. Tambourine Lyrics[Chorus, sung]\\r\\nHey, Pi...</td>\n",
       "    </tr>\n",
       "    <tr>\n",
       "      <th>3</th>\n",
       "      <td>Satisfaction</td>\n",
       "      <td>Rolling Stones</td>\n",
       "      <td>rock</td>\n",
       "      <td>Sin título I Lyrics[Letra de \"Sin título I\"]\\r...</td>\n",
       "    </tr>\n",
       "    <tr>\n",
       "      <th>4</th>\n",
       "      <td>Like A Rolling Stone</td>\n",
       "      <td>Dylan, Bob</td>\n",
       "      <td>rock</td>\n",
       "      <td>Like a Rolling Stone Lyrics[Verse 1]\\r\\nOnce u...</td>\n",
       "    </tr>\n",
       "    <tr>\n",
       "      <th>...</th>\n",
       "      <td>...</td>\n",
       "      <td>...</td>\n",
       "      <td>...</td>\n",
       "      <td>...</td>\n",
       "    </tr>\n",
       "    <tr>\n",
       "      <th>3995</th>\n",
       "      <td>Motown 25</td>\n",
       "      <td>Elzhi</td>\n",
       "      <td>rap &amp; hip hop</td>\n",
       "      <td>Motown 25 Lyrics[Verse 1: eLZhi]\\r\\nI end care...</td>\n",
       "    </tr>\n",
       "    <tr>\n",
       "      <th>3996</th>\n",
       "      <td>How Ya Like Me Now</td>\n",
       "      <td>Kool Moe Dee</td>\n",
       "      <td>rap &amp; hip hop</td>\n",
       "      <td>How Ya Like Me Now Lyrics\"All aboard for the n...</td>\n",
       "    </tr>\n",
       "    <tr>\n",
       "      <th>3997</th>\n",
       "      <td>Coastin’</td>\n",
       "      <td>Zion I feat. K.Flay</td>\n",
       "      <td>rap &amp; hip hop</td>\n",
       "      <td>Coastin’ LyricsWhen life brings trouble\\r\\nYou...</td>\n",
       "    </tr>\n",
       "    <tr>\n",
       "      <th>3998</th>\n",
       "      <td>Head Banger</td>\n",
       "      <td>EPMD</td>\n",
       "      <td>rap &amp; hip hop</td>\n",
       "      <td>Headbanger Lyrics[Redman]\\r\\nNegroes!!!!!!!!\\r...</td>\n",
       "    </tr>\n",
       "    <tr>\n",
       "      <th>3999</th>\n",
       "      <td>Sound Bwoy Burell</td>\n",
       "      <td>Smif-N-Wessun</td>\n",
       "      <td>rap &amp; hip hop</td>\n",
       "      <td>Sound Bwoy Bureill Lyrics[Intro: Sample from C...</td>\n",
       "    </tr>\n",
       "  </tbody>\n",
       "</table>\n",
       "<p>4000 rows × 4 columns</p>\n",
       "</div>"
      ],
      "text/plain": [
       "                          song               artist           type  \\\n",
       "0           Stairway to Heaven         Led Zeppelin           rock   \n",
       "1                     Hey Jude              Beatles           rock   \n",
       "2     All Along the Watchtower        Hendrix, Jimi           rock   \n",
       "3                 Satisfaction       Rolling Stones           rock   \n",
       "4         Like A Rolling Stone           Dylan, Bob           rock   \n",
       "...                        ...                  ...            ...   \n",
       "3995                 Motown 25                Elzhi  rap & hip hop   \n",
       "3996        How Ya Like Me Now         Kool Moe Dee  rap & hip hop   \n",
       "3997                  Coastin’  Zion I feat. K.Flay  rap & hip hop   \n",
       "3998               Head Banger                 EPMD  rap & hip hop   \n",
       "3999         Sound Bwoy Burell        Smif-N-Wessun  rap & hip hop   \n",
       "\n",
       "                                                 lyrics  \n",
       "0     Stairway to Heaven Lyrics[Intro]\\r\\n\\r\\n[Verse...  \n",
       "1     Hey Jude Lyrics[Verse 1: Paul McCartney]\\r\\nHe...  \n",
       "2     Ii. Tambourine Lyrics[Chorus, sung]\\r\\nHey, Pi...  \n",
       "3     Sin título I Lyrics[Letra de \"Sin título I\"]\\r...  \n",
       "4     Like a Rolling Stone Lyrics[Verse 1]\\r\\nOnce u...  \n",
       "...                                                 ...  \n",
       "3995  Motown 25 Lyrics[Verse 1: eLZhi]\\r\\nI end care...  \n",
       "3996  How Ya Like Me Now Lyrics\"All aboard for the n...  \n",
       "3997  Coastin’ LyricsWhen life brings trouble\\r\\nYou...  \n",
       "3998  Headbanger Lyrics[Redman]\\r\\nNegroes!!!!!!!!\\r...  \n",
       "3999  Sound Bwoy Bureill Lyrics[Intro: Sample from C...  \n",
       "\n",
       "[4000 rows x 4 columns]"
      ]
     },
     "metadata": {},
     "output_type": "display_data"
    }
   ],
   "source": [
    "df = pd.read_csv('all_lyrics.csv')\n",
    "\n",
    "display(df)"
   ]
  },
  {
   "cell_type": "code",
   "execution_count": 22,
   "metadata": {},
   "outputs": [
    {
     "data": {
      "text/html": [
       "<div>\n",
       "<style scoped>\n",
       "    .dataframe tbody tr th:only-of-type {\n",
       "        vertical-align: middle;\n",
       "    }\n",
       "\n",
       "    .dataframe tbody tr th {\n",
       "        vertical-align: top;\n",
       "    }\n",
       "\n",
       "    .dataframe thead th {\n",
       "        text-align: right;\n",
       "    }\n",
       "</style>\n",
       "<table border=\"1\" class=\"dataframe\">\n",
       "  <thead>\n",
       "    <tr style=\"text-align: right;\">\n",
       "      <th></th>\n",
       "      <th>song</th>\n",
       "      <th>artist</th>\n",
       "      <th>type</th>\n",
       "      <th>lyrics</th>\n",
       "    </tr>\n",
       "  </thead>\n",
       "  <tbody>\n",
       "    <tr>\n",
       "      <th>count</th>\n",
       "      <td>4000</td>\n",
       "      <td>4000</td>\n",
       "      <td>4000</td>\n",
       "      <td>3896</td>\n",
       "    </tr>\n",
       "    <tr>\n",
       "      <th>unique</th>\n",
       "      <td>3881</td>\n",
       "      <td>1583</td>\n",
       "      <td>4</td>\n",
       "      <td>3761</td>\n",
       "    </tr>\n",
       "    <tr>\n",
       "      <th>top</th>\n",
       "      <td>Summertime</td>\n",
       "      <td>Beatles</td>\n",
       "      <td>rock</td>\n",
       "      <td>Summer Country Songs LyricsA\\r\\nAaron Lewis – ...</td>\n",
       "    </tr>\n",
       "    <tr>\n",
       "      <th>freq</th>\n",
       "      <td>5</td>\n",
       "      <td>51</td>\n",
       "      <td>1000</td>\n",
       "      <td>10</td>\n",
       "    </tr>\n",
       "  </tbody>\n",
       "</table>\n",
       "</div>"
      ],
      "text/plain": [
       "              song   artist  type  \\\n",
       "count         4000     4000  4000   \n",
       "unique        3881     1583     4   \n",
       "top     Summertime  Beatles  rock   \n",
       "freq             5       51  1000   \n",
       "\n",
       "                                                   lyrics  \n",
       "count                                                3896  \n",
       "unique                                               3761  \n",
       "top     Summer Country Songs LyricsA\\r\\nAaron Lewis – ...  \n",
       "freq                                                   10  "
      ]
     },
     "execution_count": 22,
     "metadata": {},
     "output_type": "execute_result"
    }
   ],
   "source": [
    "df.describe()"
   ]
  },
  {
   "cell_type": "markdown",
   "metadata": {},
   "source": [
    "This dataset is composed by the 1000 most famous songs from every musical genre(``type Variable``) and our goal is find some relation among songs lyrics and its genre. \n",
    "\n",
    "Firstly, null values seems to appear in the lyrics row because as we can see 104 songs ``lyrics`` are not counted properly. So first thing wee need to do is remove null values.\n",
    "\n",
    "Moreover, the unique row bothers us too. It is expected that ``type`` and ``artist`` have several instances repeated (Artist could have many famous songs and obviously given 4 genres it will be repeated). Furthermore, even two different artists could present two different songs with the same name (``song``). However, it is really strange that two songs represent the same lyrics. Here we could have be talking about plagiarism, corrupted data or simply describe() function is not working as expected with long string stucture, so before starting to apply some Machine Learnings Applicatios we have seen in class we need to fix this trouble."
   ]
  },
  {
   "cell_type": "code",
   "execution_count": 23,
   "metadata": {},
   "outputs": [
    {
     "name": "stdout",
     "output_type": "stream",
     "text": [
      "There are exactly 104 null values in the lyrics variable which corresponds to the 2.600% of the data set\n"
     ]
    }
   ],
   "source": [
    "null = df['lyrics'].isna().values\n",
    "\n",
    "print(f'There are exactly {sum(null)} null values in the lyrics variable which corresponds to the {sum(null)/len(null)*100:.3f}% of the data set')\n"
   ]
  },
  {
   "cell_type": "markdown",
   "metadata": {},
   "source": [
    "We think this percentege is assumible of being removed from the dataset but before doing so let's see the proportion of songs genre which receives null lyrics. "
   ]
  },
  {
   "cell_type": "code",
   "execution_count": 24,
   "metadata": {},
   "outputs": [
    {
     "data": {
      "text/plain": [
       "<AxesSubplot:>"
      ]
     },
     "execution_count": 24,
     "metadata": {},
     "output_type": "execute_result"
    },
    {
     "data": {
      "image/png": "[encoded data removed]",
      "text/plain": [
       "<Figure size 432x288 with 1 Axes>"
      ]
     },
     "metadata": {
      "needs_background": "light"
     },
     "output_type": "display_data"
    }
   ],
   "source": [
    "df_null = df[null]\n",
    "df_null['type'].hist()"
   ]
  },
  {
   "cell_type": "markdown",
   "metadata": {},
   "source": [
    "Most of the null lyrics are from ``rap & hip hop`` but nothing alarming. We can assume to remove this instances, update the dataframe and repeat a similar process to find out repeted lyrics. "
   ]
  },
  {
   "cell_type": "code",
   "execution_count": 25,
   "metadata": {},
   "outputs": [],
   "source": [
    "df = df.dropna(subset=['lyrics', 'type'])"
   ]
  },
  {
   "cell_type": "code",
   "execution_count": 26,
   "metadata": {},
   "outputs": [
    {
     "name": "stdout",
     "output_type": "stream",
     "text": [
      "[False False False ... False False False]\n"
     ]
    }
   ],
   "source": [
    "print(df.duplicated().values)"
   ]
  },
  {
   "cell_type": "code",
   "execution_count": 27,
   "metadata": {},
   "outputs": [
    {
     "name": "stdout",
     "output_type": "stream",
     "text": [
      "There are exactly 14 repeated values in the lyrics variable which corresponds to the 0.359% of the data set\n"
     ]
    },
    {
     "data": {
      "text/plain": [
       "<AxesSubplot:>"
      ]
     },
     "execution_count": 27,
     "metadata": {},
     "output_type": "execute_result"
    },
    {
     "data": {
      "image/png": "[encoded data removed]",
      "text/plain": [
       "<Figure size 432x288 with 1 Axes>"
      ]
     },
     "metadata": {
      "needs_background": "light"
     },
     "output_type": "display_data"
    }
   ],
   "source": [
    "repeated = df[df.duplicated()]\n",
    "print(f'There are exactly {len(repeated)} repeated values in the lyrics variable which corresponds to the {len(repeated)/len(df)*100:.3f}% of the data set')\n",
    "repeated['type'].hist()"
   ]
  },
  {
   "cell_type": "markdown",
   "metadata": {},
   "source": [
    "Again, the ammount of repeated values are not very important but this time is focused on only two genres. However, we will remove it because it is not adding any information and let's repeat the describe() process to finally start to focus on the Machine Learning Apps."
   ]
  },
  {
   "cell_type": "code",
   "execution_count": 28,
   "metadata": {},
   "outputs": [
    {
     "data": {
      "text/html": [
       "<div>\n",
       "<style scoped>\n",
       "    .dataframe tbody tr th:only-of-type {\n",
       "        vertical-align: middle;\n",
       "    }\n",
       "\n",
       "    .dataframe tbody tr th {\n",
       "        vertical-align: top;\n",
       "    }\n",
       "\n",
       "    .dataframe thead th {\n",
       "        text-align: right;\n",
       "    }\n",
       "</style>\n",
       "<table border=\"1\" class=\"dataframe\">\n",
       "  <thead>\n",
       "    <tr style=\"text-align: right;\">\n",
       "      <th></th>\n",
       "      <th>song</th>\n",
       "      <th>artist</th>\n",
       "      <th>type</th>\n",
       "      <th>lyrics</th>\n",
       "    </tr>\n",
       "  </thead>\n",
       "  <tbody>\n",
       "    <tr>\n",
       "      <th>count</th>\n",
       "      <td>3761</td>\n",
       "      <td>3761</td>\n",
       "      <td>3761</td>\n",
       "      <td>3761</td>\n",
       "    </tr>\n",
       "    <tr>\n",
       "      <th>unique</th>\n",
       "      <td>3668</td>\n",
       "      <td>1476</td>\n",
       "      <td>4</td>\n",
       "      <td>3761</td>\n",
       "    </tr>\n",
       "    <tr>\n",
       "      <th>top</th>\n",
       "      <td>Angel</td>\n",
       "      <td>Beatles</td>\n",
       "      <td>rock</td>\n",
       "      <td>Stairway to Heaven Lyrics[Intro]\\r\\n\\r\\n[Verse...</td>\n",
       "    </tr>\n",
       "    <tr>\n",
       "      <th>freq</th>\n",
       "      <td>5</td>\n",
       "      <td>48</td>\n",
       "      <td>972</td>\n",
       "      <td>1</td>\n",
       "    </tr>\n",
       "  </tbody>\n",
       "</table>\n",
       "</div>"
      ],
      "text/plain": [
       "         song   artist  type  \\\n",
       "count    3761     3761  3761   \n",
       "unique   3668     1476     4   \n",
       "top     Angel  Beatles  rock   \n",
       "freq        5       48   972   \n",
       "\n",
       "                                                   lyrics  \n",
       "count                                                3761  \n",
       "unique                                               3761  \n",
       "top     Stairway to Heaven Lyrics[Intro]\\r\\n\\r\\n[Verse...  \n",
       "freq                                                    1  "
      ]
     },
     "execution_count": 28,
     "metadata": {},
     "output_type": "execute_result"
    }
   ],
   "source": [
    "df = df.drop_duplicates(subset=['lyrics'], keep='first').reset_index(drop=True)\n",
    "df.describe()"
   ]
  },
  {
   "cell_type": "markdown",
   "metadata": {},
   "source": [
    "Good news regarding the ``lyrics`` variable, is time to begin working with spacy and more NLP libaries we have seen during classes."
   ]
  },
  {
   "cell_type": "markdown",
   "metadata": {},
   "source": [
    "## **1. Text Preprocessing and vectorization**"
   ]
  },
  {
   "cell_type": "markdown",
   "metadata": {},
   "source": [
    "### **1.1 NLP Pipeline**"
   ]
  },
  {
   "cell_type": "markdown",
   "metadata": {},
   "source": [
    "Before the implementation of the Pipeline let's print some ``lyrics`` instances in order to visualize which kind of none useful set of characters has been introduced"
   ]
  },
  {
   "cell_type": "code",
   "execution_count": 29,
   "metadata": {},
   "outputs": [
    {
     "name": "stdout",
     "output_type": "stream",
     "text": [
      "SONG 1\n",
      "[\"Stairway to Heaven Lyrics[Intro]\\r\\n\\r\\n[Verse 1]\\r\\nThere's a lady who's sure all that glitters is gold\\r\\nAnd she's buying a stairway to Heaven\\r\\nWhen she gets there she knows, if the stores are all closed\\r\\nWith a word she can get what she came for\\r\\nOoh, ooh, and she's buying a stairway to Heaven\\r\\nThere's a sign on the wall, but she wants to be sure\\r\\n'Cause you know sometimes words have two meanings\\r\\nIn a tree by the brook, there's a songbird who sings\\r\\nSometimes all of our thoughts are misgiven\\r\\n\\r\\n[Chorus]\\r\\nOoh, it  makes me wonder\\r\\nOoh, makes me wonder\\r\\n[Verse 2]\\r\\nThere's a feeling I get when I look to the West\\r\\nAnd my spirit is crying for leaving\\r\\nIn my thoughts I have seen rings of smoke through the trees\\r\\nAnd the voices of those who stand looking\\r\\n\\r\\n[Chorus]\\r\\nOoh, it makes me wonder\\r\\nOoh, really makes me wonder\\r\\n\\r\\n[Verse 3]\\r\\nAnd it's whispered that soon if we all call the tune\\r\\nThen the piper will lead us to reason\\r\\nAnd a new day will dawn for those who stand long\\r\\nAnd the forests will echo with laughter\\r\\n\\r\\n[Chorus]\\r\\nOh-oh-oh-oh-woahhh\\r\\n\\r\\n[Verse 4]\\r\\nIf there's a bustle in your hedgerow, don't be alarmed now\\r\\nIt's just a spring clean for the May queen\\r\\nYes, there are two paths you can go by, but in the long run\\r\\nThere's still time to change the road you're on\\r\\n\\r\\n[Chorus]\\r\\nAnd it makes me wonder\\r\\nOhh, woah\\r\\n[Verse 5]\\r\\nYour head is humming, and it won't go, in case you don't know\\r\\nThe piper's calling you to join him\\r\\nDear lady, can you hear the wind blow? And did you know\\r\\nYour stairway lies on the whispering wind?\\r\\n[Guitar Solo]\\r\\n\\r\\n[Bridge]\\r\\nAnd as we wind on down the road\\r\\nOur shadows taller than our soul\\r\\nThere walks a lady we all know\\r\\nWho shines white light and wants to show\\r\\nHow everything still turns to gold\\r\\nAnd if you listen very hard\\r\\nThe tune will come to you at last\\r\\nWhen all are one, and one is all\\r\\nTo be a rock and not to roll\\r\\n\\r\\n[Outro]\\r\\nAnd she's buying a stairway to Heaven280Embed\"]\n",
      "\n",
      "SONG 2\n",
      "[\"Hey Jude Lyrics[Verse 1: Paul McCartney]\\r\\nHey Jude, don't make it bad\\r\\nTake a sad song and make it better\\r\\nRemember to let her into your heart\\r\\nThen you can start to make it better\\r\\n\\r\\n[Verse 2: Paul McCartney, John Lennon, George Harrison]\\r\\nHey Jude, don't be afraid\\r\\nYou were made to go out and get her\\r\\nThe minute you let her under your skin\\r\\nThen you begin to make it better\\r\\n\\r\\n[Chorus: Paul McCartney, John Lennon, George Harrison]\\r\\nAnd anytime you feel the pain, hey Jude, refrain\\r\\nDon't carry the world upon your shoulders\\r\\nFor well you know that it's a fool who plays it cool\\r\\nBy making his world a little colder\\r\\nNa na na na na na na na na na\\r\\n[Verse 3: Paul McCartney]\\r\\nHey Jude, don't let me down\\r\\nYou have found her, now go and get her\\r\\n(Let it out and let it in)\\r\\nRemember (Hey Jude) to let her into your heart\\r\\nThen you can start to make it better\\r\\n\\r\\n[Chorus: Paul McCartney, John Lennon, George Harrison]\\r\\nSo let it out and let it in, hey Jude, begin\\r\\nYou're waiting for someone to perform with\\r\\nAnd don't you know that it's just you, hey Jude, you'll do\\r\\nThe movement you need is on your shoulder\\r\\nNa na na na na na na na na yeah\\r\\n\\r\\n[Verse 4: Paul McCartney & John Lennon]\\r\\nHey Jude, don't make it bad\\r\\nTake a sad song and make it better\\r\\nRemember to let her under your skin\\r\\nThen you'll begin to make it (Woah, fucking hell!)\\r\\nBetter better better better better better, oh\\r\\n\\r\\n[Outro: Paul McCartney & Lennon/Harrison/Starr]\\r\\nYeah yeah yeah yeah yeah yeah yeah\\r\\nNaa na na na na na na, na na na na, hey Jude\\r\\nNaa na na na na na na, na na na na, hey Jude\\r\\nNaa na na na na na na, na na na na, hey Jude\\r\\nNaa na na na na na na, na na na na, hey Jude\\r\\n(Jude Judy Judy Judy Judy Judy ow wow)\\r\\nNaa na na na na na na (Na na na), na na na na, hey Jude\\r\\n(Jude Jude Jude Jude Jude)\\r\\nNaa na na na na na na (Yeah yeah yeah), na na na na, hey Jude\\r\\n(You know you can make, Jude Jude, You're not gonna break it)\\r\\nNaa na (Don't make it bad Jude) na na na na na (Take a sad song and make it better), na na na na, hey Jude\\r\\nHey Jude, hey Jude wow\\r\\nNaa na na na na na na, na na na na, hey Jude\\r\\nNaa na na na na na na, na na na na, hey Jude\\r\\nJude Jude Jude Jude Jude Jude\\r\\nNaa na na na na na na, na na na na, hey Jude\\r\\nNaa na na na na na na, na na na na, hey Jude\\r\\n(Na na na na na na na na na na na na)\\r\\nNaa na na na na na na, na na na na, hey Jude\\r\\nNaa na na na na na na, na na na na, hey Jude\\r\\nNaa na na na na na na (Make it Jude), na na na na, hey Jude\\r\\n(Yeah yeah yeah yeah yeah yeah yeah)\\r\\nNaa na na na na na na, na na na na, hey Jude\\r\\n(Go listen to ya ma ma ma ma ma ma ma ma)\\r\\nNaa na na na na na na, na na na na, hey Jude\\r\\nNaa na na na na na na, na na na na, hey Jude96Embed\"]\n",
      "\n"
     ]
    }
   ],
   "source": [
    "instances = [l for l in df['lyrics'].values[:2]]\n",
    "\n",
    "for si,s in enumerate(instances):\n",
    "    print(f'SONG {si + 1}')\n",
    "    print(str([s])+'\\n')"
   ]
  },
  {
   "cell_type": "markdown",
   "metadata": {},
   "source": [
    "From these two songs we can clearly see that there are a lot of characters which is not necessary at all. Firstly it seems that at the beguining of every song, the title of the song it is included, an iformation wich is stored in other variable and we do not need. Also at the end of the song a sequence of numbers and 'Embed' word is appearing. Furthermore, every information inside '[]' is not corresponding to the lyrics itself. Finally, '/n' wich corresponds to line skip must be removed.\n",
    "\n",
    "Regarding expresions like 'na', 'yeah', 'hey'... could be interpreted as some kind of stopword which maybe is not a word which express to much but especially in this second song for example it seems to be half of the song. So deppending on troubles we could face, we will change the decision of keeping this strings. However, contractions must be treated as a 'formal' word in orther to obtain the same meaning for every word. This can be counter benefit especially in ``rap & hip hop`` genre which most of the words uses contraction to fit with the rithm of the song. But at the end we are triying to find the meaning of the words in the song and each word must be represented in the same manner in every one.  "
   ]
  },
  {
   "cell_type": "markdown",
   "metadata": {},
   "source": [
    "Creating a function to address all this problems would be the best manner to properly display the lyrics:"
   ]
  },
  {
   "cell_type": "code",
   "execution_count": 30,
   "metadata": {},
   "outputs": [],
   "source": [
    "#Maximum length of any song's Title\n",
    "lengthTitle = df['song'].apply(lambda x: len(x.split(' '))).values\n",
    "maxLen = np.max(lengthTitle) + 5 #This 5 is just a margin just in case"
   ]
  },
  {
   "cell_type": "code",
   "execution_count": 31,
   "metadata": {},
   "outputs": [
    {
     "data": {
      "text/html": [
       "<div>\n",
       "<style scoped>\n",
       "    .dataframe tbody tr th:only-of-type {\n",
       "        vertical-align: middle;\n",
       "    }\n",
       "\n",
       "    .dataframe tbody tr th {\n",
       "        vertical-align: top;\n",
       "    }\n",
       "\n",
       "    .dataframe thead th {\n",
       "        text-align: right;\n",
       "    }\n",
       "</style>\n",
       "<table border=\"1\" class=\"dataframe\">\n",
       "  <thead>\n",
       "    <tr style=\"text-align: right;\">\n",
       "      <th></th>\n",
       "      <th>song</th>\n",
       "      <th>artist</th>\n",
       "      <th>type</th>\n",
       "      <th>lyrics</th>\n",
       "      <th>correctLyrics</th>\n",
       "    </tr>\n",
       "  </thead>\n",
       "  <tbody>\n",
       "    <tr>\n",
       "      <th>0</th>\n",
       "      <td>Stairway to Heaven</td>\n",
       "      <td>Led Zeppelin</td>\n",
       "      <td>rock</td>\n",
       "      <td>Stairway to Heaven Lyrics[Intro]\\r\\n\\r\\n[Verse...</td>\n",
       "      <td>There is a lady who is sure all that glitters...</td>\n",
       "    </tr>\n",
       "    <tr>\n",
       "      <th>1</th>\n",
       "      <td>Hey Jude</td>\n",
       "      <td>Beatles</td>\n",
       "      <td>rock</td>\n",
       "      <td>Hey Jude Lyrics[Verse 1: Paul McCartney]\\r\\nHe...</td>\n",
       "      <td>Hey Jude, do not make it bad Take a sad song ...</td>\n",
       "    </tr>\n",
       "    <tr>\n",
       "      <th>2</th>\n",
       "      <td>All Along the Watchtower</td>\n",
       "      <td>Hendrix, Jimi</td>\n",
       "      <td>rock</td>\n",
       "      <td>Ii. Tambourine Lyrics[Chorus, sung]\\r\\nHey, Pi...</td>\n",
       "      <td>Hey, Pip, play your tambourine Make the sailo...</td>\n",
       "    </tr>\n",
       "    <tr>\n",
       "      <th>3</th>\n",
       "      <td>Satisfaction</td>\n",
       "      <td>Rolling Stones</td>\n",
       "      <td>rock</td>\n",
       "      <td>Sin título I Lyrics[Letra de \"Sin título I\"]\\r...</td>\n",
       "      <td>Hay tres ninas jipis en la habitacion Una se ...</td>\n",
       "    </tr>\n",
       "    <tr>\n",
       "      <th>4</th>\n",
       "      <td>Like A Rolling Stone</td>\n",
       "      <td>Dylan, Bob</td>\n",
       "      <td>rock</td>\n",
       "      <td>Like a Rolling Stone Lyrics[Verse 1]\\r\\nOnce u...</td>\n",
       "      <td>Once upon a time you dressed so fine Threw th...</td>\n",
       "    </tr>\n",
       "    <tr>\n",
       "      <th>...</th>\n",
       "      <td>...</td>\n",
       "      <td>...</td>\n",
       "      <td>...</td>\n",
       "      <td>...</td>\n",
       "      <td>...</td>\n",
       "    </tr>\n",
       "    <tr>\n",
       "      <th>3756</th>\n",
       "      <td>Motown 25</td>\n",
       "      <td>Elzhi</td>\n",
       "      <td>rap &amp; hip hop</td>\n",
       "      <td>Motown 25 Lyrics[Verse 1: eLZhi]\\r\\nI end care...</td>\n",
       "      <td>I end careers, years, pierce ears fierce with...</td>\n",
       "    </tr>\n",
       "    <tr>\n",
       "      <th>3757</th>\n",
       "      <td>How Ya Like Me Now</td>\n",
       "      <td>Kool Moe Dee</td>\n",
       "      <td>rap &amp; hip hop</td>\n",
       "      <td>How Ya Like Me Now Lyrics\"All aboard for the n...</td>\n",
       "      <td>\"All aboard for the night train\" I throw my ta...</td>\n",
       "    </tr>\n",
       "    <tr>\n",
       "      <th>3758</th>\n",
       "      <td>Coastin’</td>\n",
       "      <td>Zion I feat. K.Flay</td>\n",
       "      <td>rap &amp; hip hop</td>\n",
       "      <td>Coastin’ LyricsWhen life brings trouble\\r\\nYou...</td>\n",
       "      <td>When life brings trouble You can fight or run ...</td>\n",
       "    </tr>\n",
       "    <tr>\n",
       "      <th>3759</th>\n",
       "      <td>Head Banger</td>\n",
       "      <td>EPMD</td>\n",
       "      <td>rap &amp; hip hop</td>\n",
       "      <td>Headbanger Lyrics[Redman]\\r\\nNegroes!!!!!!!!\\r...</td>\n",
       "      <td>Negroes!!!!!!!! The head banger, WHAT? The he...</td>\n",
       "    </tr>\n",
       "    <tr>\n",
       "      <th>3760</th>\n",
       "      <td>Sound Bwoy Burell</td>\n",
       "      <td>Smif-N-Wessun</td>\n",
       "      <td>rap &amp; hip hop</td>\n",
       "      <td>Sound Bwoy Bureill Lyrics[Intro: Sample from C...</td>\n",
       "      <td>We are the winning champion sound. You cannot...</td>\n",
       "    </tr>\n",
       "  </tbody>\n",
       "</table>\n",
       "<p>3761 rows × 5 columns</p>\n",
       "</div>"
      ],
      "text/plain": [
       "                          song               artist           type  \\\n",
       "0           Stairway to Heaven         Led Zeppelin           rock   \n",
       "1                     Hey Jude              Beatles           rock   \n",
       "2     All Along the Watchtower        Hendrix, Jimi           rock   \n",
       "3                 Satisfaction       Rolling Stones           rock   \n",
       "4         Like A Rolling Stone           Dylan, Bob           rock   \n",
       "...                        ...                  ...            ...   \n",
       "3756                 Motown 25                Elzhi  rap & hip hop   \n",
       "3757        How Ya Like Me Now         Kool Moe Dee  rap & hip hop   \n",
       "3758                  Coastin’  Zion I feat. K.Flay  rap & hip hop   \n",
       "3759               Head Banger                 EPMD  rap & hip hop   \n",
       "3760         Sound Bwoy Burell        Smif-N-Wessun  rap & hip hop   \n",
       "\n",
       "                                                 lyrics  \\\n",
       "0     Stairway to Heaven Lyrics[Intro]\\r\\n\\r\\n[Verse...   \n",
       "1     Hey Jude Lyrics[Verse 1: Paul McCartney]\\r\\nHe...   \n",
       "2     Ii. Tambourine Lyrics[Chorus, sung]\\r\\nHey, Pi...   \n",
       "3     Sin título I Lyrics[Letra de \"Sin título I\"]\\r...   \n",
       "4     Like a Rolling Stone Lyrics[Verse 1]\\r\\nOnce u...   \n",
       "...                                                 ...   \n",
       "3756  Motown 25 Lyrics[Verse 1: eLZhi]\\r\\nI end care...   \n",
       "3757  How Ya Like Me Now Lyrics\"All aboard for the n...   \n",
       "3758  Coastin’ LyricsWhen life brings trouble\\r\\nYou...   \n",
       "3759  Headbanger Lyrics[Redman]\\r\\nNegroes!!!!!!!!\\r...   \n",
       "3760  Sound Bwoy Bureill Lyrics[Intro: Sample from C...   \n",
       "\n",
       "                                          correctLyrics  \n",
       "0      There is a lady who is sure all that glitters...  \n",
       "1      Hey Jude, do not make it bad Take a sad song ...  \n",
       "2      Hey, Pip, play your tambourine Make the sailo...  \n",
       "3      Hay tres ninas jipis en la habitacion Una se ...  \n",
       "4      Once upon a time you dressed so fine Threw th...  \n",
       "...                                                 ...  \n",
       "3756   I end careers, years, pierce ears fierce with...  \n",
       "3757  \"All aboard for the night train\" I throw my ta...  \n",
       "3758  When life brings trouble You can fight or run ...  \n",
       "3759   Negroes!!!!!!!! The head banger, WHAT? The he...  \n",
       "3760   We are the winning champion sound. You cannot...  \n",
       "\n",
       "[3761 rows x 5 columns]"
      ]
     },
     "metadata": {},
     "output_type": "display_data"
    }
   ],
   "source": [
    "import re\n",
    "import contractions\n",
    "import unicodedata\n",
    "\n",
    "def correctLyrics(row, maxLen):\n",
    "    text = row['lyrics']\n",
    "    #1. Remove '\\n' and Unicode Escape Sequence ('\\u2005f)\n",
    "    text =  re.sub(r'\\n', ' ', text)\n",
    "    text = unicodedata.normalize('NFKD', text).encode('ascii', 'ignore').decode('utf-8')\n",
    "    #2. Remove '[]'\n",
    "    text = re.sub(r'\\[.*?\\]', ' ', text)\n",
    "    #3. Remove initial title + 'Lyrics' Keyword\n",
    "    titleWords = text.split(' ')[:maxLen] #Save time and avoid errors\n",
    "    restWords = text.split(' ')[maxLen:]\n",
    "    titleWords = re.sub(r'.*?Lyrics', '', ' '.join(titleWords))\n",
    "    text = titleWords + ' ' + ' '.join(restWords)\n",
    "    #4. Remove 'Embed' at the end word of the song\n",
    "    text = re.sub(r'\\d+Embed|Embed', '', text)\n",
    "    #5.Avoid more than 1 Espaces\n",
    "    text = re.sub(r'\\s+', ' ', text)\n",
    "    #6. Remove contractions\n",
    "    text = contractions.fix(text)\n",
    "    return text\n",
    "\n",
    "df['correctLyrics'] = df.apply(lambda x: correctLyrics(x,maxLen), axis=1)\n",
    "\n",
    "display(df)"
   ]
  },
  {
   "cell_type": "markdown",
   "metadata": {},
   "source": [
    "After all these modifications let's see if the previous songs lyrics has an uniform structure: "
   ]
  },
  {
   "cell_type": "code",
   "execution_count": 32,
   "metadata": {},
   "outputs": [
    {
     "name": "stdout",
     "output_type": "stream",
     "text": [
      "SONG 1\n",
      "[\" There is a lady who is sure all that glitters is gold And she is buying a stairway to Heaven When she gets there she knows, if the stores are all closed With a word she can get what she came for Ooh, ooh, and she is buying a stairway to Heaven There is a sign on the wall, but she wants to be sure Because you know sometimes words have two meanings In a tree by the brook, there is a songbird who sings Sometimes all of our thoughts are misgiven Ooh, it makes me wonder Ooh, makes me wonder There is a feeling I get when I look to the West And my spirit is crying for leaving In my thoughts I have seen rings of smoke through the trees And the voices of those who stand looking Ooh, it makes me wonder Ooh, really makes me wonder And it is whispered that soon if we all call the tune Then the piper will lead us to reason And a new day will dawn for those who stand long And the forests will echo with laughter Oh-oh-oh-oh-woahhh If there is a bustle in your hedgerow, do not be alarmed now It is just a spring clean for the May queen Yes, there are two paths you can go by, but in the long run There is still time to change the road you are on And it makes me wonder Ohh, woah Your head is humming, and it will not go, in case you do not know The piper's calling you to join him Dear lady, can you hear the wind blow? And did you know Your stairway lies on the whispering wind? And as we wind on down the road Our shadows taller than our soul There walks a lady we all know Who shines white light and wants to show How everything still turns to gold And if you listen very hard The tune will come to you at last When all are one, and one is all To be a rock and not to roll And she is buying a stairway to Heaven\"]\n",
      "\n",
      "SONG 2\n",
      "[' Hey Jude, do not make it bad Take a sad song and make it better Remember to let her into your heart Then you can start to make it better Hey Jude, do not be afraid You were made to go out and get her The minute you let her under your skin Then you begin to make it better And anytime you feel the pain, hey Jude, refrain Do not carry the world upon your shoulders For well you know that it is a fool who plays it cool By making his world a little colder Na na na na na na na na na na Hey Jude, do not let me down You have found her, now go and get her (Let it out and let it in) Remember (Hey Jude) to let her into your heart Then you can start to make it better So let it out and let it in, hey Jude, begin You are waiting for someone to perform with And do not you know that it is just you, hey Jude, you will do The movement you need is on your shoulder Na na na na na na na na na yeah Hey Jude, do not make it bad Take a sad song and make it better Remember to let her under your skin Then you will begin to make it (Woah, fucking hell!) Better better better better better better, oh Yeah yeah yeah yeah yeah yeah yeah Naa na na na na na na, na na na na, hey Jude Naa na na na na na na, na na na na, hey Jude Naa na na na na na na, na na na na, hey Jude Naa na na na na na na, na na na na, hey Jude (Jude Judy Judy Judy Judy Judy ow wow) Naa na na na na na na (Na na na), na na na na, hey Jude (Jude Jude Jude Jude Jude) Naa na na na na na na (Yeah yeah yeah), na na na na, hey Jude (You know you can make, Jude Jude, You are not going to break it) Naa na (Do not make it bad Jude) na na na na na (Take a sad song and make it better), na na na na, hey Jude Hey Jude, hey Jude wow Naa na na na na na na, na na na na, hey Jude Naa na na na na na na, na na na na, hey Jude Jude Jude Jude Jude Jude Jude Naa na na na na na na, na na na na, hey Jude Naa na na na na na na, na na na na, hey Jude (Na na na na na na na na na na na na) Naa na na na na na na, na na na na, hey Jude Naa na na na na na na, na na na na, hey Jude Naa na na na na na na (Make it Jude), na na na na, hey Jude (Yeah yeah yeah yeah yeah yeah yeah) Naa na na na na na na, na na na na, hey Jude (Go listen to ya ma ma ma ma ma ma ma ma) Naa na na na na na na, na na na na, hey Jude Naa na na na na na na, na na na na, hey Jude']\n",
      "\n"
     ]
    }
   ],
   "source": [
    "instances = [l for l in df['correctLyrics'].values[:2]]\n",
    "\n",
    "for si,s in enumerate(instances):\n",
    "    print(f'SONG {si + 1}')\n",
    "    print(str([s])+'\\n')"
   ]
  },
  {
   "cell_type": "markdown",
   "metadata": {},
   "source": [
    "Now, these lyrics seems to be readable, escape sequences and Unicode elements has been removed, both title at the begining of the word and Embed at the has been also adressed. Finally, contractions has been recover onto its original verb. So far, so good."
   ]
  },
  {
   "cell_type": "markdown",
   "metadata": {},
   "source": [
    "However, something we need to know previously working with songs lyrics is that our dataset is about the 1000 most heard songs for every genre but this does not implies that all our songs are in the same language! Therefore, it would be useful to determine which language predominates for each song and in the case of minoritary languages, remove that instance because otherwise it would be impossible to asign a topic for these kind of sentences. Therefore, it is the moment to visualize which language priorises in this dataset and which other languages could surprise us."
   ]
  },
  {
   "cell_type": "code",
   "execution_count": 33,
   "metadata": {},
   "outputs": [],
   "source": [
    "from spacy.language import Language\n",
    "from spacy_langdetect import LanguageDetector\n",
    "\n",
    "# Add LanguageDetector and assign it a string name\n",
    "@Language.factory(\"language_detector\")\n",
    "def create_language_detector(nlp, name):\n",
    "    return LanguageDetector(language_detection_function=None)\n",
    "\n",
    "mult_nlp = spacy.load('xx_sent_ud_sm')\n",
    "\n",
    "mult_nlp.add_pipe('language_detector', last=True)\n",
    "\n",
    "mult_doc = mult_nlp(df['correctLyrics'].values[0])\n",
    "def getLanguage(row):\n",
    "    mult_doc = mult_nlp(row['correctLyrics'])\n",
    "    return mult_doc._.language['language']\n",
    "\n",
    "df['language'] = df.apply(getLanguage, axis = 1)"
   ]
  },
  {
   "cell_type": "markdown",
   "metadata": {},
   "source": [
    "Surprisingly it only tooks one minute!. When we iniciate the process we were expecting 30 mins at list. This is not bad at all, now we can see which languages predominates in our dataset and this could be good information for a better interpretation of the number of topics we may need to select. Let's plot a histogram to visualize how this ``language`` variable is distributed."
   ]
  },
  {
   "cell_type": "code",
   "execution_count": 34,
   "metadata": {},
   "outputs": [
    {
     "data": {
      "text/plain": [
       "<AxesSubplot:>"
      ]
     },
     "execution_count": 34,
     "metadata": {},
     "output_type": "execute_result"
    },
    {
     "data": {
      "image/png": "[encoded data removed]",
      "text/plain": [
       "<Figure size 432x288 with 1 Axes>"
      ]
     },
     "metadata": {
      "needs_background": "light"
     },
     "output_type": "display_data"
    }
   ],
   "source": [
    "df['language'].hist()"
   ]
  },
  {
   "cell_type": "markdown",
   "metadata": {},
   "source": [
    "Wow! Almost every song is in english. So, obviously this will be the main language in the corpus. However, let's put the spotlight in those minoritary languages, it does not seem that they include sufficient enough docs to perform a correct. Thus, let's focus now in this languages songs:"
   ]
  },
  {
   "cell_type": "code",
   "execution_count": 35,
   "metadata": {},
   "outputs": [
    {
     "name": "stdout",
     "output_type": "stream",
     "text": [
      "Tne number of non-english songs is 31 which correspond to 0.824% of the dataset\n"
     ]
    },
    {
     "data": {
      "image/png": "[encoded data removed]",
      "text/plain": [
       "<Figure size 432x288 with 1 Axes>"
      ]
     },
     "metadata": {
      "needs_background": "light"
     },
     "output_type": "display_data"
    }
   ],
   "source": [
    "dfNoteng = df.loc[df['language'] != 'en']\n",
    "dfNoteng['language'].hist()\n",
    "print(f'Tne number of non-english songs is {dfNoteng.shape[0]} which correspond to {dfNoteng.shape[0]/df.shape[0]*100:.3f}% of the dataset')"
   ]
  },
  {
   "cell_type": "markdown",
   "metadata": {},
   "source": [
    "It is less than a 1% of the total songs and the most repeated language is 'tagalog' which is a philipine language and are 6 instances of this language. Therefore it is assumible the loss of these instances. Therefore, after this deletion it is our time to apply our spicy Pipeline after the creation of the corpus."
   ]
  },
  {
   "cell_type": "code",
   "execution_count": 36,
   "metadata": {},
   "outputs": [],
   "source": [
    "df = df.loc[df['language'] == 'en'].reset_index(drop=True)\n",
    "\n",
    "corpus = [elem for elem in df['correctLyrics']]\n",
    "\n",
    "with open('corpus.txt', 'w+') as c:\n",
    "    c.write(str(corpus))"
   ]
  },
  {
   "cell_type": "markdown",
   "metadata": {},
   "source": [
    "``corpus`` variable is composed by a long list including every song on it. We have done is in this way because we think Python lists for this kind of task would be faster than using Pandas Dataframes. From this we will create a Pipeline simiarily as we did in classes notebook and use further machine learning algorithm as final work statement requests."
   ]
  },
  {
   "cell_type": "markdown",
   "metadata": {},
   "source": [
    "Once the ``corpus`` has been created, it is very easy to apply a Pipeline:"
   ]
  },
  {
   "cell_type": "code",
   "execution_count": 38,
   "metadata": {},
   "outputs": [
    {
     "name": "stderr",
     "output_type": "stream",
     "text": [
      "100%|██████████| 3730/3730 [00:20<00:00, 183.05it/s]\n"
     ]
    }
   ],
   "source": [
    "from num2words import num2words\n",
    "from tqdm import tqdm\n",
    "from nltk.tokenize import wordpunct_tokenize\n",
    "from nltk.corpus import stopwords\n",
    "from nltk.stem import WordNetLemmatizer\n",
    "\n",
    "stopwords_en = stopwords.words('english')\n",
    "wnl = WordNetLemmatizer()\n",
    "\n",
    "#IMPORT CORPUS\n",
    "with open('corpus.txt', 'r') as c:\n",
    "    corpus = eval(c.read())\n",
    "##############\n",
    "\n",
    "valid_POS = set(['VERB', 'NOUN', 'ADJ', 'PROPN', 'NUM'])\n",
    "\n",
    "def convertNum2words(token):\n",
    "    try:\n",
    "        return num2words(token)\n",
    "    except:\n",
    "        return token\n",
    "\n",
    "def corpusPreprocessing(song):\n",
    "    #1. Tokenization\n",
    "    doc = wordpunct_tokenize(song)\n",
    "    #2. Filtering by Alphanumeric and Lower the Text\n",
    "    lowerToken = [token.lower() for token in doc if token.isalnum()]\n",
    "    tokenList = [convertNum2words(token) for token in lowerToken]\n",
    "    #3. Lemmatization of the data\n",
    "    lemmaList = [wnl.lemmatize(el) for el in tokenList]\n",
    "    #4. Cleanning StopWords\n",
    "    finalCorpus = [lemma for lemma in lemmaList if lemma not in stopwords_en]\n",
    "    return finalCorpus\n",
    "\n",
    "corpus = [corpusPreprocessing(s) for s in tqdm(corpus)]"
   ]
  },
  {
   "cell_type": "code",
   "execution_count": 39,
   "metadata": {},
   "outputs": [],
   "source": [
    "#SAVE CORPUS\n",
    "with open('corpus.txt', 'w+') as c:\n",
    "    c.write(str(corpus))\n",
    "##############"
   ]
  },
  {
   "cell_type": "markdown",
   "metadata": {},
   "source": [
    "It is surprisingly fast compared to the Pipeline provided by SpaCy. In only took 33 seconds which is 10 times less than the previous Pipeline we constructed but we decided to rewrite it because of the lack of performance and .lower() was not available. Anyway, we decided to store this new corpus inside a txt file such as a 'checkpoint' to save time as much as possible."
   ]
  },
  {
   "cell_type": "markdown",
   "metadata": {},
   "source": [
    "### **1.2 Text Vectorization**"
   ]
  },
  {
   "cell_type": "markdown",
   "metadata": {},
   "source": [
    "Now it is the moment of use N-Grams from ``gensim`` library in order to group in the same token those words that has a tendency of appear together:"
   ]
  },
  {
   "cell_type": "code",
   "execution_count": 2,
   "metadata": {},
   "outputs": [
    {
     "name": "stderr",
     "output_type": "stream",
     "text": [
      "100%|██████████| 3731/3731 [00:02<00:00, 1570.66it/s]\n"
     ]
    }
   ],
   "source": [
    "#IMPORT CORPUS\n",
    "with open('corpus.txt', 'r') as c:\n",
    "    corpus = eval(c.read())\n",
    "##############\n",
    "from tqdm import tqdm\n",
    "from gensim.models.phrases import Phrases\n",
    "\n",
    "phrase_model = Phrases(corpus, min_count=2, threshold=20)\n",
    "\n",
    "corpus = [el for el in tqdm(phrase_model[corpus])]"
   ]
  },
  {
   "cell_type": "markdown",
   "metadata": {},
   "source": [
    "Finally, in order to find a BoW and TF-IDF representation from our corpus, it is necessary to create previously a Gensim Dictionary where the songs will be stored. Once it is created, we can't include more instances, therefore this step is only made when the corpus has been finished."
   ]
  },
  {
   "cell_type": "code",
   "execution_count": 3,
   "metadata": {},
   "outputs": [
    {
     "name": "stdout",
     "output_type": "stream",
     "text": [
      "Our dictionary contains 78943 terms\n"
     ]
    }
   ],
   "source": [
    "from gensim.corpora import Dictionary\n",
    "\n",
    "# Create dictionary of tokens\n",
    "D = Dictionary(corpus)\n",
    "\n",
    "print('Our dictionary contains', len(D), 'terms')"
   ]
  },
  {
   "cell_type": "markdown",
   "metadata": {},
   "source": [
    "Wow! more than 70000 terms in our diccionary. Compared to what we saw from IMBD dataset, this ones contains more items. However, this is not definitive, probably there are several terms that appears barely compared to from what we see in the IMBD which maybe follows a similar structure since a review could be good, bad but nothing else. Let's filter our Diccionary and we will see which are the real tokens that we will need to analyse:"
   ]
  },
  {
   "cell_type": "code",
   "execution_count": 4,
   "metadata": {},
   "outputs": [
    {
     "name": "stdout",
     "output_type": "stream",
     "text": [
      "Our dictionary contains 24466 terms\n"
     ]
    }
   ],
   "source": [
    "D.filter_extremes(no_below=3,no_above=.80)\n",
    "\n",
    "print('Our dictionary contains', len(D), 'terms')"
   ]
  },
  {
   "cell_type": "markdown",
   "metadata": {},
   "source": [
    "Now it makes sense, it decreased drastically and now it seems to be a good bunch of woords to work with. Now it is the moment to introduce clasical representations which using Gensim is quite easy:"
   ]
  },
  {
   "cell_type": "code",
   "execution_count": 5,
   "metadata": {},
   "outputs": [
    {
     "name": "stdout",
     "output_type": "stream",
     "text": [
      "[(19, 2), (20, 3), (28, 3), (36, 1), (40, 12), (94, 1), (98, 1), (99, 1), (100, 3), (101, 3), (102, 12), (103, 1), (104, 1), (105, 1), (106, 1), (107, 1), (108, 1), (109, 1), (110, 1), (111, 1), (112, 2), (113, 1), (114, 27), (115, 3), (116, 1), (117, 9), (118, 1), (119, 1), (120, 1), (121, 1), (122, 1), (123, 16), (124, 86), (125, 1), (126, 1), (127, 1), (128, 1), (129, 1), (130, 1), (131, 1), (132, 3), (133, 3), (134, 2), (135, 2), (136, 1), (137, 2), (138, 3), (139, 1), (140, 1), (141, 1), (142, 2), (143, 2), (144, 1), (145, 4), (146, 7)]\n",
      "[(19, 0.002880802983341955), (20, 0.005408050898700625), (28, 0.003143119854280442), (36, 0.005339368035097949), (40, 0.02321101128446682), (94, 0.010159815110711746), (98, 0.007918699127948597), (99, 0.01172937624850512), (100, 0.014614789976762759), (101, 0.023347799754881254), (102, 0.04451607116506532), (103, 0.0052761125792262255), (104, 0.007878971827037938), (105, 0.011523379929523745), (106, 0.006058069803972104), (107, 0.00284100643985244), (108, 0.005547503606075813), (109, 0.005554546840587433), (110, 0.007515892239690416), (111, 0.002151069507980266), (112, 0.007193924815434125), (113, 0.00551954771926891), (114, 0.43566366872231127), (115, 0.043698390889098916), (116, 0.013914703566771287), (117, 0.02170710188385002), (118, 0.0032100157145684787), (119, 0.0038581050845765243), (120, 0.006120601534900611), (121, 0.006967410422206357), (122, 0.009676198330223339), (123, 0.1349444263662203), (124, 0.8832454099285513), (125, 0.0028516724891062203), (126, 0.002126100013676386), (127, 0.009857446882986187), (128, 0.005597272600027584), (129, 0.010705902006692952), (130, 0.004402070764412103), (131, 0.012647510656703474), (132, 0.015791012400865546), (133, 0.040943987664503856), (134, 0.016623193872802623), (135, 0.01567985902765326), (136, 0.006260712079652061), (137, 0.009469864579733187), (138, 0.0066007372785336065), (139, 0.00726226820168739), (140, 0.006526215611420392), (141, 0.0030157025515995996), (142, 0.007253751261928752), (143, 0.019907637583460744), (144, 0.00423456372455213), (145, 0.008326131540814527), (146, 0.0354737362982566)]\n"
     ]
    }
   ],
   "source": [
    "from gensim.models import TfidfModel\n",
    "\n",
    "bow_songs = [D.doc2bow(doc) for doc in corpus] #bow gensim corpus\n",
    "tfidf = TfidfModel(bow_songs)\n",
    "tfidf_songs = tfidf[bow_songs]\n",
    "\n",
    "print(bow_songs[1])\n",
    "print(tfidf_songs[1])"
   ]
  },
  {
   "attachments": {},
   "cell_type": "markdown",
   "metadata": {},
   "source": [
    "Therefore, this is our first figures obteinment from the words appearing in the lyrics song. Nevertheless, this is not enough to predict properly which genre our song has. This representation just considers the frequency of appearing but not the relation among words. For example, in this song ```Hey Jude - The Beatles``, word 'na' which is some kind of musical onomatopoeia is repeated several times during the song, and its score is 0.88 in the TF-IDF representation which is really high despite it does not meaning anything the word by itself. But is not that bad, for example 'na' expresion could directly being related to rock song, we do not know how the classification model will behave. Furthermore, these kind of representations will be very useful for the developement of more complex models thus it is essential to save them in a variable for future usages.\n",
    "\n",
    "Without any more introduction, it is the moment to start developing further text-figure extraction models in order to obtain better insights from our data:\n",
    "\n",
    "As our objective is to make a classification by genre, we will develop 3 different approaches to see which of them works better:\n",
    "\n",
    "1) The first will be based on a Word2Vec, we will train our own word2vec with the lyrics of the songs of the data set and after that they will be combined with basic classical machine learning models.\n",
    "2) To compare how word2vec works with a bigger base of embeedings, we will try also a pre-trained model, using for the classification also machine learning models.\n",
    "3) The third way will be a FastText representation combined with a MLP Neural Network.\n",
    "\n",
    "So let's create first the representations:"
   ]
  },
  {
   "cell_type": "markdown",
   "metadata": {},
   "source": [
    "#### **1.2.1 Word2Vec Representation**"
   ]
  },
  {
   "attachments": {},
   "cell_type": "markdown",
   "metadata": {},
   "source": [
    "From the corpus file in which we have all the lyrics cleaned and converted in tokens, we create the word2vec. \n",
    "\n",
    "We implement a seed to work in so we can keep track of the results. And we will try with a vector size of 200 for the embeeding size."
   ]
  },
  {
   "cell_type": "code",
   "execution_count": 6,
   "metadata": {},
   "outputs": [],
   "source": [
    "#TODO\n",
    "#WORD2VEC \n",
    "\n",
    "from gensim.models import Word2Vec\n",
    "\n",
    "model_w2v = Word2Vec(corpus, vector_size=200, seed= 33)"
   ]
  },
  {
   "attachments": {},
   "cell_type": "markdown",
   "metadata": {},
   "source": [
    "Check the results of the word2vec:"
   ]
  },
  {
   "cell_type": "code",
   "execution_count": 7,
   "metadata": {},
   "outputs": [
    {
     "name": "stdout",
     "output_type": "stream",
     "text": [
      "['wa', 'like', 'got', 'love', 'know', 'get', 'one', 'want', 'baby', 'time', 'go', 'would', 'come', 'see', 'going', 'make', 'oh', 'man', 'yeah', 'back', 'way', 'never', 'say', 'nigga', 'take', 'right', 'let', 'cannot', 'life', 'day', 'girl', 'good', 'could', 'thing', 'two', 'said', 'give', 'need', 'tell', 'feel', 'well', 'think', 'night', 'little', 'u', 'still', 'shit', 'keep', 'look', 'eye']\n",
      "\n",
      "============= Embedding of the first word =============\n",
      "[ 0.52409077 -0.6837324  -0.45050994  0.6388935  -0.75040317  0.38218242\n",
      "  0.03842403 -0.33815554 -0.8177754   0.29590166 -0.13413487  0.0152141\n",
      "  0.16282645  0.10980882 -0.13099883  0.5302244  -0.33947822 -0.79755026\n",
      "  0.4022282  -0.05903946  0.1880778   0.6879      1.2083709  -0.3807712\n",
      " -0.6724437   0.2957206   0.2326726  -0.85923475  0.3677381  -1.0239733\n",
      "  0.95003796  0.63203084 -0.7514062   0.6401187  -0.01643251  0.81930315\n",
      " -0.4427303  -0.0629152   0.7048892   0.73707587 -0.9285156   0.11612915\n",
      "  0.16947512 -0.6680429  -0.8997896   0.54769087 -0.9096379   0.50998676\n",
      "  0.26670045  0.85841453  0.00569904 -0.61886567 -1.3171762  -1.6152135\n",
      "  0.5172262  -0.68919855  0.52356434 -0.38009912  0.13401476  0.62739235\n",
      " -1.2236686   0.19497982 -0.00784723  0.3899395   0.33247745 -0.5629084\n",
      "  0.9318222   0.01956793 -0.0512854  -0.31111243  1.1604787   0.1740673\n",
      "  1.4641805  -1.3237914  -0.5608976   0.9082266   0.45439106  0.1711534\n",
      " -0.8681203   0.07329929 -0.3515582  -0.37807733 -0.7734551   0.10479657\n",
      "  0.06444279 -1.0810702  -0.5583351  -0.216201    0.9934499   1.2580796\n",
      "  0.17156251  0.25359657 -0.1025862  -0.22451733 -0.47235465 -0.19608906\n",
      " -1.0203483  -0.5694561   0.4887244   0.26881483 -0.2851837   0.32194614\n",
      "  0.57831705 -0.27883565 -0.38116455  0.6373953   0.72390765  0.118985\n",
      "  0.9431282   0.42828226  0.57264936 -1.4216423  -0.45556366  0.11117864\n",
      "  0.34582034  0.06044092  0.35759696 -0.39502376  0.1096279   0.42030782\n",
      "  0.81959265  0.68833345 -0.2629741  -0.1525283  -0.8077004   0.3033178\n",
      " -0.8597628   0.32114178  1.0978187  -0.14484164 -0.29018375 -1.1483454\n",
      "  0.12710646  0.41160128 -0.0759613  -0.0453179  -0.75187016  0.6897122\n",
      "  1.1165599  -0.2707452   0.5775307  -0.8505908   0.03146302 -0.3343726\n",
      "  0.2049461   0.25284043 -0.16347456  0.02342979  0.7677235  -1.8530054\n",
      " -0.74470645 -0.06901906  0.49988192 -0.28806502  0.55861807 -0.08886614\n",
      "  0.986951    0.17495589 -0.30352733  0.38002574 -0.55207306 -0.12721449\n",
      " -0.2630516   0.50315887  0.23130369 -0.2158849   0.7892214   0.15919375\n",
      " -0.0036085  -0.14877649 -0.24394217 -1.3348117  -0.24651897  1.8103505\n",
      " -0.23459908 -0.6911137  -0.5049624   0.6435815  -0.01110778  0.10880165\n",
      "  0.16896962 -0.08750959  0.12258556  0.8127565  -0.39520538  0.58330715\n",
      " -0.23535232  0.22425577 -0.6542158   1.029204   -0.10940773  0.4353062\n",
      " -0.21710402 -0.05589896 -0.281646   -1.7228101   0.48199874  1.0247258\n",
      "  0.5444878  -0.7651413 ]\n",
      "(200,)\n"
     ]
    }
   ],
   "source": [
    "words = list(model_w2v.wv.key_to_index)\n",
    "print(words[0:50]) #first 50 words\n",
    "print('\\n============= Embedding of the first word =============')\n",
    "print(model_w2v.wv[words[0]])\n",
    "print(model_w2v.wv[words[0]].shape)"
   ]
  },
  {
   "attachments": {},
   "cell_type": "markdown",
   "metadata": {},
   "source": [
    "Save the w2v model in a KeyedVectors, that will result in a smaller and faster object thanks to the mapping between keys and vectors:"
   ]
  },
  {
   "cell_type": "code",
   "execution_count": 8,
   "metadata": {},
   "outputs": [
    {
     "name": "stdout",
     "output_type": "stream",
     "text": [
      "22180\n"
     ]
    },
    {
     "data": {
      "text/plain": [
       "0"
      ]
     },
     "execution_count": 8,
     "metadata": {},
     "output_type": "execute_result"
    }
   ],
   "source": [
    "from gensim.models import KeyedVectors\n",
    "\n",
    "# Store just the words + their trained embeddings.\n",
    "word_vectors = model_w2v.wv\n",
    "word_vectors.save(\"model_w2v_imbd_sampling03.wordvectors\")\n",
    "\n",
    "# Load back with memory-mapping = read-only, shared across processes.\n",
    "wv = KeyedVectors.load(\"model_w2v_imbd_sampling03.wordvectors\", mmap='r')\n",
    "print(len(wv))\n",
    "import gc\n",
    "del model_w2v\n",
    "gc.collect()"
   ]
  },
  {
   "attachments": {},
   "cell_type": "markdown",
   "metadata": {},
   "source": [
    "Let's visualize the embeedings that will help to know the performance of the model.\n",
    "\n",
    "We know we can do this thanks to the t-SNE implemented in Sklearn, that reduces high dimensional data to 2 or 3 dimensions keeping as much information as possible.\n",
    "\n",
    "So let's have a look into out space of embeedings to have a first impression on how the word2vec has separated the words:"
   ]
  },
  {
   "cell_type": "code",
   "execution_count": 12,
   "metadata": {},
   "outputs": [
    {
     "name": "stderr",
     "output_type": "stream",
     "text": [
      "c:\\Users\\34649\\anaconda3\\envs\\ML\\lib\\site-packages\\sklearn\\manifold\\_t_sne.py:790: FutureWarning: The default learning rate in TSNE will change from 200.0 to 'auto' in 1.2.\n",
      "  warnings.warn(\n"
     ]
    },
    {
     "data": {
      "image/png": "[encoded data removed]",
      "text/plain": [
       "<Figure size 1152x1152 with 1 Axes>"
      ]
     },
     "metadata": {
      "needs_background": "light"
     },
     "output_type": "display_data"
    }
   ],
   "source": [
    "from sklearn.manifold import TSNE\n",
    "\n",
    "tsne = TSNE(init='random')\n",
    "embed_tsne = tsne.fit_transform(wv.vectors)\n",
    "\n",
    "# We plot only 500 embeddings\n",
    "fig, ax = plt.subplots(figsize=(16, 16))\n",
    "for idx, word in enumerate((list(wv.key_to_index.keys())[:500])):\n",
    "    plt.scatter(*embed_tsne[idx, :], color='steelblue')\n",
    "    plt.annotate(word, (embed_tsne[idx, 0], embed_tsne[idx, 1]), alpha=0.7)\n",
    "      \n",
    "plt.grid()"
   ]
  },
  {
   "cell_type": "code",
   "execution_count": 13,
   "metadata": {},
   "outputs": [
    {
     "data": {
      "text/plain": [
       "20"
      ]
     },
     "execution_count": 13,
     "metadata": {},
     "output_type": "execute_result"
    }
   ],
   "source": [
    "del embed_tsne #clean memory\n",
    "gc.collect()"
   ]
  },
  {
   "attachments": {},
   "cell_type": "markdown",
   "metadata": {},
   "source": [
    "So, what is left is to create a function that can link the keyed Vectors to the list of tokens representing the songs lyrics, and results in the embeeding vector of the lyrics of each song made by the vectors of the words that conform that song."
   ]
  },
  {
   "cell_type": "code",
   "execution_count": 17,
   "metadata": {},
   "outputs": [],
   "source": [
    "def get_lyrics_vector(model, lyrics):\n",
    "  vectors = []\n",
    "  for token in lyrics:\n",
    "      if token in model:\n",
    "          vectors.append(model[token])\n",
    "  if len(vectors) == 0:\n",
    "      # If all tokens are OOV, return a vector of zeros\n",
    "      return np.zeros(model.vector_size)\n",
    "  else:\n",
    "      return np.mean(vectors, axis=0)\n",
    "\n",
    "lyrics_embeddings = []\n",
    "for i in corpus:\n",
    "    lyrics_embeddings.append(get_lyrics_vector(wv, i))\n"
   ]
  },
  {
   "cell_type": "code",
   "execution_count": 18,
   "metadata": {},
   "outputs": [
    {
     "name": "stdout",
     "output_type": "stream",
     "text": [
      "[-2.90777683e-01 -2.08481327e-01  6.67323247e-02  2.12725386e-01\n",
      "  3.63698095e-01  2.16577917e-01 -2.31053889e-01 -7.68086985e-02\n",
      "  3.95606346e-02  3.93776149e-01 -4.12173420e-01  6.84755862e-01\n",
      "  2.83825815e-01  2.39400208e-01 -2.15049647e-02 -1.04494624e-01\n",
      " -3.17852981e-02 -6.88742772e-02 -4.50511843e-01  9.43802111e-03\n",
      "  1.24675874e-02  9.63281766e-02  1.17704295e-01 -9.29768085e-02\n",
      "  1.41104668e-01 -1.87619373e-01  5.36975145e-01 -4.63016421e-01\n",
      "  4.71062064e-01 -2.06701048e-02  2.13087872e-01 -2.25477114e-01\n",
      "  1.47379011e-01  3.07676755e-02 -1.85148075e-01 -1.27773032e-01\n",
      "  3.26434672e-01  5.04349172e-01  1.83004826e-01  3.88597623e-02\n",
      " -3.38006347e-01 -2.91082859e-01 -2.74911851e-01 -7.83524755e-03\n",
      " -2.20374197e-01  8.95616636e-02 -2.74082392e-01  7.42418766e-02\n",
      "  3.73581126e-02  2.12695912e-01  1.14842176e-01  6.64923713e-02\n",
      " -3.50185722e-01 -2.15540752e-01  6.62938133e-02 -2.66764089e-02\n",
      "  8.87774164e-04  3.23176533e-01 -3.77882183e-01  4.63371754e-01\n",
      " -1.29802525e-01  2.62359977e-01  2.43614420e-01 -1.59534931e-01\n",
      "  1.34135842e-01 -3.64130616e-01  7.13528246e-02  5.09376265e-02\n",
      "  3.57830644e-01  4.86531854e-01 -8.11427608e-02  2.14809984e-01\n",
      "  2.52320558e-01 -5.81998825e-01 -2.25817993e-01  2.89116949e-01\n",
      "  5.31892538e-01  1.11524463e-01 -3.31851244e-01 -5.37016094e-01\n",
      "  4.77040529e-01 -7.64278844e-02  2.97377426e-02 -4.42893915e-02\n",
      " -8.74067768e-02 -5.66078663e-01  3.07022989e-01 -2.02609956e-01\n",
      "  2.73557872e-01  4.62675601e-01  3.16414177e-01 -1.56903654e-01\n",
      " -4.77741435e-02 -3.59002978e-01 -2.83162028e-01 -3.38347197e-01\n",
      " -1.52975619e-01 -2.21326202e-01 -3.23393010e-02 -1.84263110e-01\n",
      " -3.44808251e-02 -1.16154172e-01 -1.54638235e-02  1.21600181e-01\n",
      "  7.89941996e-02  4.93371822e-02  6.21111281e-02 -3.23224515e-01\n",
      "  3.80564541e-01  6.33135378e-01 -4.52209041e-02 -6.89222753e-01\n",
      " -2.36501724e-01  1.10084139e-01  3.94103855e-01  6.48645833e-02\n",
      "  3.99908960e-01 -1.02109477e-01  2.53131777e-01 -1.08676832e-02\n",
      "  4.54000056e-01 -2.29968295e-01  2.35298306e-01  2.54044235e-01\n",
      " -2.19244655e-04 -1.09961376e-01 -9.05914158e-02  4.65015084e-01\n",
      "  1.27856985e-01 -4.91070479e-01 -6.68365806e-02 -2.53656000e-01\n",
      "  5.37665725e-01 -4.58610542e-02 -5.44630289e-02  2.51511663e-01\n",
      "  1.03662573e-02 -6.47480860e-02  1.17561452e-01 -3.05616587e-01\n",
      "  3.68659049e-02 -6.79972172e-02  1.96602494e-01  4.86827403e-01\n",
      " -3.26996446e-02  2.21402794e-01 -4.54235196e-01 -4.14438099e-01\n",
      "  4.34253514e-01 -1.35373607e-01  2.00301185e-01 -4.35349286e-01\n",
      " -1.06328957e-01 -4.96237837e-02  6.17575228e-01 -5.91485381e-01\n",
      "  5.06354608e-02  6.21656060e-01  2.97438234e-01  8.16988647e-02\n",
      " -4.46212441e-02  3.95173132e-01 -2.33959824e-01 -3.75387430e-01\n",
      "  1.50671780e-01 -2.04270020e-01  6.86724067e-01  1.59744903e-01\n",
      "  2.56295234e-01 -9.53518003e-02  1.70679390e-01  2.40895346e-01\n",
      "  4.35147643e-01  2.70873725e-01 -1.59038991e-01  4.41724598e-01\n",
      "  1.28167588e-02 -3.29802930e-01  3.46742839e-01 -5.41364968e-01\n",
      " -2.24365398e-01  2.62977690e-01  3.17724466e-01  2.59726197e-01\n",
      " -9.12788659e-02  2.19403520e-01 -2.26294994e-01  5.37945293e-02\n",
      " -1.44816428e-01  2.50733167e-01 -1.89509958e-01 -2.22004533e-01\n",
      "  3.15776840e-02  2.27804467e-01 -2.23216489e-01 -8.76072168e-01\n",
      " -1.72669947e-01 -3.59030366e-02 -9.74245891e-02 -1.00792907e-01]\n"
     ]
    }
   ],
   "source": [
    "print(lyrics_embeddings[0])"
   ]
  },
  {
   "attachments": {},
   "cell_type": "markdown",
   "metadata": {},
   "source": [
    "### CLASSIFICATION\n",
    "\n",
    "Now that we have the embeedings of the lyrics, created and based in a word2vec modeled with the own songs, we have a representation of the lyrics in numbers, so we will work with some machine learning classifiers and see how wll they can classify by genre in <b>section 2<b>"
   ]
  },
  {
   "cell_type": "markdown",
   "metadata": {},
   "source": [
    "#### **1.2.2 FastText Representation**"
   ]
  },
  {
   "cell_type": "code",
   "execution_count": null,
   "metadata": {},
   "outputs": [],
   "source": [
    "#TODO\n",
    "#FASTTEXT"
   ]
  },
  {
   "cell_type": "markdown",
   "metadata": {},
   "source": [
    "### **1.3 Topic Modeling**"
   ]
  },
  {
   "cell_type": "code",
   "execution_count": null,
   "metadata": {},
   "outputs": [],
   "source": [
    "#TODO\n",
    "\n",
    "#TOPIC SELECTION\n",
    "#SEMANTIC SIMILARITY-LDA"
   ]
  },
  {
   "cell_type": "markdown",
   "metadata": {},
   "source": [
    "## **2.Machine Learning Model**"
   ]
  },
  {
   "cell_type": "markdown",
   "metadata": {},
   "source": [
    "### **2.1 Classification Task**"
   ]
  },
  {
   "cell_type": "markdown",
   "metadata": {},
   "source": [
    "#### **2.1.1 Machine Learning Approach**"
   ]
  },
  {
   "cell_type": "markdown",
   "metadata": {},
   "source": [
    "First we have to split the data and create an embeedings matrix:"
   ]
  },
  {
   "cell_type": "code",
   "execution_count": 44,
   "metadata": {},
   "outputs": [
    {
     "name": "stdout",
     "output_type": "stream",
     "text": [
      "SVM accuracy on the test set: 0.4522\n"
     ]
    }
   ],
   "source": [
    "from sklearn.model_selection import train_test_split, GridSearchCV\n",
    "from sklearn.svm import SVC\n",
    "import random\n",
    "random.seed(33)\n",
    "\n",
    "#1) SPlit the data\n",
    "X_train, X_test, y_train, y_test = train_test_split(df['correctLyrics'], df['type'], test_size=0.3, random_state=33)\n",
    "\n",
    "#2)Embeedings matrix\n",
    "size_embeding = len(lyrics_embeddings[0])\n",
    "X_train_emb = np.zeros((len(X_train), size_embeding))\n",
    "for i, review in enumerate(X_train):\n",
    "    X_train_emb[i] = get_lyrics_vector(wv, review)\n"
   ]
  },
  {
   "attachments": {},
   "cell_type": "markdown",
   "metadata": {},
   "source": [
    "##### -SVM"
   ]
  },
  {
   "cell_type": "code",
   "execution_count": 56,
   "metadata": {},
   "outputs": [
    {
     "name": "stdout",
     "output_type": "stream",
     "text": [
      "SVM accuracy on the train set: 0.4454\n",
      "SVM accuracy on the test set: 0.4540\n",
      "Best SVM parameters are:  SVC(C=5, kernel='linear')\n"
     ]
    }
   ],
   "source": [
    "#3)Train with different hyper parameters the classifier and obtain the best result\n",
    "svm = SVC()\n",
    "param_grid = {'C': [1,3,5,7,9], 'kernel': ['rbf', 'linear']}\n",
    "svm_grid_search = GridSearchCV(svm, param_grid, cv=5)\n",
    "svm_grid_search.fit(X_train_emb, y_train)\n",
    "\n",
    "# Evaluate the performance of the classifier on the test set\n",
    "X_test_emb = np.zeros((len(X_test), size_embeding))\n",
    "for i, review in enumerate(X_test):\n",
    "    X_test_emb[i] = get_lyrics_vector(wv, review)\n",
    "\n",
    "svm_best = svm_grid_search.best_estimator_\n",
    "svm_accuracy = svm_best.score(X_test_emb, y_test)\n",
    "svm_accuracy_train = svm_best.score(X_train_emb, y_train)\n",
    "\n",
    "\n",
    "print(f\"SVM accuracy on the train set: {svm_accuracy_train:.4f}\")\n",
    "print(f\"SVM accuracy on the test set: {svm_accuracy:.4f}\")\n",
    "print(\"Best SVM parameters are: \", svm_best)"
   ]
  },
  {
   "attachments": {},
   "cell_type": "markdown",
   "metadata": {},
   "source": [
    "##### -KNN"
   ]
  },
  {
   "cell_type": "code",
   "execution_count": 57,
   "metadata": {},
   "outputs": [
    {
     "name": "stdout",
     "output_type": "stream",
     "text": [
      "KNN accuracy on the train set: 0.5109\n",
      "KNN accuracy on the test set: 0.4236\n",
      "Best knn parameters are:  KNeighborsClassifier(n_neighbors=15)\n"
     ]
    }
   ],
   "source": [
    "from sklearn.neighbors import KNeighborsClassifier\n",
    "\n",
    "knn = KNeighborsClassifier()\n",
    "param_grid = {'n_neighbors': [1,5,10,15,20,25,30,35,40]}\n",
    "knn_grid_search = GridSearchCV(knn, param_grid, cv=5)\n",
    "knn_grid_search.fit(X_train_emb, y_train)\n",
    "\n",
    "# Evaluate the performance of the classifier on the test set\n",
    "X_test_emb = np.zeros((len(X_test), size_embeding))\n",
    "for i, review in enumerate(X_test):\n",
    "    X_test_emb[i] = get_lyrics_vector(wv, review)\n",
    "\n",
    "\n",
    "knn_best = knn_grid_search.best_estimator_\n",
    "knn_accuracy = knn_best.score(X_test_emb, y_test)\n",
    "knn_accuracy_train = knn_best.score(X_train_emb, y_train)\n",
    "\n",
    "\n",
    "print(f\"KNN accuracy on the train set: {knn_accuracy_train:.4f}\")\n",
    "print(f\"KNN accuracy on the test set: {knn_accuracy:.4f}\")\n",
    "print(\"Best knn parameters are: \", knn_best)"
   ]
  },
  {
   "cell_type": "markdown",
   "metadata": {},
   "source": [
    "#### **2.1.2 Deep Learning Approach**"
   ]
  },
  {
   "cell_type": "code",
   "execution_count": null,
   "metadata": {},
   "outputs": [],
   "source": [
    "#TODO\n",
    "#NEURAL NETWORK IN CLASS"
   ]
  },
  {
   "cell_type": "markdown",
   "metadata": {},
   "source": [
    "### **2.2 Clustering Task**"
   ]
  },
  {
   "cell_type": "code",
   "execution_count": null,
   "metadata": {},
   "outputs": [],
   "source": [
    "#TODO\n",
    "#UNSUPERVISED LEARNING REGARDING CLUSTERING"
   ]
  }
 ],
 "metadata": {
  "kernelspec": {
   "display_name": "Python 3.10.6 ('ML')",
   "language": "python",
   "name": "python3"
  },
  "language_info": {
   "codemirror_mode": {
    "name": "ipython",
    "version": 3
   },
   "file_extension": ".py",
   "mimetype": "text/x-python",
   "name": "python",
   "nbconvert_exporter": "python",
   "pygments_lexer": "ipython3",
   "version": "3.10.4"
  },
  "orig_nbformat": 4,
  "vscode": {
   "interpreter": {
    "hash": "381ff88311bfa90205062e08049120f59c6e3b2eedf7e19586806884b20be455"
   }
  }
 },
 "nbformat": 4,
 "nbformat_minor": 2
}
