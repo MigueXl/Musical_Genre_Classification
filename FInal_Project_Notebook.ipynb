{
 "cells": [
  {
   "cell_type": "markdown",
   "metadata": {},
   "source": [
    "# **Machine Learning Applications Final Project Notebook**\n",
    "\n",
    "Date: May 9, 2023\n",
    "\n",
    "Authors: Óscar Montoya Amores (100451858), Javier Serrano Sánchez-Ocaña (100451673), Miguel Ángel Ponce Martínez (100451309)"
   ]
  },
  {
   "cell_type": "markdown",
   "metadata": {},
   "source": [
    "#### **LIBRARIES IMPORT**"
   ]
  },
  {
   "cell_type": "code",
   "execution_count": 2,
   "metadata": {},
   "outputs": [
    {
     "name": "stderr",
     "output_type": "stream",
     "text": [
      "c:\\Users\\migue\\anaconda4\\envs\\ML\\lib\\site-packages\\numpy\\_distributor_init.py:30: UserWarning: loaded more than 1 DLL from .libs:\n",
      "c:\\Users\\migue\\anaconda4\\envs\\ML\\lib\\site-packages\\numpy\\.libs\\libopenblas.EL2C6PLE4ZYW3ECEVIV3OXXGRN2NRFM2.gfortran-win_amd64.dll\n",
      "c:\\Users\\migue\\anaconda4\\envs\\ML\\lib\\site-packages\\numpy\\.libs\\libopenblas.FB5AE2TYXYH2IJRDKGDGQ3XBKLKTF43H.gfortran-win_amd64.dll\n",
      "  warnings.warn(\"loaded more than 1 DLL from .libs:\"\n"
     ]
    }
   ],
   "source": [
    "import numpy as np\n",
    "import pandas as pd\n",
    "import zipfile as zp\n",
    "from termcolor import colored\n",
    "import seaborn as sns\n",
    "import matplotlib.pyplot as plt\n",
    "\n",
    "import spacy    "
   ]
  },
  {
   "cell_type": "markdown",
   "metadata": {},
   "source": [
    "## **0. Dataset Loading and DF Preprocessing**"
   ]
  },
  {
   "cell_type": "markdown",
   "metadata": {},
   "source": [
    "#### **DATASET IMPORT**"
   ]
  },
  {
   "cell_type": "markdown",
   "metadata": {},
   "source": [
    "Let's load the dataset obtained from Kaggle (https://www.kaggle.com/datasets/elizzyliu/song-lyrics) and obtain the main insights from this data:"
   ]
  },
  {
   "cell_type": "code",
   "execution_count": 3,
   "metadata": {},
   "outputs": [
    {
     "data": {
      "text/html": [
       "<div>\n",
       "<style scoped>\n",
       "    .dataframe tbody tr th:only-of-type {\n",
       "        vertical-align: middle;\n",
       "    }\n",
       "\n",
       "    .dataframe tbody tr th {\n",
       "        vertical-align: top;\n",
       "    }\n",
       "\n",
       "    .dataframe thead th {\n",
       "        text-align: right;\n",
       "    }\n",
       "</style>\n",
       "<table border=\"1\" class=\"dataframe\">\n",
       "  <thead>\n",
       "    <tr style=\"text-align: right;\">\n",
       "      <th></th>\n",
       "      <th>song</th>\n",
       "      <th>artist</th>\n",
       "      <th>type</th>\n",
       "      <th>lyrics</th>\n",
       "    </tr>\n",
       "  </thead>\n",
       "  <tbody>\n",
       "    <tr>\n",
       "      <th>0</th>\n",
       "      <td>Stairway to Heaven</td>\n",
       "      <td>Led Zeppelin</td>\n",
       "      <td>rock</td>\n",
       "      <td>Stairway to Heaven Lyrics[Intro]\\n\\n[Verse 1]\\...</td>\n",
       "    </tr>\n",
       "    <tr>\n",
       "      <th>1</th>\n",
       "      <td>Hey Jude</td>\n",
       "      <td>Beatles</td>\n",
       "      <td>rock</td>\n",
       "      <td>Hey Jude Lyrics[Verse 1: Paul McCartney]\\nHey ...</td>\n",
       "    </tr>\n",
       "    <tr>\n",
       "      <th>2</th>\n",
       "      <td>All Along the Watchtower</td>\n",
       "      <td>Hendrix, Jimi</td>\n",
       "      <td>rock</td>\n",
       "      <td>Ii. Tambourine Lyrics[Chorus, sung]\\nHey, Pip,...</td>\n",
       "    </tr>\n",
       "    <tr>\n",
       "      <th>3</th>\n",
       "      <td>Satisfaction</td>\n",
       "      <td>Rolling Stones</td>\n",
       "      <td>rock</td>\n",
       "      <td>Sin título I Lyrics[Letra de \"Sin título I\"]\\n...</td>\n",
       "    </tr>\n",
       "    <tr>\n",
       "      <th>4</th>\n",
       "      <td>Like A Rolling Stone</td>\n",
       "      <td>Dylan, Bob</td>\n",
       "      <td>rock</td>\n",
       "      <td>Like a Rolling Stone Lyrics[Verse 1]\\nOnce upo...</td>\n",
       "    </tr>\n",
       "    <tr>\n",
       "      <th>...</th>\n",
       "      <td>...</td>\n",
       "      <td>...</td>\n",
       "      <td>...</td>\n",
       "      <td>...</td>\n",
       "    </tr>\n",
       "    <tr>\n",
       "      <th>3995</th>\n",
       "      <td>Motown 25</td>\n",
       "      <td>Elzhi</td>\n",
       "      <td>rap &amp; hip hop</td>\n",
       "      <td>Motown 25 Lyrics[Verse 1: eLZhi]\\nI end career...</td>\n",
       "    </tr>\n",
       "    <tr>\n",
       "      <th>3996</th>\n",
       "      <td>How Ya Like Me Now</td>\n",
       "      <td>Kool Moe Dee</td>\n",
       "      <td>rap &amp; hip hop</td>\n",
       "      <td>How Ya Like Me Now Lyrics\"All aboard for the n...</td>\n",
       "    </tr>\n",
       "    <tr>\n",
       "      <th>3997</th>\n",
       "      <td>Coastin’</td>\n",
       "      <td>Zion I feat. K.Flay</td>\n",
       "      <td>rap &amp; hip hop</td>\n",
       "      <td>Coastin’ LyricsWhen life brings trouble\\nYou c...</td>\n",
       "    </tr>\n",
       "    <tr>\n",
       "      <th>3998</th>\n",
       "      <td>Head Banger</td>\n",
       "      <td>EPMD</td>\n",
       "      <td>rap &amp; hip hop</td>\n",
       "      <td>Headbanger Lyrics[Redman]\\nNegroes!!!!!!!!\\n\\n...</td>\n",
       "    </tr>\n",
       "    <tr>\n",
       "      <th>3999</th>\n",
       "      <td>Sound Bwoy Burell</td>\n",
       "      <td>Smif-N-Wessun</td>\n",
       "      <td>rap &amp; hip hop</td>\n",
       "      <td>Sound Bwoy Bureill Lyrics[Intro: Sample from C...</td>\n",
       "    </tr>\n",
       "  </tbody>\n",
       "</table>\n",
       "<p>4000 rows × 4 columns</p>\n",
       "</div>"
      ],
      "text/plain": [
       "                          song               artist           type  \\\n",
       "0           Stairway to Heaven         Led Zeppelin           rock   \n",
       "1                     Hey Jude              Beatles           rock   \n",
       "2     All Along the Watchtower        Hendrix, Jimi           rock   \n",
       "3                 Satisfaction       Rolling Stones           rock   \n",
       "4         Like A Rolling Stone           Dylan, Bob           rock   \n",
       "...                        ...                  ...            ...   \n",
       "3995                 Motown 25                Elzhi  rap & hip hop   \n",
       "3996        How Ya Like Me Now         Kool Moe Dee  rap & hip hop   \n",
       "3997                  Coastin’  Zion I feat. K.Flay  rap & hip hop   \n",
       "3998               Head Banger                 EPMD  rap & hip hop   \n",
       "3999         Sound Bwoy Burell        Smif-N-Wessun  rap & hip hop   \n",
       "\n",
       "                                                 lyrics  \n",
       "0     Stairway to Heaven Lyrics[Intro]\\n\\n[Verse 1]\\...  \n",
       "1     Hey Jude Lyrics[Verse 1: Paul McCartney]\\nHey ...  \n",
       "2     Ii. Tambourine Lyrics[Chorus, sung]\\nHey, Pip,...  \n",
       "3     Sin título I Lyrics[Letra de \"Sin título I\"]\\n...  \n",
       "4     Like a Rolling Stone Lyrics[Verse 1]\\nOnce upo...  \n",
       "...                                                 ...  \n",
       "3995  Motown 25 Lyrics[Verse 1: eLZhi]\\nI end career...  \n",
       "3996  How Ya Like Me Now Lyrics\"All aboard for the n...  \n",
       "3997  Coastin’ LyricsWhen life brings trouble\\nYou c...  \n",
       "3998  Headbanger Lyrics[Redman]\\nNegroes!!!!!!!!\\n\\n...  \n",
       "3999  Sound Bwoy Bureill Lyrics[Intro: Sample from C...  \n",
       "\n",
       "[4000 rows x 4 columns]"
      ]
     },
     "metadata": {},
     "output_type": "display_data"
    }
   ],
   "source": [
    "df = pd.read_csv('all_lyrics.csv')\n",
    "\n",
    "display(df)"
   ]
  },
  {
   "cell_type": "code",
   "execution_count": 4,
   "metadata": {},
   "outputs": [
    {
     "data": {
      "text/html": [
       "<div>\n",
       "<style scoped>\n",
       "    .dataframe tbody tr th:only-of-type {\n",
       "        vertical-align: middle;\n",
       "    }\n",
       "\n",
       "    .dataframe tbody tr th {\n",
       "        vertical-align: top;\n",
       "    }\n",
       "\n",
       "    .dataframe thead th {\n",
       "        text-align: right;\n",
       "    }\n",
       "</style>\n",
       "<table border=\"1\" class=\"dataframe\">\n",
       "  <thead>\n",
       "    <tr style=\"text-align: right;\">\n",
       "      <th></th>\n",
       "      <th>song</th>\n",
       "      <th>artist</th>\n",
       "      <th>type</th>\n",
       "      <th>lyrics</th>\n",
       "    </tr>\n",
       "  </thead>\n",
       "  <tbody>\n",
       "    <tr>\n",
       "      <th>count</th>\n",
       "      <td>4000</td>\n",
       "      <td>4000</td>\n",
       "      <td>4000</td>\n",
       "      <td>3896</td>\n",
       "    </tr>\n",
       "    <tr>\n",
       "      <th>unique</th>\n",
       "      <td>3881</td>\n",
       "      <td>1583</td>\n",
       "      <td>4</td>\n",
       "      <td>3761</td>\n",
       "    </tr>\n",
       "    <tr>\n",
       "      <th>top</th>\n",
       "      <td>Summertime</td>\n",
       "      <td>Beatles</td>\n",
       "      <td>rock</td>\n",
       "      <td>Summer Country Songs LyricsA\\nAaron Lewis – \"E...</td>\n",
       "    </tr>\n",
       "    <tr>\n",
       "      <th>freq</th>\n",
       "      <td>5</td>\n",
       "      <td>51</td>\n",
       "      <td>1000</td>\n",
       "      <td>10</td>\n",
       "    </tr>\n",
       "  </tbody>\n",
       "</table>\n",
       "</div>"
      ],
      "text/plain": [
       "              song   artist  type  \\\n",
       "count         4000     4000  4000   \n",
       "unique        3881     1583     4   \n",
       "top     Summertime  Beatles  rock   \n",
       "freq             5       51  1000   \n",
       "\n",
       "                                                   lyrics  \n",
       "count                                                3896  \n",
       "unique                                               3761  \n",
       "top     Summer Country Songs LyricsA\\nAaron Lewis – \"E...  \n",
       "freq                                                   10  "
      ]
     },
     "execution_count": 4,
     "metadata": {},
     "output_type": "execute_result"
    }
   ],
   "source": [
    "df.describe()"
   ]
  },
  {
   "cell_type": "markdown",
   "metadata": {},
   "source": [
    "This dataset is composed by the 1000 most famous songs from every musical genre(``type Variable``) and our goal is find some relation among songs lyrics and its genre. \n",
    "\n",
    "Firstly, null values seems to appear in the lyrics row because as we can see 104 songs ``lyrics`` are not counted properly. So first thing wee need to do is remove null values.\n",
    "\n",
    "Moreover, the unique row bothers us too. It is expected that ``type`` and ``artist`` have several instances repeated (Artist could have many famous songs and obviously given 4 genres it will be repeated). Furthermore, even two different artists could present two different songs with the same name (``song``). However, it is really strange that two songs represent the same lyrics. Here we could have be talking about plagiarism, corrupted data or simply describe() function is not working as expected with long string stucture, so before starting to apply some Machine Learnings Applicatios we have seen in class we need to fix this trouble."
   ]
  },
  {
   "cell_type": "code",
   "execution_count": 5,
   "metadata": {},
   "outputs": [
    {
     "name": "stdout",
     "output_type": "stream",
     "text": [
      "There are exactly 104 null values in the lyrics variable which corresponds to the 2.600% of the data set\n"
     ]
    }
   ],
   "source": [
    "null = df['lyrics'].isna().values\n",
    "\n",
    "print(f'There are exactly {sum(null)} null values in the lyrics variable which corresponds to the {sum(null)/len(null)*100:.3f}% of the data set')\n"
   ]
  },
  {
   "cell_type": "markdown",
   "metadata": {},
   "source": [
    "We think this percentege is assumible of being removed from the dataset but before doing so let's see the proportion of songs genre which receives null lyrics. "
   ]
  },
  {
   "cell_type": "code",
   "execution_count": 6,
   "metadata": {},
   "outputs": [
    {
     "data": {
      "text/plain": [
       "<AxesSubplot:>"
      ]
     },
     "execution_count": 6,
     "metadata": {},
     "output_type": "execute_result"
    },
    {
     "data": {
      "image/png": "[encoded data removed]",
      "text/plain": [
       "<Figure size 432x288 with 1 Axes>"
      ]
     },
     "metadata": {
      "needs_background": "light"
     },
     "output_type": "display_data"
    }
   ],
   "source": [
    "df_null = df[null]\n",
    "df_null['type'].hist()"
   ]
  },
  {
   "cell_type": "markdown",
   "metadata": {},
   "source": [
    "Most of the null lyrics are from ``rap & hip hop`` but nothing alarming. We can assume to remove this instances, update the dataframe and repeat a similar process to find out repeted lyrics. "
   ]
  },
  {
   "cell_type": "code",
   "execution_count": 7,
   "metadata": {},
   "outputs": [],
   "source": [
    "df = df.dropna(subset=['lyrics', 'type'])"
   ]
  },
  {
   "cell_type": "code",
   "execution_count": 8,
   "metadata": {},
   "outputs": [
    {
     "name": "stdout",
     "output_type": "stream",
     "text": [
      "[False False False ... False False False]\n"
     ]
    }
   ],
   "source": [
    "print(df.duplicated().values)"
   ]
  },
  {
   "cell_type": "code",
   "execution_count": 9,
   "metadata": {},
   "outputs": [
    {
     "name": "stdout",
     "output_type": "stream",
     "text": [
      "There are exactly 14 repeated values in the lyrics variable which corresponds to the 0.359% of the data set\n"
     ]
    },
    {
     "data": {
      "text/plain": [
       "<AxesSubplot:>"
      ]
     },
     "execution_count": 9,
     "metadata": {},
     "output_type": "execute_result"
    },
    {
     "data": {
      "image/png": "[encoded data removed]",
      "text/plain": [
       "<Figure size 432x288 with 1 Axes>"
      ]
     },
     "metadata": {
      "needs_background": "light"
     },
     "output_type": "display_data"
    }
   ],
   "source": [
    "repeated = df[df.duplicated()]\n",
    "print(f'There are exactly {len(repeated)} repeated values in the lyrics variable which corresponds to the {len(repeated)/len(df)*100:.3f}% of the data set')\n",
    "repeated['type'].hist()"
   ]
  },
  {
   "cell_type": "markdown",
   "metadata": {},
   "source": [
    "Again, the ammount of repeated values are not very important but this time is focused on only two genres. However, we will remove it because it is not adding any information and let's repeat the describe() process to finally start to focus on the Machine Learning Apps."
   ]
  },
  {
   "cell_type": "code",
   "execution_count": 10,
   "metadata": {},
   "outputs": [
    {
     "data": {
      "text/html": [
       "<div>\n",
       "<style scoped>\n",
       "    .dataframe tbody tr th:only-of-type {\n",
       "        vertical-align: middle;\n",
       "    }\n",
       "\n",
       "    .dataframe tbody tr th {\n",
       "        vertical-align: top;\n",
       "    }\n",
       "\n",
       "    .dataframe thead th {\n",
       "        text-align: right;\n",
       "    }\n",
       "</style>\n",
       "<table border=\"1\" class=\"dataframe\">\n",
       "  <thead>\n",
       "    <tr style=\"text-align: right;\">\n",
       "      <th></th>\n",
       "      <th>song</th>\n",
       "      <th>artist</th>\n",
       "      <th>type</th>\n",
       "      <th>lyrics</th>\n",
       "    </tr>\n",
       "  </thead>\n",
       "  <tbody>\n",
       "    <tr>\n",
       "      <th>count</th>\n",
       "      <td>3761</td>\n",
       "      <td>3761</td>\n",
       "      <td>3761</td>\n",
       "      <td>3761</td>\n",
       "    </tr>\n",
       "    <tr>\n",
       "      <th>unique</th>\n",
       "      <td>3668</td>\n",
       "      <td>1476</td>\n",
       "      <td>4</td>\n",
       "      <td>3761</td>\n",
       "    </tr>\n",
       "    <tr>\n",
       "      <th>top</th>\n",
       "      <td>Angel</td>\n",
       "      <td>Beatles</td>\n",
       "      <td>rock</td>\n",
       "      <td>Stairway to Heaven Lyrics[Intro]\\n\\n[Verse 1]\\...</td>\n",
       "    </tr>\n",
       "    <tr>\n",
       "      <th>freq</th>\n",
       "      <td>5</td>\n",
       "      <td>48</td>\n",
       "      <td>972</td>\n",
       "      <td>1</td>\n",
       "    </tr>\n",
       "  </tbody>\n",
       "</table>\n",
       "</div>"
      ],
      "text/plain": [
       "         song   artist  type  \\\n",
       "count    3761     3761  3761   \n",
       "unique   3668     1476     4   \n",
       "top     Angel  Beatles  rock   \n",
       "freq        5       48   972   \n",
       "\n",
       "                                                   lyrics  \n",
       "count                                                3761  \n",
       "unique                                               3761  \n",
       "top     Stairway to Heaven Lyrics[Intro]\\n\\n[Verse 1]\\...  \n",
       "freq                                                    1  "
      ]
     },
     "execution_count": 10,
     "metadata": {},
     "output_type": "execute_result"
    }
   ],
   "source": [
    "df = df.drop_duplicates(subset=['lyrics'], keep='first').reset_index(drop=True)\n",
    "df.describe()"
   ]
  },
  {
   "cell_type": "markdown",
   "metadata": {},
   "source": [
    "Good news regarding the ``lyrics`` variable, is time to begin working with spacy and more NLP libaries we have seen during classes."
   ]
  },
  {
   "cell_type": "markdown",
   "metadata": {},
   "source": [
    "## **1. Dataset Loading and DF Preprocessing**"
   ]
  },
  {
   "cell_type": "markdown",
   "metadata": {},
   "source": [
    "Before the implementation of the Pipeline let's print some ``lyrics`` instances in order to visualize which kind of none useful set of characters has been introduced"
   ]
  },
  {
   "cell_type": "code",
   "execution_count": 11,
   "metadata": {},
   "outputs": [
    {
     "name": "stdout",
     "output_type": "stream",
     "text": [
      "SONG 1\n",
      "[\"Stairway to Heaven Lyrics[Intro]\\n\\n[Verse 1]\\nThere's a lady who's sure all that glitters is gold\\nAnd she's buying a stairway to Heaven\\nWhen she gets there she knows, if the stores are all closed\\nWith a word she can get what she came for\\nOoh, ooh, and she's buying a stairway to Heaven\\nThere's a sign on the wall, but she wants to be sure\\n'Cause you know sometimes words have two meanings\\nIn a tree by the brook, there's a songbird who sings\\nSometimes all of our thoughts are misgiven\\n\\n[Chorus]\\nOoh, it  makes me wonder\\nOoh, makes me wonder\\n[Verse 2]\\nThere's a feeling I get when I look to the West\\nAnd my spirit is crying for leaving\\nIn my thoughts I have seen rings of smoke through the trees\\nAnd the voices of those who stand looking\\n\\n[Chorus]\\nOoh, it makes me wonder\\nOoh, really makes me wonder\\n\\n[Verse 3]\\nAnd it's whispered that soon if we all call the tune\\nThen the piper will lead us to reason\\nAnd a new day will dawn for those who stand long\\nAnd the forests will echo with laughter\\n\\n[Chorus]\\nOh-oh-oh-oh-woahhh\\n\\n[Verse 4]\\nIf there's a bustle in your hedgerow, don't be alarmed now\\nIt's just a spring clean for the May queen\\nYes, there are two paths you can go by, but in the long run\\nThere's still time to change the road you're on\\n\\n[Chorus]\\nAnd it makes me wonder\\nOhh, woah\\n[Verse 5]\\nYour head is humming, and it won't go, in case you don't know\\nThe piper's calling you to join him\\nDear lady, can you hear the wind blow? And did you know\\nYour stairway lies on the whispering wind?\\n[Guitar Solo]\\n\\n[Bridge]\\nAnd as we wind on down the road\\nOur shadows taller than our soul\\nThere walks a lady we all know\\nWho shines white light and wants to show\\nHow everything still turns to gold\\nAnd if you listen very hard\\nThe tune will come to you at last\\nWhen all are one, and one is all\\nTo be a rock and not to roll\\n\\n[Outro]\\nAnd she's buying a stairway to Heaven280Embed\"]\n",
      "\n",
      "SONG 2\n",
      "[\"Hey Jude Lyrics[Verse 1: Paul McCartney]\\nHey Jude, don't make it bad\\nTake a sad song and make it better\\nRemember to let her into your heart\\nThen you can start to make it better\\n\\n[Verse 2: Paul McCartney, John Lennon, George Harrison]\\nHey Jude, don't be afraid\\nYou were made to go out and get her\\nThe minute you let her under your skin\\nThen you begin to make it better\\n\\n[Chorus: Paul McCartney, John Lennon, George Harrison]\\nAnd anytime you feel the pain, hey Jude, refrain\\nDon't carry the world upon your shoulders\\nFor well you know that it's a fool who plays it cool\\nBy making his world a little colder\\nNa na na na na na na na na na\\n[Verse 3: Paul McCartney]\\nHey Jude, don't let me down\\nYou have found her, now go and get her\\n(Let it out and let it in)\\nRemember (Hey Jude) to let her into your heart\\nThen you can start to make it better\\n\\n[Chorus: Paul McCartney, John Lennon, George Harrison]\\nSo let it out and let it in, hey Jude, begin\\nYou're waiting for someone to perform with\\nAnd don't you know that it's just you, hey Jude, you'll do\\nThe movement you need is on your shoulder\\nNa na na na na na na na na yeah\\n\\n[Verse 4: Paul McCartney & John Lennon]\\nHey Jude, don't make it bad\\nTake a sad song and make it better\\nRemember to let her under your skin\\nThen you'll begin to make it (Woah, fucking hell!)\\nBetter better better better better better, oh\\n\\n[Outro: Paul McCartney & Lennon/Harrison/Starr]\\nYeah yeah yeah yeah yeah yeah yeah\\nNaa na na na na na na, na na na na, hey Jude\\nNaa na na na na na na, na na na na, hey Jude\\nNaa na na na na na na, na na na na, hey Jude\\nNaa na na na na na na, na na na na, hey Jude\\n(Jude Judy Judy Judy Judy Judy ow wow)\\nNaa na na na na na na (Na na na), na na na na, hey Jude\\n(Jude Jude Jude Jude Jude)\\nNaa na na na na na na (Yeah yeah yeah), na na na na, hey Jude\\n(You know you can make, Jude Jude, You're not gonna break it)\\nNaa na (Don't make it bad Jude) na na na na na (Take a sad song and make it better), na na na na, hey Jude\\nHey Jude, hey Jude wow\\nNaa na na na na na na, na na na na, hey Jude\\nNaa na na na na na na, na na na na, hey Jude\\nJude Jude Jude Jude Jude Jude\\nNaa na na na na na na, na na na na, hey Jude\\nNaa na na na na na na, na na na na, hey Jude\\n(Na na na na na na na na na na na na)\\nNaa na na na na na na, na na na na, hey Jude\\nNaa na na na na na na, na na na na, hey Jude\\nNaa na na na na na na (Make it Jude), na na na na, hey Jude\\n(Yeah yeah yeah yeah yeah yeah yeah)\\nNaa na na na na na na, na na na na, hey Jude\\n(Go listen to ya ma ma ma ma ma ma ma ma)\\nNaa na na na na na na, na na na na, hey Jude\\nNaa na na na na na na, na na na na, hey Jude96Embed\"]\n",
      "\n"
     ]
    }
   ],
   "source": [
    "instances = [l for l in df['lyrics'].values[:2]]\n",
    "\n",
    "for si,s in enumerate(instances):\n",
    "    print(f'SONG {si + 1}')\n",
    "    print(str([s])+'\\n')"
   ]
  },
  {
   "cell_type": "markdown",
   "metadata": {},
   "source": [
    "From these two songs we can clearly see that there are a lot of characters which is not necessary at all. Firstly it seems that at the beguining of every song, the title of the song it is included, an iformation wich is stored in other variable and we do not need. Also at the end of the song a sequence of numbers and 'Embed' word is appearing. Furthermore, every information inside '[]' is not corresponding to the lyrics itself. Finally, '/n' wich corresponds to line skip must be removed.\n",
    "\n",
    "Regarding expresions like 'na', 'yeah', 'hey'... could be interpreted as some kind of stopword which maybe is not a word which express to much but especially in this second song for example it seems to be half of the song. So deppending on troubles we could face, we will change the decision of keeping this strings. However, contractions must be treated as a 'formal' word in orther to obtain the same meaning for every word. This can be counter benefit especially in ``rap & hip hop`` genre which most of the words uses contraction to fit with the rithm of the song. But at the end we are triying to find the meaning of the words in the song and each word must be represented in the same manner in every one.  "
   ]
  },
  {
   "cell_type": "markdown",
   "metadata": {},
   "source": [
    "Creating a function to address all this problems would be the best manner to properly display the lyrics:"
   ]
  },
  {
   "cell_type": "code",
   "execution_count": 12,
   "metadata": {},
   "outputs": [],
   "source": [
    "#Maximum length of any song's Title\n",
    "lengthTitle = df['song'].apply(lambda x: len(x.split(' '))).values\n",
    "maxLen = np.max(lengthTitle) + 5 #This 5 is just a margin just in case"
   ]
  },
  {
   "cell_type": "code",
   "execution_count": 13,
   "metadata": {},
   "outputs": [
    {
     "data": {
      "text/html": [
       "<div>\n",
       "<style scoped>\n",
       "    .dataframe tbody tr th:only-of-type {\n",
       "        vertical-align: middle;\n",
       "    }\n",
       "\n",
       "    .dataframe tbody tr th {\n",
       "        vertical-align: top;\n",
       "    }\n",
       "\n",
       "    .dataframe thead th {\n",
       "        text-align: right;\n",
       "    }\n",
       "</style>\n",
       "<table border=\"1\" class=\"dataframe\">\n",
       "  <thead>\n",
       "    <tr style=\"text-align: right;\">\n",
       "      <th></th>\n",
       "      <th>song</th>\n",
       "      <th>artist</th>\n",
       "      <th>type</th>\n",
       "      <th>lyrics</th>\n",
       "      <th>correctLyrics</th>\n",
       "    </tr>\n",
       "  </thead>\n",
       "  <tbody>\n",
       "    <tr>\n",
       "      <th>0</th>\n",
       "      <td>Stairway to Heaven</td>\n",
       "      <td>Led Zeppelin</td>\n",
       "      <td>rock</td>\n",
       "      <td>Stairway to Heaven Lyrics[Intro]\\n\\n[Verse 1]\\...</td>\n",
       "      <td>There is a lady who is sure all that glitters...</td>\n",
       "    </tr>\n",
       "    <tr>\n",
       "      <th>1</th>\n",
       "      <td>Hey Jude</td>\n",
       "      <td>Beatles</td>\n",
       "      <td>rock</td>\n",
       "      <td>Hey Jude Lyrics[Verse 1: Paul McCartney]\\nHey ...</td>\n",
       "      <td>Hey Jude, do not make it bad Take a sad song ...</td>\n",
       "    </tr>\n",
       "    <tr>\n",
       "      <th>2</th>\n",
       "      <td>All Along the Watchtower</td>\n",
       "      <td>Hendrix, Jimi</td>\n",
       "      <td>rock</td>\n",
       "      <td>Ii. Tambourine Lyrics[Chorus, sung]\\nHey, Pip,...</td>\n",
       "      <td>Hey, Pip, play your tambourine Make the sailo...</td>\n",
       "    </tr>\n",
       "    <tr>\n",
       "      <th>3</th>\n",
       "      <td>Satisfaction</td>\n",
       "      <td>Rolling Stones</td>\n",
       "      <td>rock</td>\n",
       "      <td>Sin título I Lyrics[Letra de \"Sin título I\"]\\n...</td>\n",
       "      <td>Hay tres ninas jipis en la habitacion Una se ...</td>\n",
       "    </tr>\n",
       "    <tr>\n",
       "      <th>4</th>\n",
       "      <td>Like A Rolling Stone</td>\n",
       "      <td>Dylan, Bob</td>\n",
       "      <td>rock</td>\n",
       "      <td>Like a Rolling Stone Lyrics[Verse 1]\\nOnce upo...</td>\n",
       "      <td>Once upon a time you dressed so fine Threw th...</td>\n",
       "    </tr>\n",
       "    <tr>\n",
       "      <th>...</th>\n",
       "      <td>...</td>\n",
       "      <td>...</td>\n",
       "      <td>...</td>\n",
       "      <td>...</td>\n",
       "      <td>...</td>\n",
       "    </tr>\n",
       "    <tr>\n",
       "      <th>3756</th>\n",
       "      <td>Motown 25</td>\n",
       "      <td>Elzhi</td>\n",
       "      <td>rap &amp; hip hop</td>\n",
       "      <td>Motown 25 Lyrics[Verse 1: eLZhi]\\nI end career...</td>\n",
       "      <td>I end careers, years, pierce ears fierce with...</td>\n",
       "    </tr>\n",
       "    <tr>\n",
       "      <th>3757</th>\n",
       "      <td>How Ya Like Me Now</td>\n",
       "      <td>Kool Moe Dee</td>\n",
       "      <td>rap &amp; hip hop</td>\n",
       "      <td>How Ya Like Me Now Lyrics\"All aboard for the n...</td>\n",
       "      <td>\"All aboard for the night train\" I throw my ta...</td>\n",
       "    </tr>\n",
       "    <tr>\n",
       "      <th>3758</th>\n",
       "      <td>Coastin’</td>\n",
       "      <td>Zion I feat. K.Flay</td>\n",
       "      <td>rap &amp; hip hop</td>\n",
       "      <td>Coastin’ LyricsWhen life brings trouble\\nYou c...</td>\n",
       "      <td>When life brings trouble You can fight or run ...</td>\n",
       "    </tr>\n",
       "    <tr>\n",
       "      <th>3759</th>\n",
       "      <td>Head Banger</td>\n",
       "      <td>EPMD</td>\n",
       "      <td>rap &amp; hip hop</td>\n",
       "      <td>Headbanger Lyrics[Redman]\\nNegroes!!!!!!!!\\n\\n...</td>\n",
       "      <td>Negroes!!!!!!!! The head banger, WHAT? The he...</td>\n",
       "    </tr>\n",
       "    <tr>\n",
       "      <th>3760</th>\n",
       "      <td>Sound Bwoy Burell</td>\n",
       "      <td>Smif-N-Wessun</td>\n",
       "      <td>rap &amp; hip hop</td>\n",
       "      <td>Sound Bwoy Bureill Lyrics[Intro: Sample from C...</td>\n",
       "      <td>We are the winning champion sound. You cannot...</td>\n",
       "    </tr>\n",
       "  </tbody>\n",
       "</table>\n",
       "<p>3761 rows × 5 columns</p>\n",
       "</div>"
      ],
      "text/plain": [
       "                          song               artist           type  \\\n",
       "0           Stairway to Heaven         Led Zeppelin           rock   \n",
       "1                     Hey Jude              Beatles           rock   \n",
       "2     All Along the Watchtower        Hendrix, Jimi           rock   \n",
       "3                 Satisfaction       Rolling Stones           rock   \n",
       "4         Like A Rolling Stone           Dylan, Bob           rock   \n",
       "...                        ...                  ...            ...   \n",
       "3756                 Motown 25                Elzhi  rap & hip hop   \n",
       "3757        How Ya Like Me Now         Kool Moe Dee  rap & hip hop   \n",
       "3758                  Coastin’  Zion I feat. K.Flay  rap & hip hop   \n",
       "3759               Head Banger                 EPMD  rap & hip hop   \n",
       "3760         Sound Bwoy Burell        Smif-N-Wessun  rap & hip hop   \n",
       "\n",
       "                                                 lyrics  \\\n",
       "0     Stairway to Heaven Lyrics[Intro]\\n\\n[Verse 1]\\...   \n",
       "1     Hey Jude Lyrics[Verse 1: Paul McCartney]\\nHey ...   \n",
       "2     Ii. Tambourine Lyrics[Chorus, sung]\\nHey, Pip,...   \n",
       "3     Sin título I Lyrics[Letra de \"Sin título I\"]\\n...   \n",
       "4     Like a Rolling Stone Lyrics[Verse 1]\\nOnce upo...   \n",
       "...                                                 ...   \n",
       "3756  Motown 25 Lyrics[Verse 1: eLZhi]\\nI end career...   \n",
       "3757  How Ya Like Me Now Lyrics\"All aboard for the n...   \n",
       "3758  Coastin’ LyricsWhen life brings trouble\\nYou c...   \n",
       "3759  Headbanger Lyrics[Redman]\\nNegroes!!!!!!!!\\n\\n...   \n",
       "3760  Sound Bwoy Bureill Lyrics[Intro: Sample from C...   \n",
       "\n",
       "                                          correctLyrics  \n",
       "0      There is a lady who is sure all that glitters...  \n",
       "1      Hey Jude, do not make it bad Take a sad song ...  \n",
       "2      Hey, Pip, play your tambourine Make the sailo...  \n",
       "3      Hay tres ninas jipis en la habitacion Una se ...  \n",
       "4      Once upon a time you dressed so fine Threw th...  \n",
       "...                                                 ...  \n",
       "3756   I end careers, years, pierce ears fierce with...  \n",
       "3757  \"All aboard for the night train\" I throw my ta...  \n",
       "3758  When life brings trouble You can fight or run ...  \n",
       "3759   Negroes!!!!!!!! The head banger, WHAT? The he...  \n",
       "3760   We are the winning champion sound. You cannot...  \n",
       "\n",
       "[3761 rows x 5 columns]"
      ]
     },
     "metadata": {},
     "output_type": "display_data"
    }
   ],
   "source": [
    "import re\n",
    "import contractions\n",
    "import unicodedata\n",
    "\n",
    "def correctLyrics(row, maxLen):\n",
    "    text = row['lyrics']\n",
    "    #1. Remove '\\n' and Unicode Escape Sequence ('\\u2005f)\n",
    "    text =  re.sub(r'\\n', ' ', text)\n",
    "    text = unicodedata.normalize('NFKD', text).encode('ascii', 'ignore').decode('utf-8')\n",
    "    #2. Remove '[]'\n",
    "    text = re.sub(r'\\[.*?\\]', ' ', text)\n",
    "    #3. Remove initial title + 'Lyrics' Keyword\n",
    "    titleWords = text.split(' ')[:maxLen] #Save time and avoid errors\n",
    "    restWords = text.split(' ')[maxLen:]\n",
    "    titleWords = re.sub(r'.*?Lyrics', '', ' '.join(titleWords))\n",
    "    text = titleWords + ' ' + ' '.join(restWords)\n",
    "    #4. Remove 'Embed' at the end word of the song\n",
    "    text = re.sub(r'\\d+Embed|Embed', '', text)\n",
    "    #5.Avoid more than 1 Espaces\n",
    "    text = re.sub(r'\\s+', ' ', text)\n",
    "    #6. Remove contractions\n",
    "    text = contractions.fix(text)\n",
    "    return text\n",
    "\n",
    "df['correctLyrics'] = df.apply(lambda x: correctLyrics(x,maxLen), axis=1)\n",
    "\n",
    "display(df)"
   ]
  },
  {
   "cell_type": "markdown",
   "metadata": {},
   "source": [
    "After all these modifications let's see if the previous songs lyrics has an uniform structure: "
   ]
  },
  {
   "cell_type": "code",
   "execution_count": 14,
   "metadata": {},
   "outputs": [
    {
     "name": "stdout",
     "output_type": "stream",
     "text": [
      "SONG 1\n",
      "[\" There is a lady who is sure all that glitters is gold And she is buying a stairway to Heaven When she gets there she knows, if the stores are all closed With a word she can get what she came for Ooh, ooh, and she is buying a stairway to Heaven There is a sign on the wall, but she wants to be sure Because you know sometimes words have two meanings In a tree by the brook, there is a songbird who sings Sometimes all of our thoughts are misgiven Ooh, it makes me wonder Ooh, makes me wonder There is a feeling I get when I look to the West And my spirit is crying for leaving In my thoughts I have seen rings of smoke through the trees And the voices of those who stand looking Ooh, it makes me wonder Ooh, really makes me wonder And it is whispered that soon if we all call the tune Then the piper will lead us to reason And a new day will dawn for those who stand long And the forests will echo with laughter Oh-oh-oh-oh-woahhh If there is a bustle in your hedgerow, do not be alarmed now It is just a spring clean for the May queen Yes, there are two paths you can go by, but in the long run There is still time to change the road you are on And it makes me wonder Ohh, woah Your head is humming, and it will not go, in case you do not know The piper's calling you to join him Dear lady, can you hear the wind blow? And did you know Your stairway lies on the whispering wind? And as we wind on down the road Our shadows taller than our soul There walks a lady we all know Who shines white light and wants to show How everything still turns to gold And if you listen very hard The tune will come to you at last When all are one, and one is all To be a rock and not to roll And she is buying a stairway to Heaven\"]\n",
      "\n",
      "SONG 2\n",
      "[' Hey Jude, do not make it bad Take a sad song and make it better Remember to let her into your heart Then you can start to make it better Hey Jude, do not be afraid You were made to go out and get her The minute you let her under your skin Then you begin to make it better And anytime you feel the pain, hey Jude, refrain Do not carry the world upon your shoulders For well you know that it is a fool who plays it cool By making his world a little colder Na na na na na na na na na na Hey Jude, do not let me down You have found her, now go and get her (Let it out and let it in) Remember (Hey Jude) to let her into your heart Then you can start to make it better So let it out and let it in, hey Jude, begin You are waiting for someone to perform with And do not you know that it is just you, hey Jude, you will do The movement you need is on your shoulder Na na na na na na na na na yeah Hey Jude, do not make it bad Take a sad song and make it better Remember to let her under your skin Then you will begin to make it (Woah, fucking hell!) Better better better better better better, oh Yeah yeah yeah yeah yeah yeah yeah Naa na na na na na na, na na na na, hey Jude Naa na na na na na na, na na na na, hey Jude Naa na na na na na na, na na na na, hey Jude Naa na na na na na na, na na na na, hey Jude (Jude Judy Judy Judy Judy Judy ow wow) Naa na na na na na na (Na na na), na na na na, hey Jude (Jude Jude Jude Jude Jude) Naa na na na na na na (Yeah yeah yeah), na na na na, hey Jude (You know you can make, Jude Jude, You are not going to break it) Naa na (Do not make it bad Jude) na na na na na (Take a sad song and make it better), na na na na, hey Jude Hey Jude, hey Jude wow Naa na na na na na na, na na na na, hey Jude Naa na na na na na na, na na na na, hey Jude Jude Jude Jude Jude Jude Jude Naa na na na na na na, na na na na, hey Jude Naa na na na na na na, na na na na, hey Jude (Na na na na na na na na na na na na) Naa na na na na na na, na na na na, hey Jude Naa na na na na na na, na na na na, hey Jude Naa na na na na na na (Make it Jude), na na na na, hey Jude (Yeah yeah yeah yeah yeah yeah yeah) Naa na na na na na na, na na na na, hey Jude (Go listen to ya ma ma ma ma ma ma ma ma) Naa na na na na na na, na na na na, hey Jude Naa na na na na na na, na na na na, hey Jude']\n",
      "\n"
     ]
    }
   ],
   "source": [
    "instances = [l for l in df['correctLyrics'].values[:2]]\n",
    "\n",
    "for si,s in enumerate(instances):\n",
    "    print(f'SONG {si + 1}')\n",
    "    print(str([s])+'\\n')"
   ]
  },
  {
   "cell_type": "markdown",
   "metadata": {},
   "source": [
    "Now, these lyrics seems to be readable, escape sequences and Unicode elements has been removed, both title at the begining of the word and Embed at the has been also adressed. Finally, contractions has been recover onto its original verb. So far, so good."
   ]
  },
  {
   "cell_type": "markdown",
   "metadata": {},
   "source": [
    "However, something we need to know previously working with songs lyrics is that our dataset is about the 1000 most heard songs for every genre but this does not implies that all our songs are in the same language! Therefore, it would be useful to determine which language predominates for each song and in the case of minoritary languages, remove that instance because otherwise it would be impossible to asign a topic for these kind of sentences. Therefore, it is the moment to visualize which language priorises in this dataset and which other languages could surprise us."
   ]
  },
  {
   "cell_type": "code",
   "execution_count": 15,
   "metadata": {},
   "outputs": [],
   "source": [
    "from spacy.language import Language\n",
    "from spacy_langdetect import LanguageDetector\n",
    "\n",
    "# Add LanguageDetector and assign it a string name\n",
    "@Language.factory(\"language_detector\")\n",
    "def create_language_detector(nlp, name):\n",
    "    return LanguageDetector(language_detection_function=None)\n",
    "\n",
    "mult_nlp = spacy.load('xx_sent_ud_sm')\n",
    "\n",
    "mult_nlp.add_pipe('language_detector', last=True)\n",
    "\n",
    "mult_doc = mult_nlp(df['correctLyrics'].values[0])\n",
    "def getLanguage(row):\n",
    "    mult_doc = mult_nlp(row['correctLyrics'])\n",
    "    return mult_doc._.language['language']\n",
    "\n",
    "df['language'] = df.apply(getLanguage, axis = 1)"
   ]
  },
  {
   "cell_type": "markdown",
   "metadata": {},
   "source": [
    "Surprisingly it only tooks one minute!. When we iniciate the process we were expecting 30 mins at list. This is not bad at all, now we can see which languages predominates in our dataset and this could be good information for a better interpretation of the number of topics we may need to select. Let's plot a histogram to visualize how this ``language`` variable is distributed."
   ]
  },
  {
   "cell_type": "code",
   "execution_count": 16,
   "metadata": {},
   "outputs": [
    {
     "data": {
      "text/plain": [
       "<AxesSubplot:>"
      ]
     },
     "execution_count": 16,
     "metadata": {},
     "output_type": "execute_result"
    },
    {
     "data": {
      "image/png": "[encoded data removed]",
      "text/plain": [
       "<Figure size 432x288 with 1 Axes>"
      ]
     },
     "metadata": {
      "needs_background": "light"
     },
     "output_type": "display_data"
    }
   ],
   "source": [
    "df['language'].hist()"
   ]
  },
  {
   "cell_type": "markdown",
   "metadata": {},
   "source": [
    "Wow! Almost every song is in english. So, obviously this will be the main language in the corpus. However, let's put the spotlight in those minoritary languages, it does not seem that they include sufficient enough docs to perform a correct. Thus, let's focus now in this languages songs:"
   ]
  },
  {
   "cell_type": "code",
   "execution_count": 17,
   "metadata": {},
   "outputs": [
    {
     "name": "stdout",
     "output_type": "stream",
     "text": [
      "Tne number of non-english songs is 30 which correspond to 0.798% of the dataset\n"
     ]
    },
    {
     "data": {
      "image/png": "[encoded data removed]",
      "text/plain": [
       "<Figure size 432x288 with 1 Axes>"
      ]
     },
     "metadata": {
      "needs_background": "light"
     },
     "output_type": "display_data"
    }
   ],
   "source": [
    "dfNoteng = df.loc[df['language'] != 'en']\n",
    "dfNoteng['language'].hist()\n",
    "print(f'Tne number of non-english songs is {dfNoteng.shape[0]} which correspond to {dfNoteng.shape[0]/df.shape[0]*100:.3f}% of the dataset')"
   ]
  },
  {
   "cell_type": "markdown",
   "metadata": {},
   "source": [
    "It is less than a 1% of the total songs and the most repeated language is 'tagalog' which is a philipine language and are 6 instances of this language. Therefore it is assumible the loss of these instances. Therefore, after this deletion it is our time to apply our spicy Pipeline after the creation of the corpus."
   ]
  },
  {
   "cell_type": "code",
   "execution_count": 29,
   "metadata": {},
   "outputs": [],
   "source": [
    "df = df.loc[df['language'] == 'en'].reset_index(drop=True)\n",
    "\n",
    "corpus = [elem for elem in df['correctLyrics']]\n",
    "\n",
    "with open('corpus.txt', 'w+') as c:\n",
    "    c.write(str(corpus))"
   ]
  },
  {
   "cell_type": "markdown",
   "metadata": {},
   "source": [
    "``corpus`` variable is composed by a long list including every song on it. We have done is in this way because we think Python lists for this kind of task would be faster than using Pandas Dataframes. From this we will create a Pipeline simiarily as we did in classes notebook and use further machine learning algorithm as final work statement requests."
   ]
  },
  {
   "cell_type": "markdown",
   "metadata": {},
   "source": [
    "Once the ``corpus`` has been created, it is very easy to apply a Pipeline:"
   ]
  },
  {
   "cell_type": "code",
   "execution_count": 51,
   "metadata": {},
   "outputs": [
    {
     "name": "stderr",
     "output_type": "stream",
     "text": [
      "100%|██████████| 3731/3731 [00:33<00:00, 111.02it/s]\n"
     ]
    }
   ],
   "source": [
    "from num2words import num2words\n",
    "from tqdm import tqdm\n",
    "from nltk.tokenize import wordpunct_tokenize\n",
    "from nltk.corpus import stopwords\n",
    "from nltk.stem import WordNetLemmatizer\n",
    "\n",
    "stopwords_en = stopwords.words('english')\n",
    "wnl = WordNetLemmatizer()\n",
    "\n",
    "#IMPORT CORPUS\n",
    "with open('corpus.txt', 'r') as c:\n",
    "    corpus = eval(c.read())\n",
    "##############\n",
    "\n",
    "valid_POS = set(['VERB', 'NOUN', 'ADJ', 'PROPN', 'NUM'])\n",
    "\n",
    "def convertNum2words(token):\n",
    "    try:\n",
    "        return num2words(token)\n",
    "    except:\n",
    "        return token\n",
    "\n",
    "def corpusPreprocessing(song):\n",
    "    #1. Tokenization\n",
    "    doc = wordpunct_tokenize(song)\n",
    "    #2. Filtering by Alphanumeric and Lower the Text\n",
    "    lowerToken = [token.lower() for token in doc if token.isalnum()]\n",
    "    tokenList = [convertNum2words(token) for token in lowerToken]\n",
    "    #3. Lemmatization of the data\n",
    "    lemmaList = [wnl.lemmatize(el) for el in tokenList]\n",
    "    #4. Cleanning StopWords\n",
    "    finalCorpus = [lemma for lemma in lemmaList if lemma not in stopwords_en]\n",
    "    return finalCorpus\n",
    "\n",
    "corpus = [corpusPreprocessing(s) for s in tqdm(corpus)]"
   ]
  },
  {
   "cell_type": "code",
   "execution_count": 52,
   "metadata": {},
   "outputs": [],
   "source": [
    "#SAVE CORPUS\n",
    "with open('corpus.txt', 'w+') as c:\n",
    "    c.write(str(corpus))\n",
    "##############"
   ]
  },
  {
   "cell_type": "markdown",
   "metadata": {},
   "source": [
    "It is surprisingly fast compared to the Pipeline provided by SpaCy. In only took 33 seconds which is 10 times less than the previous Pipeline we constructed but we decided to rewrite it because of the lack of performance and .lower() was not available. Anyway, we decided to store this new corpus inside a txt file such as a 'checkpoint' to save time as much as possible."
   ]
  },
  {
   "cell_type": "markdown",
   "metadata": {},
   "source": [
    "Now it is the moment of use N-Grams from ``gensim`` library in order to group in the same token those words that has a tendency of appear together:"
   ]
  },
  {
   "cell_type": "code",
   "execution_count": 76,
   "metadata": {},
   "outputs": [
    {
     "name": "stderr",
     "output_type": "stream",
     "text": [
      "100%|██████████| 3731/3731 [00:02<00:00, 1662.80it/s]\n"
     ]
    }
   ],
   "source": [
    "#IMPORT CORPUS\n",
    "with open('corpus.txt', 'r') as c:\n",
    "    corpus = eval(c.read())\n",
    "##############\n",
    "\n",
    "from gensim.models.phrases import Phrases\n",
    "\n",
    "phrase_model = Phrases(corpus, min_count=2, threshold=20)\n",
    "\n",
    "corpus = [el for el in tqdm(phrase_model[corpus])]"
   ]
  },
  {
   "cell_type": "markdown",
   "metadata": {},
   "source": [
    "Finally, in order to find a BoW and TF-IDF representation from our corpus, it is necessary to create previously a Gensim Dictionary where the songs will be stored. Once it is created, we can't include more instances, therefore this step is only made when the corpus has been finished."
   ]
  },
  {
   "cell_type": "code",
   "execution_count": 80,
   "metadata": {},
   "outputs": [
    {
     "name": "stdout",
     "output_type": "stream",
     "text": [
      "Our dictionary contains 78943 terms\n"
     ]
    }
   ],
   "source": [
    "from gensim.corpora import Dictionary\n",
    "\n",
    "# Create dictionary of tokens\n",
    "D = Dictionary(corpus)\n",
    "\n",
    "print('Our dictionary contains', len(D), 'terms')"
   ]
  },
  {
   "cell_type": "markdown",
   "metadata": {},
   "source": [
    "Wow! more than 70000 terms in our diccionary. Compared to what we saw from IMBD dataset, this ones contains more items. However, this is not definitive, probably there are several terms that appears barely compared to from what we see in the IMBD which maybe follows a similar structure since a review could be good, bad but nothing else. Let's filter our Diccionary and we will see which are the real tokens that we will need to analyse:"
   ]
  },
  {
   "cell_type": "code",
   "execution_count": 81,
   "metadata": {},
   "outputs": [
    {
     "name": "stdout",
     "output_type": "stream",
     "text": [
      "Our dictionary contains 24466 terms\n"
     ]
    }
   ],
   "source": [
    "D.filter_extremes(no_below=3,no_above=.80)\n",
    "\n",
    "print('Our dictionary contains', len(D), 'terms')"
   ]
  },
  {
   "cell_type": "markdown",
   "metadata": {},
   "source": [
    "Now it makes sense, it decreased drastically and now it seems to be a good bunch of woords to work with. Now it is the moment to introduce clasical representations which using Gensim is quite easy:"
   ]
  },
  {
   "cell_type": "code",
   "execution_count": 84,
   "metadata": {},
   "outputs": [
    {
     "name": "stdout",
     "output_type": "stream",
     "text": [
      "[(19, 2), (20, 3), (28, 3), (36, 1), (40, 12), (94, 1), (98, 1), (99, 1), (100, 3), (101, 3), (102, 12), (103, 1), (104, 1), (105, 1), (106, 1), (107, 1), (108, 1), (109, 1), (110, 1), (111, 1), (112, 2), (113, 1), (114, 27), (115, 3), (116, 1), (117, 9), (118, 1), (119, 1), (120, 1), (121, 1), (122, 1), (123, 16), (124, 86), (125, 1), (126, 1), (127, 1), (128, 1), (129, 1), (130, 1), (131, 1), (132, 3), (133, 3), (134, 2), (135, 2), (136, 1), (137, 2), (138, 3), (139, 1), (140, 1), (141, 1), (142, 2), (143, 2), (144, 1), (145, 4), (146, 7)]\n",
      "[(19, 0.002880802983341955), (20, 0.005408050898700625), (28, 0.003143119854280442), (36, 0.005339368035097949), (40, 0.02321101128446682), (94, 0.010159815110711746), (98, 0.007918699127948597), (99, 0.01172937624850512), (100, 0.014614789976762759), (101, 0.023347799754881254), (102, 0.04451607116506532), (103, 0.0052761125792262255), (104, 0.007878971827037938), (105, 0.011523379929523745), (106, 0.006058069803972104), (107, 0.00284100643985244), (108, 0.005547503606075813), (109, 0.005554546840587433), (110, 0.007515892239690416), (111, 0.002151069507980266), (112, 0.007193924815434125), (113, 0.00551954771926891), (114, 0.43566366872231127), (115, 0.043698390889098916), (116, 0.013914703566771287), (117, 0.02170710188385002), (118, 0.0032100157145684787), (119, 0.0038581050845765243), (120, 0.006120601534900611), (121, 0.006967410422206357), (122, 0.009676198330223339), (123, 0.1349444263662203), (124, 0.8832454099285513), (125, 0.0028516724891062203), (126, 0.002126100013676386), (127, 0.009857446882986187), (128, 0.005597272600027584), (129, 0.010705902006692952), (130, 0.004402070764412103), (131, 0.012647510656703474), (132, 0.015791012400865546), (133, 0.040943987664503856), (134, 0.016623193872802623), (135, 0.01567985902765326), (136, 0.006260712079652061), (137, 0.009469864579733187), (138, 0.0066007372785336065), (139, 0.00726226820168739), (140, 0.006526215611420392), (141, 0.0030157025515995996), (142, 0.007253751261928752), (143, 0.019907637583460744), (144, 0.00423456372455213), (145, 0.008326131540814527), (146, 0.0354737362982566)]\n"
     ]
    }
   ],
   "source": [
    "from gensim.models import TfidfModel\n",
    "\n",
    "bow_songs = [D.doc2bow(doc) for doc in corpus]\n",
    "tfidf = TfidfModel(bow_songs)\n",
    "tfidf_songs = tfidf[bow_songs]\n",
    "\n",
    "print(bow_songs[1])\n",
    "print(tfidf_songs[1])"
   ]
  },
  {
   "cell_type": "markdown",
   "metadata": {},
   "source": [
    "Therefore, this is our first figures obteinment from the words appearing in the lyrics song. Nevertheless, this is not enough to predict properly which genre our song has. This representation just considers the frequency of appearing but not the relation among words. For example, in this song ```Hey Jude - The Beatles``, word 'na' which is some kind of musical onomatopoeia is repeated several times during the song, and its score is 0.88 in the TF-IDF representation which is really high despite it does not meaning anything the word by itself. But is not that bad, for example 'na' expresion could directly being related to rock song, we do not know how the classification model will behave. Furthermore, these kind of representations will be very useful for the developement of more complex models thus it is essential to save them in a variable for future usages.\n",
    "\n",
    "Without any more introduction, it is the moment to start developing further text-figure extraction models in order to obtain better insights from our data:"
   ]
  },
  {
   "cell_type": "code",
   "execution_count": null,
   "metadata": {},
   "outputs": [],
   "source": []
  }
 ],
 "metadata": {
  "kernelspec": {
   "display_name": "Python 3.10.6 ('ML')",
   "language": "python",
   "name": "python3"
  },
  "language_info": {
   "codemirror_mode": {
    "name": "ipython",
    "version": 3
   },
   "file_extension": ".py",
   "mimetype": "text/x-python",
   "name": "python",
   "nbconvert_exporter": "python",
   "pygments_lexer": "ipython3",
   "version": "3.10.6"
  },
  "orig_nbformat": 4,
  "vscode": {
   "interpreter": {
    "hash": "381ff88311bfa90205062e08049120f59c6e3b2eedf7e19586806884b20be455"
   }
  }
 },
 "nbformat": 4,
 "nbformat_minor": 2
}
