{
 "cells": [
  {
   "cell_type": "markdown",
   "metadata": {},
   "source": [
    "# **Machine Learning Applications Final Project Notebook**\n",
    "\n",
    "Date: May 9, 2023\n",
    "\n",
    "Authors: Óscar Montoya Amores (100451858), Javier Serrano Sánchez-Ocaña (100451673), Miguel Ángel Ponce Martínez (100451309)"
   ]
  },
  {
   "cell_type": "markdown",
   "metadata": {},
   "source": [
    "#### **LIBRARIES IMPORT**"
   ]
  },
  {
   "cell_type": "code",
   "execution_count": 28,
   "metadata": {},
   "outputs": [],
   "source": [
    "import numpy as np\n",
    "import pandas as pd\n",
    "import zipfile as zp\n",
    "from termcolor import colored\n",
    "import seaborn as sns\n",
    "import matplotlib.pyplot as plt\n",
    "\n",
    "import spacy    "
   ]
  },
  {
   "cell_type": "markdown",
   "metadata": {},
   "source": [
    "## **0. Dataset Loading and DF Preprocessing**"
   ]
  },
  {
   "cell_type": "markdown",
   "metadata": {},
   "source": [
    "#### **DATASET IMPORT**"
   ]
  },
  {
   "cell_type": "markdown",
   "metadata": {},
   "source": [
    "Let's load the dataset obtained from Kaggle (https://www.kaggle.com/datasets/elizzyliu/song-lyrics) and obtain the main insights from this data:"
   ]
  },
  {
   "cell_type": "code",
   "execution_count": 29,
   "metadata": {},
   "outputs": [
    {
     "data": {
      "text/html": [
       "<div>\n",
       "<style scoped>\n",
       "    .dataframe tbody tr th:only-of-type {\n",
       "        vertical-align: middle;\n",
       "    }\n",
       "\n",
       "    .dataframe tbody tr th {\n",
       "        vertical-align: top;\n",
       "    }\n",
       "\n",
       "    .dataframe thead th {\n",
       "        text-align: right;\n",
       "    }\n",
       "</style>\n",
       "<table border=\"1\" class=\"dataframe\">\n",
       "  <thead>\n",
       "    <tr style=\"text-align: right;\">\n",
       "      <th></th>\n",
       "      <th>song</th>\n",
       "      <th>artist</th>\n",
       "      <th>type</th>\n",
       "      <th>lyrics</th>\n",
       "    </tr>\n",
       "  </thead>\n",
       "  <tbody>\n",
       "    <tr>\n",
       "      <th>0</th>\n",
       "      <td>Stairway to Heaven</td>\n",
       "      <td>Led Zeppelin</td>\n",
       "      <td>rock</td>\n",
       "      <td>Stairway to Heaven Lyrics[Intro]\\r\\n\\r\\n[Verse...</td>\n",
       "    </tr>\n",
       "    <tr>\n",
       "      <th>1</th>\n",
       "      <td>Hey Jude</td>\n",
       "      <td>Beatles</td>\n",
       "      <td>rock</td>\n",
       "      <td>Hey Jude Lyrics[Verse 1: Paul McCartney]\\r\\nHe...</td>\n",
       "    </tr>\n",
       "    <tr>\n",
       "      <th>2</th>\n",
       "      <td>All Along the Watchtower</td>\n",
       "      <td>Hendrix, Jimi</td>\n",
       "      <td>rock</td>\n",
       "      <td>Ii. Tambourine Lyrics[Chorus, sung]\\r\\nHey, Pi...</td>\n",
       "    </tr>\n",
       "    <tr>\n",
       "      <th>3</th>\n",
       "      <td>Satisfaction</td>\n",
       "      <td>Rolling Stones</td>\n",
       "      <td>rock</td>\n",
       "      <td>Sin título I Lyrics[Letra de \"Sin título I\"]\\r...</td>\n",
       "    </tr>\n",
       "    <tr>\n",
       "      <th>4</th>\n",
       "      <td>Like A Rolling Stone</td>\n",
       "      <td>Dylan, Bob</td>\n",
       "      <td>rock</td>\n",
       "      <td>Like a Rolling Stone Lyrics[Verse 1]\\r\\nOnce u...</td>\n",
       "    </tr>\n",
       "    <tr>\n",
       "      <th>...</th>\n",
       "      <td>...</td>\n",
       "      <td>...</td>\n",
       "      <td>...</td>\n",
       "      <td>...</td>\n",
       "    </tr>\n",
       "    <tr>\n",
       "      <th>3995</th>\n",
       "      <td>Motown 25</td>\n",
       "      <td>Elzhi</td>\n",
       "      <td>rap &amp; hip hop</td>\n",
       "      <td>Motown 25 Lyrics[Verse 1: eLZhi]\\r\\nI end care...</td>\n",
       "    </tr>\n",
       "    <tr>\n",
       "      <th>3996</th>\n",
       "      <td>How Ya Like Me Now</td>\n",
       "      <td>Kool Moe Dee</td>\n",
       "      <td>rap &amp; hip hop</td>\n",
       "      <td>How Ya Like Me Now Lyrics\"All aboard for the n...</td>\n",
       "    </tr>\n",
       "    <tr>\n",
       "      <th>3997</th>\n",
       "      <td>Coastin’</td>\n",
       "      <td>Zion I feat. K.Flay</td>\n",
       "      <td>rap &amp; hip hop</td>\n",
       "      <td>Coastin’ LyricsWhen life brings trouble\\r\\nYou...</td>\n",
       "    </tr>\n",
       "    <tr>\n",
       "      <th>3998</th>\n",
       "      <td>Head Banger</td>\n",
       "      <td>EPMD</td>\n",
       "      <td>rap &amp; hip hop</td>\n",
       "      <td>Headbanger Lyrics[Redman]\\r\\nNegroes!!!!!!!!\\r...</td>\n",
       "    </tr>\n",
       "    <tr>\n",
       "      <th>3999</th>\n",
       "      <td>Sound Bwoy Burell</td>\n",
       "      <td>Smif-N-Wessun</td>\n",
       "      <td>rap &amp; hip hop</td>\n",
       "      <td>Sound Bwoy Bureill Lyrics[Intro: Sample from C...</td>\n",
       "    </tr>\n",
       "  </tbody>\n",
       "</table>\n",
       "<p>4000 rows × 4 columns</p>\n",
       "</div>"
      ],
      "text/plain": [
       "                          song               artist           type  \\\n",
       "0           Stairway to Heaven         Led Zeppelin           rock   \n",
       "1                     Hey Jude              Beatles           rock   \n",
       "2     All Along the Watchtower        Hendrix, Jimi           rock   \n",
       "3                 Satisfaction       Rolling Stones           rock   \n",
       "4         Like A Rolling Stone           Dylan, Bob           rock   \n",
       "...                        ...                  ...            ...   \n",
       "3995                 Motown 25                Elzhi  rap & hip hop   \n",
       "3996        How Ya Like Me Now         Kool Moe Dee  rap & hip hop   \n",
       "3997                  Coastin’  Zion I feat. K.Flay  rap & hip hop   \n",
       "3998               Head Banger                 EPMD  rap & hip hop   \n",
       "3999         Sound Bwoy Burell        Smif-N-Wessun  rap & hip hop   \n",
       "\n",
       "                                                 lyrics  \n",
       "0     Stairway to Heaven Lyrics[Intro]\\r\\n\\r\\n[Verse...  \n",
       "1     Hey Jude Lyrics[Verse 1: Paul McCartney]\\r\\nHe...  \n",
       "2     Ii. Tambourine Lyrics[Chorus, sung]\\r\\nHey, Pi...  \n",
       "3     Sin título I Lyrics[Letra de \"Sin título I\"]\\r...  \n",
       "4     Like a Rolling Stone Lyrics[Verse 1]\\r\\nOnce u...  \n",
       "...                                                 ...  \n",
       "3995  Motown 25 Lyrics[Verse 1: eLZhi]\\r\\nI end care...  \n",
       "3996  How Ya Like Me Now Lyrics\"All aboard for the n...  \n",
       "3997  Coastin’ LyricsWhen life brings trouble\\r\\nYou...  \n",
       "3998  Headbanger Lyrics[Redman]\\r\\nNegroes!!!!!!!!\\r...  \n",
       "3999  Sound Bwoy Bureill Lyrics[Intro: Sample from C...  \n",
       "\n",
       "[4000 rows x 4 columns]"
      ]
     },
     "metadata": {},
     "output_type": "display_data"
    }
   ],
   "source": [
    "df = pd.read_csv('all_lyrics.csv')\n",
    "\n",
    "display(df)"
   ]
  },
  {
   "cell_type": "code",
   "execution_count": 31,
   "metadata": {},
   "outputs": [
    {
     "data": {
      "text/html": [
       "<div>\n",
       "<style scoped>\n",
       "    .dataframe tbody tr th:only-of-type {\n",
       "        vertical-align: middle;\n",
       "    }\n",
       "\n",
       "    .dataframe tbody tr th {\n",
       "        vertical-align: top;\n",
       "    }\n",
       "\n",
       "    .dataframe thead th {\n",
       "        text-align: right;\n",
       "    }\n",
       "</style>\n",
       "<table border=\"1\" class=\"dataframe\">\n",
       "  <thead>\n",
       "    <tr style=\"text-align: right;\">\n",
       "      <th></th>\n",
       "      <th>song</th>\n",
       "      <th>artist</th>\n",
       "      <th>type</th>\n",
       "      <th>lyrics</th>\n",
       "    </tr>\n",
       "  </thead>\n",
       "  <tbody>\n",
       "    <tr>\n",
       "      <th>count</th>\n",
       "      <td>4000</td>\n",
       "      <td>4000</td>\n",
       "      <td>4000</td>\n",
       "      <td>3896</td>\n",
       "    </tr>\n",
       "    <tr>\n",
       "      <th>unique</th>\n",
       "      <td>3881</td>\n",
       "      <td>1583</td>\n",
       "      <td>4</td>\n",
       "      <td>3761</td>\n",
       "    </tr>\n",
       "    <tr>\n",
       "      <th>top</th>\n",
       "      <td>Summertime</td>\n",
       "      <td>Beatles</td>\n",
       "      <td>rock</td>\n",
       "      <td>Summer Country Songs LyricsA\\r\\nAaron Lewis – ...</td>\n",
       "    </tr>\n",
       "    <tr>\n",
       "      <th>freq</th>\n",
       "      <td>5</td>\n",
       "      <td>51</td>\n",
       "      <td>1000</td>\n",
       "      <td>10</td>\n",
       "    </tr>\n",
       "  </tbody>\n",
       "</table>\n",
       "</div>"
      ],
      "text/plain": [
       "              song   artist  type  \\\n",
       "count         4000     4000  4000   \n",
       "unique        3881     1583     4   \n",
       "top     Summertime  Beatles  rock   \n",
       "freq             5       51  1000   \n",
       "\n",
       "                                                   lyrics  \n",
       "count                                                3896  \n",
       "unique                                               3761  \n",
       "top     Summer Country Songs LyricsA\\r\\nAaron Lewis – ...  \n",
       "freq                                                   10  "
      ]
     },
     "execution_count": 31,
     "metadata": {},
     "output_type": "execute_result"
    }
   ],
   "source": [
    "df.describe()"
   ]
  },
  {
   "cell_type": "markdown",
   "metadata": {},
   "source": [
    "This dataset is composed by the 1000 most famous songs from every musical genre(``type Variable``) and our goal is find some relation among songs lyrics and its genre. \n",
    "\n",
    "Firstly, null values seems to appear in the lyrics row because as we can see 104 songs ``lyrics`` are not counted properly. So first thing wee need to do is remove null values.\n",
    "\n",
    "Moreover, the unique row bothers us too. It is expected that ``type`` and ``artist`` have several instances repeated (Artist could have many famous songs and obviously given 4 genres it will be repeated). Furthermore, even two different artists could present two different songs with the same name (``song``). However, it is really strange that two songs represent the same lyrics. Here we could have be talking about plagiarism, corrupted data or simply describe() function is not working as expected with long string stucture, so before starting to apply some Machine Learnings Applicatios we have seen in class we need to fix this trouble."
   ]
  },
  {
   "cell_type": "code",
   "execution_count": 32,
   "metadata": {},
   "outputs": [
    {
     "name": "stdout",
     "output_type": "stream",
     "text": [
      "There are exactly 104 null values in the lyrics variable which corresponds to the 2.600% of the data set\n"
     ]
    }
   ],
   "source": [
    "null = df['lyrics'].isna().values\n",
    "\n",
    "print(f'There are exactly {sum(null)} null values in the lyrics variable which corresponds to the {sum(null)/len(null)*100:.3f}% of the data set')\n"
   ]
  },
  {
   "cell_type": "markdown",
   "metadata": {},
   "source": [
    "We think this percentege is assumible of being removed from the dataset but before doing so let's see the proportion of songs genre which receives null lyrics. "
   ]
  },
  {
   "cell_type": "code",
   "execution_count": 33,
   "metadata": {},
   "outputs": [
    {
     "data": {
      "text/plain": [
       "<AxesSubplot:>"
      ]
     },
     "execution_count": 33,
     "metadata": {},
     "output_type": "execute_result"
    },
    {
     "data": {
      "image/png": "[encoded data removed]",
      "text/plain": [
       "<Figure size 432x288 with 1 Axes>"
      ]
     },
     "metadata": {
      "needs_background": "light"
     },
     "output_type": "display_data"
    }
   ],
   "source": [
    "df_null = df[null]\n",
    "df_null['type'].hist()"
   ]
  },
  {
   "cell_type": "markdown",
   "metadata": {},
   "source": [
    "Most of the null lyrics are from ``rap & hip hop`` but nothing alarming. We can assume to remove this instances, update the dataframe and repeat a similar process to find out repeted lyrics. "
   ]
  },
  {
   "cell_type": "code",
   "execution_count": 34,
   "metadata": {},
   "outputs": [],
   "source": [
    "df = df.dropna(subset=['lyrics', 'type'])"
   ]
  },
  {
   "cell_type": "code",
   "execution_count": 35,
   "metadata": {},
   "outputs": [
    {
     "name": "stdout",
     "output_type": "stream",
     "text": [
      "[False False False ... False False False]\n"
     ]
    }
   ],
   "source": [
    "print(df.duplicated().values)"
   ]
  },
  {
   "cell_type": "code",
   "execution_count": 36,
   "metadata": {},
   "outputs": [
    {
     "name": "stdout",
     "output_type": "stream",
     "text": [
      "There are exactly 14 repeated values in the lyrics variable which corresponds to the 0.359% of the data set\n"
     ]
    },
    {
     "data": {
      "text/plain": [
       "<AxesSubplot:>"
      ]
     },
     "execution_count": 36,
     "metadata": {},
     "output_type": "execute_result"
    },
    {
     "data": {
      "image/png": "[encoded data removed]",
      "text/plain": [
       "<Figure size 432x288 with 1 Axes>"
      ]
     },
     "metadata": {
      "needs_background": "light"
     },
     "output_type": "display_data"
    }
   ],
   "source": [
    "repeated = df[df.duplicated()]\n",
    "print(f'There are exactly {len(repeated)} repeated values in the lyrics variable which corresponds to the {len(repeated)/len(df)*100:.3f}% of the data set')\n",
    "repeated['type'].hist()"
   ]
  },
  {
   "cell_type": "markdown",
   "metadata": {},
   "source": [
    "Again, the ammount of repeated values are not very important but this time is focused on only two genres. However, we will remove it because it is not adding any information and let's repeat the describe() process to finally start to focus on the Machine Learning Apps."
   ]
  },
  {
   "cell_type": "code",
   "execution_count": 37,
   "metadata": {},
   "outputs": [
    {
     "data": {
      "text/html": [
       "<div>\n",
       "<style scoped>\n",
       "    .dataframe tbody tr th:only-of-type {\n",
       "        vertical-align: middle;\n",
       "    }\n",
       "\n",
       "    .dataframe tbody tr th {\n",
       "        vertical-align: top;\n",
       "    }\n",
       "\n",
       "    .dataframe thead th {\n",
       "        text-align: right;\n",
       "    }\n",
       "</style>\n",
       "<table border=\"1\" class=\"dataframe\">\n",
       "  <thead>\n",
       "    <tr style=\"text-align: right;\">\n",
       "      <th></th>\n",
       "      <th>song</th>\n",
       "      <th>artist</th>\n",
       "      <th>type</th>\n",
       "      <th>lyrics</th>\n",
       "    </tr>\n",
       "  </thead>\n",
       "  <tbody>\n",
       "    <tr>\n",
       "      <th>count</th>\n",
       "      <td>3761</td>\n",
       "      <td>3761</td>\n",
       "      <td>3761</td>\n",
       "      <td>3761</td>\n",
       "    </tr>\n",
       "    <tr>\n",
       "      <th>unique</th>\n",
       "      <td>3668</td>\n",
       "      <td>1476</td>\n",
       "      <td>4</td>\n",
       "      <td>3761</td>\n",
       "    </tr>\n",
       "    <tr>\n",
       "      <th>top</th>\n",
       "      <td>Angel</td>\n",
       "      <td>Beatles</td>\n",
       "      <td>rock</td>\n",
       "      <td>Stairway to Heaven Lyrics[Intro]\\r\\n\\r\\n[Verse...</td>\n",
       "    </tr>\n",
       "    <tr>\n",
       "      <th>freq</th>\n",
       "      <td>5</td>\n",
       "      <td>48</td>\n",
       "      <td>972</td>\n",
       "      <td>1</td>\n",
       "    </tr>\n",
       "  </tbody>\n",
       "</table>\n",
       "</div>"
      ],
      "text/plain": [
       "         song   artist  type  \\\n",
       "count    3761     3761  3761   \n",
       "unique   3668     1476     4   \n",
       "top     Angel  Beatles  rock   \n",
       "freq        5       48   972   \n",
       "\n",
       "                                                   lyrics  \n",
       "count                                                3761  \n",
       "unique                                               3761  \n",
       "top     Stairway to Heaven Lyrics[Intro]\\r\\n\\r\\n[Verse...  \n",
       "freq                                                    1  "
      ]
     },
     "execution_count": 37,
     "metadata": {},
     "output_type": "execute_result"
    }
   ],
   "source": [
    "df = df.drop_duplicates(subset=['lyrics'], keep='first').reset_index(drop=True)\n",
    "df.describe()"
   ]
  },
  {
   "cell_type": "markdown",
   "metadata": {},
   "source": [
    "Good news regarding the ``lyrics`` variable, is time to begin working with spacy and more NLP libaries we have seen during classes."
   ]
  },
  {
   "cell_type": "markdown",
   "metadata": {},
   "source": [
    "## **1. Text Preprocessing and vectorization**"
   ]
  },
  {
   "cell_type": "markdown",
   "metadata": {},
   "source": [
    "### **1.1 NLP Pipeline**"
   ]
  },
  {
   "cell_type": "markdown",
   "metadata": {},
   "source": [
    "Before the implementation of the Pipeline let's print some ``lyrics`` instances in order to visualize which kind of none useful set of characters has been introduced"
   ]
  },
  {
   "cell_type": "code",
   "execution_count": 38,
   "metadata": {},
   "outputs": [
    {
     "name": "stdout",
     "output_type": "stream",
     "text": [
      "SONG 1\n",
      "[\"Stairway to Heaven Lyrics[Intro]\\r\\n\\r\\n[Verse 1]\\r\\nThere's a lady who's sure all that glitters is gold\\r\\nAnd she's buying a stairway to Heaven\\r\\nWhen she gets there she knows, if the stores are all closed\\r\\nWith a word she can get what she came for\\r\\nOoh, ooh, and she's buying a stairway to Heaven\\r\\nThere's a sign on the wall, but she wants to be sure\\r\\n'Cause you know sometimes words have two meanings\\r\\nIn a tree by the brook, there's a songbird who sings\\r\\nSometimes all of our thoughts are misgiven\\r\\n\\r\\n[Chorus]\\r\\nOoh, it  makes me wonder\\r\\nOoh, makes me wonder\\r\\n[Verse 2]\\r\\nThere's a feeling I get when I look to the West\\r\\nAnd my spirit is crying for leaving\\r\\nIn my thoughts I have seen rings of smoke through the trees\\r\\nAnd the voices of those who stand looking\\r\\n\\r\\n[Chorus]\\r\\nOoh, it makes me wonder\\r\\nOoh, really makes me wonder\\r\\n\\r\\n[Verse 3]\\r\\nAnd it's whispered that soon if we all call the tune\\r\\nThen the piper will lead us to reason\\r\\nAnd a new day will dawn for those who stand long\\r\\nAnd the forests will echo with laughter\\r\\n\\r\\n[Chorus]\\r\\nOh-oh-oh-oh-woahhh\\r\\n\\r\\n[Verse 4]\\r\\nIf there's a bustle in your hedgerow, don't be alarmed now\\r\\nIt's just a spring clean for the May queen\\r\\nYes, there are two paths you can go by, but in the long run\\r\\nThere's still time to change the road you're on\\r\\n\\r\\n[Chorus]\\r\\nAnd it makes me wonder\\r\\nOhh, woah\\r\\n[Verse 5]\\r\\nYour head is humming, and it won't go, in case you don't know\\r\\nThe piper's calling you to join him\\r\\nDear lady, can you hear the wind blow? And did you know\\r\\nYour stairway lies on the whispering wind?\\r\\n[Guitar Solo]\\r\\n\\r\\n[Bridge]\\r\\nAnd as we wind on down the road\\r\\nOur shadows taller than our soul\\r\\nThere walks a lady we all know\\r\\nWho shines white light and wants to show\\r\\nHow everything still turns to gold\\r\\nAnd if you listen very hard\\r\\nThe tune will come to you at last\\r\\nWhen all are one, and one is all\\r\\nTo be a rock and not to roll\\r\\n\\r\\n[Outro]\\r\\nAnd she's buying a stairway to Heaven280Embed\"]\n",
      "\n",
      "SONG 2\n",
      "[\"Hey Jude Lyrics[Verse 1: Paul McCartney]\\r\\nHey Jude, don't make it bad\\r\\nTake a sad song and make it better\\r\\nRemember to let her into your heart\\r\\nThen you can start to make it better\\r\\n\\r\\n[Verse 2: Paul McCartney, John Lennon, George Harrison]\\r\\nHey Jude, don't be afraid\\r\\nYou were made to go out and get her\\r\\nThe minute you let her under your skin\\r\\nThen you begin to make it better\\r\\n\\r\\n[Chorus: Paul McCartney, John Lennon, George Harrison]\\r\\nAnd anytime you feel the pain, hey Jude, refrain\\r\\nDon't carry the world upon your shoulders\\r\\nFor well you know that it's a fool who plays it cool\\r\\nBy making his world a little colder\\r\\nNa na na na na na na na na na\\r\\n[Verse 3: Paul McCartney]\\r\\nHey Jude, don't let me down\\r\\nYou have found her, now go and get her\\r\\n(Let it out and let it in)\\r\\nRemember (Hey Jude) to let her into your heart\\r\\nThen you can start to make it better\\r\\n\\r\\n[Chorus: Paul McCartney, John Lennon, George Harrison]\\r\\nSo let it out and let it in, hey Jude, begin\\r\\nYou're waiting for someone to perform with\\r\\nAnd don't you know that it's just you, hey Jude, you'll do\\r\\nThe movement you need is on your shoulder\\r\\nNa na na na na na na na na yeah\\r\\n\\r\\n[Verse 4: Paul McCartney & John Lennon]\\r\\nHey Jude, don't make it bad\\r\\nTake a sad song and make it better\\r\\nRemember to let her under your skin\\r\\nThen you'll begin to make it (Woah, fucking hell!)\\r\\nBetter better better better better better, oh\\r\\n\\r\\n[Outro: Paul McCartney & Lennon/Harrison/Starr]\\r\\nYeah yeah yeah yeah yeah yeah yeah\\r\\nNaa na na na na na na, na na na na, hey Jude\\r\\nNaa na na na na na na, na na na na, hey Jude\\r\\nNaa na na na na na na, na na na na, hey Jude\\r\\nNaa na na na na na na, na na na na, hey Jude\\r\\n(Jude Judy Judy Judy Judy Judy ow wow)\\r\\nNaa na na na na na na (Na na na), na na na na, hey Jude\\r\\n(Jude Jude Jude Jude Jude)\\r\\nNaa na na na na na na (Yeah yeah yeah), na na na na, hey Jude\\r\\n(You know you can make, Jude Jude, You're not gonna break it)\\r\\nNaa na (Don't make it bad Jude) na na na na na (Take a sad song and make it better), na na na na, hey Jude\\r\\nHey Jude, hey Jude wow\\r\\nNaa na na na na na na, na na na na, hey Jude\\r\\nNaa na na na na na na, na na na na, hey Jude\\r\\nJude Jude Jude Jude Jude Jude\\r\\nNaa na na na na na na, na na na na, hey Jude\\r\\nNaa na na na na na na, na na na na, hey Jude\\r\\n(Na na na na na na na na na na na na)\\r\\nNaa na na na na na na, na na na na, hey Jude\\r\\nNaa na na na na na na, na na na na, hey Jude\\r\\nNaa na na na na na na (Make it Jude), na na na na, hey Jude\\r\\n(Yeah yeah yeah yeah yeah yeah yeah)\\r\\nNaa na na na na na na, na na na na, hey Jude\\r\\n(Go listen to ya ma ma ma ma ma ma ma ma)\\r\\nNaa na na na na na na, na na na na, hey Jude\\r\\nNaa na na na na na na, na na na na, hey Jude96Embed\"]\n",
      "\n"
     ]
    }
   ],
   "source": [
    "instances = [l for l in df['lyrics'].values[:2]]\n",
    "\n",
    "for si,s in enumerate(instances):\n",
    "    print(f'SONG {si + 1}')\n",
    "    print(str([s])+'\\n')"
   ]
  },
  {
   "cell_type": "markdown",
   "metadata": {},
   "source": [
    "From these two songs we can clearly see that there are a lot of characters which is not necessary at all. Firstly it seems that at the beguining of every song, the title of the song it is included, an iformation wich is stored in other variable and we do not need. Also at the end of the song a sequence of numbers and 'Embed' word is appearing. Furthermore, every information inside '[]' is not corresponding to the lyrics itself. Finally, '/n' wich corresponds to line skip must be removed.\n",
    "\n",
    "Regarding expresions like 'na', 'yeah', 'hey'... could be interpreted as some kind of stopword which maybe is not a word which express to much but especially in this second song for example it seems to be half of the song. So deppending on troubles we could face, we will change the decision of keeping this strings. However, contractions must be treated as a 'formal' word in orther to obtain the same meaning for every word. This can be counter benefit especially in ``rap & hip hop`` genre which most of the words uses contraction to fit with the rithm of the song. But at the end we are triying to find the meaning of the words in the song and each word must be represented in the same manner in every one.  "
   ]
  },
  {
   "cell_type": "markdown",
   "metadata": {},
   "source": [
    "Creating a function to address all this problems would be the best manner to properly display the lyrics:"
   ]
  },
  {
   "cell_type": "code",
   "execution_count": 39,
   "metadata": {},
   "outputs": [],
   "source": [
    "#Maximum length of any song's Title\n",
    "lengthTitle = df['song'].apply(lambda x: len(x.split(' '))).values\n",
    "maxLen = np.max(lengthTitle) + 5 #This 5 is just a margin just in case"
   ]
  },
  {
   "cell_type": "code",
   "execution_count": 40,
   "metadata": {},
   "outputs": [
    {
     "data": {
      "text/html": [
       "<div>\n",
       "<style scoped>\n",
       "    .dataframe tbody tr th:only-of-type {\n",
       "        vertical-align: middle;\n",
       "    }\n",
       "\n",
       "    .dataframe tbody tr th {\n",
       "        vertical-align: top;\n",
       "    }\n",
       "\n",
       "    .dataframe thead th {\n",
       "        text-align: right;\n",
       "    }\n",
       "</style>\n",
       "<table border=\"1\" class=\"dataframe\">\n",
       "  <thead>\n",
       "    <tr style=\"text-align: right;\">\n",
       "      <th></th>\n",
       "      <th>song</th>\n",
       "      <th>artist</th>\n",
       "      <th>type</th>\n",
       "      <th>lyrics</th>\n",
       "      <th>correctLyrics</th>\n",
       "    </tr>\n",
       "  </thead>\n",
       "  <tbody>\n",
       "    <tr>\n",
       "      <th>0</th>\n",
       "      <td>Stairway to Heaven</td>\n",
       "      <td>Led Zeppelin</td>\n",
       "      <td>rock</td>\n",
       "      <td>Stairway to Heaven Lyrics[Intro]\\r\\n\\r\\n[Verse...</td>\n",
       "      <td>There is a lady who is sure all that glitters...</td>\n",
       "    </tr>\n",
       "    <tr>\n",
       "      <th>1</th>\n",
       "      <td>Hey Jude</td>\n",
       "      <td>Beatles</td>\n",
       "      <td>rock</td>\n",
       "      <td>Hey Jude Lyrics[Verse 1: Paul McCartney]\\r\\nHe...</td>\n",
       "      <td>Hey Jude, do not make it bad Take a sad song ...</td>\n",
       "    </tr>\n",
       "    <tr>\n",
       "      <th>2</th>\n",
       "      <td>All Along the Watchtower</td>\n",
       "      <td>Hendrix, Jimi</td>\n",
       "      <td>rock</td>\n",
       "      <td>Ii. Tambourine Lyrics[Chorus, sung]\\r\\nHey, Pi...</td>\n",
       "      <td>Hey, Pip, play your tambourine Make the sailo...</td>\n",
       "    </tr>\n",
       "    <tr>\n",
       "      <th>3</th>\n",
       "      <td>Satisfaction</td>\n",
       "      <td>Rolling Stones</td>\n",
       "      <td>rock</td>\n",
       "      <td>Sin título I Lyrics[Letra de \"Sin título I\"]\\r...</td>\n",
       "      <td>Hay tres ninas jipis en la habitacion Una se ...</td>\n",
       "    </tr>\n",
       "    <tr>\n",
       "      <th>4</th>\n",
       "      <td>Like A Rolling Stone</td>\n",
       "      <td>Dylan, Bob</td>\n",
       "      <td>rock</td>\n",
       "      <td>Like a Rolling Stone Lyrics[Verse 1]\\r\\nOnce u...</td>\n",
       "      <td>Once upon a time you dressed so fine Threw th...</td>\n",
       "    </tr>\n",
       "    <tr>\n",
       "      <th>...</th>\n",
       "      <td>...</td>\n",
       "      <td>...</td>\n",
       "      <td>...</td>\n",
       "      <td>...</td>\n",
       "      <td>...</td>\n",
       "    </tr>\n",
       "    <tr>\n",
       "      <th>3756</th>\n",
       "      <td>Motown 25</td>\n",
       "      <td>Elzhi</td>\n",
       "      <td>rap &amp; hip hop</td>\n",
       "      <td>Motown 25 Lyrics[Verse 1: eLZhi]\\r\\nI end care...</td>\n",
       "      <td>I end careers, years, pierce ears fierce with...</td>\n",
       "    </tr>\n",
       "    <tr>\n",
       "      <th>3757</th>\n",
       "      <td>How Ya Like Me Now</td>\n",
       "      <td>Kool Moe Dee</td>\n",
       "      <td>rap &amp; hip hop</td>\n",
       "      <td>How Ya Like Me Now Lyrics\"All aboard for the n...</td>\n",
       "      <td>\"All aboard for the night train\" I throw my ta...</td>\n",
       "    </tr>\n",
       "    <tr>\n",
       "      <th>3758</th>\n",
       "      <td>Coastin’</td>\n",
       "      <td>Zion I feat. K.Flay</td>\n",
       "      <td>rap &amp; hip hop</td>\n",
       "      <td>Coastin’ LyricsWhen life brings trouble\\r\\nYou...</td>\n",
       "      <td>When life brings trouble You can fight or run ...</td>\n",
       "    </tr>\n",
       "    <tr>\n",
       "      <th>3759</th>\n",
       "      <td>Head Banger</td>\n",
       "      <td>EPMD</td>\n",
       "      <td>rap &amp; hip hop</td>\n",
       "      <td>Headbanger Lyrics[Redman]\\r\\nNegroes!!!!!!!!\\r...</td>\n",
       "      <td>Negroes!!!!!!!! The head banger, WHAT? The he...</td>\n",
       "    </tr>\n",
       "    <tr>\n",
       "      <th>3760</th>\n",
       "      <td>Sound Bwoy Burell</td>\n",
       "      <td>Smif-N-Wessun</td>\n",
       "      <td>rap &amp; hip hop</td>\n",
       "      <td>Sound Bwoy Bureill Lyrics[Intro: Sample from C...</td>\n",
       "      <td>We are the winning champion sound. You cannot...</td>\n",
       "    </tr>\n",
       "  </tbody>\n",
       "</table>\n",
       "<p>3761 rows × 5 columns</p>\n",
       "</div>"
      ],
      "text/plain": [
       "                          song               artist           type  \\\n",
       "0           Stairway to Heaven         Led Zeppelin           rock   \n",
       "1                     Hey Jude              Beatles           rock   \n",
       "2     All Along the Watchtower        Hendrix, Jimi           rock   \n",
       "3                 Satisfaction       Rolling Stones           rock   \n",
       "4         Like A Rolling Stone           Dylan, Bob           rock   \n",
       "...                        ...                  ...            ...   \n",
       "3756                 Motown 25                Elzhi  rap & hip hop   \n",
       "3757        How Ya Like Me Now         Kool Moe Dee  rap & hip hop   \n",
       "3758                  Coastin’  Zion I feat. K.Flay  rap & hip hop   \n",
       "3759               Head Banger                 EPMD  rap & hip hop   \n",
       "3760         Sound Bwoy Burell        Smif-N-Wessun  rap & hip hop   \n",
       "\n",
       "                                                 lyrics  \\\n",
       "0     Stairway to Heaven Lyrics[Intro]\\r\\n\\r\\n[Verse...   \n",
       "1     Hey Jude Lyrics[Verse 1: Paul McCartney]\\r\\nHe...   \n",
       "2     Ii. Tambourine Lyrics[Chorus, sung]\\r\\nHey, Pi...   \n",
       "3     Sin título I Lyrics[Letra de \"Sin título I\"]\\r...   \n",
       "4     Like a Rolling Stone Lyrics[Verse 1]\\r\\nOnce u...   \n",
       "...                                                 ...   \n",
       "3756  Motown 25 Lyrics[Verse 1: eLZhi]\\r\\nI end care...   \n",
       "3757  How Ya Like Me Now Lyrics\"All aboard for the n...   \n",
       "3758  Coastin’ LyricsWhen life brings trouble\\r\\nYou...   \n",
       "3759  Headbanger Lyrics[Redman]\\r\\nNegroes!!!!!!!!\\r...   \n",
       "3760  Sound Bwoy Bureill Lyrics[Intro: Sample from C...   \n",
       "\n",
       "                                          correctLyrics  \n",
       "0      There is a lady who is sure all that glitters...  \n",
       "1      Hey Jude, do not make it bad Take a sad song ...  \n",
       "2      Hey, Pip, play your tambourine Make the sailo...  \n",
       "3      Hay tres ninas jipis en la habitacion Una se ...  \n",
       "4      Once upon a time you dressed so fine Threw th...  \n",
       "...                                                 ...  \n",
       "3756   I end careers, years, pierce ears fierce with...  \n",
       "3757  \"All aboard for the night train\" I throw my ta...  \n",
       "3758  When life brings trouble You can fight or run ...  \n",
       "3759   Negroes!!!!!!!! The head banger, WHAT? The he...  \n",
       "3760   We are the winning champion sound. You cannot...  \n",
       "\n",
       "[3761 rows x 5 columns]"
      ]
     },
     "metadata": {},
     "output_type": "display_data"
    }
   ],
   "source": [
    "import re\n",
    "import contractions\n",
    "import unicodedata\n",
    "\n",
    "def correctLyrics(row, maxLen):\n",
    "    text = row['lyrics']\n",
    "    #1. Remove '\\n' and Unicode Escape Sequence ('\\u2005f)\n",
    "    text =  re.sub(r'\\n', ' ', text)\n",
    "    text = unicodedata.normalize('NFKD', text).encode('ascii', 'ignore').decode('utf-8')\n",
    "    #2. Remove '[]'\n",
    "    text = re.sub(r'\\[.*?\\]', ' ', text)\n",
    "    #3. Remove initial title + 'Lyrics' Keyword\n",
    "    titleWords = text.split(' ')[:maxLen] #Save time and avoid errors\n",
    "    restWords = text.split(' ')[maxLen:]\n",
    "    titleWords = re.sub(r'.*?Lyrics', '', ' '.join(titleWords))\n",
    "    text = titleWords + ' ' + ' '.join(restWords)\n",
    "    #4. Remove 'Embed' at the end word of the song\n",
    "    text = re.sub(r'\\d+Embed|Embed', '', text)\n",
    "    #5.Avoid more than 1 Espaces\n",
    "    text = re.sub(r'\\s+', ' ', text)\n",
    "    #6. Remove contractions\n",
    "    text = contractions.fix(text)\n",
    "    return text\n",
    "\n",
    "df['correctLyrics'] = df.apply(lambda x: correctLyrics(x,maxLen), axis=1)\n",
    "\n",
    "display(df)"
   ]
  },
  {
   "cell_type": "markdown",
   "metadata": {},
   "source": [
    "After all these modifications let's see if the previous songs lyrics has an uniform structure: "
   ]
  },
  {
   "cell_type": "code",
   "execution_count": 41,
   "metadata": {},
   "outputs": [
    {
     "name": "stdout",
     "output_type": "stream",
     "text": [
      "SONG 1\n",
      "[\" There is a lady who is sure all that glitters is gold And she is buying a stairway to Heaven When she gets there she knows, if the stores are all closed With a word she can get what she came for Ooh, ooh, and she is buying a stairway to Heaven There is a sign on the wall, but she wants to be sure Because you know sometimes words have two meanings In a tree by the brook, there is a songbird who sings Sometimes all of our thoughts are misgiven Ooh, it makes me wonder Ooh, makes me wonder There is a feeling I get when I look to the West And my spirit is crying for leaving In my thoughts I have seen rings of smoke through the trees And the voices of those who stand looking Ooh, it makes me wonder Ooh, really makes me wonder And it is whispered that soon if we all call the tune Then the piper will lead us to reason And a new day will dawn for those who stand long And the forests will echo with laughter Oh-oh-oh-oh-woahhh If there is a bustle in your hedgerow, do not be alarmed now It is just a spring clean for the May queen Yes, there are two paths you can go by, but in the long run There is still time to change the road you are on And it makes me wonder Ohh, woah Your head is humming, and it will not go, in case you do not know The piper's calling you to join him Dear lady, can you hear the wind blow? And did you know Your stairway lies on the whispering wind? And as we wind on down the road Our shadows taller than our soul There walks a lady we all know Who shines white light and wants to show How everything still turns to gold And if you listen very hard The tune will come to you at last When all are one, and one is all To be a rock and not to roll And she is buying a stairway to Heaven\"]\n",
      "\n",
      "SONG 2\n",
      "[' Hey Jude, do not make it bad Take a sad song and make it better Remember to let her into your heart Then you can start to make it better Hey Jude, do not be afraid You were made to go out and get her The minute you let her under your skin Then you begin to make it better And anytime you feel the pain, hey Jude, refrain Do not carry the world upon your shoulders For well you know that it is a fool who plays it cool By making his world a little colder Na na na na na na na na na na Hey Jude, do not let me down You have found her, now go and get her (Let it out and let it in) Remember (Hey Jude) to let her into your heart Then you can start to make it better So let it out and let it in, hey Jude, begin You are waiting for someone to perform with And do not you know that it is just you, hey Jude, you will do The movement you need is on your shoulder Na na na na na na na na na yeah Hey Jude, do not make it bad Take a sad song and make it better Remember to let her under your skin Then you will begin to make it (Woah, fucking hell!) Better better better better better better, oh Yeah yeah yeah yeah yeah yeah yeah Naa na na na na na na, na na na na, hey Jude Naa na na na na na na, na na na na, hey Jude Naa na na na na na na, na na na na, hey Jude Naa na na na na na na, na na na na, hey Jude (Jude Judy Judy Judy Judy Judy ow wow) Naa na na na na na na (Na na na), na na na na, hey Jude (Jude Jude Jude Jude Jude) Naa na na na na na na (Yeah yeah yeah), na na na na, hey Jude (You know you can make, Jude Jude, You are not going to break it) Naa na (Do not make it bad Jude) na na na na na (Take a sad song and make it better), na na na na, hey Jude Hey Jude, hey Jude wow Naa na na na na na na, na na na na, hey Jude Naa na na na na na na, na na na na, hey Jude Jude Jude Jude Jude Jude Jude Naa na na na na na na, na na na na, hey Jude Naa na na na na na na, na na na na, hey Jude (Na na na na na na na na na na na na) Naa na na na na na na, na na na na, hey Jude Naa na na na na na na, na na na na, hey Jude Naa na na na na na na (Make it Jude), na na na na, hey Jude (Yeah yeah yeah yeah yeah yeah yeah) Naa na na na na na na, na na na na, hey Jude (Go listen to ya ma ma ma ma ma ma ma ma) Naa na na na na na na, na na na na, hey Jude Naa na na na na na na, na na na na, hey Jude']\n",
      "\n"
     ]
    }
   ],
   "source": [
    "instances = [l for l in df['correctLyrics'].values[:2]]\n",
    "\n",
    "for si,s in enumerate(instances):\n",
    "    print(f'SONG {si + 1}')\n",
    "    print(str([s])+'\\n')"
   ]
  },
  {
   "cell_type": "markdown",
   "metadata": {},
   "source": [
    "Now, these lyrics seems to be readable, escape sequences and Unicode elements has been removed, both title at the begining of the word and Embed at the has been also adressed. Finally, contractions has been recover onto its original verb. So far, so good."
   ]
  },
  {
   "cell_type": "markdown",
   "metadata": {},
   "source": [
    "However, something we need to know previously working with songs lyrics is that our dataset is about the 1000 most heard songs for every genre but this does not implies that all our songs are in the same language! Therefore, it would be useful to determine which language predominates for each song and in the case of minoritary languages, remove that instance because otherwise it would be impossible to asign a topic for these kind of sentences. Therefore, it is the moment to visualize which language priorises in this dataset and which other languages could surprise us."
   ]
  },
  {
   "cell_type": "code",
   "execution_count": 42,
   "metadata": {},
   "outputs": [],
   "source": [
    "from spacy.language import Language\n",
    "from spacy_langdetect import LanguageDetector\n",
    "\n",
    "# Add LanguageDetector and assign it a string name\n",
    "@Language.factory(\"language_detector\")\n",
    "def create_language_detector(nlp, name):\n",
    "    return LanguageDetector(language_detection_function=None)\n",
    "\n",
    "mult_nlp = spacy.load('xx_sent_ud_sm')\n",
    "\n",
    "mult_nlp.add_pipe('language_detector', last=True)\n",
    "\n",
    "mult_doc = mult_nlp(df['correctLyrics'].values[0])\n",
    "def getLanguage(row):\n",
    "    mult_doc = mult_nlp(row['correctLyrics'])\n",
    "    return mult_doc._.language['language']\n",
    "\n",
    "df['language'] = df.apply(getLanguage, axis = 1)"
   ]
  },
  {
   "cell_type": "markdown",
   "metadata": {},
   "source": [
    "Surprisingly it only tooks one minute!. When we iniciate the process we were expecting 30 mins at list. This is not bad at all, now we can see which languages predominates in our dataset and this could be good information for a better interpretation of the number of topics we may need to select. Let's plot a histogram to visualize how this ``language`` variable is distributed."
   ]
  },
  {
   "cell_type": "code",
   "execution_count": 43,
   "metadata": {},
   "outputs": [
    {
     "data": {
      "text/plain": [
       "<AxesSubplot:>"
      ]
     },
     "execution_count": 43,
     "metadata": {},
     "output_type": "execute_result"
    },
    {
     "data": {
      "image/png": "[encoded data removed]",
      "text/plain": [
       "<Figure size 432x288 with 1 Axes>"
      ]
     },
     "metadata": {
      "needs_background": "light"
     },
     "output_type": "display_data"
    }
   ],
   "source": [
    "df['language'].hist()"
   ]
  },
  {
   "cell_type": "markdown",
   "metadata": {},
   "source": [
    "Wow! Almost every song is in english. So, obviously this will be the main language in the corpus. However, let's put the spotlight in those minoritary languages, it does not seem that they include sufficient enough docs to perform a correct. Thus, let's focus now in this languages songs:"
   ]
  },
  {
   "cell_type": "code",
   "execution_count": 44,
   "metadata": {},
   "outputs": [
    {
     "name": "stdout",
     "output_type": "stream",
     "text": [
      "Tne number of non-english songs is 32 which correspond to 0.851% of the dataset\n"
     ]
    },
    {
     "data": {
      "image/png": "[encoded data removed]",
      "text/plain": [
       "<Figure size 432x288 with 1 Axes>"
      ]
     },
     "metadata": {
      "needs_background": "light"
     },
     "output_type": "display_data"
    }
   ],
   "source": [
    "dfNoteng = df.loc[df['language'] != 'en']\n",
    "dfNoteng['language'].hist()\n",
    "print(f'Tne number of non-english songs is {dfNoteng.shape[0]} which correspond to {dfNoteng.shape[0]/df.shape[0]*100:.3f}% of the dataset')"
   ]
  },
  {
   "cell_type": "markdown",
   "metadata": {},
   "source": [
    "It is less than a 1% of the total songs and the most repeated language is 'tagalog' which is a philipine language and are 6 instances of this language. Therefore it is assumible the loss of these instances. Therefore, after this deletion it is our time to apply our spicy Pipeline after the creation of the corpus."
   ]
  },
  {
   "cell_type": "code",
   "execution_count": 45,
   "metadata": {},
   "outputs": [],
   "source": [
    "df = df.loc[df['language'] == 'en'].reset_index(drop=True)\n",
    "\n",
    "corpus = [elem for elem in df['correctLyrics']]\n",
    "\n",
    "with open('corpus.txt', 'w+') as c:\n",
    "    c.write(str(corpus))"
   ]
  },
  {
   "cell_type": "markdown",
   "metadata": {},
   "source": [
    "``corpus`` variable is composed by a long list including every song on it. We have done is in this way because we think Python lists for this kind of task would be faster than using Pandas Dataframes. From this we will create a Pipeline simiarily as we did in classes notebook and use further machine learning algorithm as final work statement requests."
   ]
  },
  {
   "cell_type": "markdown",
   "metadata": {},
   "source": [
    "Once the ``corpus`` has been created, it is very easy to apply a Pipeline:"
   ]
  },
  {
   "cell_type": "code",
   "execution_count": 46,
   "metadata": {},
   "outputs": [
    {
     "name": "stderr",
     "output_type": "stream",
     "text": [
      "100%|██████████| 3729/3729 [00:17<00:00, 214.57it/s]\n"
     ]
    }
   ],
   "source": [
    "from num2words import num2words\n",
    "from tqdm import tqdm\n",
    "from nltk.tokenize import wordpunct_tokenize\n",
    "from nltk.corpus import stopwords\n",
    "from nltk.stem import WordNetLemmatizer\n",
    "\n",
    "stopwords_en = stopwords.words('english')\n",
    "wnl = WordNetLemmatizer()\n",
    "\n",
    "#IMPORT CORPUS\n",
    "with open('corpus.txt', 'r') as c:\n",
    "    corpus = eval(c.read())\n",
    "##############\n",
    "\n",
    "valid_POS = set(['VERB', 'NOUN', 'ADJ', 'PROPN', 'NUM'])\n",
    "\n",
    "def convertNum2words(token):\n",
    "    try:\n",
    "        return num2words(token)\n",
    "    except:\n",
    "        return token\n",
    "\n",
    "def corpusPreprocessing(song):\n",
    "    #1. Tokenization\n",
    "    doc = wordpunct_tokenize(song)\n",
    "    #2. Filtering by Alphanumeric and Lower the Text\n",
    "    lowerToken = [token.lower() for token in doc if token.isalnum()]\n",
    "    tokenList = [convertNum2words(token) for token in lowerToken]\n",
    "    #3. Lemmatization of the data\n",
    "    lemmaList = [wnl.lemmatize(el) for el in tokenList]\n",
    "    #4. Cleanning StopWords\n",
    "    finalCorpus = [lemma for lemma in lemmaList if lemma not in stopwords_en]\n",
    "    return finalCorpus\n",
    "\n",
    "corpus = [corpusPreprocessing(s) for s in tqdm(corpus)]"
   ]
  },
  {
   "cell_type": "code",
   "execution_count": 19,
   "metadata": {},
   "outputs": [],
   "source": [
    "#SAVE CORPUS\n",
    "with open('corpus.txt', 'w+') as c:\n",
    "    c.write(str(corpus))\n",
    "##############"
   ]
  },
  {
   "cell_type": "markdown",
   "metadata": {},
   "source": [
    "It is surprisingly fast compared to the Pipeline provided by SpaCy. In only took 33 seconds which is 10 times less than the previous Pipeline we constructed but we decided to rewrite it because of the lack of performance and .lower() was not available. Anyway, we decided to store this new corpus inside a txt file such as a 'checkpoint' to save time as much as possible."
   ]
  },
  {
   "cell_type": "markdown",
   "metadata": {},
   "source": [
    "### **1.2 Text Vectorization**"
   ]
  },
  {
   "cell_type": "markdown",
   "metadata": {},
   "source": [
    "Now it is the moment of use N-Grams from ``gensim`` library in order to group in the same token those words that has a tendency of appear together:"
   ]
  },
  {
   "cell_type": "code",
   "execution_count": 7,
   "metadata": {},
   "outputs": [
    {
     "name": "stderr",
     "output_type": "stream",
     "text": [
      "100%|██████████| 3728/3728 [00:01<00:00, 1940.08it/s]\n"
     ]
    }
   ],
   "source": [
    "#IMPORT CORPUS\n",
    "with open('corpus.txt', 'r') as c:\n",
    "    corpus = eval(c.read())\n",
    "##############\n",
    "from tqdm import tqdm\n",
    "from gensim.models.phrases import Phrases\n",
    "\n",
    "phrase_model = Phrases(corpus, min_count=2, threshold=20)\n",
    "\n",
    "corpus = [el for el in tqdm(phrase_model[corpus])]"
   ]
  },
  {
   "cell_type": "markdown",
   "metadata": {},
   "source": [
    "Finally, in order to find a BoW and TF-IDF representation from our corpus, it is necessary to create previously a Gensim Dictionary where the songs will be stored. Once it is created, we can't include more instances, therefore this step is only made when the corpus has been finished."
   ]
  },
  {
   "cell_type": "code",
   "execution_count": 8,
   "metadata": {},
   "outputs": [
    {
     "name": "stdout",
     "output_type": "stream",
     "text": [
      "Our dictionary contains 78850 terms\n"
     ]
    }
   ],
   "source": [
    "from gensim.corpora import Dictionary\n",
    "\n",
    "# Create dictionary of tokens\n",
    "D = Dictionary(corpus)\n",
    "\n",
    "print('Our dictionary contains', len(D), 'terms')"
   ]
  },
  {
   "cell_type": "markdown",
   "metadata": {},
   "source": [
    "Wow! more than 70000 terms in our diccionary. Compared to what we saw from IMBD dataset, this ones contains more items. However, this is not definitive, probably there are several terms that appears barely compared to from what we see in the IMBD which maybe follows a similar structure since a review could be good, bad but nothing else. Let's filter our Diccionary and we will see which are the real tokens that we will need to analyse:"
   ]
  },
  {
   "cell_type": "code",
   "execution_count": 9,
   "metadata": {},
   "outputs": [
    {
     "name": "stdout",
     "output_type": "stream",
     "text": [
      "Our dictionary contains 24455 terms\n"
     ]
    }
   ],
   "source": [
    "D.filter_extremes(no_below=3,no_above=.80)\n",
    "\n",
    "print('Our dictionary contains', len(D), 'terms')"
   ]
  },
  {
   "cell_type": "markdown",
   "metadata": {},
   "source": [
    "Now it makes sense, it decreased drastically and now it seems to be a good bunch of woords to work with. Now it is the moment to introduce clasical representations which using Gensim is quite easy:"
   ]
  },
  {
   "cell_type": "code",
   "execution_count": 10,
   "metadata": {},
   "outputs": [
    {
     "name": "stdout",
     "output_type": "stream",
     "text": [
      "[(3, 16), (5, 1), (10, 2), (11, 1), (17, 1), (19, 1), (20, 12), (21, 1), (23, 1), (25, 3), (28, 3), (33, 1), (37, 1), (38, 12), (40, 4), (43, 1), (46, 6), (47, 1), (65, 2), (67, 1), (68, 9), (69, 2), (72, 2), (75, 1), (77, 1), (78, 3), (82, 5), (83, 1), (85, 1), (87, 4), (91, 4), (95, 1), (97, 1), (98, 1), (99, 1), (100, 1), (101, 1), (102, 3), (103, 2), (104, 1), (105, 1), (106, 1), (107, 5), (108, 1), (109, 1), (110, 1), (111, 2), (112, 2), (113, 2), (114, 2), (115, 13), (116, 4), (117, 1), (118, 1), (119, 1), (120, 1), (121, 1), (122, 1), (123, 1), (124, 6), (125, 1), (126, 2), (127, 3), (128, 2), (129, 1), (130, 6), (131, 1), (132, 1), (133, 1), (134, 1), (135, 1), (136, 1), (137, 1), (138, 1), (139, 1), (140, 1), (141, 1), (142, 2), (143, 4), (144, 2), (145, 1), (146, 1), (147, 1), (148, 1), (149, 1), (150, 1), (151, 1), (152, 2), (153, 1), (154, 1), (155, 1), (156, 1), (157, 1), (158, 1), (159, 3), (160, 2), (161, 1), (162, 1), (163, 1), (164, 1), (165, 2), (166, 1), (167, 1), (168, 1), (169, 1), (170, 2), (171, 1), (172, 1), (173, 1), (174, 3), (175, 1), (176, 1), (177, 1), (178, 2), (179, 1), (180, 1), (181, 1), (182, 1), (183, 1), (184, 1), (185, 1), (186, 1), (187, 1), (188, 1), (189, 2), (190, 1), (191, 1), (192, 2), (193, 4), (194, 1), (195, 1), (196, 1), (197, 1), (198, 1), (199, 1), (200, 2), (201, 1), (202, 1), (203, 1), (204, 1), (205, 2), (206, 1), (207, 3), (208, 2), (209, 1), (210, 1), (211, 1), (212, 1), (213, 1), (214, 2), (215, 17), (216, 1), (217, 1), (218, 1), (219, 1), (220, 2), (221, 1), (222, 1), (223, 2), (224, 3), (225, 1), (226, 2), (227, 1), (228, 1), (229, 1), (230, 1), (231, 1), (232, 3), (233, 1), (234, 1), (235, 3), (236, 1), (237, 1), (238, 1), (239, 1), (240, 1), (241, 1), (242, 1), (243, 1), (244, 1), (245, 1), (246, 1), (247, 2), (248, 1), (249, 1), (250, 1), (251, 1), (252, 1), (253, 1), (254, 1), (255, 1), (256, 2), (257, 6), (258, 1), (259, 3), (260, 3), (261, 1), (262, 1), (263, 1), (264, 1), (265, 1), (266, 1), (267, 1), (268, 2), (269, 1), (270, 1), (271, 4), (272, 2), (273, 1), (274, 1), (275, 1), (276, 2), (277, 1), (278, 1), (279, 1), (280, 1), (281, 1), (282, 1), (283, 1), (284, 1), (285, 4), (286, 1), (287, 1), (288, 1), (289, 2), (290, 1), (291, 2), (292, 1), (293, 1), (294, 2), (295, 9), (296, 4), (297, 1), (298, 1), (299, 2), (300, 2), (301, 1), (302, 2), (303, 1), (304, 1), (305, 1), (306, 1), (307, 18), (308, 2), (309, 1), (310, 1), (311, 1), (312, 7), (313, 1), (314, 1), (315, 1), (316, 1), (317, 2), (318, 1), (319, 1), (320, 2), (321, 2), (322, 1), (323, 1), (324, 1), (325, 1), (326, 4), (327, 1), (328, 1), (329, 1), (330, 2), (331, 1), (332, 1), (333, 1), (334, 3), (335, 1), (336, 3), (337, 1), (338, 2), (339, 3), (340, 3), (341, 1), (342, 2), (343, 1), (344, 2), (345, 1), (346, 4), (347, 1), (348, 1), (349, 1), (350, 1), (351, 1), (352, 6), (353, 2), (354, 1), (355, 1), (356, 1), (357, 2), (358, 1), (359, 1), (360, 1), (361, 1), (362, 1), (363, 1), (364, 1), (365, 2), (366, 1), (367, 1), (368, 1), (369, 1), (370, 1), (371, 1), (372, 1), (373, 1), (374, 1), (375, 1), (376, 1), (377, 1), (378, 7), (379, 1), (380, 1), (381, 1), (382, 6), (383, 1), (384, 2), (385, 1), (386, 1), (387, 2), (388, 1), (389, 1), (390, 1), (391, 1), (392, 1), (393, 1), (394, 1), (395, 1), (396, 1), (397, 1), (398, 1), (399, 2), (400, 1), (401, 1), (402, 1), (403, 1), (404, 1), (405, 1), (406, 1), (407, 6), (408, 1), (409, 1), (410, 1), (411, 3), (412, 1), (413, 2), (414, 2), (415, 3), (416, 3), (417, 3), (418, 1), (419, 1), (420, 1)]\n",
      "[(3, 0.1466146072465238), (5, 0.0103470320992698), (10, 0.008354136231946184), (11, 0.010978565554258475), (17, 0.010966561223582503), (19, 0.0031890954878980716), (20, 0.047830306551962284), (21, 0.01478797219601998), (23, 0.009039454309435955), (25, 0.04353882387067725), (28, 0.006944591341109919), (33, 0.017263183056756934), (37, 0.00757728272676814), (38, 0.08648609593680054), (40, 0.017120858493337623), (43, 0.009999134526543585), (46, 0.022095273574917806), (47, 0.010443313077221433), (65, 0.025842677027086734), (67, 0.01407077857774717), (68, 0.09946081521274033), (69, 0.03667919025881741), (72, 0.022994545595480198), (75, 0.01127564840347677), (77, 0.009023155740076269), (78, 0.010583952821480272), (82, 0.03862895768880813), (83, 0.00833261060055974), (85, 0.010619183952508573), (87, 0.015519139835123458), (91, 0.052187457432558905), (95, 0.014026426025803045), (97, 0.010608009353316966), (98, 0.03570918994709041), (99, 0.034267383307766935), (100, 0.032235270983554075), (101, 0.012628971938423696), (102, 0.04599095295639776), (103, 0.051913332891954836), (104, 0.03570918994709041), (105, 0.03570918994709041), (106, 0.01637757913190297), (107, 0.11068484309272095), (108, 0.023255320732268527), (109, 0.01912960076432838), (110, 0.023541787594333587), (111, 0.06629806238808521), (112, 0.06853476661553387), (113, 0.017631921954881873), (114, 0.041224640660253754), (115, 0.40901507053844605), (116, 0.018903127255740303), (117, 0.010871547844153765), (118, 0.01637757913190297), (119, 0.026729239695804867), (120, 0.023396507692929603), (121, 0.017842970782568482), (122, 0.013768250202220457), (123, 0.030203158659341204), (124, 0.1088100193570374), (125, 0.034267383307766935), (126, 0.07141837989418082), (127, 0.030086634802857556), (128, 0.02331966419276105), (129, 0.026458265290160172), (130, 0.07054291061404636), (131, 0.016036508399551147), (132, 0.01722124301568437), (133, 0.008847284864789131), (134, 0.011673619741007758), (135, 0.02077939598994627), (136, 0.018035756306584383), (137, 0.021040940843117598), (138, 0.02620119326696992), (139, 0.032235270983554075), (140, 0.013768250202220457), (141, 0.032235270983554075), (142, 0.03234032894250062), (143, 0.04836364763413193), (144, 0.053458479391609734), (145, 0.02528743305648139), (146, 0.019253355339897235), (147, 0.01823625526907728), (148, 0.01964408343478665), (149, 0.034267383307766935), (150, 0.02160892218970924), (151, 0.03570918994709041), (152, 0.03755135848237854), (153, 0.03146269773372662), (154, 0.02731954538069425), (155, 0.03146269773372662), (156, 0.024514859806653938), (157, 0.018392075249363156), (158, 0.022136968618544188), (159, 0.03367468652209963), (160, 0.03504494440518778), (161, 0.013175615070084322), (162, 0.01849871343535567), (163, 0.013895675854145365), (164, 0.02731954538069425), (165, 0.051001467145923234), (166, 0.01269624550771397), (167, 0.028761352020017734), (168, 0.017138401366590533), (169, 0.03079346434423059), (170, 0.03318789933452181), (171, 0.03146269773372662), (172, 0.033149031194042604), (173, 0.021223208408055656), (174, 0.03887065015060501), (175, 0.023845626417157914), (176, 0.02701570655786993), (177, 0.025500733572961617), (178, 0.05752270404003547), (179, 0.021316889746104822), (180, 0.021316889746104822), (181, 0.01912960076432838), (182, 0.01682008452023285), (183, 0.016593949667260906), (184, 0.020952234002410964), (185, 0.034267383307766935), (186, 0.023255320732268527), (187, 0.028761352020017734), (188, 0.01689778849008523), (189, 0.05839487226359658), (190, 0.022482747482441074), (191, 0.008594535227085549), (192, 0.01847857397122582), (193, 0.030455997663901436), (194, 0.016858785914561924), (195, 0.033149031194042604), (196, 0.0075833835256482515), (197, 0.009146706918568696), (198, 0.034267383307766935), (199, 0.02967511223050626), (200, 0.02732896480610839), (201, 0.012816191880900244), (202, 0.028761352020017734), (203, 0.014586465430253801), (204, 0.019444912630685294), (205, 0.024579759881954554), (206, 0.012798879927033442), (207, 0.03527145530702318), (208, 0.025913766767070006), (209, 0.02836019352456621), (210, 0.022026814609425276), (211, 0.018890898238774788), (212, 0.00646625246337621), (213, 0.025956666445977418), (214, 0.04282471119498705), (215, 0.19082322362523121), (216, 0.02272727430343358), (217, 0.0026410215837045733), (218, 0.023255320732268527), (219, 0.015387925248009823), (220, 0.030546729404394124), (221, 0.034267383307766935), (222, 0.03570918994709041), (223, 0.02029930102608566), (224, 0.04268753519025391), (225, 0.02701570655786993), (226, 0.02827610429407489), (227, 0.034267383307766935), (228, 0.00797031835875413), (229, 0.028761352020017734), (230, 0.012227813442972172), (231, 0.01964408343478665), (232, 0.02869162275197663), (233, 0.010325885208566135), (234, 0.018663049655007848), (235, 0.068562486710451), (236, 0.008090447281455481), (237, 0.02701570655786993), (238, 0.01877567924118927), (239, 0.033149031194042604), (240, 0.026458265290160172), (241, 0.022249598204725607), (242, 0.03146269773372662), (243, 0.03146269773372662), (244, 0.03570918994709041), (245, 0.03146269773372662), (246, 0.028761352020017734), (247, 0.0336401690404657), (248, 0.0276429999062934), (249, 0.03570918994709041), (250, 0.019576809865496377), (251, 0.02260351972786472), (252, 0.014183408163928591), (253, 0.025500733572961617), (254, 0.018445110724812783), (255, 0.013542732148912225), (256, 0.010676280515291828), (257, 0.015955627425553398), (258, 0.03146269773372662), (259, 0.08195863614208275), (260, 0.021318787240346766), (261, 0.02919743613179829), (262, 0.012274291108312277), (263, 0.020530825759568536), (264, 0.011497272797740099), (265, 0.003338635762584405), (266, 0.02298434632662383), (267, 0.03570918994709041), (268, 0.05839487226359658), (269, 0.008542521951308342), (270, 0.022249598204725607), (271, 0.019937229508241762), (272, 0.06853476661553387), (273, 0.012416367554406723), (274, 0.010109068868959514), (275, 0.01476233630554094), (276, 0.04496549496488215), (277, 0.018719048066199197), (278, 0.007224192693578868), (279, 0.033149031194042604), (280, 0.013938881342936086), (281, 0.014093102916044913), (282, 0.030203158659341204), (283, 0.021509675270120723), (284, 0.01535903868008125), (285, 0.03645384395183979), (286, 0.012105939822824579), (287, 0.026729239695804867), (288, 0.033149031194042604), (289, 0.019403392213095963), (290, 0.025500733572961617), (291, 0.06040631731868241), (292, 0.024886274561029865), (293, 0.013065056050204258), (294, 0.03825920152865676), (295, 0.042687628928645305), (296, 0.033789340210918915), (297, 0.03079346434423059), (298, 0.024338988931366802), (299, 0.03699742687071134), (300, 0.06158692868846118), (301, 0.01919109608384279), (302, 0.047083575188667175), (303, 0.01774928944451932), (304, 0.013443485229323707), (305, 0.023541787594333587), (306, 0.024169080942757055), (307, 0.5663285592070791), (308, 0.01949698403518261), (309, 0.018392075249363156), (310, 0.015189130691471507), (311, 0.03146269773372662), (312, 0.12143691664347454), (313, 0.02400474472310488), (314, 0.01793843663395718), (315, 0.013120030703724564), (316, 0.022482747482441074), (317, 0.0546390907613885), (318, 0.02967511223050626), (319, 0.007788992951100758), (320, 0.04226249218200255), (321, 0.04769125283431583), (322, 0.02798877877019028), (323, 0.030203158659341204), (324, 0.008513040656527209), (325, 0.015330317652132587), (326, 0.05490593965338346), (327, 0.023691404844049087), (328, 0.02836019352456621), (329, 0.024886274561029865), (330, 0.0552859998125868), (331, 0.03570918994709041), (332, 0.03570918994709041), (333, 0.023541787594333587), (334, 0.04633860814398527), (335, 0.004926492106809448), (336, 0.0994470935821278), (337, 0.03570918994709041), (338, 0.03637074711259976), (339, 0.05000459999420763), (340, 0.012011274612865521), (341, 0.01849871343535567), (342, 0.03282599680119984), (343, 0.02620119326696992), (344, 0.04090127031645641), (345, 0.015874299883459324), (346, 0.07969035491757305), (347, 0.032235270983554075), (348, 0.03146269773372662), (349, 0.011659832096380525), (350, 0.030203158659341204), (351, 0.014115527139857724), (352, 0.10434690602576471), (353, 0.025291411725376405), (354, 0.022482747482441074), (355, 0.012289879940977277), (356, 0.011124906043045776), (357, 0.023264740157682658), (358, 0.0181350032261729), (359, 0.025082841153245584), (360, 0.02528743305648139), (361, 0.022026814609425276), (362, 0.018890898238774788), (363, 0.02798877877019028), (364, 0.012448494623785486), (365, 0.018260112772214274), (366, 0.0276429999062934), (367, 0.019510427363087487), (368, 0.01752247220259389), (369, 0.02798877877019028), (370, 0.0276429999062934), (371, 0.032235270983554075), (372, 0.033149031194042604), (373, 0.023691404844049087), (374, 0.011632370078841329), (375, 0.03079346434423059), (376, 0.026458265290160172), (377, 0.004869336184021915), (378, 0.22564689688487855), (379, 0.030203158659341204), (380, 0.024886274561029865), (381, 0.023845626417157914), (382, 0.04146201759994509), (383, 0.010664133183501104), (384, 0.02952467261108188), (385, 0.026458265290160172), (386, 0.024338988931366802), (387, 0.02262810646496728), (388, 0.018719048066199197), (389, 0.03570918994709041), (390, 0.02620119326696992), (391, 0.03079346434423059), (392, 0.03570918994709041), (393, 0.034267383307766935), (394, 0.016102890901960036), (395, 0.02836019352456621), (396, 0.03570918994709041), (397, 0.030203158659341204), (398, 0.02731954538069425), (399, 0.008378916495054744), (400, 0.01478797219601998), (401, 0.011149717012831463), (402, 0.014997921454828606), (403, 0.018392075249363156), (404, 0.034267383307766935), (405, 0.004626670255264341), (406, 0.01900882851890473), (407, 0.18476078606538357), (408, 0.028761352020017734), (409, 0.012833563841659502), (410, 0.020142118961605553), (411, 0.05117072038809659), (412, 0.01011918351550286), (413, 0.03789903303414583), (414, 0.016060045809194404), (415, 0.01619096390085719), (416, 0.07524852345973675), (417, 0.013829335230853541), (418, 0.020067868630797247), (419, 0.033149031194042604), (420, 0.01456183734304804)]\n"
     ]
    }
   ],
   "source": [
    "from gensim.models import TfidfModel\n",
    "\n",
    "bow_songs = [D.doc2bow(doc) for doc in corpus] #bow gensim corpus\n",
    "tfidf = TfidfModel(bow_songs)\n",
    "tfidf_songs = tfidf[bow_songs]\n",
    "\n",
    "print(bow_songs[1])\n",
    "print(tfidf_songs[1])"
   ]
  },
  {
   "attachments": {},
   "cell_type": "markdown",
   "metadata": {},
   "source": [
    "Therefore, this is our first figures obteinment from the words appearing in the lyrics song. Nevertheless, this is not enough to predict properly which genre our song has. This representation just considers the frequency of appearing but not the relation among words. For example, in this song ```Hey Jude - The Beatles``, word 'na' which is some kind of musical onomatopoeia is repeated several times during the song, and its score is 0.88 in the TF-IDF representation which is really high despite it does not meaning anything the word by itself. But is not that bad, for example 'na' expresion could directly being related to rock song, we do not know how the classification model will behave. Furthermore, these kind of representations will be very useful for the developement of more complex models thus it is essential to save them in a variable for future usages.\n",
    "\n",
    "Without any more introduction, it is the moment to start developing further text-figure extraction models in order to obtain better insights from our data:\n",
    "\n",
    "As our objective is to make a classification by genre, we will develop 3 different approaches to see which of them works better:\n",
    "\n",
    "1) The first will be based on a Word2Vec, we will train our own word2vec with the lyrics of the songs of the data set and after that they will be combined with basic classical machine learning models.\n",
    "2) To compare how word2vec works with a bigger base of embeedings, we will try also a pre-trained model, using for the classification also machine learning models.\n",
    "3) The third way will be a FastText representation combined with a MLP Neural Network.\n",
    "\n",
    "So let's create first the representations:"
   ]
  },
  {
   "attachments": {},
   "cell_type": "markdown",
   "metadata": {},
   "source": [
    "#### **1.2.1 Word2Vec Representation**\n",
    "\n",
    "##### **1.2.1.1 Word2Vec Representation with our Data**\n"
   ]
  },
  {
   "attachments": {},
   "cell_type": "markdown",
   "metadata": {},
   "source": [
    "From the corpus file in which we have all the lyrics cleaned and converted in tokens, we create the word2vec. \n",
    "\n",
    "We implement a seed to work in so we can keep track of the results. And we will try with a vector size of 200 for the embeeding size."
   ]
  },
  {
   "cell_type": "code",
   "execution_count": 11,
   "metadata": {},
   "outputs": [],
   "source": [
    "#WORD2VEC \n",
    "\n",
    "from gensim.models import Word2Vec\n",
    "\n",
    "model_w2v = Word2Vec(corpus, vector_size=200, seed= 33)"
   ]
  },
  {
   "attachments": {},
   "cell_type": "markdown",
   "metadata": {},
   "source": [
    "Check the results of the word2vec:"
   ]
  },
  {
   "cell_type": "code",
   "execution_count": 12,
   "metadata": {},
   "outputs": [
    {
     "name": "stdout",
     "output_type": "stream",
     "text": [
      "['wa', 'like', 'got', 'love', 'know', 'get', 'one', 'want', 'baby', 'time', 'go', 'would', 'come', 'see', 'going', 'make', 'oh', 'man', 'yeah', 'back', 'way', 'never', 'say', 'nigga', 'take', 'right', 'let', 'cannot', 'life', 'day', 'girl', 'good', 'could', 'thing', 'two', 'said', 'give', 'need', 'tell', 'feel', 'well', 'think', 'night', 'little', 'u', 'still', 'shit', 'keep', 'look', 'eye']\n",
      "\n",
      "============= Embedding of the first word =============\n",
      "[-0.2185155  -0.59703547 -0.1673008   1.3918946   0.0194731   0.42862213\n",
      " -0.31984866 -0.1058403  -1.024134    0.47247657  0.24459033 -0.29935238\n",
      "  0.9068923  -0.19684592  0.77798575 -0.09268478 -0.50456965  0.04738479\n",
      "  0.3448884  -0.26916403 -0.9053576  -0.1647976   0.6709102   0.43985224\n",
      "  0.20596088  0.60994124  0.7823001  -1.641579    0.70490825 -0.94919676\n",
      "  0.57312876  1.0711305  -0.02910876  0.81155604  0.71420395  0.12652656\n",
      " -0.0403966  -0.33301726 -0.01994188  0.9120612  -1.2439989  -0.07868382\n",
      "  0.42430684 -0.39547378  0.2849014   0.56307423  0.15671664  0.2192951\n",
      " -0.9231625   1.2004569  -0.5211927  -0.75596255 -0.4832545  -0.61800885\n",
      "  0.64928085 -0.14465013 -0.33607987 -0.7906272   0.39738157  1.2044019\n",
      " -0.21168467  0.09931128  0.14125325 -0.06201797 -0.85645944  0.00603756\n",
      "  0.33397853 -0.5928503   0.63611794  1.0963082   1.3902627   0.9362429\n",
      "  1.4127883  -1.5786916   0.05617537  0.69529444  1.0945264   1.2079068\n",
      " -1.0866176  -0.7895606   0.21904814 -0.27123275 -1.2136499   0.34900683\n",
      " -0.18766801 -0.9271185  -1.2503624   0.5823695   1.1659044   0.67055553\n",
      " -0.2872085   0.4493328  -0.05389856 -0.4224866  -0.52167964 -0.45696574\n",
      " -0.95005584 -1.1247686   0.27622998  0.37495244  0.44126818 -0.7767065\n",
      "  0.80140513 -0.4185533  -0.15995774  0.6390239   1.2868519   0.33796132\n",
      "  1.1119885  -0.4893386  -0.11508479 -0.5293949   0.09158488  0.26254267\n",
      " -0.16728729  0.2530546   0.60437495 -0.17812105  0.5441477   0.5099622\n",
      "  0.31663206  0.44778287 -0.63152117  0.05595988 -0.6602241   0.4065722\n",
      " -0.5704853   0.23833457  0.91657156 -0.07860249 -0.21490586 -0.17309399\n",
      "  0.18815652  0.6959853   0.90090346 -0.34768358 -0.36143687  0.8817401\n",
      "  1.0088089  -0.13620976  0.25590858 -0.8671269   0.2283885  -0.34123543\n",
      "  0.27642423  0.52488416 -0.14707437  0.124605   -0.01414478 -1.1984596\n",
      " -0.6949284  -1.0736251   0.53924215 -0.39877465  0.2951357  -0.30136016\n",
      "  0.8280742   0.04416628  0.15783346  0.2579006   0.27568442  0.2238353\n",
      " -0.11431847 -0.05340539 -0.7589753  -0.03513867  0.65381885  0.14027147\n",
      " -0.30757996 -0.33656985 -0.30532366 -0.09943266 -0.5065385   1.7208203\n",
      " -0.14916918  0.03807858 -0.17364478  0.3478651   0.45979825  0.35593915\n",
      "  0.98223203  0.75006026 -0.4109852   0.702287   -0.15416172  0.33226776\n",
      " -1.213286    0.08448542 -0.67602533  0.8905108  -0.10856998  0.21078919\n",
      " -0.99602103  0.19851415  0.50768334 -1.5791967   1.141446    0.18630312\n",
      " -0.06346597 -0.16720183]\n",
      "(200,)\n"
     ]
    }
   ],
   "source": [
    "words = list(model_w2v.wv.key_to_index)\n",
    "print(words[0:50]) #first 50 words\n",
    "print('\\n============= Embedding of the first word =============')\n",
    "print(model_w2v.wv[words[0]])\n",
    "print(model_w2v.wv[words[0]].shape)"
   ]
  },
  {
   "attachments": {},
   "cell_type": "markdown",
   "metadata": {},
   "source": [
    "Save the w2v model in a KeyedVectors, that will result in a smaller and faster object thanks to the mapping between keys and vectors:"
   ]
  },
  {
   "cell_type": "code",
   "execution_count": 13,
   "metadata": {},
   "outputs": [
    {
     "name": "stdout",
     "output_type": "stream",
     "text": [
      "22168\n"
     ]
    },
    {
     "data": {
      "text/plain": [
       "0"
      ]
     },
     "execution_count": 13,
     "metadata": {},
     "output_type": "execute_result"
    }
   ],
   "source": [
    "from gensim.models import KeyedVectors\n",
    "\n",
    "# Store just the words + their trained embeddings.\n",
    "word_vectors = model_w2v.wv\n",
    "word_vectors.save(\"model_w2v_imbd_sampling03.wordvectors\")\n",
    "\n",
    "# Load back with memory-mapping = read-only, shared across processes.\n",
    "wv = KeyedVectors.load(\"model_w2v_imbd_sampling03.wordvectors\", mmap='r')\n",
    "print(len(wv))\n",
    "import gc\n",
    "del model_w2v\n",
    "gc.collect()"
   ]
  },
  {
   "attachments": {},
   "cell_type": "markdown",
   "metadata": {},
   "source": [
    "Let's visualize the embeedings that will help to know the performance of the model.\n",
    "\n",
    "We know we can do this thanks to the t-SNE implemented in Sklearn, that reduces high dimensional data to 2 or 3 dimensions keeping as much information as possible.\n",
    "\n",
    "So let's have a look into out space of embeedings to have a first impression on how the word2vec has separated the words:"
   ]
  },
  {
   "cell_type": "code",
   "execution_count": 15,
   "metadata": {},
   "outputs": [
    {
     "name": "stderr",
     "output_type": "stream",
     "text": [
      "c:\\Users\\34649\\anaconda3\\envs\\ML\\lib\\site-packages\\sklearn\\manifold\\_t_sne.py:790: FutureWarning: The default learning rate in TSNE will change from 200.0 to 'auto' in 1.2.\n",
      "  warnings.warn(\n"
     ]
    },
    {
     "data": {
      "image/png": "[encoded data removed]",
      "text/plain": [
       "<Figure size 1152x1152 with 1 Axes>"
      ]
     },
     "metadata": {
      "needs_background": "light"
     },
     "output_type": "display_data"
    }
   ],
   "source": [
    "from sklearn.manifold import TSNE\n",
    "import matplotlib.pyplot as plt\n",
    "\n",
    "tsne = TSNE(init='random')\n",
    "embed_tsne = tsne.fit_transform(wv.vectors)\n",
    "\n",
    "# We plot only 500 embeddings\n",
    "fig, ax = plt.subplots(figsize=(16, 16))\n",
    "for idx, word in enumerate((list(wv.key_to_index.keys())[:500])):\n",
    "    plt.scatter(*embed_tsne[idx, :], color='steelblue')\n",
    "    plt.annotate(word, (embed_tsne[idx, 0], embed_tsne[idx, 1]), alpha=0.7)\n",
    "      \n",
    "plt.grid()"
   ]
  },
  {
   "cell_type": "code",
   "execution_count": 16,
   "metadata": {},
   "outputs": [
    {
     "data": {
      "text/plain": [
       "50"
      ]
     },
     "execution_count": 16,
     "metadata": {},
     "output_type": "execute_result"
    }
   ],
   "source": [
    "del embed_tsne #clean memory\n",
    "gc.collect()"
   ]
  },
  {
   "attachments": {},
   "cell_type": "markdown",
   "metadata": {},
   "source": [
    "So, what is left is to create a function that can link the keyed Vectors to the list of tokens representing the songs lyrics, and results in the embeeding vector of the lyrics of each song made by the vectors of the words that conform that song."
   ]
  },
  {
   "cell_type": "code",
   "execution_count": 18,
   "metadata": {},
   "outputs": [],
   "source": [
    "import numpy as np\n",
    "def get_lyrics_vector(model, lyrics):\n",
    "  vectors = []\n",
    "  for token in lyrics:\n",
    "      if token in model:\n",
    "          vectors.append(model[token])\n",
    "  if len(vectors) == 0:\n",
    "      # If all tokens are OOV, return a vector of zeros\n",
    "      return np.zeros(model.vector_size)\n",
    "  else:\n",
    "      return np.mean(vectors, axis=0)\n",
    "\n",
    "lyrics_embeddings = []\n",
    "for i in corpus:\n",
    "    lyrics_embeddings.append(get_lyrics_vector(wv, i))\n"
   ]
  },
  {
   "cell_type": "code",
   "execution_count": 19,
   "metadata": {},
   "outputs": [
    {
     "name": "stdout",
     "output_type": "stream",
     "text": [
      "[-0.22626698 -0.10515298  0.17982769  0.01267708  0.57654566  0.37935564\n",
      " -0.2946732  -0.05217947 -0.23496936  0.56646353 -0.24949887  0.3890483\n",
      "  0.19436882  0.22456415  0.2581665  -0.1020489   0.00350926 -0.10259414\n",
      " -0.27614188  0.09138753 -0.28482267  0.16634971 -0.03383821  0.12811321\n",
      "  0.20887077 -0.1687042   0.3763421  -0.4480361   0.36432213  0.31543118\n",
      "  0.09044969 -0.23340476  0.3064331   0.03269111 -0.22465318 -0.2940639\n",
      "  0.07062812  0.35376635 -0.22662483  0.07076558 -0.21371971 -0.31276378\n",
      " -0.14641072 -0.09473073 -0.26123992 -0.00682668 -0.14826801 -0.0159875\n",
      "  0.10069581  0.30675453 -0.25822875 -0.10354305 -0.39217216 -0.23917346\n",
      "  0.13275433 -0.07179965  0.04137854 -0.04615581 -0.47480565  0.28798375\n",
      "  0.16475034  0.05599283  0.22521247 -0.32661915  0.16881679 -0.16532424\n",
      " -0.13596965  0.30864337  0.5508806   0.70943123 -0.12224002  0.30818522\n",
      "  0.28442666 -0.82994825  0.13456789 -0.0185425   0.5133985   0.20753793\n",
      " -0.2968156  -0.50866073  0.46249974  0.17824984  0.13453665  0.2011632\n",
      " -0.13061981 -0.55424845  0.24423955  0.05780566  0.08014675  0.40962702\n",
      "  0.24700919 -0.2636042   0.0355082  -0.5654299  -0.33938783 -0.17223857\n",
      " -0.3361362  -0.19296604 -0.17252651 -0.28019777 -0.21827137 -0.1794728\n",
      "  0.13605121 -0.04403698  0.0030959   0.02021294  0.1900322  -0.37566662\n",
      "  0.33850658  0.5010496  -0.09071954 -0.3957716  -0.08413451  0.03267804\n",
      "  0.2769359  -0.1233848   0.3319311  -0.12577574  0.33548456  0.02742687\n",
      "  0.32806492 -0.21852049  0.19885509  0.00150438  0.16606535 -0.09105787\n",
      " -0.28160718  0.6469102   0.00676426 -0.31206855 -0.12053529 -0.14666176\n",
      "  0.41090906 -0.12379532  0.01637215 -0.08414112  0.3630848  -0.0620379\n",
      " -0.01719418 -0.35634986  0.09874013 -0.12981908  0.14870885  0.512025\n",
      "  0.18126005  0.18128237 -0.2921092  -0.5301043   0.15024821 -0.127221\n",
      "  0.34323353 -0.32115296  0.08985943  0.00918098  0.66138726 -0.69706905\n",
      " -0.06589062  0.5608616   0.31411734  0.04999523  0.08930437  0.32939333\n",
      "  0.12164371 -0.45926467 -0.16909994 -0.04437857  0.4668462   0.24321257\n",
      "  0.39788374 -0.13604926  0.11408377  0.27409828  0.49966073  0.12304302\n",
      " -0.19176728  0.38419455  0.0032674  -0.28855434  0.41758505 -0.42609087\n",
      " -0.11897414  0.4485195   0.09970177  0.00294989  0.17623271  0.09924022\n",
      " -0.4143004   0.0883799  -0.33459902  0.12111032 -0.18895277 -0.29456946\n",
      " -0.08803523  0.32343945 -0.05753169 -0.83738035 -0.0404791  -0.03576741\n",
      " -0.27345562  0.230007  ]\n",
      "200\n",
      "3728\n"
     ]
    }
   ],
   "source": [
    "print(lyrics_embeddings[0])\n",
    "print(len(lyrics_embeddings[0])) #we can see each of them has 300 dimensions\n",
    "print(len(lyrics_embeddings)) #equals the number of songs"
   ]
  },
  {
   "attachments": {},
   "cell_type": "markdown",
   "metadata": {},
   "source": [
    "##### CLASSIFICATION\n",
    "\n",
    "Now that we have the embeedings of the lyrics, created and based in a word2vec modeled with the own songs, we have a representation of the lyrics in numbers, so we will work with some machine learning classifiers and see how wll they can classify by genre in <b>section 2<b>"
   ]
  },
  {
   "attachments": {},
   "cell_type": "markdown",
   "metadata": {},
   "source": [
    "##### **1.2.1.2 Word2Vec with Pre-Trained Model**\n",
    "\n",
    "From the gensim documentation we decided to use the pre-trained model: \"word2vec-google-news-300\", that has 300 dimensions, which should be fine and enough for our objective.\n"
   ]
  },
  {
   "cell_type": "code",
   "execution_count": 20,
   "metadata": {},
   "outputs": [],
   "source": [
    "import gensim.downloader as api\n",
    "\n",
    "pre_w2v = api.load(\"word2vec-google-news-300\")"
   ]
  },
  {
   "cell_type": "code",
   "execution_count": 21,
   "metadata": {},
   "outputs": [
    {
     "name": "stdout",
     "output_type": "stream",
     "text": [
      "<class 'gensim.models.keyedvectors.KeyedVectors'>\n"
     ]
    }
   ],
   "source": [
    "print(type(pre_w2v))\n"
   ]
  },
  {
   "attachments": {},
   "cell_type": "markdown",
   "metadata": {},
   "source": [
    "We can see that now we have directly a keyedvectors object, with the mapping between keys and vectors.\n",
    "\n",
    "So we can directly pass to link the tokens we have in each of our songs's lyrics with the corresponding vector of our new keyed vectors object:"
   ]
  },
  {
   "cell_type": "code",
   "execution_count": 22,
   "metadata": {},
   "outputs": [],
   "source": [
    "def get_lyrics_vector(model, lyrics):\n",
    "  vectors = []\n",
    "  for token in lyrics:\n",
    "      if token in model:\n",
    "          vectors.append(model[token])\n",
    "  if len(vectors) == 0:\n",
    "      # If all tokens are OOV, return a vector of zeros\n",
    "      return np.zeros(model.vector_size)\n",
    "  else:\n",
    "      return np.mean(vectors, axis=0)\n",
    "\n",
    "lyrics_embeddings_pre = []\n",
    "for i in corpus:\n",
    "    lyrics_embeddings_pre.append(get_lyrics_vector(pre_w2v, i))"
   ]
  },
  {
   "cell_type": "code",
   "execution_count": 23,
   "metadata": {},
   "outputs": [
    {
     "name": "stdout",
     "output_type": "stream",
     "text": [
      "[ 0.03764191  0.01680911  0.02917939  0.07250047 -0.06872599 -0.0527283\n",
      "  0.04931778 -0.07780812  0.10342871  0.1155538  -0.06705698 -0.10832203\n",
      " -0.06433553  0.02791469 -0.08942156  0.07580641  0.06468143  0.09460323\n",
      "  0.02160174 -0.08267625 -0.01490749  0.08382135  0.07986633 -0.04091013\n",
      "  0.06311885 -0.0069638  -0.06185263 -0.01732039  0.05336882 -0.04841734\n",
      " -0.07339673  0.04897331 -0.05919791 -0.01851171 -0.02823274 -0.08294087\n",
      "  0.0716463  -0.02210689  0.04641913  0.09102935  0.06469021 -0.0963939\n",
      "  0.13705072 -0.07202254 -0.03410276 -0.03430087 -0.0905313   0.00619811\n",
      " -0.00997948  0.06349027 -0.07168807  0.08087606  0.00952997 -0.00062997\n",
      "  0.04841442  0.00883186 -0.04402878 -0.09251373  0.05344151 -0.04804488\n",
      " -0.01371192  0.03545097 -0.05698254 -0.03032231  0.00857108 -0.05201145\n",
      " -0.05650203  0.07186534 -0.10086951  0.06021252  0.04317943  0.03024957\n",
      "  0.07271444 -0.00274859 -0.15255405 -0.06716308  0.06744245  0.05934751\n",
      "  0.04092354  0.10571897  0.01696628 -0.03543182  0.0448999  -0.05057322\n",
      " -0.08555546  0.02045601 -0.08570747  0.07470967  0.03926167  0.0219058\n",
      "  0.00372376  0.07140626 -0.10218731 -0.06011596 -0.08082686 -0.06849498\n",
      "  0.07941775  0.02843447 -0.0103976  -0.0848586  -0.10105678 -0.04234842\n",
      "  0.06653038  0.04073707 -0.03205596 -0.02654989  0.0447877  -0.00433694\n",
      "  0.01261274 -0.05754675 -0.07267975  0.01262579  0.00339216  0.00196339\n",
      "  0.08990972 -0.04833611  0.03024521 -0.02585458  0.0036994   0.03018677\n",
      " -0.04692066  0.02780134 -0.0941494   0.08282266  0.00827723 -0.01719955\n",
      " -0.08199339 -0.02942101  0.05396067  0.01531638 -0.08256726 -0.10371123\n",
      " -0.00507779  0.02267135  0.04077593 -0.02215509 -0.00279299  0.05619745\n",
      "  0.05500891  0.07962151  0.06047012 -0.07041283 -0.01757096 -0.00751937\n",
      "  0.03806023  0.07558148 -0.02980105 -0.0992228  -0.03225857 -0.08695915\n",
      "  0.06357064  0.02527788 -0.0583293   0.04847247 -0.03805588 -0.02109183\n",
      " -0.03385076 -0.04579504 -0.0642745  -0.01630166 -0.02625332  0.05018696\n",
      "  0.05590384 -0.01627401  0.03035042 -0.1345559   0.0570066  -0.08152772\n",
      " -0.00494201 -0.014751   -0.11390755  0.03760061 -0.01480068 -0.07689994\n",
      " -0.06225912 -0.03408813  0.07986288 -0.07375828  0.01932417  0.01393113\n",
      " -0.06886253 -0.05369166  0.08278733  0.00999322 -0.052072   -0.01872942\n",
      " -0.03435258 -0.01304718  0.0391723   0.03698036  0.09551612 -0.02201227\n",
      "  0.0633639   0.00203014 -0.00515105  0.07684619 -0.02976548 -0.00902001\n",
      " -0.07083197 -0.0248973   0.00525224  0.02642702 -0.10088813 -0.04629872\n",
      "  0.02362425 -0.04204932 -0.02898413  0.01949052  0.01778463 -0.01182619\n",
      " -0.04019532  0.06164907 -0.05412591 -0.05540799 -0.12499484  0.02042423\n",
      "  0.05273438 -0.00131435 -0.09590574 -0.02246759  0.00897469  0.02565553\n",
      " -0.006978    0.01147259  0.0675662  -0.03706069  0.04066528  0.02246805\n",
      "  0.01004579 -0.00137903  0.02274649 -0.05727636 -0.05369384  0.03918738\n",
      "  0.0706579   0.03371602 -0.04788414 -0.08883116  0.09149709 -0.00287301\n",
      "  0.05156484 -0.0030018  -0.0464855  -0.07719056 -0.02804806  0.00067225\n",
      "  0.03584163  0.05389186  0.01167673 -0.02793035 -0.01513396  0.05231424\n",
      "  0.10111781  0.08351967  0.03083664 -0.07361539 -0.01652177  0.0312685\n",
      " -0.07723861 -0.0666567  -0.04638764 -0.0198662  -0.077695    0.05468819\n",
      "  0.04964172  0.07744879 -0.02330384 -0.00699828 -0.09326544 -0.00674461\n",
      "  0.023173    0.11085143  0.12980571  0.0366897   0.07441752 -0.06572264\n",
      " -0.07927446 -0.11507766 -0.03830403  0.01844108  0.02209527 -0.065697\n",
      "  0.04679744  0.03836834  0.0312921  -0.03782077 -0.06479628  0.00749023\n",
      "  0.02126608  0.09640801 -0.0427845   0.04245018 -0.09936007 -0.0326541\n",
      " -0.04220868 -0.05267857  0.02143802 -0.08759329  0.06588516 -0.01117537]\n",
      "300\n",
      "3728\n"
     ]
    }
   ],
   "source": [
    "print(lyrics_embeddings_pre[0])\n",
    "print(len(lyrics_embeddings_pre[0])) #we can see each of them has 300 dimensions\n",
    "print(len(lyrics_embeddings_pre)) #equals the number of songs"
   ]
  },
  {
   "attachments": {},
   "cell_type": "markdown",
   "metadata": {},
   "source": [
    "So we are ready again to pass to the classification task, and see the difference between the word2vec created by ourselves with the data we have, and a much bigger pre-trained model linked afterwards with our lyrics."
   ]
  },
  {
   "cell_type": "markdown",
   "metadata": {},
   "source": [
    "#### **1.2.2 FastText Representation**"
   ]
  },
  {
   "cell_type": "code",
   "execution_count": 24,
   "metadata": {},
   "outputs": [],
   "source": [
    "#TODO\n",
    "#FASTTEXT"
   ]
  },
  {
   "cell_type": "markdown",
   "metadata": {},
   "source": [
    "### **1.3 Topic Modeling**"
   ]
  },
  {
   "cell_type": "code",
   "execution_count": 25,
   "metadata": {},
   "outputs": [],
   "source": [
    "#TODO\n",
    "\n",
    "#TOPIC SELECTION\n",
    "#SEMANTIC SIMILARITY-LDA"
   ]
  },
  {
   "cell_type": "markdown",
   "metadata": {},
   "source": [
    "## **2.Machine Learning Model**"
   ]
  },
  {
   "cell_type": "markdown",
   "metadata": {},
   "source": [
    "### **2.1 Classification Task**"
   ]
  },
  {
   "attachments": {},
   "cell_type": "markdown",
   "metadata": {},
   "source": [
    "#### **2.1.1 Machine Learning Approach**"
   ]
  },
  {
   "attachments": {},
   "cell_type": "markdown",
   "metadata": {},
   "source": [
    "The main objective of this project, is to work with NLP and undertand the differences between different ways to represent our written words in numbers to later use them for classify, regression or recommender systems for example. \n",
    "\n",
    "This is the reason we have processed two different ways of word2vec and a fasttext, to study the differences. But the simpler way to prove it, in our case, is using them to predict by genre, that is classification.\n",
    "\n",
    "As a first step, as the accuracies are not the most important part of the work, but still we want to get something that makes sense, we will just prove that our models can obtain models of machine learning that learn from the data to predict the genre, and it is not random.\n",
    "\n",
    "In this way, as we have 4 genres, and the data is in general balanced, if the classifier works 'randomly' we could expect an accuracy of 0.25.\n",
    "So, before applying classification to the 4 genres at the same time, we will check with dummies, that if we want to differentiate 1 genre of the other 3, that is a binary problem, we obtain more than 0.25 so we can discard a random behaviour, and we can justify that eventhough maybe the accuracies are not great, the model learns.\n",
    "\n",
    "So let's do it with our own created lyrics embeeding with word2vec:"
   ]
  },
  {
   "cell_type": "markdown",
   "metadata": {},
   "source": [
    "First we have to split the data and create an embeedings matrix:"
   ]
  },
  {
   "cell_type": "code",
   "execution_count": 47,
   "metadata": {},
   "outputs": [],
   "source": [
    "from sklearn.dummy import DummyClassifier\n",
    "from sklearn.model_selection import train_test_split, GridSearchCV\n",
    "import random\n",
    "random.seed(33)\n",
    "\n",
    "#1) SPlit the data\n",
    "X_train, X_test, y_train, y_test = train_test_split(df['correctLyrics'], df['type'], test_size=0.3, random_state=33)\n",
    "\n",
    "#2)Embeedings matrix\n",
    "size_embeding = len(lyrics_embeddings[0])\n",
    "X_train_emb = np.zeros((len(X_train), size_embeding))\n",
    "for i, review in enumerate(X_train):\n",
    "    X_train_emb[i] = get_lyrics_vector(wv, review)\n"
   ]
  },
  {
   "cell_type": "code",
   "execution_count": 48,
   "metadata": {},
   "outputs": [
    {
     "name": "stdout",
     "output_type": "stream",
     "text": [
      "SVM accuracy on the train set: 0.2613\n",
      "SVM accuracy on the test set: 0.2395\n"
     ]
    }
   ],
   "source": [
    "random.seed(33)\n",
    "dummy = DummyClassifier(strategy=\"most_frequent\") #we will try with the genre that appears most frequently\n",
    "dummy.fit(X_train_emb, y_train)\n",
    "\n",
    "# Evaluate the performance of the classifier on the test set\n",
    "X_test_emb = np.zeros((len(X_test), size_embeding))\n",
    "for i, review in enumerate(X_test):\n",
    "    X_test_emb[i] = get_lyrics_vector(wv, review)\n",
    "\n",
    "dummy_accuracy = dummy.score(X_test_emb, y_test)\n",
    "dummy_accuracy_train = dummy.score(X_train_emb, y_train)\n",
    "\n",
    "\n",
    "print(f\"Dummy Classifying accuracy on the train set: {dummy_accuracy_train:.4f}\")\n",
    "print(f\"Dummy Classifying accuracy on the test set: {dummy_accuracy:.4f}\")\n"
   ]
  },
  {
   "attachments": {},
   "cell_type": "markdown",
   "metadata": {},
   "source": [
    "We can check with the dummy classifier, that, if we classify everything as the most frequent label of our objective class, in this case genres, the prediction accuracy drops to 1/4 that makes sense as the observations are pretty well balanced and we have 4 genres. So, with this information, we can later confirm that the models are learning something if they go above this accuracy, as the expected result of predicting randomly has to be around 0.25. If we later confirm this, and the accuracies are higher is enough to know that the models learn."
   ]
  },
  {
   "attachments": {},
   "cell_type": "markdown",
   "metadata": {},
   "source": [
    "As we will repeat the same code several times to compare the classification between the different models we are going to use, let's create some functions for not repeating code and having a clean enviroment:"
   ]
  },
  {
   "cell_type": "code",
   "execution_count": 65,
   "metadata": {},
   "outputs": [],
   "source": [
    "\"\"\"\n",
    "WE WILL CREATE A GENERAL FUNCTION THAT CAN CREATE, RUN AND GIVE US A SCORE GIVEN\n",
    "A MODEL AND IT'S PARAMETERS\n",
    "\n",
    "AND ALSO A FUNCTION FOR CREATING THE X_TRAIN AND X_TEST EMBEEDINGS MATRIX\n",
    "\n",
    "SOME EXPLANATION ABOUT THE PARAMETERS USED:\n",
    "lyrics_model = the KEYED VECTOR of the word2vec, fasttext or any other model used\n",
    "model = machine learning approach used for the classification: KNeighborsClassifier(), svc()...\n",
    "\n",
    "\"\"\"\n",
    "\n",
    "def embeeding_matrix(lyrics_model, X, lyrics_embeedings):\n",
    "    random.seed(33)\n",
    "    size_embeding = len(lyrics_embeedings[0])\n",
    "    X_emb = np.zeros((len(X), size_embeding))\n",
    "    for i, review in enumerate(X):\n",
    "        X_emb[i] = get_lyrics_vector(lyrics_model, review)\n",
    "    return X_emb\n",
    "\n",
    "\n",
    "def classification_task(model, param_grid, x_tr_emb, x_tst_emb, y_train, y_test):\n",
    "    random.seed(33)\n",
    "\n",
    "    #1) Apply grid search to the model and param grid, and fit it\n",
    "    grid_search = GridSearchCV(model, param_grid, cv = 5)\n",
    "    grid_search.fit(x_tr_emb, y_train)\n",
    "\n",
    "    grid_search_best_estimator = grid_search.best_estimator_\n",
    "    grid_search_accuracy = grid_search.score(x_tst_emb, y_test)\n",
    "    grid_search_accuracy_train = grid_search.score(x_tr_emb, y_train) \n",
    "\n",
    "    return {'accuracy':[grid_search_accuracy],'accuracy_train':[grid_search_accuracy_train],'best_estimator':[grid_search_best_estimator] }   \n",
    "\n",
    "\n"
   ]
  },
  {
   "attachments": {},
   "cell_type": "markdown",
   "metadata": {},
   "source": [
    "#### **2.1.1.1 Machine Learning Approach with self-created word2vec**"
   ]
  },
  {
   "attachments": {},
   "cell_type": "markdown",
   "metadata": {},
   "source": [
    "Let's create the embeedings matrix for the X_train and X_test:"
   ]
  },
  {
   "cell_type": "code",
   "execution_count": 59,
   "metadata": {},
   "outputs": [],
   "source": [
    "X_train_emb = embeeding_matrix(wv, X_train, lyrics_embeedings=lyrics_embeddings)\n",
    "X_test_emb = embeeding_matrix(wv, X_test, lyrics_embeedings=lyrics_embeddings)"
   ]
  },
  {
   "attachments": {},
   "cell_type": "markdown",
   "metadata": {},
   "source": [
    "##### -SVM"
   ]
  },
  {
   "cell_type": "code",
   "execution_count": 66,
   "metadata": {},
   "outputs": [
    {
     "name": "stdout",
     "output_type": "stream",
     "text": [
      "SVM accuracy on the train set:  [0.4567049808429119]\n",
      "SVM accuracy on the test set:  [0.419124218051832]\n",
      "Best SVM parameters are:  [SVC(C=9, kernel='linear')]\n"
     ]
    }
   ],
   "source": [
    "#Train with different hyper parameters the classifier and obtain the best result\n",
    "from sklearn.svm import SVC\n",
    "random.seed(33)\n",
    "svm = SVC()\n",
    "param_grid = {'C': [1,3,5,7,9], 'kernel': ['rbf', 'linear']}\n",
    "\n",
    "\n",
    "result_svm = classification_task(svm, param_grid=param_grid, x_tr_emb = X_train_emb, x_tst_emb =X_test_emb, y_train = y_train, y_test = y_test)\n",
    "\n",
    "print(\"SVM accuracy on the train set: \", result_svm['accuracy_train'])\n",
    "print(\"SVM accuracy on the test set: \", result_svm['accuracy'])\n",
    "print(\"Best SVM parameters are: \", result_svm['best_estimator'])"
   ]
  },
  {
   "attachments": {},
   "cell_type": "markdown",
   "metadata": {},
   "source": [
    "##### -KNN"
   ]
  },
  {
   "cell_type": "code",
   "execution_count": 67,
   "metadata": {},
   "outputs": [
    {
     "name": "stdout",
     "output_type": "stream",
     "text": [
      "SVM accuracy on the train set:  [0.4900383141762452]\n",
      "SVM accuracy on the test set:  [0.4298480786416443]\n",
      "Best SVM parameters are:  [KNeighborsClassifier(n_neighbors=20)]\n"
     ]
    }
   ],
   "source": [
    "from sklearn.neighbors import KNeighborsClassifier\n",
    "\n",
    "random.seed(33)\n",
    "knn = KNeighborsClassifier()\n",
    "param_grid = {'n_neighbors': [1,5,10,15,20,25,30,35,40]}\n",
    "\n",
    "result_knn = classification_task(knn, param_grid=param_grid, x_tr_emb = X_train_emb, x_tst_emb =X_test_emb, y_train = y_train, y_test = y_test)\n",
    "\n",
    "print(\"KNN accuracy on the train set: \", result_knn['accuracy_train'])\n",
    "print(\"KNN accuracy on the test set: \", result_knn['accuracy'])\n",
    "print(\"Best KNN parameters are: \", result_knn['best_estimator'])"
   ]
  },
  {
   "attachments": {},
   "cell_type": "markdown",
   "metadata": {},
   "source": [
    "##### -Random Forest"
   ]
  },
  {
   "cell_type": "code",
   "execution_count": 68,
   "metadata": {},
   "outputs": [
    {
     "name": "stdout",
     "output_type": "stream",
     "text": [
      "SVM accuracy on the train set:  [0.9440613026819923]\n",
      "SVM accuracy on the test set:  [0.4280607685433423]\n",
      "Best SVM parameters are:  [RandomForestClassifier(criterion='entropy', max_depth=10)]\n"
     ]
    }
   ],
   "source": [
    "from  sklearn.ensemble import RandomForestClassifier\n",
    "\n",
    "random.seed(33)\n",
    "RF = RandomForestClassifier()\n",
    "param_grid = {'n_estimators': [50,100,200,400], 'criterion':['gini', 'entropy'], 'max_depth':[2,5,10,15]}\n",
    "\n",
    "result_rf = classification_task(RF, param_grid=param_grid, x_tr_emb = X_train_emb, x_tst_emb =X_test_emb, y_train = y_train, y_test = y_test)\n",
    "\n",
    "print(\"RF accuracy on the train set: \", result_rf['accuracy_train'])\n",
    "print(\"RF accuracy on the test set: \", result_rf['accuracy'])\n",
    "print(\"Best RF parameters are: \", result_rf['best_estimator'])"
   ]
  },
  {
   "attachments": {},
   "cell_type": "markdown",
   "metadata": {},
   "source": [
    "##### -Multinomial Logistic Regression"
   ]
  },
  {
   "cell_type": "code",
   "execution_count": 69,
   "metadata": {},
   "outputs": [
    {
     "name": "stderr",
     "output_type": "stream",
     "text": [
      "c:\\Users\\34649\\anaconda3\\envs\\ML\\lib\\site-packages\\sklearn\\linear_model\\_logistic.py:814: ConvergenceWarning: lbfgs failed to converge (status=1):\n",
      "STOP: TOTAL NO. of ITERATIONS REACHED LIMIT.\n",
      "\n",
      "Increase the number of iterations (max_iter) or scale the data as shown in:\n",
      "    https://scikit-learn.org/stable/modules/preprocessing.html\n",
      "Please also refer to the documentation for alternative solver options:\n",
      "    https://scikit-learn.org/stable/modules/linear_model.html#logistic-regression\n",
      "  n_iter_i = _check_optimize_result(\n",
      "c:\\Users\\34649\\anaconda3\\envs\\ML\\lib\\site-packages\\sklearn\\linear_model\\_logistic.py:814: ConvergenceWarning: lbfgs failed to converge (status=1):\n",
      "STOP: TOTAL NO. of ITERATIONS REACHED LIMIT.\n",
      "\n",
      "Increase the number of iterations (max_iter) or scale the data as shown in:\n",
      "    https://scikit-learn.org/stable/modules/preprocessing.html\n",
      "Please also refer to the documentation for alternative solver options:\n",
      "    https://scikit-learn.org/stable/modules/linear_model.html#logistic-regression\n",
      "  n_iter_i = _check_optimize_result(\n",
      "c:\\Users\\34649\\anaconda3\\envs\\ML\\lib\\site-packages\\sklearn\\linear_model\\_logistic.py:814: ConvergenceWarning: lbfgs failed to converge (status=1):\n",
      "STOP: TOTAL NO. of ITERATIONS REACHED LIMIT.\n",
      "\n",
      "Increase the number of iterations (max_iter) or scale the data as shown in:\n",
      "    https://scikit-learn.org/stable/modules/preprocessing.html\n",
      "Please also refer to the documentation for alternative solver options:\n",
      "    https://scikit-learn.org/stable/modules/linear_model.html#logistic-regression\n",
      "  n_iter_i = _check_optimize_result(\n",
      "c:\\Users\\34649\\anaconda3\\envs\\ML\\lib\\site-packages\\sklearn\\linear_model\\_logistic.py:814: ConvergenceWarning: lbfgs failed to converge (status=1):\n",
      "STOP: TOTAL NO. of ITERATIONS REACHED LIMIT.\n",
      "\n",
      "Increase the number of iterations (max_iter) or scale the data as shown in:\n",
      "    https://scikit-learn.org/stable/modules/preprocessing.html\n",
      "Please also refer to the documentation for alternative solver options:\n",
      "    https://scikit-learn.org/stable/modules/linear_model.html#logistic-regression\n",
      "  n_iter_i = _check_optimize_result(\n",
      "c:\\Users\\34649\\anaconda3\\envs\\ML\\lib\\site-packages\\sklearn\\linear_model\\_logistic.py:814: ConvergenceWarning: lbfgs failed to converge (status=1):\n",
      "STOP: TOTAL NO. of ITERATIONS REACHED LIMIT.\n",
      "\n",
      "Increase the number of iterations (max_iter) or scale the data as shown in:\n",
      "    https://scikit-learn.org/stable/modules/preprocessing.html\n",
      "Please also refer to the documentation for alternative solver options:\n",
      "    https://scikit-learn.org/stable/modules/linear_model.html#logistic-regression\n",
      "  n_iter_i = _check_optimize_result(\n",
      "c:\\Users\\34649\\anaconda3\\envs\\ML\\lib\\site-packages\\sklearn\\linear_model\\_logistic.py:814: ConvergenceWarning: lbfgs failed to converge (status=1):\n",
      "STOP: TOTAL NO. of ITERATIONS REACHED LIMIT.\n",
      "\n",
      "Increase the number of iterations (max_iter) or scale the data as shown in:\n",
      "    https://scikit-learn.org/stable/modules/preprocessing.html\n",
      "Please also refer to the documentation for alternative solver options:\n",
      "    https://scikit-learn.org/stable/modules/linear_model.html#logistic-regression\n",
      "  n_iter_i = _check_optimize_result(\n",
      "c:\\Users\\34649\\anaconda3\\envs\\ML\\lib\\site-packages\\sklearn\\linear_model\\_logistic.py:814: ConvergenceWarning: lbfgs failed to converge (status=1):\n",
      "STOP: TOTAL NO. of ITERATIONS REACHED LIMIT.\n",
      "\n",
      "Increase the number of iterations (max_iter) or scale the data as shown in:\n",
      "    https://scikit-learn.org/stable/modules/preprocessing.html\n",
      "Please also refer to the documentation for alternative solver options:\n",
      "    https://scikit-learn.org/stable/modules/linear_model.html#logistic-regression\n",
      "  n_iter_i = _check_optimize_result(\n",
      "c:\\Users\\34649\\anaconda3\\envs\\ML\\lib\\site-packages\\sklearn\\linear_model\\_logistic.py:814: ConvergenceWarning: lbfgs failed to converge (status=1):\n",
      "STOP: TOTAL NO. of ITERATIONS REACHED LIMIT.\n",
      "\n",
      "Increase the number of iterations (max_iter) or scale the data as shown in:\n",
      "    https://scikit-learn.org/stable/modules/preprocessing.html\n",
      "Please also refer to the documentation for alternative solver options:\n",
      "    https://scikit-learn.org/stable/modules/linear_model.html#logistic-regression\n",
      "  n_iter_i = _check_optimize_result(\n",
      "c:\\Users\\34649\\anaconda3\\envs\\ML\\lib\\site-packages\\sklearn\\linear_model\\_logistic.py:814: ConvergenceWarning: lbfgs failed to converge (status=1):\n",
      "STOP: TOTAL NO. of ITERATIONS REACHED LIMIT.\n",
      "\n",
      "Increase the number of iterations (max_iter) or scale the data as shown in:\n",
      "    https://scikit-learn.org/stable/modules/preprocessing.html\n",
      "Please also refer to the documentation for alternative solver options:\n",
      "    https://scikit-learn.org/stable/modules/linear_model.html#logistic-regression\n",
      "  n_iter_i = _check_optimize_result(\n",
      "c:\\Users\\34649\\anaconda3\\envs\\ML\\lib\\site-packages\\sklearn\\linear_model\\_logistic.py:814: ConvergenceWarning: lbfgs failed to converge (status=1):\n",
      "STOP: TOTAL NO. of ITERATIONS REACHED LIMIT.\n",
      "\n",
      "Increase the number of iterations (max_iter) or scale the data as shown in:\n",
      "    https://scikit-learn.org/stable/modules/preprocessing.html\n",
      "Please also refer to the documentation for alternative solver options:\n",
      "    https://scikit-learn.org/stable/modules/linear_model.html#logistic-regression\n",
      "  n_iter_i = _check_optimize_result(\n",
      "c:\\Users\\34649\\anaconda3\\envs\\ML\\lib\\site-packages\\sklearn\\linear_model\\_logistic.py:814: ConvergenceWarning: lbfgs failed to converge (status=1):\n",
      "STOP: TOTAL NO. of ITERATIONS REACHED LIMIT.\n",
      "\n",
      "Increase the number of iterations (max_iter) or scale the data as shown in:\n",
      "    https://scikit-learn.org/stable/modules/preprocessing.html\n",
      "Please also refer to the documentation for alternative solver options:\n",
      "    https://scikit-learn.org/stable/modules/linear_model.html#logistic-regression\n",
      "  n_iter_i = _check_optimize_result(\n"
     ]
    },
    {
     "name": "stdout",
     "output_type": "stream",
     "text": [
      "SVM accuracy on the train set:  [0.4371647509578544]\n",
      "SVM accuracy on the test set:  [0.4137622877569258]\n",
      "Best LR parameters are:  [LogisticRegression(C=1, multi_class='multinomial')]\n"
     ]
    },
    {
     "name": "stderr",
     "output_type": "stream",
     "text": [
      "c:\\Users\\34649\\anaconda3\\envs\\ML\\lib\\site-packages\\sklearn\\linear_model\\_logistic.py:814: ConvergenceWarning: lbfgs failed to converge (status=1):\n",
      "STOP: TOTAL NO. of ITERATIONS REACHED LIMIT.\n",
      "\n",
      "Increase the number of iterations (max_iter) or scale the data as shown in:\n",
      "    https://scikit-learn.org/stable/modules/preprocessing.html\n",
      "Please also refer to the documentation for alternative solver options:\n",
      "    https://scikit-learn.org/stable/modules/linear_model.html#logistic-regression\n",
      "  n_iter_i = _check_optimize_result(\n"
     ]
    }
   ],
   "source": [
    "from sklearn.linear_model import LogisticRegression\n",
    "\n",
    "random.seed(33)\n",
    "lr = LogisticRegression()\n",
    "param_grid = {'multi_class':['multinomial', 'ovr'], 'solver':['lbfgs'], 'C':[0.0001, 0.001, 0.01, 0.1, 0.5,1]}\n",
    "\n",
    "result_lr = classification_task(lr, param_grid=param_grid, x_tr_emb = X_train_emb, x_tst_emb =X_test_emb, y_train = y_train, y_test = y_test)\n",
    "\n",
    "print(\"LR accuracy on the train set: \", result_lr['accuracy_train'])\n",
    "print(\"LR accuracy on the test set: \", result_lr['accuracy'])\n",
    "print(\"Best LR parameters are: \", result_lr['best_estimator'])"
   ]
  },
  {
   "attachments": {},
   "cell_type": "markdown",
   "metadata": {},
   "source": [
    "#### **2.1.1.2 Machine Learning Approach with pre-trained word2vec**"
   ]
  },
  {
   "attachments": {},
   "cell_type": "markdown",
   "metadata": {},
   "source": [
    "We will follow exactly the same steps we have done with our word2vec, so we can compare the results in terms of accuracy of the classification."
   ]
  },
  {
   "cell_type": "code",
   "execution_count": 71,
   "metadata": {},
   "outputs": [],
   "source": [
    "random.seed(33)\n",
    "\n",
    "\n",
    "\n",
    "#)Embeedings matrix USING THE PRE-TRAINED WORD2VEC MODEL\n",
    "X_train_emb_pre = embeeding_matrix(pre_w2v, X_train, lyrics_embeedings=lyrics_embeddings_pre)\n",
    "X_test_emb_pre = embeeding_matrix(pre_w2v, X_test, lyrics_embeedings=lyrics_embeddings_pre)\n"
   ]
  },
  {
   "cell_type": "markdown",
   "metadata": {},
   "source": [
    "##### -SVM"
   ]
  },
  {
   "cell_type": "code",
   "execution_count": 72,
   "metadata": {},
   "outputs": [
    {
     "name": "stdout",
     "output_type": "stream",
     "text": [
      "SVM accuracy on the train set:  [0.5398467432950191]\n",
      "SVM accuracy on the test set:  [0.5263628239499554]\n",
      "Best SVM parameters are:  [SVC(C=9, kernel='linear')]\n"
     ]
    }
   ],
   "source": [
    "#3)Train with different hyper parameters the classifier and obtain the best result\n",
    "random.seed(33)\n",
    "svm = SVC()\n",
    "param_grid = {'C': [1,3,5,7,9], 'kernel': ['rbf', 'linear']}\n",
    "\n",
    "result_svm_pre = classification_task(svm, param_grid=param_grid, x_tr_emb = X_train_emb_pre, x_tst_emb =X_test_emb_pre, y_train = y_train, y_test = y_test)\n",
    "\n",
    "print(\"SVM accuracy on the train set: \", result_svm_pre['accuracy_train'])\n",
    "print(\"SVM accuracy on the test set: \", result_svm_pre['accuracy'])\n",
    "print(\"Best SVM parameters are: \", result_svm_pre['best_estimator'])"
   ]
  },
  {
   "cell_type": "markdown",
   "metadata": {},
   "source": [
    "##### -KNN"
   ]
  },
  {
   "cell_type": "code",
   "execution_count": 73,
   "metadata": {},
   "outputs": [
    {
     "name": "stdout",
     "output_type": "stream",
     "text": [
      "KNN accuracy on the train set:  [0.5252873563218391]\n",
      "KNN accuracy on the test set:  [0.4709562109025916]\n",
      "Best KNN parameters are:  [KNeighborsClassifier(n_neighbors=15)]\n"
     ]
    }
   ],
   "source": [
    "from sklearn.neighbors import KNeighborsClassifier\n",
    "\n",
    "random.seed(33)\n",
    "knn = KNeighborsClassifier()\n",
    "param_grid = {'n_neighbors': [1,5,10,15,20,25,30,35,40]}\n",
    "\n",
    "result_knn_pre = classification_task(knn, param_grid=param_grid, x_tr_emb = X_train_emb_pre, x_tst_emb =X_test_emb_pre, y_train = y_train, y_test = y_test)\n",
    "\n",
    "print(\"KNN accuracy on the train set: \", result_knn_pre['accuracy_train'])\n",
    "print(\"KNN accuracy on the test set: \", result_knn_pre['accuracy'])\n",
    "print(\"Best KNN parameters are: \", result_knn_pre['best_estimator'])"
   ]
  },
  {
   "cell_type": "markdown",
   "metadata": {},
   "source": [
    "##### -Random Forest"
   ]
  },
  {
   "cell_type": "code",
   "execution_count": 77,
   "metadata": {},
   "outputs": [
    {
     "name": "stdout",
     "output_type": "stream",
     "text": [
      "RF accuracy on the train set:  [0.989272030651341]\n",
      "RF accuracy on the test set:  [0.548704200178731]\n",
      "Best RF parameters are:  [RandomForestClassifier(criterion='entropy', max_depth=12, n_estimators=400)]\n"
     ]
    }
   ],
   "source": [
    "from  sklearn.ensemble import RandomForestClassifier\n",
    "\n",
    "random.seed(33)\n",
    "RF = RandomForestClassifier()\n",
    "param_grid = {'n_estimators': [50,100,200,400], 'criterion':['gini', 'entropy'], 'max_depth':[2,5,10,12]}\n",
    "\n",
    "result_rf_pre = classification_task(RF, param_grid=param_grid, x_tr_emb = X_train_emb_pre, x_tst_emb =X_test_emb_pre, y_train = y_train, y_test = y_test)\n",
    "\n",
    "print(\"RF accuracy on the train set: \", result_rf_pre['accuracy_train'])\n",
    "print(\"RF accuracy on the test set: \", result_rf_pre['accuracy'])\n",
    "print(\"Best RF parameters are: \", result_rf_pre['best_estimator'])"
   ]
  },
  {
   "cell_type": "markdown",
   "metadata": {},
   "source": [
    "##### -Multinomial Logistic Regression"
   ]
  },
  {
   "cell_type": "code",
   "execution_count": 78,
   "metadata": {},
   "outputs": [
    {
     "name": "stderr",
     "output_type": "stream",
     "text": [
      "c:\\Users\\34649\\anaconda3\\envs\\ML\\lib\\site-packages\\sklearn\\linear_model\\_logistic.py:814: ConvergenceWarning: lbfgs failed to converge (status=1):\n",
      "STOP: TOTAL NO. of ITERATIONS REACHED LIMIT.\n",
      "\n",
      "Increase the number of iterations (max_iter) or scale the data as shown in:\n",
      "    https://scikit-learn.org/stable/modules/preprocessing.html\n",
      "Please also refer to the documentation for alternative solver options:\n",
      "    https://scikit-learn.org/stable/modules/linear_model.html#logistic-regression\n",
      "  n_iter_i = _check_optimize_result(\n",
      "c:\\Users\\34649\\anaconda3\\envs\\ML\\lib\\site-packages\\sklearn\\linear_model\\_logistic.py:814: ConvergenceWarning: lbfgs failed to converge (status=1):\n",
      "STOP: TOTAL NO. of ITERATIONS REACHED LIMIT.\n",
      "\n",
      "Increase the number of iterations (max_iter) or scale the data as shown in:\n",
      "    https://scikit-learn.org/stable/modules/preprocessing.html\n",
      "Please also refer to the documentation for alternative solver options:\n",
      "    https://scikit-learn.org/stable/modules/linear_model.html#logistic-regression\n",
      "  n_iter_i = _check_optimize_result(\n",
      "c:\\Users\\34649\\anaconda3\\envs\\ML\\lib\\site-packages\\sklearn\\linear_model\\_logistic.py:814: ConvergenceWarning: lbfgs failed to converge (status=1):\n",
      "STOP: TOTAL NO. of ITERATIONS REACHED LIMIT.\n",
      "\n",
      "Increase the number of iterations (max_iter) or scale the data as shown in:\n",
      "    https://scikit-learn.org/stable/modules/preprocessing.html\n",
      "Please also refer to the documentation for alternative solver options:\n",
      "    https://scikit-learn.org/stable/modules/linear_model.html#logistic-regression\n",
      "  n_iter_i = _check_optimize_result(\n",
      "c:\\Users\\34649\\anaconda3\\envs\\ML\\lib\\site-packages\\sklearn\\linear_model\\_logistic.py:814: ConvergenceWarning: lbfgs failed to converge (status=1):\n",
      "STOP: TOTAL NO. of ITERATIONS REACHED LIMIT.\n",
      "\n",
      "Increase the number of iterations (max_iter) or scale the data as shown in:\n",
      "    https://scikit-learn.org/stable/modules/preprocessing.html\n",
      "Please also refer to the documentation for alternative solver options:\n",
      "    https://scikit-learn.org/stable/modules/linear_model.html#logistic-regression\n",
      "  n_iter_i = _check_optimize_result(\n"
     ]
    },
    {
     "name": "stdout",
     "output_type": "stream",
     "text": [
      "LR accuracy on the train set:  [0.5210727969348659]\n",
      "LR accuracy on the test set:  [0.4924039320822163]\n",
      "Best LR parameters are:  [LogisticRegression(C=1, multi_class='ovr')]\n"
     ]
    }
   ],
   "source": [
    "from sklearn.linear_model import LogisticRegression\n",
    "\n",
    "random.seed(33)\n",
    "lr = LogisticRegression()\n",
    "param_grid = {'multi_class':['multinomial', 'ovr'], 'solver':['lbfgs'], 'C':[0.0001, 0.001, 0.01, 0.1, 0.5,1]}\n",
    "\n",
    "result_lr_pre = classification_task(lr, param_grid=param_grid, x_tr_emb = X_train_emb_pre, x_tst_emb =X_test_emb_pre, y_train = y_train, y_test = y_test)\n",
    "\n",
    "print(\"LR accuracy on the train set: \", result_lr_pre['accuracy_train'])\n",
    "print(\"LR accuracy on the test set: \", result_lr_pre['accuracy'])\n",
    "print(\"Best LR parameters are: \", result_lr_pre['best_estimator'])"
   ]
  },
  {
   "attachments": {},
   "cell_type": "markdown",
   "metadata": {},
   "source": [
    "We can see the results are better with the pre-trained model, what is in fact, what we expected, as word2vec works better with more words, and our self created model based on the lyrics of the song was not speccially big."
   ]
  },
  {
   "cell_type": "markdown",
   "metadata": {},
   "source": [
    "#### **2.1.2 Deep Learning Approach**"
   ]
  },
  {
   "cell_type": "code",
   "execution_count": null,
   "metadata": {},
   "outputs": [],
   "source": [
    "#TODO\n",
    "#NEURAL NETWORK IN CLASS"
   ]
  },
  {
   "cell_type": "markdown",
   "metadata": {},
   "source": [
    "### **2.2 Clustering Task**"
   ]
  },
  {
   "cell_type": "code",
   "execution_count": null,
   "metadata": {},
   "outputs": [],
   "source": [
    "#TODO\n",
    "#UNSUPERVISED LEARNING REGARDING CLUSTERING"
   ]
  }
 ],
 "metadata": {
  "kernelspec": {
   "display_name": "Python 3.10.6 ('ML')",
   "language": "python",
   "name": "python3"
  },
  "language_info": {
   "codemirror_mode": {
    "name": "ipython",
    "version": 3
   },
   "file_extension": ".py",
   "mimetype": "text/x-python",
   "name": "python",
   "nbconvert_exporter": "python",
   "pygments_lexer": "ipython3",
   "version": "3.10.4"
  },
  "orig_nbformat": 4,
  "vscode": {
   "interpreter": {
    "hash": "381ff88311bfa90205062e08049120f59c6e3b2eedf7e19586806884b20be455"
   }
  }
 },
 "nbformat": 4,
 "nbformat_minor": 2
}
