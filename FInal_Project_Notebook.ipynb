{
 "cells": [
  {
   "cell_type": "markdown",
   "metadata": {},
   "source": [
    "# **Machine Learning Applications Final Project Notebook**\n",
    "\n",
    "Date: May 9, 2023\n",
    "\n",
    "Authors: Óscar Montoya Amores (100451858), Javier Serrano Sánchez-Ocaña (100451673), Miguel Ángel Ponce Martínez (100451309)"
   ]
  },
  {
   "cell_type": "markdown",
   "metadata": {},
   "source": [
    "#### **LIBRARIES IMPORT**"
   ]
  },
  {
   "cell_type": "code",
   "execution_count": 119,
   "metadata": {},
   "outputs": [],
   "source": [
    "import numpy as np\n",
    "import pandas as pd\n",
    "import zipfile as zp\n",
    "from termcolor import colored\n",
    "import seaborn as sns\n",
    "import matplotlib.pyplot as plt\n",
    "\n",
    "import spacy    "
   ]
  },
  {
   "cell_type": "markdown",
   "metadata": {},
   "source": [
    "## **0. Dataset Loading and DF Preprocessing**"
   ]
  },
  {
   "cell_type": "markdown",
   "metadata": {},
   "source": [
    "#### **DATASET IMPORT**"
   ]
  },
  {
   "cell_type": "markdown",
   "metadata": {},
   "source": [
    "Let's load the dataset obtained from Kaggle (https://www.kaggle.com/datasets/elizzyliu/song-lyrics) and obtain the main insights from this data:"
   ]
  },
  {
   "cell_type": "code",
   "execution_count": 120,
   "metadata": {},
   "outputs": [
    {
     "data": {
      "text/html": [
       "<div>\n",
       "<style scoped>\n",
       "    .dataframe tbody tr th:only-of-type {\n",
       "        vertical-align: middle;\n",
       "    }\n",
       "\n",
       "    .dataframe tbody tr th {\n",
       "        vertical-align: top;\n",
       "    }\n",
       "\n",
       "    .dataframe thead th {\n",
       "        text-align: right;\n",
       "    }\n",
       "</style>\n",
       "<table border=\"1\" class=\"dataframe\">\n",
       "  <thead>\n",
       "    <tr style=\"text-align: right;\">\n",
       "      <th></th>\n",
       "      <th>song</th>\n",
       "      <th>artist</th>\n",
       "      <th>type</th>\n",
       "      <th>lyrics</th>\n",
       "    </tr>\n",
       "  </thead>\n",
       "  <tbody>\n",
       "    <tr>\n",
       "      <th>0</th>\n",
       "      <td>Stairway to Heaven</td>\n",
       "      <td>Led Zeppelin</td>\n",
       "      <td>rock</td>\n",
       "      <td>Stairway to Heaven Lyrics[Intro]\\r\\n\\r\\n[Verse...</td>\n",
       "    </tr>\n",
       "    <tr>\n",
       "      <th>1</th>\n",
       "      <td>Hey Jude</td>\n",
       "      <td>Beatles</td>\n",
       "      <td>rock</td>\n",
       "      <td>Hey Jude Lyrics[Verse 1: Paul McCartney]\\r\\nHe...</td>\n",
       "    </tr>\n",
       "    <tr>\n",
       "      <th>2</th>\n",
       "      <td>All Along the Watchtower</td>\n",
       "      <td>Hendrix, Jimi</td>\n",
       "      <td>rock</td>\n",
       "      <td>Ii. Tambourine Lyrics[Chorus, sung]\\r\\nHey, Pi...</td>\n",
       "    </tr>\n",
       "    <tr>\n",
       "      <th>3</th>\n",
       "      <td>Satisfaction</td>\n",
       "      <td>Rolling Stones</td>\n",
       "      <td>rock</td>\n",
       "      <td>Sin título I Lyrics[Letra de \"Sin título I\"]\\r...</td>\n",
       "    </tr>\n",
       "    <tr>\n",
       "      <th>4</th>\n",
       "      <td>Like A Rolling Stone</td>\n",
       "      <td>Dylan, Bob</td>\n",
       "      <td>rock</td>\n",
       "      <td>Like a Rolling Stone Lyrics[Verse 1]\\r\\nOnce u...</td>\n",
       "    </tr>\n",
       "    <tr>\n",
       "      <th>...</th>\n",
       "      <td>...</td>\n",
       "      <td>...</td>\n",
       "      <td>...</td>\n",
       "      <td>...</td>\n",
       "    </tr>\n",
       "    <tr>\n",
       "      <th>3995</th>\n",
       "      <td>Motown 25</td>\n",
       "      <td>Elzhi</td>\n",
       "      <td>rap &amp; hip hop</td>\n",
       "      <td>Motown 25 Lyrics[Verse 1: eLZhi]\\r\\nI end care...</td>\n",
       "    </tr>\n",
       "    <tr>\n",
       "      <th>3996</th>\n",
       "      <td>How Ya Like Me Now</td>\n",
       "      <td>Kool Moe Dee</td>\n",
       "      <td>rap &amp; hip hop</td>\n",
       "      <td>How Ya Like Me Now Lyrics\"All aboard for the n...</td>\n",
       "    </tr>\n",
       "    <tr>\n",
       "      <th>3997</th>\n",
       "      <td>Coastin’</td>\n",
       "      <td>Zion I feat. K.Flay</td>\n",
       "      <td>rap &amp; hip hop</td>\n",
       "      <td>Coastin’ LyricsWhen life brings trouble\\r\\nYou...</td>\n",
       "    </tr>\n",
       "    <tr>\n",
       "      <th>3998</th>\n",
       "      <td>Head Banger</td>\n",
       "      <td>EPMD</td>\n",
       "      <td>rap &amp; hip hop</td>\n",
       "      <td>Headbanger Lyrics[Redman]\\r\\nNegroes!!!!!!!!\\r...</td>\n",
       "    </tr>\n",
       "    <tr>\n",
       "      <th>3999</th>\n",
       "      <td>Sound Bwoy Burell</td>\n",
       "      <td>Smif-N-Wessun</td>\n",
       "      <td>rap &amp; hip hop</td>\n",
       "      <td>Sound Bwoy Bureill Lyrics[Intro: Sample from C...</td>\n",
       "    </tr>\n",
       "  </tbody>\n",
       "</table>\n",
       "<p>4000 rows × 4 columns</p>\n",
       "</div>"
      ],
      "text/plain": [
       "                          song               artist           type  \\\n",
       "0           Stairway to Heaven         Led Zeppelin           rock   \n",
       "1                     Hey Jude              Beatles           rock   \n",
       "2     All Along the Watchtower        Hendrix, Jimi           rock   \n",
       "3                 Satisfaction       Rolling Stones           rock   \n",
       "4         Like A Rolling Stone           Dylan, Bob           rock   \n",
       "...                        ...                  ...            ...   \n",
       "3995                 Motown 25                Elzhi  rap & hip hop   \n",
       "3996        How Ya Like Me Now         Kool Moe Dee  rap & hip hop   \n",
       "3997                  Coastin’  Zion I feat. K.Flay  rap & hip hop   \n",
       "3998               Head Banger                 EPMD  rap & hip hop   \n",
       "3999         Sound Bwoy Burell        Smif-N-Wessun  rap & hip hop   \n",
       "\n",
       "                                                 lyrics  \n",
       "0     Stairway to Heaven Lyrics[Intro]\\r\\n\\r\\n[Verse...  \n",
       "1     Hey Jude Lyrics[Verse 1: Paul McCartney]\\r\\nHe...  \n",
       "2     Ii. Tambourine Lyrics[Chorus, sung]\\r\\nHey, Pi...  \n",
       "3     Sin título I Lyrics[Letra de \"Sin título I\"]\\r...  \n",
       "4     Like a Rolling Stone Lyrics[Verse 1]\\r\\nOnce u...  \n",
       "...                                                 ...  \n",
       "3995  Motown 25 Lyrics[Verse 1: eLZhi]\\r\\nI end care...  \n",
       "3996  How Ya Like Me Now Lyrics\"All aboard for the n...  \n",
       "3997  Coastin’ LyricsWhen life brings trouble\\r\\nYou...  \n",
       "3998  Headbanger Lyrics[Redman]\\r\\nNegroes!!!!!!!!\\r...  \n",
       "3999  Sound Bwoy Bureill Lyrics[Intro: Sample from C...  \n",
       "\n",
       "[4000 rows x 4 columns]"
      ]
     },
     "metadata": {},
     "output_type": "display_data"
    }
   ],
   "source": [
    "df = pd.read_csv('all_lyrics.csv')\n",
    "\n",
    "display(df)"
   ]
  },
  {
   "cell_type": "code",
   "execution_count": 121,
   "metadata": {},
   "outputs": [
    {
     "data": {
      "text/html": [
       "<div>\n",
       "<style scoped>\n",
       "    .dataframe tbody tr th:only-of-type {\n",
       "        vertical-align: middle;\n",
       "    }\n",
       "\n",
       "    .dataframe tbody tr th {\n",
       "        vertical-align: top;\n",
       "    }\n",
       "\n",
       "    .dataframe thead th {\n",
       "        text-align: right;\n",
       "    }\n",
       "</style>\n",
       "<table border=\"1\" class=\"dataframe\">\n",
       "  <thead>\n",
       "    <tr style=\"text-align: right;\">\n",
       "      <th></th>\n",
       "      <th>song</th>\n",
       "      <th>artist</th>\n",
       "      <th>type</th>\n",
       "      <th>lyrics</th>\n",
       "    </tr>\n",
       "  </thead>\n",
       "  <tbody>\n",
       "    <tr>\n",
       "      <th>count</th>\n",
       "      <td>4000</td>\n",
       "      <td>4000</td>\n",
       "      <td>4000</td>\n",
       "      <td>3896</td>\n",
       "    </tr>\n",
       "    <tr>\n",
       "      <th>unique</th>\n",
       "      <td>3881</td>\n",
       "      <td>1583</td>\n",
       "      <td>4</td>\n",
       "      <td>3761</td>\n",
       "    </tr>\n",
       "    <tr>\n",
       "      <th>top</th>\n",
       "      <td>Summertime</td>\n",
       "      <td>Beatles</td>\n",
       "      <td>rock</td>\n",
       "      <td>Summer Country Songs LyricsA\\r\\nAaron Lewis – ...</td>\n",
       "    </tr>\n",
       "    <tr>\n",
       "      <th>freq</th>\n",
       "      <td>5</td>\n",
       "      <td>51</td>\n",
       "      <td>1000</td>\n",
       "      <td>10</td>\n",
       "    </tr>\n",
       "  </tbody>\n",
       "</table>\n",
       "</div>"
      ],
      "text/plain": [
       "              song   artist  type  \\\n",
       "count         4000     4000  4000   \n",
       "unique        3881     1583     4   \n",
       "top     Summertime  Beatles  rock   \n",
       "freq             5       51  1000   \n",
       "\n",
       "                                                   lyrics  \n",
       "count                                                3896  \n",
       "unique                                               3761  \n",
       "top     Summer Country Songs LyricsA\\r\\nAaron Lewis – ...  \n",
       "freq                                                   10  "
      ]
     },
     "execution_count": 121,
     "metadata": {},
     "output_type": "execute_result"
    }
   ],
   "source": [
    "df.describe()"
   ]
  },
  {
   "cell_type": "markdown",
   "metadata": {},
   "source": [
    "This dataset is composed by the 1000 most famous songs from every musical genre(``type Variable``) and our goal is find some relation among songs lyrics and its genre. \n",
    "\n",
    "Firstly, null values seems to appear in the lyrics row because as we can see 104 songs ``lyrics`` are not counted properly. So first thing wee need to do is remove null values.\n",
    "\n",
    "Moreover, the unique row bothers us too. It is expected that ``type`` and ``artist`` have several instances repeated (Artist could have many famous songs and obviously given 4 genres it will be repeated). Furthermore, even two different artists could present two different songs with the same name (``song``). However, it is really strange that two songs represent the same lyrics. Here we could have be talking about plagiarism, corrupted data or simply describe() function is not working as expected with long string stucture, so before starting to apply some Machine Learnings Applicatios we have seen in class we need to fix this trouble."
   ]
  },
  {
   "cell_type": "code",
   "execution_count": 122,
   "metadata": {},
   "outputs": [
    {
     "name": "stdout",
     "output_type": "stream",
     "text": [
      "There are exactly 104 null values in the lyrics variable which corresponds to the 2.600% of the data set\n"
     ]
    }
   ],
   "source": [
    "null = df['lyrics'].isna().values\n",
    "\n",
    "print(f'There are exactly {sum(null)} null values in the lyrics variable which corresponds to the {sum(null)/len(null)*100:.3f}% of the data set')\n"
   ]
  },
  {
   "cell_type": "markdown",
   "metadata": {},
   "source": [
    "We think this percentege is assumible of being removed from the dataset but before doing so let's see the proportion of songs genre which receives null lyrics. "
   ]
  },
  {
   "cell_type": "code",
   "execution_count": 123,
   "metadata": {},
   "outputs": [
    {
     "data": {
      "text/plain": [
       "<AxesSubplot:>"
      ]
     },
     "execution_count": 123,
     "metadata": {},
     "output_type": "execute_result"
    },
    {
     "data": {
      "image/png": "[encoded data removed]",
      "text/plain": [
       "<Figure size 432x288 with 1 Axes>"
      ]
     },
     "metadata": {
      "needs_background": "light"
     },
     "output_type": "display_data"
    }
   ],
   "source": [
    "df_null = df[null]\n",
    "df_null['type'].hist()"
   ]
  },
  {
   "cell_type": "markdown",
   "metadata": {},
   "source": [
    "Most of the null lyrics are from ``rap & hip hop`` but nothing alarming. We can assume to remove this instances, update the dataframe and repeat a similar process to find out repeted lyrics. "
   ]
  },
  {
   "cell_type": "code",
   "execution_count": 124,
   "metadata": {},
   "outputs": [],
   "source": [
    "df = df.dropna(subset=['lyrics', 'type'])"
   ]
  },
  {
   "cell_type": "code",
   "execution_count": 125,
   "metadata": {},
   "outputs": [
    {
     "name": "stdout",
     "output_type": "stream",
     "text": [
      "[False False False ... False False False]\n"
     ]
    }
   ],
   "source": [
    "print(df.duplicated().values)"
   ]
  },
  {
   "cell_type": "code",
   "execution_count": 126,
   "metadata": {},
   "outputs": [
    {
     "name": "stdout",
     "output_type": "stream",
     "text": [
      "There are exactly 14 repeated values in the lyrics variable which corresponds to the 0.359% of the data set\n"
     ]
    },
    {
     "data": {
      "text/plain": [
       "<AxesSubplot:>"
      ]
     },
     "execution_count": 126,
     "metadata": {},
     "output_type": "execute_result"
    },
    {
     "data": {
      "image/png": "[encoded data removed]",
      "text/plain": [
       "<Figure size 432x288 with 1 Axes>"
      ]
     },
     "metadata": {
      "needs_background": "light"
     },
     "output_type": "display_data"
    }
   ],
   "source": [
    "repeated = df[df.duplicated()]\n",
    "print(f'There are exactly {len(repeated)} repeated values in the lyrics variable which corresponds to the {len(repeated)/len(df)*100:.3f}% of the data set')\n",
    "repeated['type'].hist()"
   ]
  },
  {
   "cell_type": "markdown",
   "metadata": {},
   "source": [
    "Again, the ammount of repeated values are not very important but this time is focused on only two genres. However, we will remove it because it is not adding any information and let's repeat the describe() process to finally start to focus on the Machine Learning Apps."
   ]
  },
  {
   "cell_type": "code",
   "execution_count": 127,
   "metadata": {},
   "outputs": [
    {
     "data": {
      "text/html": [
       "<div>\n",
       "<style scoped>\n",
       "    .dataframe tbody tr th:only-of-type {\n",
       "        vertical-align: middle;\n",
       "    }\n",
       "\n",
       "    .dataframe tbody tr th {\n",
       "        vertical-align: top;\n",
       "    }\n",
       "\n",
       "    .dataframe thead th {\n",
       "        text-align: right;\n",
       "    }\n",
       "</style>\n",
       "<table border=\"1\" class=\"dataframe\">\n",
       "  <thead>\n",
       "    <tr style=\"text-align: right;\">\n",
       "      <th></th>\n",
       "      <th>song</th>\n",
       "      <th>artist</th>\n",
       "      <th>type</th>\n",
       "      <th>lyrics</th>\n",
       "    </tr>\n",
       "  </thead>\n",
       "  <tbody>\n",
       "    <tr>\n",
       "      <th>count</th>\n",
       "      <td>3761</td>\n",
       "      <td>3761</td>\n",
       "      <td>3761</td>\n",
       "      <td>3761</td>\n",
       "    </tr>\n",
       "    <tr>\n",
       "      <th>unique</th>\n",
       "      <td>3668</td>\n",
       "      <td>1476</td>\n",
       "      <td>4</td>\n",
       "      <td>3761</td>\n",
       "    </tr>\n",
       "    <tr>\n",
       "      <th>top</th>\n",
       "      <td>Angel</td>\n",
       "      <td>Beatles</td>\n",
       "      <td>rock</td>\n",
       "      <td>Stairway to Heaven Lyrics[Intro]\\r\\n\\r\\n[Verse...</td>\n",
       "    </tr>\n",
       "    <tr>\n",
       "      <th>freq</th>\n",
       "      <td>5</td>\n",
       "      <td>48</td>\n",
       "      <td>972</td>\n",
       "      <td>1</td>\n",
       "    </tr>\n",
       "  </tbody>\n",
       "</table>\n",
       "</div>"
      ],
      "text/plain": [
       "         song   artist  type  \\\n",
       "count    3761     3761  3761   \n",
       "unique   3668     1476     4   \n",
       "top     Angel  Beatles  rock   \n",
       "freq        5       48   972   \n",
       "\n",
       "                                                   lyrics  \n",
       "count                                                3761  \n",
       "unique                                               3761  \n",
       "top     Stairway to Heaven Lyrics[Intro]\\r\\n\\r\\n[Verse...  \n",
       "freq                                                    1  "
      ]
     },
     "execution_count": 127,
     "metadata": {},
     "output_type": "execute_result"
    }
   ],
   "source": [
    "df = df.drop_duplicates(subset=['lyrics'], keep='first').reset_index(drop=True)\n",
    "df.describe()"
   ]
  },
  {
   "cell_type": "markdown",
   "metadata": {},
   "source": [
    "Good news regarding the ``lyrics`` variable, is time to begin working with spacy and more NLP libaries we have seen during classes."
   ]
  },
  {
   "cell_type": "markdown",
   "metadata": {},
   "source": [
    "## **1. Text Preprocessing and vectorization**"
   ]
  },
  {
   "cell_type": "markdown",
   "metadata": {},
   "source": [
    "### **1.1 NLP Pipeline**"
   ]
  },
  {
   "cell_type": "markdown",
   "metadata": {},
   "source": [
    "Before the implementation of the Pipeline let's print some ``lyrics`` instances in order to visualize which kind of none useful set of characters has been introduced"
   ]
  },
  {
   "cell_type": "code",
   "execution_count": 128,
   "metadata": {},
   "outputs": [
    {
     "name": "stdout",
     "output_type": "stream",
     "text": [
      "SONG 1\n",
      "[\"Stairway to Heaven Lyrics[Intro]\\r\\n\\r\\n[Verse 1]\\r\\nThere's a lady who's sure all that glitters is gold\\r\\nAnd she's buying a stairway to Heaven\\r\\nWhen she gets there she knows, if the stores are all closed\\r\\nWith a word she can get what she came for\\r\\nOoh, ooh, and she's buying a stairway to Heaven\\r\\nThere's a sign on the wall, but she wants to be sure\\r\\n'Cause you know sometimes words have two meanings\\r\\nIn a tree by the brook, there's a songbird who sings\\r\\nSometimes all of our thoughts are misgiven\\r\\n\\r\\n[Chorus]\\r\\nOoh, it  makes me wonder\\r\\nOoh, makes me wonder\\r\\n[Verse 2]\\r\\nThere's a feeling I get when I look to the West\\r\\nAnd my spirit is crying for leaving\\r\\nIn my thoughts I have seen rings of smoke through the trees\\r\\nAnd the voices of those who stand looking\\r\\n\\r\\n[Chorus]\\r\\nOoh, it makes me wonder\\r\\nOoh, really makes me wonder\\r\\n\\r\\n[Verse 3]\\r\\nAnd it's whispered that soon if we all call the tune\\r\\nThen the piper will lead us to reason\\r\\nAnd a new day will dawn for those who stand long\\r\\nAnd the forests will echo with laughter\\r\\n\\r\\n[Chorus]\\r\\nOh-oh-oh-oh-woahhh\\r\\n\\r\\n[Verse 4]\\r\\nIf there's a bustle in your hedgerow, don't be alarmed now\\r\\nIt's just a spring clean for the May queen\\r\\nYes, there are two paths you can go by, but in the long run\\r\\nThere's still time to change the road you're on\\r\\n\\r\\n[Chorus]\\r\\nAnd it makes me wonder\\r\\nOhh, woah\\r\\n[Verse 5]\\r\\nYour head is humming, and it won't go, in case you don't know\\r\\nThe piper's calling you to join him\\r\\nDear lady, can you hear the wind blow? And did you know\\r\\nYour stairway lies on the whispering wind?\\r\\n[Guitar Solo]\\r\\n\\r\\n[Bridge]\\r\\nAnd as we wind on down the road\\r\\nOur shadows taller than our soul\\r\\nThere walks a lady we all know\\r\\nWho shines white light and wants to show\\r\\nHow everything still turns to gold\\r\\nAnd if you listen very hard\\r\\nThe tune will come to you at last\\r\\nWhen all are one, and one is all\\r\\nTo be a rock and not to roll\\r\\n\\r\\n[Outro]\\r\\nAnd she's buying a stairway to Heaven280Embed\"]\n",
      "\n",
      "SONG 2\n",
      "[\"Hey Jude Lyrics[Verse 1: Paul McCartney]\\r\\nHey Jude, don't make it bad\\r\\nTake a sad song and make it better\\r\\nRemember to let her into your heart\\r\\nThen you can start to make it better\\r\\n\\r\\n[Verse 2: Paul McCartney, John Lennon, George Harrison]\\r\\nHey Jude, don't be afraid\\r\\nYou were made to go out and get her\\r\\nThe minute you let her under your skin\\r\\nThen you begin to make it better\\r\\n\\r\\n[Chorus: Paul McCartney, John Lennon, George Harrison]\\r\\nAnd anytime you feel the pain, hey Jude, refrain\\r\\nDon't carry the world upon your shoulders\\r\\nFor well you know that it's a fool who plays it cool\\r\\nBy making his world a little colder\\r\\nNa na na na na na na na na na\\r\\n[Verse 3: Paul McCartney]\\r\\nHey Jude, don't let me down\\r\\nYou have found her, now go and get her\\r\\n(Let it out and let it in)\\r\\nRemember (Hey Jude) to let her into your heart\\r\\nThen you can start to make it better\\r\\n\\r\\n[Chorus: Paul McCartney, John Lennon, George Harrison]\\r\\nSo let it out and let it in, hey Jude, begin\\r\\nYou're waiting for someone to perform with\\r\\nAnd don't you know that it's just you, hey Jude, you'll do\\r\\nThe movement you need is on your shoulder\\r\\nNa na na na na na na na na yeah\\r\\n\\r\\n[Verse 4: Paul McCartney & John Lennon]\\r\\nHey Jude, don't make it bad\\r\\nTake a sad song and make it better\\r\\nRemember to let her under your skin\\r\\nThen you'll begin to make it (Woah, fucking hell!)\\r\\nBetter better better better better better, oh\\r\\n\\r\\n[Outro: Paul McCartney & Lennon/Harrison/Starr]\\r\\nYeah yeah yeah yeah yeah yeah yeah\\r\\nNaa na na na na na na, na na na na, hey Jude\\r\\nNaa na na na na na na, na na na na, hey Jude\\r\\nNaa na na na na na na, na na na na, hey Jude\\r\\nNaa na na na na na na, na na na na, hey Jude\\r\\n(Jude Judy Judy Judy Judy Judy ow wow)\\r\\nNaa na na na na na na (Na na na), na na na na, hey Jude\\r\\n(Jude Jude Jude Jude Jude)\\r\\nNaa na na na na na na (Yeah yeah yeah), na na na na, hey Jude\\r\\n(You know you can make, Jude Jude, You're not gonna break it)\\r\\nNaa na (Don't make it bad Jude) na na na na na (Take a sad song and make it better), na na na na, hey Jude\\r\\nHey Jude, hey Jude wow\\r\\nNaa na na na na na na, na na na na, hey Jude\\r\\nNaa na na na na na na, na na na na, hey Jude\\r\\nJude Jude Jude Jude Jude Jude\\r\\nNaa na na na na na na, na na na na, hey Jude\\r\\nNaa na na na na na na, na na na na, hey Jude\\r\\n(Na na na na na na na na na na na na)\\r\\nNaa na na na na na na, na na na na, hey Jude\\r\\nNaa na na na na na na, na na na na, hey Jude\\r\\nNaa na na na na na na (Make it Jude), na na na na, hey Jude\\r\\n(Yeah yeah yeah yeah yeah yeah yeah)\\r\\nNaa na na na na na na, na na na na, hey Jude\\r\\n(Go listen to ya ma ma ma ma ma ma ma ma)\\r\\nNaa na na na na na na, na na na na, hey Jude\\r\\nNaa na na na na na na, na na na na, hey Jude96Embed\"]\n",
      "\n"
     ]
    }
   ],
   "source": [
    "instances = [l for l in df['lyrics'].values[:2]]\n",
    "\n",
    "for si,s in enumerate(instances):\n",
    "    print(f'SONG {si + 1}')\n",
    "    print(str([s])+'\\n')"
   ]
  },
  {
   "cell_type": "markdown",
   "metadata": {},
   "source": [
    "From these two songs we can clearly see that there are a lot of characters which is not necessary at all. Firstly it seems that at the beguining of every song, the title of the song it is included, an iformation wich is stored in other variable and we do not need. Also at the end of the song a sequence of numbers and 'Embed' word is appearing. Furthermore, every information inside '[]' is not corresponding to the lyrics itself. Finally, '/n' wich corresponds to line skip must be removed.\n",
    "\n",
    "Regarding expresions like 'na', 'yeah', 'hey'... could be interpreted as some kind of stopword which maybe is not a word which express to much but especially in this second song for example it seems to be half of the song. So deppending on troubles we could face, we will change the decision of keeping this strings. However, contractions must be treated as a 'formal' word in orther to obtain the same meaning for every word. This can be counter benefit especially in ``rap & hip hop`` genre which most of the words uses contraction to fit with the rithm of the song. But at the end we are triying to find the meaning of the words in the song and each word must be represented in the same manner in every one.  "
   ]
  },
  {
   "cell_type": "markdown",
   "metadata": {},
   "source": [
    "Creating a function to address all this problems would be the best manner to properly display the lyrics:"
   ]
  },
  {
   "cell_type": "code",
   "execution_count": 129,
   "metadata": {},
   "outputs": [],
   "source": [
    "#Maximum length of any song's Title\n",
    "lengthTitle = df['song'].apply(lambda x: len(x.split(' '))).values\n",
    "maxLen = np.max(lengthTitle) + 5 #This 5 is just a margin just in case"
   ]
  },
  {
   "cell_type": "code",
   "execution_count": 130,
   "metadata": {},
   "outputs": [
    {
     "data": {
      "text/html": [
       "<div>\n",
       "<style scoped>\n",
       "    .dataframe tbody tr th:only-of-type {\n",
       "        vertical-align: middle;\n",
       "    }\n",
       "\n",
       "    .dataframe tbody tr th {\n",
       "        vertical-align: top;\n",
       "    }\n",
       "\n",
       "    .dataframe thead th {\n",
       "        text-align: right;\n",
       "    }\n",
       "</style>\n",
       "<table border=\"1\" class=\"dataframe\">\n",
       "  <thead>\n",
       "    <tr style=\"text-align: right;\">\n",
       "      <th></th>\n",
       "      <th>song</th>\n",
       "      <th>artist</th>\n",
       "      <th>type</th>\n",
       "      <th>lyrics</th>\n",
       "      <th>correctLyrics</th>\n",
       "    </tr>\n",
       "  </thead>\n",
       "  <tbody>\n",
       "    <tr>\n",
       "      <th>0</th>\n",
       "      <td>Stairway to Heaven</td>\n",
       "      <td>Led Zeppelin</td>\n",
       "      <td>rock</td>\n",
       "      <td>Stairway to Heaven Lyrics[Intro]\\r\\n\\r\\n[Verse...</td>\n",
       "      <td>There is a lady who is sure all that glitters...</td>\n",
       "    </tr>\n",
       "    <tr>\n",
       "      <th>1</th>\n",
       "      <td>Hey Jude</td>\n",
       "      <td>Beatles</td>\n",
       "      <td>rock</td>\n",
       "      <td>Hey Jude Lyrics[Verse 1: Paul McCartney]\\r\\nHe...</td>\n",
       "      <td>Hey Jude, do not make it bad Take a sad song ...</td>\n",
       "    </tr>\n",
       "    <tr>\n",
       "      <th>2</th>\n",
       "      <td>All Along the Watchtower</td>\n",
       "      <td>Hendrix, Jimi</td>\n",
       "      <td>rock</td>\n",
       "      <td>Ii. Tambourine Lyrics[Chorus, sung]\\r\\nHey, Pi...</td>\n",
       "      <td>Hey, Pip, play your tambourine Make the sailo...</td>\n",
       "    </tr>\n",
       "    <tr>\n",
       "      <th>3</th>\n",
       "      <td>Satisfaction</td>\n",
       "      <td>Rolling Stones</td>\n",
       "      <td>rock</td>\n",
       "      <td>Sin título I Lyrics[Letra de \"Sin título I\"]\\r...</td>\n",
       "      <td>Hay tres ninas jipis en la habitacion Una se ...</td>\n",
       "    </tr>\n",
       "    <tr>\n",
       "      <th>4</th>\n",
       "      <td>Like A Rolling Stone</td>\n",
       "      <td>Dylan, Bob</td>\n",
       "      <td>rock</td>\n",
       "      <td>Like a Rolling Stone Lyrics[Verse 1]\\r\\nOnce u...</td>\n",
       "      <td>Once upon a time you dressed so fine Threw th...</td>\n",
       "    </tr>\n",
       "    <tr>\n",
       "      <th>...</th>\n",
       "      <td>...</td>\n",
       "      <td>...</td>\n",
       "      <td>...</td>\n",
       "      <td>...</td>\n",
       "      <td>...</td>\n",
       "    </tr>\n",
       "    <tr>\n",
       "      <th>3756</th>\n",
       "      <td>Motown 25</td>\n",
       "      <td>Elzhi</td>\n",
       "      <td>rap &amp; hip hop</td>\n",
       "      <td>Motown 25 Lyrics[Verse 1: eLZhi]\\r\\nI end care...</td>\n",
       "      <td>I end careers, years, pierce ears fierce with...</td>\n",
       "    </tr>\n",
       "    <tr>\n",
       "      <th>3757</th>\n",
       "      <td>How Ya Like Me Now</td>\n",
       "      <td>Kool Moe Dee</td>\n",
       "      <td>rap &amp; hip hop</td>\n",
       "      <td>How Ya Like Me Now Lyrics\"All aboard for the n...</td>\n",
       "      <td>\"All aboard for the night train\" I throw my ta...</td>\n",
       "    </tr>\n",
       "    <tr>\n",
       "      <th>3758</th>\n",
       "      <td>Coastin’</td>\n",
       "      <td>Zion I feat. K.Flay</td>\n",
       "      <td>rap &amp; hip hop</td>\n",
       "      <td>Coastin’ LyricsWhen life brings trouble\\r\\nYou...</td>\n",
       "      <td>When life brings trouble You can fight or run ...</td>\n",
       "    </tr>\n",
       "    <tr>\n",
       "      <th>3759</th>\n",
       "      <td>Head Banger</td>\n",
       "      <td>EPMD</td>\n",
       "      <td>rap &amp; hip hop</td>\n",
       "      <td>Headbanger Lyrics[Redman]\\r\\nNegroes!!!!!!!!\\r...</td>\n",
       "      <td>Negroes!!!!!!!! The head banger, WHAT? The he...</td>\n",
       "    </tr>\n",
       "    <tr>\n",
       "      <th>3760</th>\n",
       "      <td>Sound Bwoy Burell</td>\n",
       "      <td>Smif-N-Wessun</td>\n",
       "      <td>rap &amp; hip hop</td>\n",
       "      <td>Sound Bwoy Bureill Lyrics[Intro: Sample from C...</td>\n",
       "      <td>We are the winning champion sound. You cannot...</td>\n",
       "    </tr>\n",
       "  </tbody>\n",
       "</table>\n",
       "<p>3761 rows × 5 columns</p>\n",
       "</div>"
      ],
      "text/plain": [
       "                          song               artist           type  \\\n",
       "0           Stairway to Heaven         Led Zeppelin           rock   \n",
       "1                     Hey Jude              Beatles           rock   \n",
       "2     All Along the Watchtower        Hendrix, Jimi           rock   \n",
       "3                 Satisfaction       Rolling Stones           rock   \n",
       "4         Like A Rolling Stone           Dylan, Bob           rock   \n",
       "...                        ...                  ...            ...   \n",
       "3756                 Motown 25                Elzhi  rap & hip hop   \n",
       "3757        How Ya Like Me Now         Kool Moe Dee  rap & hip hop   \n",
       "3758                  Coastin’  Zion I feat. K.Flay  rap & hip hop   \n",
       "3759               Head Banger                 EPMD  rap & hip hop   \n",
       "3760         Sound Bwoy Burell        Smif-N-Wessun  rap & hip hop   \n",
       "\n",
       "                                                 lyrics  \\\n",
       "0     Stairway to Heaven Lyrics[Intro]\\r\\n\\r\\n[Verse...   \n",
       "1     Hey Jude Lyrics[Verse 1: Paul McCartney]\\r\\nHe...   \n",
       "2     Ii. Tambourine Lyrics[Chorus, sung]\\r\\nHey, Pi...   \n",
       "3     Sin título I Lyrics[Letra de \"Sin título I\"]\\r...   \n",
       "4     Like a Rolling Stone Lyrics[Verse 1]\\r\\nOnce u...   \n",
       "...                                                 ...   \n",
       "3756  Motown 25 Lyrics[Verse 1: eLZhi]\\r\\nI end care...   \n",
       "3757  How Ya Like Me Now Lyrics\"All aboard for the n...   \n",
       "3758  Coastin’ LyricsWhen life brings trouble\\r\\nYou...   \n",
       "3759  Headbanger Lyrics[Redman]\\r\\nNegroes!!!!!!!!\\r...   \n",
       "3760  Sound Bwoy Bureill Lyrics[Intro: Sample from C...   \n",
       "\n",
       "                                          correctLyrics  \n",
       "0      There is a lady who is sure all that glitters...  \n",
       "1      Hey Jude, do not make it bad Take a sad song ...  \n",
       "2      Hey, Pip, play your tambourine Make the sailo...  \n",
       "3      Hay tres ninas jipis en la habitacion Una se ...  \n",
       "4      Once upon a time you dressed so fine Threw th...  \n",
       "...                                                 ...  \n",
       "3756   I end careers, years, pierce ears fierce with...  \n",
       "3757  \"All aboard for the night train\" I throw my ta...  \n",
       "3758  When life brings trouble You can fight or run ...  \n",
       "3759   Negroes!!!!!!!! The head banger, WHAT? The he...  \n",
       "3760   We are the winning champion sound. You cannot...  \n",
       "\n",
       "[3761 rows x 5 columns]"
      ]
     },
     "metadata": {},
     "output_type": "display_data"
    }
   ],
   "source": [
    "import re\n",
    "import contractions\n",
    "import unicodedata\n",
    "\n",
    "def correctLyrics(row, maxLen):\n",
    "    text = row['lyrics']\n",
    "    #1. Remove '\\n' and Unicode Escape Sequence ('\\u2005f)\n",
    "    text =  re.sub(r'\\n', ' ', text)\n",
    "    text = unicodedata.normalize('NFKD', text).encode('ascii', 'ignore').decode('utf-8')\n",
    "    #2. Remove '[]'\n",
    "    text = re.sub(r'\\[.*?\\]', ' ', text)\n",
    "    #3. Remove initial title + 'Lyrics' Keyword\n",
    "    titleWords = text.split(' ')[:maxLen] #Save time and avoid errors\n",
    "    restWords = text.split(' ')[maxLen:]\n",
    "    titleWords = re.sub(r'.*?Lyrics', '', ' '.join(titleWords))\n",
    "    text = titleWords + ' ' + ' '.join(restWords)\n",
    "    #4. Remove 'Embed' at the end word of the song\n",
    "    text = re.sub(r'\\d+Embed|Embed', '', text)\n",
    "    #5.Avoid more than 1 Espaces\n",
    "    text = re.sub(r'\\s+', ' ', text)\n",
    "    #6. Remove contractions\n",
    "    text = contractions.fix(text)\n",
    "    return text\n",
    "\n",
    "df['correctLyrics'] = df.apply(lambda x: correctLyrics(x,maxLen), axis=1)\n",
    "\n",
    "display(df)"
   ]
  },
  {
   "cell_type": "markdown",
   "metadata": {},
   "source": [
    "After all these modifications let's see if the previous songs lyrics has an uniform structure: "
   ]
  },
  {
   "cell_type": "code",
   "execution_count": 131,
   "metadata": {},
   "outputs": [
    {
     "name": "stdout",
     "output_type": "stream",
     "text": [
      "SONG 1\n",
      "[\" There is a lady who is sure all that glitters is gold And she is buying a stairway to Heaven When she gets there she knows, if the stores are all closed With a word she can get what she came for Ooh, ooh, and she is buying a stairway to Heaven There is a sign on the wall, but she wants to be sure Because you know sometimes words have two meanings In a tree by the brook, there is a songbird who sings Sometimes all of our thoughts are misgiven Ooh, it makes me wonder Ooh, makes me wonder There is a feeling I get when I look to the West And my spirit is crying for leaving In my thoughts I have seen rings of smoke through the trees And the voices of those who stand looking Ooh, it makes me wonder Ooh, really makes me wonder And it is whispered that soon if we all call the tune Then the piper will lead us to reason And a new day will dawn for those who stand long And the forests will echo with laughter Oh-oh-oh-oh-woahhh If there is a bustle in your hedgerow, do not be alarmed now It is just a spring clean for the May queen Yes, there are two paths you can go by, but in the long run There is still time to change the road you are on And it makes me wonder Ohh, woah Your head is humming, and it will not go, in case you do not know The piper's calling you to join him Dear lady, can you hear the wind blow? And did you know Your stairway lies on the whispering wind? And as we wind on down the road Our shadows taller than our soul There walks a lady we all know Who shines white light and wants to show How everything still turns to gold And if you listen very hard The tune will come to you at last When all are one, and one is all To be a rock and not to roll And she is buying a stairway to Heaven\"]\n",
      "\n",
      "SONG 2\n",
      "[' Hey Jude, do not make it bad Take a sad song and make it better Remember to let her into your heart Then you can start to make it better Hey Jude, do not be afraid You were made to go out and get her The minute you let her under your skin Then you begin to make it better And anytime you feel the pain, hey Jude, refrain Do not carry the world upon your shoulders For well you know that it is a fool who plays it cool By making his world a little colder Na na na na na na na na na na Hey Jude, do not let me down You have found her, now go and get her (Let it out and let it in) Remember (Hey Jude) to let her into your heart Then you can start to make it better So let it out and let it in, hey Jude, begin You are waiting for someone to perform with And do not you know that it is just you, hey Jude, you will do The movement you need is on your shoulder Na na na na na na na na na yeah Hey Jude, do not make it bad Take a sad song and make it better Remember to let her under your skin Then you will begin to make it (Woah, fucking hell!) Better better better better better better, oh Yeah yeah yeah yeah yeah yeah yeah Naa na na na na na na, na na na na, hey Jude Naa na na na na na na, na na na na, hey Jude Naa na na na na na na, na na na na, hey Jude Naa na na na na na na, na na na na, hey Jude (Jude Judy Judy Judy Judy Judy ow wow) Naa na na na na na na (Na na na), na na na na, hey Jude (Jude Jude Jude Jude Jude) Naa na na na na na na (Yeah yeah yeah), na na na na, hey Jude (You know you can make, Jude Jude, You are not going to break it) Naa na (Do not make it bad Jude) na na na na na (Take a sad song and make it better), na na na na, hey Jude Hey Jude, hey Jude wow Naa na na na na na na, na na na na, hey Jude Naa na na na na na na, na na na na, hey Jude Jude Jude Jude Jude Jude Jude Naa na na na na na na, na na na na, hey Jude Naa na na na na na na, na na na na, hey Jude (Na na na na na na na na na na na na) Naa na na na na na na, na na na na, hey Jude Naa na na na na na na, na na na na, hey Jude Naa na na na na na na (Make it Jude), na na na na, hey Jude (Yeah yeah yeah yeah yeah yeah yeah) Naa na na na na na na, na na na na, hey Jude (Go listen to ya ma ma ma ma ma ma ma ma) Naa na na na na na na, na na na na, hey Jude Naa na na na na na na, na na na na, hey Jude']\n",
      "\n"
     ]
    }
   ],
   "source": [
    "instances = [l for l in df['correctLyrics'].values[:2]]\n",
    "\n",
    "for si,s in enumerate(instances):\n",
    "    print(f'SONG {si + 1}')\n",
    "    print(str([s])+'\\n')"
   ]
  },
  {
   "cell_type": "markdown",
   "metadata": {},
   "source": [
    "Now, these lyrics seems to be readable, escape sequences and Unicode elements has been removed, both title at the begining of the word and Embed at the has been also adressed. Finally, contractions has been recover onto its original verb. So far, so good."
   ]
  },
  {
   "cell_type": "markdown",
   "metadata": {},
   "source": [
    "However, something we need to know previously working with songs lyrics is that our dataset is about the 1000 most heard songs for every genre but this does not implies that all our songs are in the same language! Therefore, it would be useful to determine which language predominates for each song and in the case of minoritary languages, remove that instance because otherwise it would be impossible to asign a topic for these kind of sentences. Therefore, it is the moment to visualize which language priorises in this dataset and which other languages could surprise us."
   ]
  },
  {
   "cell_type": "code",
   "execution_count": 132,
   "metadata": {},
   "outputs": [],
   "source": [
    "from spacy.language import Language\n",
    "from spacy_langdetect import LanguageDetector\n",
    "\n",
    "# Add LanguageDetector and assign it a string name\n",
    "@Language.factory(\"language_detector\")\n",
    "def create_language_detector(nlp, name):\n",
    "    return LanguageDetector(language_detection_function=None)\n",
    "\n",
    "mult_nlp = spacy.load('xx_sent_ud_sm')\n",
    "\n",
    "mult_nlp.add_pipe('language_detector', last=True)\n",
    "\n",
    "mult_doc = mult_nlp(df['correctLyrics'].values[0])\n",
    "def getLanguage(row):\n",
    "    mult_doc = mult_nlp(row['correctLyrics'])\n",
    "    return mult_doc._.language['language']\n",
    "\n",
    "df['language'] = df.apply(getLanguage, axis = 1)"
   ]
  },
  {
   "cell_type": "markdown",
   "metadata": {},
   "source": [
    "Surprisingly it only tooks one minute!. When we iniciate the process we were expecting 30 mins at list. This is not bad at all, now we can see which languages predominates in our dataset and this could be good information for a better interpretation of the number of topics we may need to select. Let's plot a histogram to visualize how this ``language`` variable is distributed."
   ]
  },
  {
   "cell_type": "code",
   "execution_count": 133,
   "metadata": {},
   "outputs": [
    {
     "data": {
      "text/plain": [
       "<AxesSubplot:>"
      ]
     },
     "execution_count": 133,
     "metadata": {},
     "output_type": "execute_result"
    },
    {
     "data": {
      "image/png": "[encoded data removed]",
      "text/plain": [
       "<Figure size 432x288 with 1 Axes>"
      ]
     },
     "metadata": {
      "needs_background": "light"
     },
     "output_type": "display_data"
    }
   ],
   "source": [
    "df['language'].hist()"
   ]
  },
  {
   "cell_type": "markdown",
   "metadata": {},
   "source": [
    "Wow! Almost every song is in english. So, obviously this will be the main language in the corpus. However, let's put the spotlight in those minoritary languages, it does not seem that they include sufficient enough docs to perform a correct. Thus, let's focus now in this languages songs:"
   ]
  },
  {
   "cell_type": "code",
   "execution_count": 134,
   "metadata": {},
   "outputs": [
    {
     "name": "stdout",
     "output_type": "stream",
     "text": [
      "Tne number of non-english songs is 31 which correspond to 0.824% of the dataset\n"
     ]
    },
    {
     "data": {
      "image/png": "[encoded data removed]",
      "text/plain": [
       "<Figure size 432x288 with 1 Axes>"
      ]
     },
     "metadata": {
      "needs_background": "light"
     },
     "output_type": "display_data"
    }
   ],
   "source": [
    "dfNoteng = df.loc[df['language'] != 'en']\n",
    "dfNoteng['language'].hist()\n",
    "print(f'Tne number of non-english songs is {dfNoteng.shape[0]} which correspond to {dfNoteng.shape[0]/df.shape[0]*100:.3f}% of the dataset')"
   ]
  },
  {
   "cell_type": "markdown",
   "metadata": {},
   "source": [
    "It is less than a 1% of the total songs and the most repeated language is 'tagalog' which is a philipine language and are 6 instances of this language. Therefore it is assumible the loss of these instances. Therefore, after this deletion it is our time to apply our spicy Pipeline after the creation of the corpus."
   ]
  },
  {
   "cell_type": "code",
   "execution_count": 135,
   "metadata": {},
   "outputs": [],
   "source": [
    "df = df.loc[df['language'] == 'en'].reset_index(drop=True)\n",
    "\n",
    "corpus = [elem for elem in df['correctLyrics']]\n",
    "\n",
    "with open('corpus.txt', 'w+') as c:\n",
    "    c.write(str(corpus))"
   ]
  },
  {
   "cell_type": "markdown",
   "metadata": {},
   "source": [
    "``corpus`` variable is composed by a long list including every song on it. We have done is in this way because we think Python lists for this kind of task would be faster than using Pandas Dataframes. From this we will create a Pipeline simiarily as we did in classes notebook and use further machine learning algorithm as final work statement requests."
   ]
  },
  {
   "cell_type": "markdown",
   "metadata": {},
   "source": [
    "Once the ``corpus`` has been created, it is very easy to apply a Pipeline:"
   ]
  },
  {
   "cell_type": "code",
   "execution_count": 136,
   "metadata": {},
   "outputs": [
    {
     "name": "stderr",
     "output_type": "stream",
     "text": [
      "100%|██████████| 3730/3730 [00:15<00:00, 238.44it/s]\n"
     ]
    }
   ],
   "source": [
    "from num2words import num2words\n",
    "from tqdm import tqdm\n",
    "from nltk.tokenize import wordpunct_tokenize\n",
    "from nltk.corpus import stopwords\n",
    "from nltk.stem import WordNetLemmatizer\n",
    "\n",
    "stopwords_en = stopwords.words('english')\n",
    "wnl = WordNetLemmatizer()\n",
    "\n",
    "#IMPORT CORPUS\n",
    "with open('corpus.txt', 'r') as c:\n",
    "    corpus = eval(c.read())\n",
    "##############\n",
    "\n",
    "valid_POS = set(['VERB', 'NOUN', 'ADJ', 'PROPN', 'NUM'])\n",
    "\n",
    "def convertNum2words(token):\n",
    "    try:\n",
    "        return num2words(token)\n",
    "    except:\n",
    "        return token\n",
    "\n",
    "def corpusPreprocessing(song):\n",
    "    #1. Tokenization\n",
    "    doc = wordpunct_tokenize(song)\n",
    "    #2. Filtering by Alphanumeric and Lower the Text\n",
    "    lowerToken = [token.lower() for token in doc if token.isalnum()]\n",
    "    tokenList = [convertNum2words(token) for token in lowerToken]\n",
    "    #3. Lemmatization of the data\n",
    "    lemmaList = [wnl.lemmatize(el) for el in tokenList]\n",
    "    #4. Cleanning StopWords\n",
    "    finalCorpus = [lemma for lemma in lemmaList if lemma not in stopwords_en]\n",
    "    return finalCorpus\n",
    "\n",
    "corpus = [corpusPreprocessing(s) for s in tqdm(corpus)]"
   ]
  },
  {
   "cell_type": "code",
   "execution_count": 137,
   "metadata": {},
   "outputs": [],
   "source": [
    "#SAVE CORPUS\n",
    "with open('corpus.txt', 'w+') as c:\n",
    "    c.write(str(corpus))\n",
    "##############"
   ]
  },
  {
   "cell_type": "markdown",
   "metadata": {},
   "source": [
    "It is surprisingly fast compared to the Pipeline provided by SpaCy. In only took 33 seconds which is 10 times less than the previous Pipeline we constructed but we decided to rewrite it because of the lack of performance and .lower() was not available. Anyway, we decided to store this new corpus inside a txt file such as a 'checkpoint' to save time as much as possible."
   ]
  },
  {
   "cell_type": "markdown",
   "metadata": {},
   "source": [
    "### **1.2 Text Vectorization**"
   ]
  },
  {
   "cell_type": "markdown",
   "metadata": {},
   "source": [
    "Now it is the moment of use N-Grams from ``gensim`` library in order to group in the same token those words that has a tendency of appear together:"
   ]
  },
  {
   "cell_type": "code",
   "execution_count": 138,
   "metadata": {},
   "outputs": [
    {
     "name": "stderr",
     "output_type": "stream",
     "text": [
      "100%|██████████| 3730/3730 [00:01<00:00, 2177.12it/s]\n"
     ]
    }
   ],
   "source": [
    "#IMPORT CORPUS\n",
    "with open('corpus.txt', 'r') as c:\n",
    "    corpus = eval(c.read())\n",
    "##############\n",
    "from tqdm import tqdm\n",
    "from gensim.models.phrases import Phrases\n",
    "\n",
    "phrase_model = Phrases(corpus, min_count=2, threshold=20)\n",
    "\n",
    "corpus = [el for el in tqdm(phrase_model[corpus])]"
   ]
  },
  {
   "cell_type": "markdown",
   "metadata": {},
   "source": [
    "Finally, in order to find a BoW and TF-IDF representation from our corpus, it is necessary to create previously a Gensim Dictionary where the songs will be stored. Once it is created, we can't include more instances, therefore this step is only made when the corpus has been finished."
   ]
  },
  {
   "cell_type": "code",
   "execution_count": 139,
   "metadata": {},
   "outputs": [
    {
     "name": "stdout",
     "output_type": "stream",
     "text": [
      "Our dictionary contains 78937 terms\n"
     ]
    }
   ],
   "source": [
    "from gensim.corpora import Dictionary\n",
    "\n",
    "# Create dictionary of tokens\n",
    "D = Dictionary(corpus)\n",
    "\n",
    "print('Our dictionary contains', len(D), 'terms')"
   ]
  },
  {
   "cell_type": "markdown",
   "metadata": {},
   "source": [
    "Wow! more than 70000 terms in our diccionary. Compared to what we saw from IMBD dataset, this ones contains more items. However, this is not definitive, probably there are several terms that appears barely compared to from what we see in the IMBD which maybe follows a similar structure since a review could be good, bad but nothing else. Let's filter our Diccionary and we will see which are the real tokens that we will need to analyse:"
   ]
  },
  {
   "cell_type": "code",
   "execution_count": 140,
   "metadata": {},
   "outputs": [
    {
     "name": "stdout",
     "output_type": "stream",
     "text": [
      "Our dictionary contains 24466 terms\n"
     ]
    }
   ],
   "source": [
    "D.filter_extremes(no_below=3,no_above=.80)\n",
    "\n",
    "print('Our dictionary contains', len(D), 'terms')"
   ]
  },
  {
   "cell_type": "markdown",
   "metadata": {},
   "source": [
    "Now it makes sense, it decreased drastically and now it seems to be a good bunch of woords to work with. Now it is the moment to introduce clasical representations which using Gensim is quite easy:"
   ]
  },
  {
   "cell_type": "code",
   "execution_count": 141,
   "metadata": {},
   "outputs": [
    {
     "name": "stdout",
     "output_type": "stream",
     "text": [
      "[(3, 16), (5, 1), (10, 2), (11, 1), (17, 1), (19, 1), (20, 12), (21, 1), (23, 1), (25, 3), (28, 3), (33, 1), (37, 1), (38, 12), (40, 4), (43, 1), (46, 6), (47, 1), (65, 2), (67, 1), (68, 9), (69, 2), (72, 2), (75, 1), (77, 1), (78, 3), (82, 5), (83, 1), (85, 1), (87, 4), (91, 4), (95, 1), (97, 1), (98, 1), (99, 1), (100, 1), (101, 1), (102, 3), (103, 2), (104, 1), (105, 1), (106, 1), (107, 5), (108, 1), (109, 1), (110, 1), (111, 2), (112, 2), (113, 2), (114, 2), (115, 13), (116, 4), (117, 1), (118, 1), (119, 1), (120, 1), (121, 1), (122, 1), (123, 1), (124, 6), (125, 1), (126, 2), (127, 3), (128, 2), (129, 1), (130, 6), (131, 1), (132, 1), (133, 1), (134, 1), (135, 1), (136, 1), (137, 1), (138, 1), (139, 1), (140, 1), (141, 1), (142, 2), (143, 4), (144, 2), (145, 1), (146, 1), (147, 1), (148, 1), (149, 1), (150, 1), (151, 1), (152, 2), (153, 1), (154, 1), (155, 1), (156, 1), (157, 1), (158, 1), (159, 3), (160, 2), (161, 1), (162, 1), (163, 1), (164, 1), (165, 2), (166, 1), (167, 1), (168, 1), (169, 1), (170, 2), (171, 1), (172, 1), (173, 1), (174, 3), (175, 1), (176, 1), (177, 1), (178, 2), (179, 1), (180, 1), (181, 1), (182, 1), (183, 1), (184, 1), (185, 1), (186, 1), (187, 1), (188, 1), (189, 2), (190, 1), (191, 1), (192, 2), (193, 4), (194, 1), (195, 1), (196, 1), (197, 1), (198, 1), (199, 1), (200, 2), (201, 1), (202, 1), (203, 1), (204, 1), (205, 2), (206, 1), (207, 3), (208, 2), (209, 1), (210, 1), (211, 1), (212, 1), (213, 1), (214, 2), (215, 17), (216, 1), (217, 1), (218, 1), (219, 1), (220, 2), (221, 1), (222, 1), (223, 2), (224, 3), (225, 1), (226, 2), (227, 1), (228, 1), (229, 1), (230, 1), (231, 1), (232, 3), (233, 1), (234, 1), (235, 3), (236, 1), (237, 1), (238, 1), (239, 1), (240, 1), (241, 1), (242, 1), (243, 1), (244, 1), (245, 1), (246, 1), (247, 2), (248, 1), (249, 1), (250, 1), (251, 1), (252, 1), (253, 1), (254, 1), (255, 1), (256, 2), (257, 6), (258, 1), (259, 3), (260, 3), (261, 1), (262, 1), (263, 1), (264, 1), (265, 1), (266, 1), (267, 1), (268, 2), (269, 1), (270, 1), (271, 4), (272, 2), (273, 1), (274, 1), (275, 1), (276, 2), (277, 1), (278, 1), (279, 1), (280, 1), (281, 1), (282, 1), (283, 1), (284, 1), (285, 4), (286, 1), (287, 1), (288, 1), (289, 2), (290, 1), (291, 2), (292, 1), (293, 1), (294, 2), (295, 9), (296, 4), (297, 1), (298, 1), (299, 2), (300, 2), (301, 1), (302, 2), (303, 1), (304, 1), (305, 1), (306, 1), (307, 18), (308, 2), (309, 1), (310, 1), (311, 1), (312, 7), (313, 1), (314, 1), (315, 1), (316, 1), (317, 2), (318, 1), (319, 1), (320, 2), (321, 2), (322, 1), (323, 1), (324, 1), (325, 1), (326, 4), (327, 1), (328, 1), (329, 1), (330, 2), (331, 1), (332, 1), (333, 1), (334, 3), (335, 1), (336, 3), (337, 1), (338, 2), (339, 3), (340, 3), (341, 1), (342, 2), (343, 1), (344, 2), (345, 1), (346, 4), (347, 1), (348, 1), (349, 1), (350, 1), (351, 1), (352, 6), (353, 2), (354, 1), (355, 1), (356, 1), (357, 2), (358, 1), (359, 1), (360, 1), (361, 1), (362, 1), (363, 1), (364, 1), (365, 2), (366, 1), (367, 1), (368, 1), (369, 1), (370, 1), (371, 1), (372, 1), (373, 1), (374, 1), (375, 1), (376, 1), (377, 1), (378, 7), (379, 1), (380, 1), (381, 1), (382, 6), (383, 1), (384, 2), (385, 1), (386, 1), (387, 2), (388, 1), (389, 1), (390, 1), (391, 1), (392, 1), (393, 1), (394, 1), (395, 1), (396, 1), (397, 1), (398, 1), (399, 2), (400, 1), (401, 1), (402, 1), (403, 1), (404, 1), (405, 1), (406, 1), (407, 6), (408, 1), (409, 1), (410, 1), (411, 3), (412, 1), (413, 2), (414, 2), (415, 3), (416, 3), (417, 3), (418, 1), (419, 1), (420, 1)]\n",
      "[(3, 0.1465083808216308), (5, 0.01034862703554985), (10, 0.008358629378848017), (11, 0.010980093791498627), (17, 0.01096809072865308), (19, 0.003186369124076157), (20, 0.04785750776680603), (21, 0.014789098104985052), (23, 0.009041187344786594), (25, 0.043542288739261706), (28, 0.006951921088358173), (33, 0.017264047547761226), (37, 0.007579170188523216), (38, 0.0865092145428478), (40, 0.01712980121210686), (43, 0.010000766205824187), (46, 0.02210906638787976), (47, 0.01044489784484179), (65, 0.025845323131886352), (67, 0.014049757241327296), (68, 0.0994745003050909), (69, 0.03668069187155136), (72, 0.022997492504030596), (75, 0.011277145264483946), (77, 0.009024890496790868), (78, 0.010590898199674634), (82, 0.03860693725677095), (83, 0.008334418288799106), (85, 0.010620750145628344), (87, 0.015528251718480652), (91, 0.052192696612800786), (95, 0.014027632365025595), (97, 0.010609576726635555), (98, 0.03570810627376566), (99, 0.034266451910014935), (100, 0.032234554206167665), (101, 0.01263032586894992), (102, 0.04599415884478972), (103, 0.051913225559542114), (104, 0.03570810627376566), (105, 0.03570810627376566), (106, 0.016378537155452618), (107, 0.11068659183755263), (108, 0.023255552367124406), (109, 0.019130268134707994), (110, 0.02354198897415783), (111, 0.0662964358208021), (112, 0.06853290382002987), (113, 0.01763543523382066), (114, 0.041225662207877455), (115, 0.40900681316581217), (116, 0.018911881741226946), (117, 0.010873087384007354), (118, 0.016378537155452618), (119, 0.0267291044347224), (120, 0.023396724416406448), (121, 0.01784377403962807), (122, 0.013769483808533016), (123, 0.0302026565023204), (124, 0.1088146538423711), (125, 0.034266451910014935), (126, 0.07141621254753132), (127, 0.03009152041659542), (128, 0.023322576764099184), (129, 0.026458158647882542), (130, 0.07055158665789579), (131, 0.01603750244508855), (132, 0.0172221119361618), (133, 0.008849038196004312), (134, 0.011675074570502727), (135, 0.02077988911815912), (136, 0.018036539202712566), (137, 0.021041406348422335), (138, 0.02620111377520506), (139, 0.032234554206167665), (140, 0.013769483808533016), (141, 0.032234554206167665), (142, 0.0323422888015583), (143, 0.04836929066382994), (144, 0.0534582088694448), (145, 0.025287450070971672), (146, 0.019254009640009066), (147, 0.018237016989623725), (148, 0.01964469646837715), (149, 0.034266451910014935), (150, 0.021609327707993183), (151, 0.03570810627376566), (152, 0.03755276798157093), (153, 0.03146206255121632), (154, 0.02731934777481894), (155, 0.03146206255121632), (156, 0.024514958416020333), (157, 0.01839282051307267), (158, 0.022137318367510525), (159, 0.0336791931858343), (160, 0.035046618617850585), (161, 0.013176911267212956), (162, 0.018499447436534967), (163, 0.013896896002471534), (164, 0.02731934777481894), (165, 0.051001456119682896), (166, 0.012697592333181157), (167, 0.02876100213856967), (168, 0.01713927903634073), (169, 0.030792899842416937), (170, 0.033189769677923676), (171, 0.03146206255121632), (172, 0.03314821791040105), (173, 0.021223654663277143), (174, 0.038874608045651904), (175, 0.023845795707220944), (176, 0.027015541041755825), (177, 0.025500728059841448), (178, 0.05752200427713934), (179, 0.02131732610722607), (180, 0.02131732610722607), (181, 0.019130268134707994), (182, 0.016782595035929212), (183, 0.016594884838961838), (184, 0.020952708876437277), (185, 0.034266451910014935), (186, 0.023255552367124406), (187, 0.02876100213856967), (188, 0.016898691572024952), (189, 0.05839408038715891), (190, 0.022483060712173063), (191, 0.008596315252307259), (192, 0.018481997831502495), (193, 0.03046353199967432), (194, 0.016859693115736055), (195, 0.03314821791040105), (196, 0.007585270343070989), (197, 0.00914842862649717), (198, 0.034266451910014935), (199, 0.029674665842803056), (200, 0.027331453937485466), (201, 0.012817526038300732), (202, 0.02876100213856967), (203, 0.014587612621239173), (204, 0.019445546699584853), (205, 0.024582539369016648), (206, 0.012800215912825904), (207, 0.0352337406329225), (208, 0.025880801231532056), (209, 0.028359886011240187), (210, 0.02202717599224345), (211, 0.018833656343788516), (212, 0.006463375359725167), (213, 0.025956612779771057), (214, 0.043218655415986365), (215, 0.19084876138639437), (216, 0.02272756170760706), (217, 0.0026434303858199203), (218, 0.023255552367124406), (219, 0.015388987793280951), (220, 0.030548878693427713), (221, 0.034266451910014935), (222, 0.03570810627376566), (223, 0.02030253259132947), (224, 0.04269108996719906), (225, 0.027015541041755825), (226, 0.028278493393863773), (227, 0.034266451910014935), (228, 0.00797216431027868), (229, 0.02876100213856967), (230, 0.012229209741620438), (231, 0.01964469646837715), (232, 0.02869665569910391), (233, 0.010327482378262795), (234, 0.018663766299912527), (235, 0.06856330871938476), (236, 0.008092280545633471), (237, 0.027015541041755825), (238, 0.018776383990785465), (239, 0.03314821791040105), (240, 0.026458158647882542), (241, 0.022249936058383466), (242, 0.03146206255121632), (243, 0.03146206255121632), (244, 0.03570810627376566), (245, 0.03146206255121632), (246, 0.02876100213856967), (247, 0.03364199161766463), (248, 0.027642768138955786), (249, 0.03570810627376566), (250, 0.019577430004145913), (251, 0.022603820202305988), (252, 0.014184597923573591), (253, 0.025500728059841448), (254, 0.01844585038721129), (255, 0.013543989573183306), (256, 0.010680528410270758), (257, 0.015942659685412943), (258, 0.03146206255121632), (259, 0.08195804332445683), (260, 0.02132459886522436), (261, 0.029197040193579455), (262, 0.012275682498248853), (263, 0.020531345140382233), (264, 0.011498746252015298), (265, 0.0033357399087148264), (266, 0.022984606580284544), (267, 0.03570810627376566), (268, 0.05839408038715891), (269, 0.008544307469882034), (270, 0.022249936058383466), (271, 0.01991682389518731), (272, 0.06853290382002987), (273, 0.012417743939021772), (274, 0.010110688937588246), (275, 0.014763464922025727), (276, 0.044966121424346125), (277, 0.018719758796864126), (278, 0.007226117446733198), (279, 0.03314821791040105), (280, 0.013940096928139592), (281, 0.01409430221322634), (282, 0.0302026565023204), (283, 0.021510091270310568), (284, 0.015331386281596571), (285, 0.036460744828552466), (286, 0.012092322665957484), (287, 0.0267291044347224), (288, 0.03314821791040105), (289, 0.019406718399229916), (290, 0.025500728059841448), (291, 0.0604053130046408), (292, 0.02488633394364219), (293, 0.013048174153200197), (294, 0.03826053626941599), (295, 0.042676151892054655), (296, 0.03379652249765023), (297, 0.030792899842416937), (298, 0.024339106115233773), (299, 0.03699889487306993), (300, 0.061585799684833874), (301, 0.019191756959429873), (302, 0.04708397794831566), (303, 0.01775010259567914), (304, 0.01344475313550069), (305, 0.02354198897415783), (306, 0.02416921607135779), (307, 0.5663171259218938), (308, 0.019500300336670506), (309, 0.01839282051307267), (310, 0.015162450857466729), (311, 0.03146206255121632), (312, 0.12144290527844762), (313, 0.024004897207980228), (314, 0.017939229808446196), (315, 0.013121332771363844), (316, 0.022483060712173063), (317, 0.05463869554963788), (318, 0.029674665842803056), (319, 0.007790858053203166), (320, 0.04226340411753917), (321, 0.04769159141444189), (322, 0.027988510483618327), (323, 0.0302026565023204), (324, 0.008514829288750766), (325, 0.015331386281596571), (326, 0.05491089172270082), (327, 0.023691590422134194), (328, 0.028359886011240187), (329, 0.02488633394364219), (330, 0.05528553627791157), (331, 0.03570810627376566), (332, 0.03570810627376566), (333, 0.02354198897415783), (334, 0.04634177731497605), (335, 0.004928659530279831), (336, 0.09944465373120313), (337, 0.03570810627376566), (338, 0.03637228130137786), (339, 0.050007381983593426), (340, 0.012009107200901448), (341, 0.018499447436534967), (342, 0.03282790536672805), (343, 0.02620111377520506), (344, 0.04090232601665159), (345, 0.01587531106055517), (346, 0.0796926893952338), (347, 0.032234554206167665), (348, 0.03146206255121632), (349, 0.011661288382049592), (350, 0.0302026565023204), (351, 0.01411672406871775), (352, 0.10435201188022669), (353, 0.025294116051741426), (354, 0.022483060712173063), (355, 0.012291269684508324), (356, 0.01112641882462), (357, 0.023267658529790933), (358, 0.01813577564039518), (359, 0.025082879775591177), (360, 0.025287450070971672), (361, 0.02202717599224345), (362, 0.01889159081958332), (363, 0.027988510483618327), (364, 0.012449867615318718), (365, 0.018263559705143897), (366, 0.027642768138955786), (367, 0.019511054512686553), (368, 0.017523309308925292), (369, 0.027988510483618327), (370, 0.027642768138955786), (371, 0.032234554206167665), (372, 0.03314821791040105), (373, 0.023691590422134194), (374, 0.011620155923964539), (375, 0.030792899842416937), (376, 0.026458158647882542), (377, 0.004867959324072788), (378, 0.22564187944317365), (379, 0.0302026565023204), (380, 0.02488633394364219), (381, 0.023845795707220944), (382, 0.041473765005459046), (383, 0.010665694629333889), (384, 0.029526929844051454), (385, 0.026458158647882542), (386, 0.024339106115233773), (387, 0.02263109207477411), (388, 0.018719758796864126), (389, 0.03570810627376566), (390, 0.02620111377520506), (391, 0.030792899842416937), (392, 0.03570810627376566), (393, 0.034266451910014935), (394, 0.016103877936547918), (395, 0.028359886011240187), (396, 0.03570810627376566), (397, 0.0302026565023204), (398, 0.02731934777481894), (399, 0.008383407024803446), (400, 0.014789098104985052), (401, 0.011151227174009494), (402, 0.014972298319613294), (403, 0.01839282051307267), (404, 0.034266451910014935), (405, 0.00462886934424584), (406, 0.019009508644575065), (407, 0.18475739905450161), (408, 0.02876100213856967), (409, 0.012834896164330417), (410, 0.020142679395462472), (411, 0.0511733792183527), (412, 0.01012080251587906), (413, 0.03790040581389191), (414, 0.016063725100921484), (415, 0.01619731709782543), (416, 0.07524863932677353), (417, 0.013835937849865297), (418, 0.020068436906559836), (419, 0.03314821791040105), (420, 0.014562987135114572)]\n"
     ]
    }
   ],
   "source": [
    "from gensim.models import TfidfModel\n",
    "\n",
    "bow_songs = [D.doc2bow(doc) for doc in corpus] #bow gensim corpus\n",
    "tfidf = TfidfModel(bow_songs)\n",
    "tfidf_songs = tfidf[bow_songs]\n",
    "\n",
    "print(bow_songs[1])\n",
    "print(tfidf_songs[1])"
   ]
  },
  {
   "attachments": {},
   "cell_type": "markdown",
   "metadata": {},
   "source": [
    "Therefore, this is our first figures obteinment from the words appearing in the lyrics song. Nevertheless, this is not enough to predict properly which genre our song has. This representation just considers the frequency of appearing but not the relation among words. For example, in this song ```Hey Jude - The Beatles``, word 'na' which is some kind of musical onomatopoeia is repeated several times during the song, and its score is 0.88 in the TF-IDF representation which is really high despite it does not meaning anything the word by itself. But is not that bad, for example 'na' expresion could directly being related to rock song, we do not know how the classification model will behave. Furthermore, these kind of representations will be very useful for the developement of more complex models thus it is essential to save them in a variable for future usages.\n",
    "\n",
    "Without any more introduction, it is the moment to start developing further text-figure extraction models in order to obtain better insights from our data:\n",
    "\n",
    "As our objective is to make a classification by genre, we will develop 3 different approaches to see which of them works better:\n",
    "\n",
    "1) The first will be based on a Word2Vec, we will train our own word2vec with the lyrics of the songs of the data set and after that they will be combined with basic classical machine learning models.\n",
    "2) To compare how word2vec works with a bigger base of embeedings, we will try also a pre-trained model, using for the classification also machine learning models.\n",
    "3) The third way will be a FastText representation combined with a MLP Neural Network.\n",
    "\n",
    "So let's create first the representations:"
   ]
  },
  {
   "attachments": {},
   "cell_type": "markdown",
   "metadata": {},
   "source": [
    "#### **1.2.1 Word2Vec Representation**\n",
    "\n",
    "##### **1.2.1.1 Word2Vec Representation with our Data**\n"
   ]
  },
  {
   "attachments": {},
   "cell_type": "markdown",
   "metadata": {},
   "source": [
    "From the corpus file in which we have all the lyrics cleaned and converted in tokens, we create the word2vec. \n",
    "\n",
    "We implement a seed to work in so we can keep track of the results. And we will try with a vector size of 200 for the embeeding size."
   ]
  },
  {
   "cell_type": "code",
   "execution_count": 142,
   "metadata": {},
   "outputs": [],
   "source": [
    "#WORD2VEC \n",
    "\n",
    "from gensim.models import Word2Vec\n",
    "\n",
    "model_w2v = Word2Vec(corpus, vector_size=200, seed= 33)"
   ]
  },
  {
   "attachments": {},
   "cell_type": "markdown",
   "metadata": {},
   "source": [
    "Check the results of the word2vec:"
   ]
  },
  {
   "cell_type": "code",
   "execution_count": 143,
   "metadata": {},
   "outputs": [
    {
     "name": "stdout",
     "output_type": "stream",
     "text": [
      "['wa', 'like', 'got', 'love', 'know', 'get', 'one', 'want', 'baby', 'time', 'go', 'would', 'come', 'see', 'going', 'make', 'oh', 'man', 'yeah', 'back', 'way', 'never', 'say', 'nigga', 'take', 'right', 'let', 'cannot', 'life', 'day', 'girl', 'good', 'could', 'thing', 'two', 'said', 'give', 'need', 'tell', 'feel', 'well', 'think', 'night', 'little', 'u', 'still', 'shit', 'keep', 'look', 'eye']\n",
      "\n",
      "============= Embedding of the first word =============\n",
      "[ 1.56767637e-01 -6.19902909e-01  2.15258524e-01  6.87610209e-01\n",
      " -5.11434853e-01  1.19892752e+00  3.97925407e-01 -1.83479875e-01\n",
      " -8.33790481e-01  2.02996150e-01 -8.28915760e-02 -5.31151414e-01\n",
      "  1.01746428e+00 -1.49915293e-02  6.33424163e-01  1.71310142e-01\n",
      " -4.39327687e-01 -2.62668580e-01  6.29429698e-01  1.13173611e-01\n",
      " -9.14369702e-01  7.40497485e-02  9.10589039e-01  1.15079425e-01\n",
      "  2.16697782e-01 -1.30515888e-01  1.14047456e+00 -1.53608036e+00\n",
      "  1.14485450e-01 -8.29324007e-01  6.97965741e-01  1.47961569e+00\n",
      " -4.60948825e-01  6.12670004e-01  5.16372204e-01  3.94947156e-02\n",
      " -9.19760704e-01 -7.81033993e-01  4.92019296e-01  8.08100402e-01\n",
      " -5.48957765e-01  4.43834156e-01  4.23671395e-01 -5.38911462e-01\n",
      " -7.44209170e-01  3.48453075e-01  6.99089348e-01 -1.43908978e-01\n",
      " -1.45759964e+00  1.06894851e+00  6.18087314e-02 -5.37474751e-01\n",
      " -7.96365976e-01 -1.26963389e+00  7.66441882e-01 -5.44423103e-01\n",
      " -4.43549305e-01 -1.14751101e+00  9.59288657e-01  7.39827156e-01\n",
      " -2.87933379e-01 -7.28926897e-01  2.84221292e-01 -4.32519317e-02\n",
      "  5.16694561e-02  1.21747054e-01  7.35524654e-01 -5.63296854e-01\n",
      "  1.03061996e-01  5.96846998e-01  1.30563390e+00  1.90829802e-02\n",
      "  7.99169838e-01 -1.44271803e+00 -1.82549417e-01  1.50802165e-01\n",
      "  1.07331741e+00  2.88935065e-01 -1.29133582e+00 -4.39635783e-01\n",
      "  1.43464282e-01 -5.66971004e-01 -2.08148122e+00  6.26677513e-01\n",
      "  6.22927658e-02 -5.87211370e-01 -1.24037290e+00 -4.71530072e-02\n",
      "  4.23524767e-01  8.65219653e-01 -7.43955195e-01  4.21791255e-01\n",
      " -1.16132468e-01  4.17367928e-02 -5.76583266e-01 -3.59982014e-01\n",
      " -8.67871165e-01 -5.50409198e-01  4.76434901e-02  6.75706565e-02\n",
      " -2.95828074e-01 -6.32039487e-01  9.29953516e-01 -6.08651280e-01\n",
      "  7.29750320e-02  9.19729948e-01  8.99149179e-01  3.51060867e-01\n",
      "  4.52393949e-01 -4.57590148e-02  8.84819850e-02 -5.44630766e-01\n",
      " -2.25950971e-01  9.10849750e-01  1.23076476e-01  1.28093421e-01\n",
      "  6.93482578e-01 -7.73925662e-01  6.45702705e-02  3.30881157e-04\n",
      "  8.24706554e-01 -6.21236674e-02 -2.02641234e-01  5.71607798e-02\n",
      " -3.70012462e-01  9.18240994e-02 -4.65451516e-02 -2.20288470e-01\n",
      "  7.57410645e-01 -4.80175287e-01  1.96508169e-01 -5.58999956e-01\n",
      " -1.01572275e-01  3.15480590e-01  6.60627127e-01 -8.10354352e-02\n",
      " -9.33425650e-02  1.17104292e+00  1.35269332e+00 -4.67082292e-01\n",
      " -3.48430902e-01 -1.18186533e+00  6.35235190e-01  7.59024099e-02\n",
      "  4.84665394e-01  6.82023287e-01 -2.01933458e-02 -4.56354357e-02\n",
      " -3.91518831e-01 -1.25527775e+00 -8.28033388e-02 -1.30855882e+00\n",
      " -1.84760168e-01 -1.63781360e-01  1.05674200e-01 -5.95524430e-01\n",
      " -3.78938913e-02  1.51821703e-01  7.86206201e-02  5.55682003e-01\n",
      "  5.24970353e-01 -3.94032180e-01  3.06019392e-02  4.72064540e-02\n",
      " -9.83399093e-01  3.11723590e-01  1.30545878e+00  5.21369755e-01\n",
      "  1.02757439e-01 -4.16648746e-01 -2.74361402e-01 -3.52037191e-01\n",
      "  1.27197364e-02  1.63230610e+00 -4.27046537e-01  1.12707995e-01\n",
      " -9.05338153e-02  7.36385345e-01  2.41226017e-01  2.84201711e-01\n",
      "  9.19809006e-03  2.26574749e-01  1.31969020e-01  8.72682989e-01\n",
      "  1.59623027e-01 -3.91024351e-02 -2.00297141e+00  3.63602996e-01\n",
      " -9.42486465e-01  1.07052135e+00 -4.24397796e-01 -1.81108862e-01\n",
      " -5.47441185e-01  5.41814446e-01 -3.21099043e-01 -1.44870913e+00\n",
      "  7.25803196e-01  3.28410029e-01 -5.31701207e-01 -1.11914456e-01]\n",
      "(200,)\n"
     ]
    }
   ],
   "source": [
    "words = list(model_w2v.wv.key_to_index)\n",
    "print(words[0:50]) #first 50 words\n",
    "print('\\n============= Embedding of the first word =============')\n",
    "print(model_w2v.wv[words[0]])\n",
    "print(model_w2v.wv[words[0]].shape)"
   ]
  },
  {
   "attachments": {},
   "cell_type": "markdown",
   "metadata": {},
   "source": [
    "Save the w2v model in a KeyedVectors, that will result in a smaller and faster object thanks to the mapping between keys and vectors:"
   ]
  },
  {
   "cell_type": "code",
   "execution_count": 144,
   "metadata": {},
   "outputs": [
    {
     "name": "stdout",
     "output_type": "stream",
     "text": [
      "22179\n"
     ]
    },
    {
     "data": {
      "text/plain": [
       "4883"
      ]
     },
     "execution_count": 144,
     "metadata": {},
     "output_type": "execute_result"
    }
   ],
   "source": [
    "from gensim.models import KeyedVectors\n",
    "\n",
    "# Store just the words + their trained embeddings.\n",
    "word_vectors = model_w2v.wv\n",
    "word_vectors.save(\"model_w2v_imbd_sampling03.wordvectors\")\n",
    "\n",
    "# Load back with memory-mapping = read-only, shared across processes.\n",
    "wv = KeyedVectors.load(\"model_w2v_imbd_sampling03.wordvectors\", mmap='r')\n",
    "print(len(wv))\n",
    "import gc\n",
    "del model_w2v\n",
    "gc.collect()"
   ]
  },
  {
   "attachments": {},
   "cell_type": "markdown",
   "metadata": {},
   "source": [
    "Let's visualize the embeedings that will help to know the performance of the model.\n",
    "\n",
    "We know we can do this thanks to the t-SNE implemented in Sklearn, that reduces high dimensional data to 2 or 3 dimensions keeping as much information as possible.\n",
    "\n",
    "So let's have a look into out space of embeedings to have a first impression on how the word2vec has separated the words:"
   ]
  },
  {
   "cell_type": "code",
   "execution_count": 145,
   "metadata": {},
   "outputs": [
    {
     "name": "stderr",
     "output_type": "stream",
     "text": [
      "c:\\Users\\34649\\anaconda3\\envs\\ML\\lib\\site-packages\\sklearn\\manifold\\_t_sne.py:790: FutureWarning: The default learning rate in TSNE will change from 200.0 to 'auto' in 1.2.\n",
      "  warnings.warn(\n"
     ]
    },
    {
     "data": {
      "image/png": "[encoded data removed]",
      "text/plain": [
       "<Figure size 1152x1152 with 1 Axes>"
      ]
     },
     "metadata": {
      "needs_background": "light"
     },
     "output_type": "display_data"
    }
   ],
   "source": [
    "from sklearn.manifold import TSNE\n",
    "import matplotlib.pyplot as plt\n",
    "\n",
    "tsne = TSNE(init='random')\n",
    "embed_tsne = tsne.fit_transform(wv.vectors)\n",
    "\n",
    "# We plot only 500 embeddings\n",
    "fig, ax = plt.subplots(figsize=(16, 16))\n",
    "for idx, word in enumerate((list(wv.key_to_index.keys())[:500])):\n",
    "    plt.scatter(*embed_tsne[idx, :], color='steelblue')\n",
    "    plt.annotate(word, (embed_tsne[idx, 0], embed_tsne[idx, 1]), alpha=0.7)\n",
    "      \n",
    "plt.grid()"
   ]
  },
  {
   "cell_type": "code",
   "execution_count": 146,
   "metadata": {},
   "outputs": [
    {
     "data": {
      "text/plain": [
       "53671"
      ]
     },
     "execution_count": 146,
     "metadata": {},
     "output_type": "execute_result"
    }
   ],
   "source": [
    "del embed_tsne #clean memory\n",
    "gc.collect()"
   ]
  },
  {
   "attachments": {},
   "cell_type": "markdown",
   "metadata": {},
   "source": [
    "So, what is left is to create a function that can link the keyed Vectors to the list of tokens representing the songs lyrics, and results in the embeeding vector of the lyrics of each song made by the vectors of the words that conform that song."
   ]
  },
  {
   "cell_type": "code",
   "execution_count": 147,
   "metadata": {},
   "outputs": [],
   "source": [
    "import numpy as np\n",
    "def get_lyrics_vector(model, lyrics):\n",
    "  vectors = []\n",
    "  for token in lyrics:\n",
    "      if token in model:\n",
    "          vectors.append(model[token])\n",
    "  if len(vectors) == 0:\n",
    "      # If all tokens are OOV, return a vector of zeros\n",
    "      return np.zeros(model.vector_size)\n",
    "  else:\n",
    "      return np.mean(vectors, axis=0)\n",
    "\n",
    "lyrics_embeddings = []\n",
    "for i in corpus:\n",
    "    lyrics_embeddings.append(get_lyrics_vector(wv, i))\n"
   ]
  },
  {
   "cell_type": "code",
   "execution_count": 148,
   "metadata": {},
   "outputs": [
    {
     "name": "stdout",
     "output_type": "stream",
     "text": [
      "[-0.20038918  0.08013135  0.0043922   0.01961951  0.43375656  0.41150555\n",
      " -0.12566718  0.08450371 -0.18557622  0.54280806 -0.38173127  0.39354166\n",
      "  0.25562438  0.07502171  0.16150376  0.10490731 -0.03354407 -0.05750466\n",
      " -0.24041995  0.2091978  -0.42733678 -0.01147346  0.09954038 -0.07744797\n",
      "  0.27578723 -0.18512364  0.49227548 -0.46839792  0.49807552  0.22999354\n",
      " -0.0581388  -0.1972604   0.44806248  0.08957355 -0.27842426 -0.16905196\n",
      " -0.01055271  0.35809538 -0.15173088  0.26303926 -0.25627097 -0.293006\n",
      " -0.00814824  0.082662   -0.20561978  0.14650781 -0.02095339  0.013581\n",
      "  0.1816039   0.40996978 -0.12637283 -0.13439822 -0.15302299 -0.2412\n",
      " -0.07321605 -0.1852606  -0.07730819  0.07116501 -0.31313396  0.23340097\n",
      "  0.2117974  -0.05920104  0.4062712  -0.42328918  0.13166787 -0.03163873\n",
      " -0.0050582  -0.07074468  0.28553376  0.64519614  0.03527122  0.29437295\n",
      "  0.40948328 -0.88147116  0.11315944  0.04432596  0.41661197  0.05767429\n",
      " -0.38709542 -0.48216924  0.27044287 -0.02296748  0.05885305  0.09191878\n",
      "  0.04603178 -0.5107594   0.18821046 -0.04715698  0.08070071  0.45040584\n",
      "  0.29678148 -0.20770803  0.05244916 -0.495726   -0.40585387 -0.29867265\n",
      " -0.20141129 -0.3093081  -0.00496678 -0.15185511 -0.14419101 -0.21932057\n",
      "  0.08841966 -0.1386536   0.17886877 -0.04256865  0.01270991 -0.3999919\n",
      "  0.55817807  0.5292177  -0.03374302 -0.310518   -0.09504676  0.11082719\n",
      "  0.17796418 -0.00391866  0.47543776 -0.20894547  0.27908832  0.10726088\n",
      "  0.36071873 -0.27070597  0.20484765  0.08846723  0.24211164 -0.08078406\n",
      " -0.3372647   0.59883666 -0.04826892 -0.31547257 -0.04858218 -0.01553215\n",
      "  0.42256263 -0.20202577 -0.11131173 -0.02472659  0.18507731 -0.06603058\n",
      " -0.08914706 -0.43640348 -0.14340018 -0.03134153  0.23450121  0.56183815\n",
      "  0.2551745   0.35790962 -0.20488076 -0.5558682   0.18895957 -0.24866883\n",
      "  0.4815762  -0.46024185 -0.09294426  0.12258456  0.52175194 -0.5856038\n",
      " -0.34279826  0.5720785   0.2345522   0.00681174  0.2754307   0.3002484\n",
      "  0.02927663 -0.5382013   0.04362216  0.01645751  0.44019887  0.2628795\n",
      "  0.41295087 -0.24159688  0.12804006  0.19919053  0.34499928  0.04275219\n",
      " -0.31995484  0.53108346 -0.08945819 -0.21791887  0.5177894  -0.4384438\n",
      " -0.16086054  0.40230992  0.18619771  0.15841365  0.11786052 -0.0323789\n",
      " -0.44809836  0.14357118 -0.05217076  0.09537654 -0.20541027 -0.24059665\n",
      " -0.04472898  0.2524847  -0.07309315 -0.79700494 -0.12495074 -0.11017877\n",
      " -0.11351825  0.25545615]\n",
      "200\n",
      "3730\n"
     ]
    }
   ],
   "source": [
    "print(lyrics_embeddings[0])\n",
    "print(len(lyrics_embeddings[0])) #we can see each of them has 300 dimensions\n",
    "print(len(lyrics_embeddings)) #equals the number of songs"
   ]
  },
  {
   "attachments": {},
   "cell_type": "markdown",
   "metadata": {},
   "source": [
    "##### CLASSIFICATION\n",
    "\n",
    "Now that we have the embeedings of the lyrics, created and based in a word2vec modeled with the own songs, we have a representation of the lyrics in numbers, so we will work with some machine learning classifiers and see how wll they can classify by genre in <b>section 2<b>"
   ]
  },
  {
   "attachments": {},
   "cell_type": "markdown",
   "metadata": {},
   "source": [
    "##### **1.2.1.2 Word2Vec with Pre-Trained Model**\n",
    "\n",
    "From the gensim documentation we decided to use the pre-trained model: \"word2vec-google-news-300\", that has 300 dimensions, which should be fine and enough for our objective.\n"
   ]
  },
  {
   "cell_type": "code",
   "execution_count": 149,
   "metadata": {},
   "outputs": [],
   "source": [
    "import gensim.downloader as api\n",
    "\n",
    "pre_w2v = api.load(\"word2vec-google-news-300\")"
   ]
  },
  {
   "cell_type": "code",
   "execution_count": 150,
   "metadata": {},
   "outputs": [
    {
     "name": "stdout",
     "output_type": "stream",
     "text": [
      "<class 'gensim.models.keyedvectors.KeyedVectors'>\n"
     ]
    }
   ],
   "source": [
    "print(type(pre_w2v))\n"
   ]
  },
  {
   "attachments": {},
   "cell_type": "markdown",
   "metadata": {},
   "source": [
    "We can see that now we have directly a keyedvectors object, with the mapping between keys and vectors.\n",
    "\n",
    "So we can directly pass to link the tokens we have in each of our songs's lyrics with the corresponding vector of our new keyed vectors object:"
   ]
  },
  {
   "cell_type": "code",
   "execution_count": 151,
   "metadata": {},
   "outputs": [],
   "source": [
    "def get_lyrics_vector(model, lyrics):\n",
    "  vectors = []\n",
    "  for token in lyrics:\n",
    "      if token in model:\n",
    "          vectors.append(model[token])\n",
    "  if len(vectors) == 0:\n",
    "      # If all tokens are OOV, return a vector of zeros\n",
    "      return np.zeros(model.vector_size)\n",
    "  else:\n",
    "      return np.mean(vectors, axis=0)\n",
    "\n",
    "lyrics_embeddings_pre = []\n",
    "for i in corpus:\n",
    "    lyrics_embeddings_pre.append(get_lyrics_vector(pre_w2v, i))"
   ]
  },
  {
   "cell_type": "code",
   "execution_count": 152,
   "metadata": {},
   "outputs": [
    {
     "name": "stdout",
     "output_type": "stream",
     "text": [
      "[ 0.03764191  0.01680911  0.02917939  0.07250047 -0.06872599 -0.0527283\n",
      "  0.04931778 -0.07780812  0.10342871  0.1155538  -0.06705698 -0.10832203\n",
      " -0.06433553  0.02791469 -0.08942156  0.07580641  0.06468143  0.09460323\n",
      "  0.02160174 -0.08267625 -0.01490749  0.08382135  0.07986633 -0.04091013\n",
      "  0.06311885 -0.0069638  -0.06185263 -0.01732039  0.05336882 -0.04841734\n",
      " -0.07339673  0.04897331 -0.05919791 -0.01851171 -0.02823274 -0.08294087\n",
      "  0.0716463  -0.02210689  0.04641913  0.09102935  0.06469021 -0.0963939\n",
      "  0.13705072 -0.07202254 -0.03410276 -0.03430087 -0.0905313   0.00619811\n",
      " -0.00997948  0.06349027 -0.07168807  0.08087606  0.00952997 -0.00062997\n",
      "  0.04841442  0.00883186 -0.04402878 -0.09251373  0.05344151 -0.04804488\n",
      " -0.01371192  0.03545097 -0.05698254 -0.03032231  0.00857108 -0.05201145\n",
      " -0.05650203  0.07186534 -0.10086951  0.06021252  0.04317943  0.03024957\n",
      "  0.07271444 -0.00274859 -0.15255405 -0.06716308  0.06744245  0.05934751\n",
      "  0.04092354  0.10571897  0.01696628 -0.03543182  0.0448999  -0.05057322\n",
      " -0.08555546  0.02045601 -0.08570747  0.07470967  0.03926167  0.0219058\n",
      "  0.00372376  0.07140626 -0.10218731 -0.06011596 -0.08082686 -0.06849498\n",
      "  0.07941775  0.02843447 -0.0103976  -0.0848586  -0.10105678 -0.04234842\n",
      "  0.06653038  0.04073707 -0.03205596 -0.02654989  0.0447877  -0.00433694\n",
      "  0.01261274 -0.05754675 -0.07267975  0.01262579  0.00339216  0.00196339\n",
      "  0.08990972 -0.04833611  0.03024521 -0.02585458  0.0036994   0.03018677\n",
      " -0.04692066  0.02780134 -0.0941494   0.08282266  0.00827723 -0.01719955\n",
      " -0.08199339 -0.02942101  0.05396067  0.01531638 -0.08256726 -0.10371123\n",
      " -0.00507779  0.02267135  0.04077593 -0.02215509 -0.00279299  0.05619745\n",
      "  0.05500891  0.07962151  0.06047012 -0.07041283 -0.01757096 -0.00751937\n",
      "  0.03806023  0.07558148 -0.02980105 -0.0992228  -0.03225857 -0.08695915\n",
      "  0.06357064  0.02527788 -0.0583293   0.04847247 -0.03805588 -0.02109183\n",
      " -0.03385076 -0.04579504 -0.0642745  -0.01630166 -0.02625332  0.05018696\n",
      "  0.05590384 -0.01627401  0.03035042 -0.1345559   0.0570066  -0.08152772\n",
      " -0.00494201 -0.014751   -0.11390755  0.03760061 -0.01480068 -0.07689994\n",
      " -0.06225912 -0.03408813  0.07986288 -0.07375828  0.01932417  0.01393113\n",
      " -0.06886253 -0.05369166  0.08278733  0.00999322 -0.052072   -0.01872942\n",
      " -0.03435258 -0.01304718  0.0391723   0.03698036  0.09551612 -0.02201227\n",
      "  0.0633639   0.00203014 -0.00515105  0.07684619 -0.02976548 -0.00902001\n",
      " -0.07083197 -0.0248973   0.00525224  0.02642702 -0.10088813 -0.04629872\n",
      "  0.02362425 -0.04204932 -0.02898413  0.01949052  0.01778463 -0.01182619\n",
      " -0.04019532  0.06164907 -0.05412591 -0.05540799 -0.12499484  0.02042423\n",
      "  0.05273438 -0.00131435 -0.09590574 -0.02246759  0.00897469  0.02565553\n",
      " -0.006978    0.01147259  0.0675662  -0.03706069  0.04066528  0.02246805\n",
      "  0.01004579 -0.00137903  0.02274649 -0.05727636 -0.05369384  0.03918738\n",
      "  0.0706579   0.03371602 -0.04788414 -0.08883116  0.09149709 -0.00287301\n",
      "  0.05156484 -0.0030018  -0.0464855  -0.07719056 -0.02804806  0.00067225\n",
      "  0.03584163  0.05389186  0.01167673 -0.02793035 -0.01513396  0.05231424\n",
      "  0.10111781  0.08351967  0.03083664 -0.07361539 -0.01652177  0.0312685\n",
      " -0.07723861 -0.0666567  -0.04638764 -0.0198662  -0.077695    0.05468819\n",
      "  0.04964172  0.07744879 -0.02330384 -0.00699828 -0.09326544 -0.00674461\n",
      "  0.023173    0.11085143  0.12980571  0.0366897   0.07441752 -0.06572264\n",
      " -0.07927446 -0.11507766 -0.03830403  0.01844108  0.02209527 -0.065697\n",
      "  0.04679744  0.03836834  0.0312921  -0.03782077 -0.06479628  0.00749023\n",
      "  0.02126608  0.09640801 -0.0427845   0.04245018 -0.09936007 -0.0326541\n",
      " -0.04220868 -0.05267857  0.02143802 -0.08759329  0.06588516 -0.01117537]\n",
      "300\n",
      "3730\n"
     ]
    }
   ],
   "source": [
    "print(lyrics_embeddings_pre[0])\n",
    "print(len(lyrics_embeddings_pre[0])) #we can see each of them has 300 dimensions\n",
    "print(len(lyrics_embeddings_pre)) #equals the number of songs"
   ]
  },
  {
   "attachments": {},
   "cell_type": "markdown",
   "metadata": {},
   "source": [
    "So we are ready again to pass to the classification task, and see the difference between the word2vec created by ourselves with the data we have, and a much bigger pre-trained model linked afterwards with our lyrics."
   ]
  },
  {
   "cell_type": "markdown",
   "metadata": {},
   "source": [
    "#### **1.2.2 FastText Representation**"
   ]
  },
  {
   "cell_type": "code",
   "execution_count": 153,
   "metadata": {},
   "outputs": [],
   "source": [
    "#TODO\n",
    "#FASTTEXT"
   ]
  },
  {
   "cell_type": "markdown",
   "metadata": {},
   "source": [
    "### **1.3 Topic Modeling**"
   ]
  },
  {
   "cell_type": "code",
   "execution_count": 154,
   "metadata": {},
   "outputs": [],
   "source": [
    "#TODO\n",
    "\n",
    "#TOPIC SELECTION\n",
    "#SEMANTIC SIMILARITY-LDA"
   ]
  },
  {
   "cell_type": "markdown",
   "metadata": {},
   "source": [
    "## **2.Machine Learning Model**"
   ]
  },
  {
   "cell_type": "markdown",
   "metadata": {},
   "source": [
    "### **2.1 Classification Task**"
   ]
  },
  {
   "attachments": {},
   "cell_type": "markdown",
   "metadata": {},
   "source": [
    "#### **2.1.1 Machine Learning Approach**"
   ]
  },
  {
   "attachments": {},
   "cell_type": "markdown",
   "metadata": {},
   "source": [
    "The main objective of this project, is to work with NLP and undertand the differences between different ways to represent our written words in numbers to later use them for classify, regression or recommender systems for example. \n",
    "\n",
    "This is the reason we have processed two different ways of word2vec and a fasttext, to study the differences. But the simpler way to prove it, in our case, is using them to predict by genre, that is classification.\n",
    "\n",
    "As a first step, as the accuracies are not the most important part of the work, but still we want to get something that makes sense, we will just prove that our models can obtain models of machine learning that learn from the data to predict the genre, and it is not random.\n",
    "\n",
    "In this way, as we have 4 genres, and the data is in general balanced, if the classifier works 'randomly' we could expect an accuracy of 0.25.\n",
    "So, before applying classification to the 4 genres at the same time, we will check with dummies, that if we want to differentiate 1 genre of the other 3, that is a binary problem, we obtain more than 0.25 so we can discard a random behaviour, and we can justify that eventhough maybe the accuracies are not great, the model learns.\n",
    "\n",
    "So let's do it with our own created lyrics embeeding with word2vec:"
   ]
  },
  {
   "cell_type": "markdown",
   "metadata": {},
   "source": [
    "First we have to split the data and create an embeedings matrix:"
   ]
  },
  {
   "cell_type": "code",
   "execution_count": 155,
   "metadata": {},
   "outputs": [],
   "source": [
    "from sklearn.dummy import DummyClassifier\n",
    "from sklearn.model_selection import train_test_split, GridSearchCV\n",
    "import random\n",
    "random.seed(33)\n",
    "\n",
    "#1) SPlit the data\n",
    "X_train, X_test, y_train, y_test = train_test_split(df['correctLyrics'], df['type'], test_size=0.3, random_state=33)\n",
    "\n",
    "#2)Embeedings matrix\n",
    "size_embeding = len(lyrics_embeddings[0])\n",
    "X_train_emb = np.zeros((len(X_train), size_embeding))\n",
    "for i, review in enumerate(X_train):\n",
    "    X_train_emb[i] = get_lyrics_vector(wv, review)\n"
   ]
  },
  {
   "attachments": {},
   "cell_type": "markdown",
   "metadata": {},
   "source": [
    "And now we apply the dummy classifier with a embeeding matrix for the test as we have done with the train."
   ]
  },
  {
   "cell_type": "code",
   "execution_count": 156,
   "metadata": {},
   "outputs": [
    {
     "name": "stdout",
     "output_type": "stream",
     "text": [
      "Dummy Classifying accuracy on the train set: 0.2581\n",
      "Dummy Classifying accuracy on the test set: 0.2565\n"
     ]
    }
   ],
   "source": [
    "random.seed(33)\n",
    "dummy = DummyClassifier(strategy=\"most_frequent\") #we will try with the genre that appears most frequently\n",
    "dummy.fit(X_train_emb, y_train)\n",
    "\n",
    "# Evaluate the performance of the classifier on the test set\n",
    "X_test_emb = np.zeros((len(X_test), size_embeding))\n",
    "for i, review in enumerate(X_test):\n",
    "    X_test_emb[i] = get_lyrics_vector(wv, review)\n",
    "\n",
    "dummy_accuracy = dummy.score(X_test_emb, y_test)\n",
    "dummy_accuracy_train = dummy.score(X_train_emb, y_train)\n",
    "\n",
    "\n",
    "print(f\"Dummy Classifying accuracy on the train set: {dummy_accuracy_train:.4f}\")\n",
    "print(f\"Dummy Classifying accuracy on the test set: {dummy_accuracy:.4f}\")\n"
   ]
  },
  {
   "attachments": {},
   "cell_type": "markdown",
   "metadata": {},
   "source": [
    "We can check with the dummy classifier, that, if we classify everything as the most frequent label of our objective class, in this case genres, the prediction accuracy drops to 1/4 that makes sense as the observations are pretty well balanced and we have 4 genres. So, with this information, we can later confirm that the models are learning something if they go above this accuracy, as the expected result of predicting randomly has to be around 0.25. If we later confirm this, and the accuracies are higher is enough to know that the models learn."
   ]
  },
  {
   "attachments": {},
   "cell_type": "markdown",
   "metadata": {},
   "source": [
    "As we will repeat the same code several times to compare the classification between the different models we are going to use, let's create some functions for not repeating code and having a clean enviroment:"
   ]
  },
  {
   "cell_type": "code",
   "execution_count": 157,
   "metadata": {},
   "outputs": [],
   "source": [
    "\"\"\"\n",
    "WE WILL CREATE A GENERAL FUNCTION THAT CAN CREATE, RUN AND GIVE US A SCORE GIVEN\n",
    "A MODEL AND IT'S PARAMETERS\n",
    "\n",
    "AND ALSO A FUNCTION FOR CREATING THE X_TRAIN AND X_TEST EMBEEDINGS MATRIX\n",
    "\n",
    "SOME EXPLANATION ABOUT THE PARAMETERS USED:\n",
    "lyrics_model = the KEYED VECTOR of the word2vec, fasttext or any other model used\n",
    "model = machine learning approach used for the classification: KNeighborsClassifier(), svc()...\n",
    "\n",
    "\"\"\"\n",
    "\n",
    "def embeeding_matrix(lyrics_model, X, lyrics_embeedings):\n",
    "    random.seed(33)\n",
    "    size_embeding = len(lyrics_embeedings[0])\n",
    "    X_emb = np.zeros((len(X), size_embeding))\n",
    "    for i, review in enumerate(X):\n",
    "        X_emb[i] = get_lyrics_vector(lyrics_model, review)\n",
    "    return X_emb\n",
    "\n",
    "\n",
    "def classification_task(model, param_grid, x_tr_emb, x_tst_emb, y_train, y_test):\n",
    "    random.seed(33)\n",
    "\n",
    "    #1) Apply grid search to the model and param grid, and fit it\n",
    "    grid_search = GridSearchCV(model, param_grid, cv = 5)\n",
    "    grid_search.fit(x_tr_emb, y_train)\n",
    "\n",
    "    grid_search_best_estimator = grid_search.best_estimator_\n",
    "    grid_search_accuracy = grid_search.score(x_tst_emb, y_test)\n",
    "    grid_search_accuracy_train = grid_search.score(x_tr_emb, y_train) \n",
    "\n",
    "    return {'accuracy':[grid_search_accuracy],'accuracy_train':[grid_search_accuracy_train],'best_estimator':[grid_search_best_estimator] }   \n",
    "\n",
    "\n"
   ]
  },
  {
   "attachments": {},
   "cell_type": "markdown",
   "metadata": {},
   "source": [
    "#### **2.1.1.1 Machine Learning Approach with TF-IDF**\n",
    "\n",
    "Before working with the word2vec for classifying by genre, let's try with the TF-IDF. TF-IDF is a simpler approach as we know, so in theory it should result in worst accuracies, but as we can not know that, we do not lose anything checking the results in this way."
   ]
  },
  {
   "cell_type": "code",
   "execution_count": 167,
   "metadata": {},
   "outputs": [],
   "source": [
    "from gensim.matutils import corpus2dense\n",
    "num_docs = D.num_docs\n",
    "num_terms = len(D.keys())\n",
    "corpus_tfidf_dense = corpus2dense(tfidf_songs, num_terms, num_docs=num_docs).T"
   ]
  },
  {
   "cell_type": "code",
   "execution_count": 175,
   "metadata": {},
   "outputs": [
    {
     "name": "stdout",
     "output_type": "stream",
     "text": [
      "0.5290437890974083\n"
     ]
    }
   ],
   "source": [
    "from sklearn.neighbors import KNeighborsClassifier\n",
    "X_train_tfidf, X_test_tfidf, y_train_tfidf, y_test_tfidf = train_test_split(corpus_tfidf_dense , df['type'], test_size=0.3, random_state=33)\n",
    "\n",
    "model = KNeighborsClassifier(n_neighbors=10)\n",
    "model.fit(X_train_tfidf, y_train_tfidf)\n",
    "acc = model.score(X_test_tfidf,y_test_tfidf)\n",
    "print(acc)"
   ]
  },
  {
   "attachments": {},
   "cell_type": "markdown",
   "metadata": {},
   "source": [
    "#### **2.1.1.2 Machine Learning Approach with self-created word2vec**"
   ]
  },
  {
   "attachments": {},
   "cell_type": "markdown",
   "metadata": {},
   "source": [
    "Let's create the embeedings matrix for the X_train and X_test:"
   ]
  },
  {
   "cell_type": "code",
   "execution_count": null,
   "metadata": {},
   "outputs": [],
   "source": [
    "X_train_emb = embeeding_matrix(wv, X_train, lyrics_embeedings=lyrics_embeddings)\n",
    "X_test_emb = embeeding_matrix(wv, X_test, lyrics_embeedings=lyrics_embeddings)"
   ]
  },
  {
   "attachments": {},
   "cell_type": "markdown",
   "metadata": {},
   "source": [
    "##### -SVM"
   ]
  },
  {
   "cell_type": "code",
   "execution_count": null,
   "metadata": {},
   "outputs": [
    {
     "name": "stdout",
     "output_type": "stream",
     "text": [
      "SVM accuracy on the train set:  [0.4567049808429119]\n",
      "SVM accuracy on the test set:  [0.419124218051832]\n",
      "Best SVM parameters are:  [SVC(C=9, kernel='linear')]\n"
     ]
    }
   ],
   "source": [
    "#Train with different hyper parameters the classifier and obtain the best result\n",
    "from sklearn.svm import SVC\n",
    "random.seed(33)\n",
    "svm = SVC()\n",
    "param_grid = {'C': [1,3,5,7,9], 'kernel': ['rbf', 'linear']}\n",
    "\n",
    "\n",
    "result_svm = classification_task(svm, param_grid=param_grid, x_tr_emb = X_train_emb, x_tst_emb =X_test_emb, y_train = y_train, y_test = y_test)\n",
    "\n",
    "print(\"SVM accuracy on the train set: \", result_svm['accuracy_train'])\n",
    "print(\"SVM accuracy on the test set: \", result_svm['accuracy'])\n",
    "print(\"Best SVM parameters are: \", result_svm['best_estimator'])"
   ]
  },
  {
   "attachments": {},
   "cell_type": "markdown",
   "metadata": {},
   "source": [
    "##### -KNN"
   ]
  },
  {
   "cell_type": "code",
   "execution_count": null,
   "metadata": {},
   "outputs": [
    {
     "name": "stdout",
     "output_type": "stream",
     "text": [
      "SVM accuracy on the train set:  [0.4900383141762452]\n",
      "SVM accuracy on the test set:  [0.4298480786416443]\n",
      "Best SVM parameters are:  [KNeighborsClassifier(n_neighbors=20)]\n"
     ]
    }
   ],
   "source": [
    "from sklearn.neighbors import KNeighborsClassifier\n",
    "\n",
    "random.seed(33)\n",
    "knn = KNeighborsClassifier()\n",
    "param_grid = {'n_neighbors': [1,5,10,15,20,25,30,35,40]}\n",
    "\n",
    "result_knn = classification_task(knn, param_grid=param_grid, x_tr_emb = X_train_emb, x_tst_emb =X_test_emb, y_train = y_train, y_test = y_test)\n",
    "\n",
    "print(\"KNN accuracy on the train set: \", result_knn['accuracy_train'])\n",
    "print(\"KNN accuracy on the test set: \", result_knn['accuracy'])\n",
    "print(\"Best KNN parameters are: \", result_knn['best_estimator'])"
   ]
  },
  {
   "attachments": {},
   "cell_type": "markdown",
   "metadata": {},
   "source": [
    "##### -Random Forest"
   ]
  },
  {
   "cell_type": "code",
   "execution_count": null,
   "metadata": {},
   "outputs": [
    {
     "name": "stdout",
     "output_type": "stream",
     "text": [
      "SVM accuracy on the train set:  [0.9440613026819923]\n",
      "SVM accuracy on the test set:  [0.4280607685433423]\n",
      "Best SVM parameters are:  [RandomForestClassifier(criterion='entropy', max_depth=10)]\n"
     ]
    }
   ],
   "source": [
    "from  sklearn.ensemble import RandomForestClassifier\n",
    "\n",
    "random.seed(33)\n",
    "RF = RandomForestClassifier()\n",
    "param_grid = {'n_estimators': [50,100,200,400], 'criterion':['gini', 'entropy'], 'max_depth':[2,5,10,15]}\n",
    "\n",
    "result_rf = classification_task(RF, param_grid=param_grid, x_tr_emb = X_train_emb, x_tst_emb =X_test_emb, y_train = y_train, y_test = y_test)\n",
    "\n",
    "print(\"RF accuracy on the train set: \", result_rf['accuracy_train'])\n",
    "print(\"RF accuracy on the test set: \", result_rf['accuracy'])\n",
    "print(\"Best RF parameters are: \", result_rf['best_estimator'])"
   ]
  },
  {
   "attachments": {},
   "cell_type": "markdown",
   "metadata": {},
   "source": [
    "##### -Multinomial Logistic Regression"
   ]
  },
  {
   "cell_type": "code",
   "execution_count": null,
   "metadata": {},
   "outputs": [
    {
     "name": "stderr",
     "output_type": "stream",
     "text": [
      "c:\\Users\\34649\\anaconda3\\envs\\ML\\lib\\site-packages\\sklearn\\linear_model\\_logistic.py:814: ConvergenceWarning: lbfgs failed to converge (status=1):\n",
      "STOP: TOTAL NO. of ITERATIONS REACHED LIMIT.\n",
      "\n",
      "Increase the number of iterations (max_iter) or scale the data as shown in:\n",
      "    https://scikit-learn.org/stable/modules/preprocessing.html\n",
      "Please also refer to the documentation for alternative solver options:\n",
      "    https://scikit-learn.org/stable/modules/linear_model.html#logistic-regression\n",
      "  n_iter_i = _check_optimize_result(\n",
      "c:\\Users\\34649\\anaconda3\\envs\\ML\\lib\\site-packages\\sklearn\\linear_model\\_logistic.py:814: ConvergenceWarning: lbfgs failed to converge (status=1):\n",
      "STOP: TOTAL NO. of ITERATIONS REACHED LIMIT.\n",
      "\n",
      "Increase the number of iterations (max_iter) or scale the data as shown in:\n",
      "    https://scikit-learn.org/stable/modules/preprocessing.html\n",
      "Please also refer to the documentation for alternative solver options:\n",
      "    https://scikit-learn.org/stable/modules/linear_model.html#logistic-regression\n",
      "  n_iter_i = _check_optimize_result(\n",
      "c:\\Users\\34649\\anaconda3\\envs\\ML\\lib\\site-packages\\sklearn\\linear_model\\_logistic.py:814: ConvergenceWarning: lbfgs failed to converge (status=1):\n",
      "STOP: TOTAL NO. of ITERATIONS REACHED LIMIT.\n",
      "\n",
      "Increase the number of iterations (max_iter) or scale the data as shown in:\n",
      "    https://scikit-learn.org/stable/modules/preprocessing.html\n",
      "Please also refer to the documentation for alternative solver options:\n",
      "    https://scikit-learn.org/stable/modules/linear_model.html#logistic-regression\n",
      "  n_iter_i = _check_optimize_result(\n",
      "c:\\Users\\34649\\anaconda3\\envs\\ML\\lib\\site-packages\\sklearn\\linear_model\\_logistic.py:814: ConvergenceWarning: lbfgs failed to converge (status=1):\n",
      "STOP: TOTAL NO. of ITERATIONS REACHED LIMIT.\n",
      "\n",
      "Increase the number of iterations (max_iter) or scale the data as shown in:\n",
      "    https://scikit-learn.org/stable/modules/preprocessing.html\n",
      "Please also refer to the documentation for alternative solver options:\n",
      "    https://scikit-learn.org/stable/modules/linear_model.html#logistic-regression\n",
      "  n_iter_i = _check_optimize_result(\n",
      "c:\\Users\\34649\\anaconda3\\envs\\ML\\lib\\site-packages\\sklearn\\linear_model\\_logistic.py:814: ConvergenceWarning: lbfgs failed to converge (status=1):\n",
      "STOP: TOTAL NO. of ITERATIONS REACHED LIMIT.\n",
      "\n",
      "Increase the number of iterations (max_iter) or scale the data as shown in:\n",
      "    https://scikit-learn.org/stable/modules/preprocessing.html\n",
      "Please also refer to the documentation for alternative solver options:\n",
      "    https://scikit-learn.org/stable/modules/linear_model.html#logistic-regression\n",
      "  n_iter_i = _check_optimize_result(\n",
      "c:\\Users\\34649\\anaconda3\\envs\\ML\\lib\\site-packages\\sklearn\\linear_model\\_logistic.py:814: ConvergenceWarning: lbfgs failed to converge (status=1):\n",
      "STOP: TOTAL NO. of ITERATIONS REACHED LIMIT.\n",
      "\n",
      "Increase the number of iterations (max_iter) or scale the data as shown in:\n",
      "    https://scikit-learn.org/stable/modules/preprocessing.html\n",
      "Please also refer to the documentation for alternative solver options:\n",
      "    https://scikit-learn.org/stable/modules/linear_model.html#logistic-regression\n",
      "  n_iter_i = _check_optimize_result(\n",
      "c:\\Users\\34649\\anaconda3\\envs\\ML\\lib\\site-packages\\sklearn\\linear_model\\_logistic.py:814: ConvergenceWarning: lbfgs failed to converge (status=1):\n",
      "STOP: TOTAL NO. of ITERATIONS REACHED LIMIT.\n",
      "\n",
      "Increase the number of iterations (max_iter) or scale the data as shown in:\n",
      "    https://scikit-learn.org/stable/modules/preprocessing.html\n",
      "Please also refer to the documentation for alternative solver options:\n",
      "    https://scikit-learn.org/stable/modules/linear_model.html#logistic-regression\n",
      "  n_iter_i = _check_optimize_result(\n",
      "c:\\Users\\34649\\anaconda3\\envs\\ML\\lib\\site-packages\\sklearn\\linear_model\\_logistic.py:814: ConvergenceWarning: lbfgs failed to converge (status=1):\n",
      "STOP: TOTAL NO. of ITERATIONS REACHED LIMIT.\n",
      "\n",
      "Increase the number of iterations (max_iter) or scale the data as shown in:\n",
      "    https://scikit-learn.org/stable/modules/preprocessing.html\n",
      "Please also refer to the documentation for alternative solver options:\n",
      "    https://scikit-learn.org/stable/modules/linear_model.html#logistic-regression\n",
      "  n_iter_i = _check_optimize_result(\n",
      "c:\\Users\\34649\\anaconda3\\envs\\ML\\lib\\site-packages\\sklearn\\linear_model\\_logistic.py:814: ConvergenceWarning: lbfgs failed to converge (status=1):\n",
      "STOP: TOTAL NO. of ITERATIONS REACHED LIMIT.\n",
      "\n",
      "Increase the number of iterations (max_iter) or scale the data as shown in:\n",
      "    https://scikit-learn.org/stable/modules/preprocessing.html\n",
      "Please also refer to the documentation for alternative solver options:\n",
      "    https://scikit-learn.org/stable/modules/linear_model.html#logistic-regression\n",
      "  n_iter_i = _check_optimize_result(\n",
      "c:\\Users\\34649\\anaconda3\\envs\\ML\\lib\\site-packages\\sklearn\\linear_model\\_logistic.py:814: ConvergenceWarning: lbfgs failed to converge (status=1):\n",
      "STOP: TOTAL NO. of ITERATIONS REACHED LIMIT.\n",
      "\n",
      "Increase the number of iterations (max_iter) or scale the data as shown in:\n",
      "    https://scikit-learn.org/stable/modules/preprocessing.html\n",
      "Please also refer to the documentation for alternative solver options:\n",
      "    https://scikit-learn.org/stable/modules/linear_model.html#logistic-regression\n",
      "  n_iter_i = _check_optimize_result(\n",
      "c:\\Users\\34649\\anaconda3\\envs\\ML\\lib\\site-packages\\sklearn\\linear_model\\_logistic.py:814: ConvergenceWarning: lbfgs failed to converge (status=1):\n",
      "STOP: TOTAL NO. of ITERATIONS REACHED LIMIT.\n",
      "\n",
      "Increase the number of iterations (max_iter) or scale the data as shown in:\n",
      "    https://scikit-learn.org/stable/modules/preprocessing.html\n",
      "Please also refer to the documentation for alternative solver options:\n",
      "    https://scikit-learn.org/stable/modules/linear_model.html#logistic-regression\n",
      "  n_iter_i = _check_optimize_result(\n"
     ]
    },
    {
     "name": "stdout",
     "output_type": "stream",
     "text": [
      "SVM accuracy on the train set:  [0.4371647509578544]\n",
      "SVM accuracy on the test set:  [0.4137622877569258]\n",
      "Best LR parameters are:  [LogisticRegression(C=1, multi_class='multinomial')]\n"
     ]
    },
    {
     "name": "stderr",
     "output_type": "stream",
     "text": [
      "c:\\Users\\34649\\anaconda3\\envs\\ML\\lib\\site-packages\\sklearn\\linear_model\\_logistic.py:814: ConvergenceWarning: lbfgs failed to converge (status=1):\n",
      "STOP: TOTAL NO. of ITERATIONS REACHED LIMIT.\n",
      "\n",
      "Increase the number of iterations (max_iter) or scale the data as shown in:\n",
      "    https://scikit-learn.org/stable/modules/preprocessing.html\n",
      "Please also refer to the documentation for alternative solver options:\n",
      "    https://scikit-learn.org/stable/modules/linear_model.html#logistic-regression\n",
      "  n_iter_i = _check_optimize_result(\n"
     ]
    }
   ],
   "source": [
    "from sklearn.linear_model import LogisticRegression\n",
    "\n",
    "random.seed(33)\n",
    "lr = LogisticRegression()\n",
    "param_grid = {'multi_class':['multinomial', 'ovr'], 'solver':['lbfgs'], 'C':[0.0001, 0.001, 0.01, 0.1, 0.5,1]}\n",
    "\n",
    "result_lr = classification_task(lr, param_grid=param_grid, x_tr_emb = X_train_emb, x_tst_emb =X_test_emb, y_train = y_train, y_test = y_test)\n",
    "\n",
    "print(\"LR accuracy on the train set: \", result_lr['accuracy_train'])\n",
    "print(\"LR accuracy on the test set: \", result_lr['accuracy'])\n",
    "print(\"Best LR parameters are: \", result_lr['best_estimator'])"
   ]
  },
  {
   "attachments": {},
   "cell_type": "markdown",
   "metadata": {},
   "source": [
    "#### **2.1.1.3 Machine Learning Approach with pre-trained word2vec**"
   ]
  },
  {
   "attachments": {},
   "cell_type": "markdown",
   "metadata": {},
   "source": [
    "We will follow exactly the same steps we have done with our word2vec, so we can compare the results in terms of accuracy of the classification."
   ]
  },
  {
   "cell_type": "code",
   "execution_count": null,
   "metadata": {},
   "outputs": [],
   "source": [
    "random.seed(33)\n",
    "\n",
    "\n",
    "\n",
    "#)Embeedings matrix USING THE PRE-TRAINED WORD2VEC MODEL\n",
    "X_train_emb_pre = embeeding_matrix(pre_w2v, X_train, lyrics_embeedings=lyrics_embeddings_pre)\n",
    "X_test_emb_pre = embeeding_matrix(pre_w2v, X_test, lyrics_embeedings=lyrics_embeddings_pre)\n"
   ]
  },
  {
   "cell_type": "markdown",
   "metadata": {},
   "source": [
    "##### -SVM"
   ]
  },
  {
   "cell_type": "code",
   "execution_count": null,
   "metadata": {},
   "outputs": [
    {
     "name": "stdout",
     "output_type": "stream",
     "text": [
      "SVM accuracy on the train set:  [0.5398467432950191]\n",
      "SVM accuracy on the test set:  [0.5263628239499554]\n",
      "Best SVM parameters are:  [SVC(C=9, kernel='linear')]\n"
     ]
    }
   ],
   "source": [
    "#3)Train with different hyper parameters the classifier and obtain the best result\n",
    "random.seed(33)\n",
    "svm = SVC()\n",
    "param_grid = {'C': [1,3,5,7,9], 'kernel': ['rbf', 'linear']}\n",
    "\n",
    "result_svm_pre = classification_task(svm, param_grid=param_grid, x_tr_emb = X_train_emb_pre, x_tst_emb =X_test_emb_pre, y_train = y_train, y_test = y_test)\n",
    "\n",
    "print(\"SVM accuracy on the train set: \", result_svm_pre['accuracy_train'])\n",
    "print(\"SVM accuracy on the test set: \", result_svm_pre['accuracy'])\n",
    "print(\"Best SVM parameters are: \", result_svm_pre['best_estimator'])"
   ]
  },
  {
   "cell_type": "markdown",
   "metadata": {},
   "source": [
    "##### -KNN"
   ]
  },
  {
   "cell_type": "code",
   "execution_count": null,
   "metadata": {},
   "outputs": [
    {
     "name": "stdout",
     "output_type": "stream",
     "text": [
      "KNN accuracy on the train set:  [0.5252873563218391]\n",
      "KNN accuracy on the test set:  [0.4709562109025916]\n",
      "Best KNN parameters are:  [KNeighborsClassifier(n_neighbors=15)]\n"
     ]
    }
   ],
   "source": [
    "from sklearn.neighbors import KNeighborsClassifier\n",
    "\n",
    "random.seed(33)\n",
    "knn = KNeighborsClassifier()\n",
    "param_grid = {'n_neighbors': [1,5,10,15,20,25,30,35,40]}\n",
    "\n",
    "result_knn_pre = classification_task(knn, param_grid=param_grid, x_tr_emb = X_train_emb_pre, x_tst_emb =X_test_emb_pre, y_train = y_train, y_test = y_test)\n",
    "\n",
    "print(\"KNN accuracy on the train set: \", result_knn_pre['accuracy_train'])\n",
    "print(\"KNN accuracy on the test set: \", result_knn_pre['accuracy'])\n",
    "print(\"Best KNN parameters are: \", result_knn_pre['best_estimator'])"
   ]
  },
  {
   "cell_type": "markdown",
   "metadata": {},
   "source": [
    "##### -Random Forest"
   ]
  },
  {
   "cell_type": "code",
   "execution_count": null,
   "metadata": {},
   "outputs": [
    {
     "name": "stdout",
     "output_type": "stream",
     "text": [
      "RF accuracy on the train set:  [0.989272030651341]\n",
      "RF accuracy on the test set:  [0.548704200178731]\n",
      "Best RF parameters are:  [RandomForestClassifier(criterion='entropy', max_depth=12, n_estimators=400)]\n"
     ]
    }
   ],
   "source": [
    "from  sklearn.ensemble import RandomForestClassifier\n",
    "\n",
    "random.seed(33)\n",
    "RF = RandomForestClassifier()\n",
    "param_grid = {'n_estimators': [50,100,200,400], 'criterion':['gini', 'entropy'], 'max_depth':[2,5,10,12]}\n",
    "\n",
    "result_rf_pre = classification_task(RF, param_grid=param_grid, x_tr_emb = X_train_emb_pre, x_tst_emb =X_test_emb_pre, y_train = y_train, y_test = y_test)\n",
    "\n",
    "print(\"RF accuracy on the train set: \", result_rf_pre['accuracy_train'])\n",
    "print(\"RF accuracy on the test set: \", result_rf_pre['accuracy'])\n",
    "print(\"Best RF parameters are: \", result_rf_pre['best_estimator'])"
   ]
  },
  {
   "cell_type": "markdown",
   "metadata": {},
   "source": [
    "##### -Multinomial Logistic Regression"
   ]
  },
  {
   "cell_type": "code",
   "execution_count": null,
   "metadata": {},
   "outputs": [
    {
     "name": "stderr",
     "output_type": "stream",
     "text": [
      "c:\\Users\\34649\\anaconda3\\envs\\ML\\lib\\site-packages\\sklearn\\linear_model\\_logistic.py:814: ConvergenceWarning: lbfgs failed to converge (status=1):\n",
      "STOP: TOTAL NO. of ITERATIONS REACHED LIMIT.\n",
      "\n",
      "Increase the number of iterations (max_iter) or scale the data as shown in:\n",
      "    https://scikit-learn.org/stable/modules/preprocessing.html\n",
      "Please also refer to the documentation for alternative solver options:\n",
      "    https://scikit-learn.org/stable/modules/linear_model.html#logistic-regression\n",
      "  n_iter_i = _check_optimize_result(\n",
      "c:\\Users\\34649\\anaconda3\\envs\\ML\\lib\\site-packages\\sklearn\\linear_model\\_logistic.py:814: ConvergenceWarning: lbfgs failed to converge (status=1):\n",
      "STOP: TOTAL NO. of ITERATIONS REACHED LIMIT.\n",
      "\n",
      "Increase the number of iterations (max_iter) or scale the data as shown in:\n",
      "    https://scikit-learn.org/stable/modules/preprocessing.html\n",
      "Please also refer to the documentation for alternative solver options:\n",
      "    https://scikit-learn.org/stable/modules/linear_model.html#logistic-regression\n",
      "  n_iter_i = _check_optimize_result(\n",
      "c:\\Users\\34649\\anaconda3\\envs\\ML\\lib\\site-packages\\sklearn\\linear_model\\_logistic.py:814: ConvergenceWarning: lbfgs failed to converge (status=1):\n",
      "STOP: TOTAL NO. of ITERATIONS REACHED LIMIT.\n",
      "\n",
      "Increase the number of iterations (max_iter) or scale the data as shown in:\n",
      "    https://scikit-learn.org/stable/modules/preprocessing.html\n",
      "Please also refer to the documentation for alternative solver options:\n",
      "    https://scikit-learn.org/stable/modules/linear_model.html#logistic-regression\n",
      "  n_iter_i = _check_optimize_result(\n",
      "c:\\Users\\34649\\anaconda3\\envs\\ML\\lib\\site-packages\\sklearn\\linear_model\\_logistic.py:814: ConvergenceWarning: lbfgs failed to converge (status=1):\n",
      "STOP: TOTAL NO. of ITERATIONS REACHED LIMIT.\n",
      "\n",
      "Increase the number of iterations (max_iter) or scale the data as shown in:\n",
      "    https://scikit-learn.org/stable/modules/preprocessing.html\n",
      "Please also refer to the documentation for alternative solver options:\n",
      "    https://scikit-learn.org/stable/modules/linear_model.html#logistic-regression\n",
      "  n_iter_i = _check_optimize_result(\n"
     ]
    },
    {
     "name": "stdout",
     "output_type": "stream",
     "text": [
      "LR accuracy on the train set:  [0.5210727969348659]\n",
      "LR accuracy on the test set:  [0.4924039320822163]\n",
      "Best LR parameters are:  [LogisticRegression(C=1, multi_class='ovr')]\n"
     ]
    }
   ],
   "source": [
    "from sklearn.linear_model import LogisticRegression\n",
    "\n",
    "random.seed(33)\n",
    "lr = LogisticRegression()\n",
    "param_grid = {'multi_class':['multinomial', 'ovr'], 'solver':['lbfgs'], 'C':[0.0001, 0.001, 0.01, 0.1, 0.5,1]}\n",
    "\n",
    "result_lr_pre = classification_task(lr, param_grid=param_grid, x_tr_emb = X_train_emb_pre, x_tst_emb =X_test_emb_pre, y_train = y_train, y_test = y_test)\n",
    "\n",
    "print(\"LR accuracy on the train set: \", result_lr_pre['accuracy_train'])\n",
    "print(\"LR accuracy on the test set: \", result_lr_pre['accuracy'])\n",
    "print(\"Best LR parameters are: \", result_lr_pre['best_estimator'])"
   ]
  },
  {
   "attachments": {},
   "cell_type": "markdown",
   "metadata": {},
   "source": [
    "We can see the results are better with the pre-trained model, what is in fact, what we expected, as word2vec works better with more words, and our self created model based on the lyrics of the song was not speccially big."
   ]
  },
  {
   "cell_type": "markdown",
   "metadata": {},
   "source": [
    "#### **2.1.2 Deep Learning Approach**"
   ]
  },
  {
   "cell_type": "code",
   "execution_count": null,
   "metadata": {},
   "outputs": [],
   "source": [
    "#TODO\n",
    "#NEURAL NETWORK IN CLASS"
   ]
  },
  {
   "cell_type": "markdown",
   "metadata": {},
   "source": [
    "### **2.2 Clustering Task**"
   ]
  },
  {
   "cell_type": "code",
   "execution_count": null,
   "metadata": {},
   "outputs": [],
   "source": [
    "#TODO\n",
    "#UNSUPERVISED LEARNING REGARDING CLUSTERING"
   ]
  }
 ],
 "metadata": {
  "kernelspec": {
   "display_name": "Python 3.10.6 ('ML')",
   "language": "python",
   "name": "python3"
  },
  "language_info": {
   "codemirror_mode": {
    "name": "ipython",
    "version": 3
   },
   "file_extension": ".py",
   "mimetype": "text/x-python",
   "name": "python",
   "nbconvert_exporter": "python",
   "pygments_lexer": "ipython3",
   "version": "3.10.4"
  },
  "orig_nbformat": 4,
  "vscode": {
   "interpreter": {
    "hash": "381ff88311bfa90205062e08049120f59c6e3b2eedf7e19586806884b20be455"
   }
  }
 },
 "nbformat": 4,
 "nbformat_minor": 2
}
