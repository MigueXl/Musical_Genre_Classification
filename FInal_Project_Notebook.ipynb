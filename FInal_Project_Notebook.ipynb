{
 "cells": [
  {
   "cell_type": "markdown",
   "metadata": {},
   "source": [
    "# **Machine Learning Applications Final Project Notebook**\n",
    "\n",
    "Date: May 9, 2023\n",
    "\n",
    "Authors: Óscar Montoya Amores (100451858), Javier Serrano Sánchez-Ocaña (100451673), Miguel Ángel Ponce Martínez (100451309)"
   ]
  },
  {
   "cell_type": "markdown",
   "metadata": {},
   "source": [
    "#### **LIBRARIES IMPORT**"
   ]
  },
  {
   "cell_type": "code",
   "execution_count": 5,
   "metadata": {},
   "outputs": [],
   "source": [
    "import numpy as np\n",
    "import pandas as pd\n",
    "import matplotlib.pyplot as plt\n",
    "\n",
    "import spacy    "
   ]
  },
  {
   "cell_type": "markdown",
   "metadata": {},
   "source": [
    "## **0. Dataset Loading and DF Preprocessing**"
   ]
  },
  {
   "cell_type": "markdown",
   "metadata": {},
   "source": [
    "#### **DATASET IMPORT**"
   ]
  },
  {
   "cell_type": "markdown",
   "metadata": {},
   "source": [
    "Let's load the dataset obtained from Kaggle (https://www.kaggle.com/datasets/elizzyliu/song-lyrics) and obtain the main insights from this data:"
   ]
  },
  {
   "cell_type": "code",
   "execution_count": 6,
   "metadata": {},
   "outputs": [
    {
     "data": {
      "text/html": [
       "<div>\n",
       "<style scoped>\n",
       "    .dataframe tbody tr th:only-of-type {\n",
       "        vertical-align: middle;\n",
       "    }\n",
       "\n",
       "    .dataframe tbody tr th {\n",
       "        vertical-align: top;\n",
       "    }\n",
       "\n",
       "    .dataframe thead th {\n",
       "        text-align: right;\n",
       "    }\n",
       "</style>\n",
       "<table border=\"1\" class=\"dataframe\">\n",
       "  <thead>\n",
       "    <tr style=\"text-align: right;\">\n",
       "      <th></th>\n",
       "      <th>song</th>\n",
       "      <th>artist</th>\n",
       "      <th>type</th>\n",
       "      <th>lyrics</th>\n",
       "    </tr>\n",
       "  </thead>\n",
       "  <tbody>\n",
       "    <tr>\n",
       "      <th>0</th>\n",
       "      <td>Stairway to Heaven</td>\n",
       "      <td>Led Zeppelin</td>\n",
       "      <td>rock</td>\n",
       "      <td>Stairway to Heaven Lyrics[Intro]\\n\\n[Verse 1]\\...</td>\n",
       "    </tr>\n",
       "    <tr>\n",
       "      <th>1</th>\n",
       "      <td>Hey Jude</td>\n",
       "      <td>Beatles</td>\n",
       "      <td>rock</td>\n",
       "      <td>Hey Jude Lyrics[Verse 1: Paul McCartney]\\nHey ...</td>\n",
       "    </tr>\n",
       "    <tr>\n",
       "      <th>2</th>\n",
       "      <td>All Along the Watchtower</td>\n",
       "      <td>Hendrix, Jimi</td>\n",
       "      <td>rock</td>\n",
       "      <td>Ii. Tambourine Lyrics[Chorus, sung]\\nHey, Pip,...</td>\n",
       "    </tr>\n",
       "    <tr>\n",
       "      <th>3</th>\n",
       "      <td>Satisfaction</td>\n",
       "      <td>Rolling Stones</td>\n",
       "      <td>rock</td>\n",
       "      <td>Sin título I Lyrics[Letra de \"Sin título I\"]\\n...</td>\n",
       "    </tr>\n",
       "    <tr>\n",
       "      <th>4</th>\n",
       "      <td>Like A Rolling Stone</td>\n",
       "      <td>Dylan, Bob</td>\n",
       "      <td>rock</td>\n",
       "      <td>Like a Rolling Stone Lyrics[Verse 1]\\nOnce upo...</td>\n",
       "    </tr>\n",
       "    <tr>\n",
       "      <th>...</th>\n",
       "      <td>...</td>\n",
       "      <td>...</td>\n",
       "      <td>...</td>\n",
       "      <td>...</td>\n",
       "    </tr>\n",
       "    <tr>\n",
       "      <th>3995</th>\n",
       "      <td>Motown 25</td>\n",
       "      <td>Elzhi</td>\n",
       "      <td>rap &amp; hip hop</td>\n",
       "      <td>Motown 25 Lyrics[Verse 1: eLZhi]\\nI end career...</td>\n",
       "    </tr>\n",
       "    <tr>\n",
       "      <th>3996</th>\n",
       "      <td>How Ya Like Me Now</td>\n",
       "      <td>Kool Moe Dee</td>\n",
       "      <td>rap &amp; hip hop</td>\n",
       "      <td>How Ya Like Me Now Lyrics\"All aboard for the n...</td>\n",
       "    </tr>\n",
       "    <tr>\n",
       "      <th>3997</th>\n",
       "      <td>Coastin’</td>\n",
       "      <td>Zion I feat. K.Flay</td>\n",
       "      <td>rap &amp; hip hop</td>\n",
       "      <td>Coastin’ LyricsWhen life brings trouble\\nYou c...</td>\n",
       "    </tr>\n",
       "    <tr>\n",
       "      <th>3998</th>\n",
       "      <td>Head Banger</td>\n",
       "      <td>EPMD</td>\n",
       "      <td>rap &amp; hip hop</td>\n",
       "      <td>Headbanger Lyrics[Redman]\\nNegroes!!!!!!!!\\n\\n...</td>\n",
       "    </tr>\n",
       "    <tr>\n",
       "      <th>3999</th>\n",
       "      <td>Sound Bwoy Burell</td>\n",
       "      <td>Smif-N-Wessun</td>\n",
       "      <td>rap &amp; hip hop</td>\n",
       "      <td>Sound Bwoy Bureill Lyrics[Intro: Sample from C...</td>\n",
       "    </tr>\n",
       "  </tbody>\n",
       "</table>\n",
       "<p>4000 rows × 4 columns</p>\n",
       "</div>"
      ],
      "text/plain": [
       "                          song               artist           type   \n",
       "0           Stairway to Heaven         Led Zeppelin           rock  \\\n",
       "1                     Hey Jude              Beatles           rock   \n",
       "2     All Along the Watchtower        Hendrix, Jimi           rock   \n",
       "3                 Satisfaction       Rolling Stones           rock   \n",
       "4         Like A Rolling Stone           Dylan, Bob           rock   \n",
       "...                        ...                  ...            ...   \n",
       "3995                 Motown 25                Elzhi  rap & hip hop   \n",
       "3996        How Ya Like Me Now         Kool Moe Dee  rap & hip hop   \n",
       "3997                  Coastin’  Zion I feat. K.Flay  rap & hip hop   \n",
       "3998               Head Banger                 EPMD  rap & hip hop   \n",
       "3999         Sound Bwoy Burell        Smif-N-Wessun  rap & hip hop   \n",
       "\n",
       "                                                 lyrics  \n",
       "0     Stairway to Heaven Lyrics[Intro]\\n\\n[Verse 1]\\...  \n",
       "1     Hey Jude Lyrics[Verse 1: Paul McCartney]\\nHey ...  \n",
       "2     Ii. Tambourine Lyrics[Chorus, sung]\\nHey, Pip,...  \n",
       "3     Sin título I Lyrics[Letra de \"Sin título I\"]\\n...  \n",
       "4     Like a Rolling Stone Lyrics[Verse 1]\\nOnce upo...  \n",
       "...                                                 ...  \n",
       "3995  Motown 25 Lyrics[Verse 1: eLZhi]\\nI end career...  \n",
       "3996  How Ya Like Me Now Lyrics\"All aboard for the n...  \n",
       "3997  Coastin’ LyricsWhen life brings trouble\\nYou c...  \n",
       "3998  Headbanger Lyrics[Redman]\\nNegroes!!!!!!!!\\n\\n...  \n",
       "3999  Sound Bwoy Bureill Lyrics[Intro: Sample from C...  \n",
       "\n",
       "[4000 rows x 4 columns]"
      ]
     },
     "metadata": {},
     "output_type": "display_data"
    }
   ],
   "source": [
    "df = pd.read_csv('all_lyrics.csv')\n",
    "\n",
    "display(df)"
   ]
  },
  {
   "cell_type": "code",
   "execution_count": 7,
   "metadata": {},
   "outputs": [
    {
     "data": {
      "text/html": [
       "<div>\n",
       "<style scoped>\n",
       "    .dataframe tbody tr th:only-of-type {\n",
       "        vertical-align: middle;\n",
       "    }\n",
       "\n",
       "    .dataframe tbody tr th {\n",
       "        vertical-align: top;\n",
       "    }\n",
       "\n",
       "    .dataframe thead th {\n",
       "        text-align: right;\n",
       "    }\n",
       "</style>\n",
       "<table border=\"1\" class=\"dataframe\">\n",
       "  <thead>\n",
       "    <tr style=\"text-align: right;\">\n",
       "      <th></th>\n",
       "      <th>song</th>\n",
       "      <th>artist</th>\n",
       "      <th>type</th>\n",
       "      <th>lyrics</th>\n",
       "    </tr>\n",
       "  </thead>\n",
       "  <tbody>\n",
       "    <tr>\n",
       "      <th>count</th>\n",
       "      <td>4000</td>\n",
       "      <td>4000</td>\n",
       "      <td>4000</td>\n",
       "      <td>3896</td>\n",
       "    </tr>\n",
       "    <tr>\n",
       "      <th>unique</th>\n",
       "      <td>3881</td>\n",
       "      <td>1583</td>\n",
       "      <td>4</td>\n",
       "      <td>3761</td>\n",
       "    </tr>\n",
       "    <tr>\n",
       "      <th>top</th>\n",
       "      <td>Summertime</td>\n",
       "      <td>Beatles</td>\n",
       "      <td>rock</td>\n",
       "      <td>Summer Country Songs LyricsA\\nAaron Lewis – \"E...</td>\n",
       "    </tr>\n",
       "    <tr>\n",
       "      <th>freq</th>\n",
       "      <td>5</td>\n",
       "      <td>51</td>\n",
       "      <td>1000</td>\n",
       "      <td>10</td>\n",
       "    </tr>\n",
       "  </tbody>\n",
       "</table>\n",
       "</div>"
      ],
      "text/plain": [
       "              song   artist  type   \n",
       "count         4000     4000  4000  \\\n",
       "unique        3881     1583     4   \n",
       "top     Summertime  Beatles  rock   \n",
       "freq             5       51  1000   \n",
       "\n",
       "                                                   lyrics  \n",
       "count                                                3896  \n",
       "unique                                               3761  \n",
       "top     Summer Country Songs LyricsA\\nAaron Lewis – \"E...  \n",
       "freq                                                   10  "
      ]
     },
     "execution_count": 7,
     "metadata": {},
     "output_type": "execute_result"
    }
   ],
   "source": [
    "df.describe()"
   ]
  },
  {
   "cell_type": "markdown",
   "metadata": {},
   "source": [
    "This dataset is composed by the 1000 most famous songs from every musical genre(``type Variable``) and our goal is find some relation among songs lyrics and its genre. \n",
    "\n",
    "Firstly, null values seems to appear in the lyrics row because as we can see 104 songs ``lyrics`` are not counted properly. So first thing wee need to do is remove null values.\n",
    "\n",
    "Moreover, the unique row bothers us too. It is expected that ``type`` and ``artist`` have several instances repeated (Artist could have many famous songs and obviously given 4 genres it will be repeated). Furthermore, even two different artists could present two different songs with the same name (``song``). However, it is really strange that two songs represent the same lyrics. Here we could have be talking about plagiarism, corrupted data or simply describe() function is not working as expected with long string stucture, so before starting to apply some Machine Learnings Applicatios we have seen in class we need to fix this trouble."
   ]
  },
  {
   "cell_type": "code",
   "execution_count": 8,
   "metadata": {},
   "outputs": [
    {
     "name": "stdout",
     "output_type": "stream",
     "text": [
      "There are exactly 104 null values in the lyrics variable which corresponds to the 2.600% of the data set\n"
     ]
    }
   ],
   "source": [
    "null = df['lyrics'].isna().values\n",
    "\n",
    "print(f'There are exactly {sum(null)} null values in the lyrics variable which corresponds to the {sum(null)/len(null)*100:.3f}% of the data set')\n"
   ]
  },
  {
   "cell_type": "markdown",
   "metadata": {},
   "source": [
    "We think this percentege is assumible of being removed from the dataset but before doing so let's see the proportion of songs genre which receives null lyrics. "
   ]
  },
  {
   "cell_type": "code",
   "execution_count": 9,
   "metadata": {},
   "outputs": [
    {
     "data": {
      "text/plain": [
       "<Axes: >"
      ]
     },
     "execution_count": 9,
     "metadata": {},
     "output_type": "execute_result"
    },
    {
     "data": {
      "image/png": "[encoded data removed]",
      "text/plain": [
       "<Figure size 432x288 with 1 Axes>"
      ]
     },
     "metadata": {
      "needs_background": "light"
     },
     "output_type": "display_data"
    }
   ],
   "source": [
    "df_null = df[null]\n",
    "df_null['type'].hist()"
   ]
  },
  {
   "cell_type": "markdown",
   "metadata": {},
   "source": [
    "Most of the null lyrics are from ``rap & hip hop`` but nothing alarming. We can assume to remove this instances, update the dataframe and repeat a similar process to find out repeted lyrics. "
   ]
  },
  {
   "cell_type": "code",
   "execution_count": 10,
   "metadata": {},
   "outputs": [],
   "source": [
    "df = df.dropna(subset=['lyrics', 'type'])"
   ]
  },
  {
   "cell_type": "code",
   "execution_count": 11,
   "metadata": {},
   "outputs": [
    {
     "name": "stdout",
     "output_type": "stream",
     "text": [
      "[False False False ... False False False]\n"
     ]
    }
   ],
   "source": [
    "print(df.duplicated().values)"
   ]
  },
  {
   "cell_type": "code",
   "execution_count": 12,
   "metadata": {},
   "outputs": [
    {
     "name": "stdout",
     "output_type": "stream",
     "text": [
      "There are exactly 14 repeated values in the lyrics variable which corresponds to the 0.359% of the data set\n"
     ]
    },
    {
     "data": {
      "text/plain": [
       "<Axes: >"
      ]
     },
     "execution_count": 12,
     "metadata": {},
     "output_type": "execute_result"
    },
    {
     "data": {
      "image/png": "[encoded data removed]",
      "text/plain": [
       "<Figure size 432x288 with 1 Axes>"
      ]
     },
     "metadata": {
      "needs_background": "light"
     },
     "output_type": "display_data"
    }
   ],
   "source": [
    "repeated = df[df.duplicated()]\n",
    "print(f'There are exactly {len(repeated)} repeated values in the lyrics variable which corresponds to the {len(repeated)/len(df)*100:.3f}% of the data set')\n",
    "repeated['type'].hist()"
   ]
  },
  {
   "cell_type": "markdown",
   "metadata": {},
   "source": [
    "Again, the ammount of repeated values are not very important but this time is focused on only two genres. However, we will remove it because it is not adding any information and let's repeat the describe() process to finally start to focus on the Machine Learning Apps."
   ]
  },
  {
   "cell_type": "code",
   "execution_count": 13,
   "metadata": {},
   "outputs": [
    {
     "data": {
      "text/html": [
       "<div>\n",
       "<style scoped>\n",
       "    .dataframe tbody tr th:only-of-type {\n",
       "        vertical-align: middle;\n",
       "    }\n",
       "\n",
       "    .dataframe tbody tr th {\n",
       "        vertical-align: top;\n",
       "    }\n",
       "\n",
       "    .dataframe thead th {\n",
       "        text-align: right;\n",
       "    }\n",
       "</style>\n",
       "<table border=\"1\" class=\"dataframe\">\n",
       "  <thead>\n",
       "    <tr style=\"text-align: right;\">\n",
       "      <th></th>\n",
       "      <th>song</th>\n",
       "      <th>artist</th>\n",
       "      <th>type</th>\n",
       "      <th>lyrics</th>\n",
       "    </tr>\n",
       "  </thead>\n",
       "  <tbody>\n",
       "    <tr>\n",
       "      <th>count</th>\n",
       "      <td>3761</td>\n",
       "      <td>3761</td>\n",
       "      <td>3761</td>\n",
       "      <td>3761</td>\n",
       "    </tr>\n",
       "    <tr>\n",
       "      <th>unique</th>\n",
       "      <td>3668</td>\n",
       "      <td>1476</td>\n",
       "      <td>4</td>\n",
       "      <td>3761</td>\n",
       "    </tr>\n",
       "    <tr>\n",
       "      <th>top</th>\n",
       "      <td>Angel</td>\n",
       "      <td>Beatles</td>\n",
       "      <td>rock</td>\n",
       "      <td>Stairway to Heaven Lyrics[Intro]\\n\\n[Verse 1]\\...</td>\n",
       "    </tr>\n",
       "    <tr>\n",
       "      <th>freq</th>\n",
       "      <td>5</td>\n",
       "      <td>48</td>\n",
       "      <td>972</td>\n",
       "      <td>1</td>\n",
       "    </tr>\n",
       "  </tbody>\n",
       "</table>\n",
       "</div>"
      ],
      "text/plain": [
       "         song   artist  type   \n",
       "count    3761     3761  3761  \\\n",
       "unique   3668     1476     4   \n",
       "top     Angel  Beatles  rock   \n",
       "freq        5       48   972   \n",
       "\n",
       "                                                   lyrics  \n",
       "count                                                3761  \n",
       "unique                                               3761  \n",
       "top     Stairway to Heaven Lyrics[Intro]\\n\\n[Verse 1]\\...  \n",
       "freq                                                    1  "
      ]
     },
     "execution_count": 13,
     "metadata": {},
     "output_type": "execute_result"
    }
   ],
   "source": [
    "df = df.drop_duplicates(subset=['lyrics'], keep='first').reset_index(drop=True)\n",
    "df.describe()"
   ]
  },
  {
   "cell_type": "markdown",
   "metadata": {},
   "source": [
    "Good news regarding the ``lyrics`` variable, is time to begin working with spacy and more NLP libaries we have seen during classes."
   ]
  },
  {
   "cell_type": "markdown",
   "metadata": {},
   "source": [
    "## **1. Text Preprocessing and vectorization**"
   ]
  },
  {
   "cell_type": "markdown",
   "metadata": {},
   "source": [
    "### **1.1 NLP Pipeline**"
   ]
  },
  {
   "cell_type": "markdown",
   "metadata": {},
   "source": [
    "Before the implementation of the Pipeline let's print some ``lyrics`` instances in order to visualize which kind of none useful set of characters has been introduced"
   ]
  },
  {
   "cell_type": "code",
   "execution_count": 14,
   "metadata": {},
   "outputs": [
    {
     "name": "stdout",
     "output_type": "stream",
     "text": [
      "SONG 1\n",
      "[\"Stairway to Heaven Lyrics[Intro]\\n\\n[Verse 1]\\nThere's a lady who's sure all that glitters is gold\\nAnd she's buying a stairway to Heaven\\nWhen she gets there she knows, if the stores are all closed\\nWith a word she can get what she came for\\nOoh, ooh, and she's buying a stairway to Heaven\\nThere's a sign on the wall, but she wants to be sure\\n'Cause you know sometimes words have two meanings\\nIn a tree by the brook, there's a songbird who sings\\nSometimes all of our thoughts are misgiven\\n\\n[Chorus]\\nOoh, it  makes me wonder\\nOoh, makes me wonder\\n[Verse 2]\\nThere's a feeling I get when I look to the West\\nAnd my spirit is crying for leaving\\nIn my thoughts I have seen rings of smoke through the trees\\nAnd the voices of those who stand looking\\n\\n[Chorus]\\nOoh, it makes me wonder\\nOoh, really makes me wonder\\n\\n[Verse 3]\\nAnd it's whispered that soon if we all call the tune\\nThen the piper will lead us to reason\\nAnd a new day will dawn for those who stand long\\nAnd the forests will echo with laughter\\n\\n[Chorus]\\nOh-oh-oh-oh-woahhh\\n\\n[Verse 4]\\nIf there's a bustle in your hedgerow, don't be alarmed now\\nIt's just a spring clean for the May queen\\nYes, there are two paths you can go by, but in the long run\\nThere's still time to change the road you're on\\n\\n[Chorus]\\nAnd it makes me wonder\\nOhh, woah\\n[Verse 5]\\nYour head is humming, and it won't go, in case you don't know\\nThe piper's calling you to join him\\nDear lady, can you hear the wind blow? And did you know\\nYour stairway lies on the whispering wind?\\n[Guitar Solo]\\n\\n[Bridge]\\nAnd as we wind on down the road\\nOur shadows taller than our soul\\nThere walks a lady we all know\\nWho shines white light and wants to show\\nHow everything still turns to gold\\nAnd if you listen very hard\\nThe tune will come to you at last\\nWhen all are one, and one is all\\nTo be a rock and not to roll\\n\\n[Outro]\\nAnd she's buying a stairway to Heaven280Embed\"]\n",
      "\n",
      "SONG 2\n",
      "[\"Hey Jude Lyrics[Verse 1: Paul McCartney]\\nHey Jude, don't make it bad\\nTake a sad song and make it better\\nRemember to let her into your heart\\nThen you can start to make it better\\n\\n[Verse 2: Paul McCartney, John Lennon, George Harrison]\\nHey Jude, don't be afraid\\nYou were made to go out and get her\\nThe minute you let her under your skin\\nThen you begin to make it better\\n\\n[Chorus: Paul McCartney, John Lennon, George Harrison]\\nAnd anytime you feel the pain, hey Jude, refrain\\nDon't carry the world upon your shoulders\\nFor well you know that it's a fool who plays it cool\\nBy making his world a little colder\\nNa na na na na na na na na na\\n[Verse 3: Paul McCartney]\\nHey Jude, don't let me down\\nYou have found her, now go and get her\\n(Let it out and let it in)\\nRemember (Hey Jude) to let her into your heart\\nThen you can start to make it better\\n\\n[Chorus: Paul McCartney, John Lennon, George Harrison]\\nSo let it out and let it in, hey Jude, begin\\nYou're waiting for someone to perform with\\nAnd don't you know that it's just you, hey Jude, you'll do\\nThe movement you need is on your shoulder\\nNa na na na na na na na na yeah\\n\\n[Verse 4: Paul McCartney & John Lennon]\\nHey Jude, don't make it bad\\nTake a sad song and make it better\\nRemember to let her under your skin\\nThen you'll begin to make it (Woah, fucking hell!)\\nBetter better better better better better, oh\\n\\n[Outro: Paul McCartney & Lennon/Harrison/Starr]\\nYeah yeah yeah yeah yeah yeah yeah\\nNaa na na na na na na, na na na na, hey Jude\\nNaa na na na na na na, na na na na, hey Jude\\nNaa na na na na na na, na na na na, hey Jude\\nNaa na na na na na na, na na na na, hey Jude\\n(Jude Judy Judy Judy Judy Judy ow wow)\\nNaa na na na na na na (Na na na), na na na na, hey Jude\\n(Jude Jude Jude Jude Jude)\\nNaa na na na na na na (Yeah yeah yeah), na na na na, hey Jude\\n(You know you can make, Jude Jude, You're not gonna break it)\\nNaa na (Don't make it bad Jude) na na na na na (Take a sad song and make it better), na na na na, hey Jude\\nHey Jude, hey Jude wow\\nNaa na na na na na na, na na na na, hey Jude\\nNaa na na na na na na, na na na na, hey Jude\\nJude Jude Jude Jude Jude Jude\\nNaa na na na na na na, na na na na, hey Jude\\nNaa na na na na na na, na na na na, hey Jude\\n(Na na na na na na na na na na na na)\\nNaa na na na na na na, na na na na, hey Jude\\nNaa na na na na na na, na na na na, hey Jude\\nNaa na na na na na na (Make it Jude), na na na na, hey Jude\\n(Yeah yeah yeah yeah yeah yeah yeah)\\nNaa na na na na na na, na na na na, hey Jude\\n(Go listen to ya ma ma ma ma ma ma ma ma)\\nNaa na na na na na na, na na na na, hey Jude\\nNaa na na na na na na, na na na na, hey Jude96Embed\"]\n",
      "\n"
     ]
    }
   ],
   "source": [
    "instances = [l for l in df['lyrics'].values[:2]]\n",
    "\n",
    "for si,s in enumerate(instances):\n",
    "    print(f'SONG {si + 1}')\n",
    "    print(str([s])+'\\n')"
   ]
  },
  {
   "cell_type": "markdown",
   "metadata": {},
   "source": [
    "From these two songs we can clearly see that there are a lot of characters which is not necessary at all. Firstly it seems that at the beguining of every song, the title of the song it is included, an iformation wich is stored in other variable and we do not need. Also at the end of the song a sequence of numbers and 'Embed' word is appearing. Furthermore, every information inside '[]' is not corresponding to the lyrics itself. Finally, '/n' wich corresponds to line skip must be removed.\n",
    "\n",
    "Regarding expresions like 'na', 'yeah', 'hey'... could be interpreted as some kind of stopword which maybe is not a word which express to much but especially in this second song for example it seems to be half of the song. So deppending on troubles we could face, we will change the decision of keeping this strings. However, contractions must be treated as a 'formal' word in orther to obtain the same meaning for every word. This can be counter benefit especially in ``rap & hip hop`` genre which most of the words uses contraction to fit with the rithm of the song. But at the end we are triying to find the meaning of the words in the song and each word must be represented in the same manner in every one.  "
   ]
  },
  {
   "cell_type": "markdown",
   "metadata": {},
   "source": [
    "Creating a function to address all this problems would be the best manner to properly display the lyrics:"
   ]
  },
  {
   "cell_type": "code",
   "execution_count": 15,
   "metadata": {},
   "outputs": [],
   "source": [
    "#Maximum length of any song's Title\n",
    "lengthTitle = df['song'].apply(lambda x: len(x.split(' '))).values\n",
    "maxLen = np.max(lengthTitle) + 5 #This 5 is just a margin just in case"
   ]
  },
  {
   "cell_type": "code",
   "execution_count": 16,
   "metadata": {},
   "outputs": [
    {
     "data": {
      "text/html": [
       "<div>\n",
       "<style scoped>\n",
       "    .dataframe tbody tr th:only-of-type {\n",
       "        vertical-align: middle;\n",
       "    }\n",
       "\n",
       "    .dataframe tbody tr th {\n",
       "        vertical-align: top;\n",
       "    }\n",
       "\n",
       "    .dataframe thead th {\n",
       "        text-align: right;\n",
       "    }\n",
       "</style>\n",
       "<table border=\"1\" class=\"dataframe\">\n",
       "  <thead>\n",
       "    <tr style=\"text-align: right;\">\n",
       "      <th></th>\n",
       "      <th>song</th>\n",
       "      <th>artist</th>\n",
       "      <th>type</th>\n",
       "      <th>lyrics</th>\n",
       "      <th>correctLyrics</th>\n",
       "    </tr>\n",
       "  </thead>\n",
       "  <tbody>\n",
       "    <tr>\n",
       "      <th>0</th>\n",
       "      <td>Stairway to Heaven</td>\n",
       "      <td>Led Zeppelin</td>\n",
       "      <td>rock</td>\n",
       "      <td>Stairway to Heaven Lyrics[Intro]\\n\\n[Verse 1]\\...</td>\n",
       "      <td>There is a lady who is sure all that glitters...</td>\n",
       "    </tr>\n",
       "    <tr>\n",
       "      <th>1</th>\n",
       "      <td>Hey Jude</td>\n",
       "      <td>Beatles</td>\n",
       "      <td>rock</td>\n",
       "      <td>Hey Jude Lyrics[Verse 1: Paul McCartney]\\nHey ...</td>\n",
       "      <td>Hey Jude, do not make it bad Take a sad song ...</td>\n",
       "    </tr>\n",
       "    <tr>\n",
       "      <th>2</th>\n",
       "      <td>All Along the Watchtower</td>\n",
       "      <td>Hendrix, Jimi</td>\n",
       "      <td>rock</td>\n",
       "      <td>Ii. Tambourine Lyrics[Chorus, sung]\\nHey, Pip,...</td>\n",
       "      <td>Hey, Pip, play your tambourine Make the sailo...</td>\n",
       "    </tr>\n",
       "    <tr>\n",
       "      <th>3</th>\n",
       "      <td>Satisfaction</td>\n",
       "      <td>Rolling Stones</td>\n",
       "      <td>rock</td>\n",
       "      <td>Sin título I Lyrics[Letra de \"Sin título I\"]\\n...</td>\n",
       "      <td>Hay tres ninas jipis en la habitacion Una se ...</td>\n",
       "    </tr>\n",
       "    <tr>\n",
       "      <th>4</th>\n",
       "      <td>Like A Rolling Stone</td>\n",
       "      <td>Dylan, Bob</td>\n",
       "      <td>rock</td>\n",
       "      <td>Like a Rolling Stone Lyrics[Verse 1]\\nOnce upo...</td>\n",
       "      <td>Once upon a time you dressed so fine Threw th...</td>\n",
       "    </tr>\n",
       "    <tr>\n",
       "      <th>...</th>\n",
       "      <td>...</td>\n",
       "      <td>...</td>\n",
       "      <td>...</td>\n",
       "      <td>...</td>\n",
       "      <td>...</td>\n",
       "    </tr>\n",
       "    <tr>\n",
       "      <th>3756</th>\n",
       "      <td>Motown 25</td>\n",
       "      <td>Elzhi</td>\n",
       "      <td>rap &amp; hip hop</td>\n",
       "      <td>Motown 25 Lyrics[Verse 1: eLZhi]\\nI end career...</td>\n",
       "      <td>I end careers, years, pierce ears fierce with...</td>\n",
       "    </tr>\n",
       "    <tr>\n",
       "      <th>3757</th>\n",
       "      <td>How Ya Like Me Now</td>\n",
       "      <td>Kool Moe Dee</td>\n",
       "      <td>rap &amp; hip hop</td>\n",
       "      <td>How Ya Like Me Now Lyrics\"All aboard for the n...</td>\n",
       "      <td>\"All aboard for the night train\" I throw my ta...</td>\n",
       "    </tr>\n",
       "    <tr>\n",
       "      <th>3758</th>\n",
       "      <td>Coastin’</td>\n",
       "      <td>Zion I feat. K.Flay</td>\n",
       "      <td>rap &amp; hip hop</td>\n",
       "      <td>Coastin’ LyricsWhen life brings trouble\\nYou c...</td>\n",
       "      <td>When life brings trouble You can fight or run ...</td>\n",
       "    </tr>\n",
       "    <tr>\n",
       "      <th>3759</th>\n",
       "      <td>Head Banger</td>\n",
       "      <td>EPMD</td>\n",
       "      <td>rap &amp; hip hop</td>\n",
       "      <td>Headbanger Lyrics[Redman]\\nNegroes!!!!!!!!\\n\\n...</td>\n",
       "      <td>Negroes!!!!!!!! The head banger, WHAT? The he...</td>\n",
       "    </tr>\n",
       "    <tr>\n",
       "      <th>3760</th>\n",
       "      <td>Sound Bwoy Burell</td>\n",
       "      <td>Smif-N-Wessun</td>\n",
       "      <td>rap &amp; hip hop</td>\n",
       "      <td>Sound Bwoy Bureill Lyrics[Intro: Sample from C...</td>\n",
       "      <td>We are the winning champion sound. You cannot...</td>\n",
       "    </tr>\n",
       "  </tbody>\n",
       "</table>\n",
       "<p>3761 rows × 5 columns</p>\n",
       "</div>"
      ],
      "text/plain": [
       "                          song               artist           type   \n",
       "0           Stairway to Heaven         Led Zeppelin           rock  \\\n",
       "1                     Hey Jude              Beatles           rock   \n",
       "2     All Along the Watchtower        Hendrix, Jimi           rock   \n",
       "3                 Satisfaction       Rolling Stones           rock   \n",
       "4         Like A Rolling Stone           Dylan, Bob           rock   \n",
       "...                        ...                  ...            ...   \n",
       "3756                 Motown 25                Elzhi  rap & hip hop   \n",
       "3757        How Ya Like Me Now         Kool Moe Dee  rap & hip hop   \n",
       "3758                  Coastin’  Zion I feat. K.Flay  rap & hip hop   \n",
       "3759               Head Banger                 EPMD  rap & hip hop   \n",
       "3760         Sound Bwoy Burell        Smif-N-Wessun  rap & hip hop   \n",
       "\n",
       "                                                 lyrics   \n",
       "0     Stairway to Heaven Lyrics[Intro]\\n\\n[Verse 1]\\...  \\\n",
       "1     Hey Jude Lyrics[Verse 1: Paul McCartney]\\nHey ...   \n",
       "2     Ii. Tambourine Lyrics[Chorus, sung]\\nHey, Pip,...   \n",
       "3     Sin título I Lyrics[Letra de \"Sin título I\"]\\n...   \n",
       "4     Like a Rolling Stone Lyrics[Verse 1]\\nOnce upo...   \n",
       "...                                                 ...   \n",
       "3756  Motown 25 Lyrics[Verse 1: eLZhi]\\nI end career...   \n",
       "3757  How Ya Like Me Now Lyrics\"All aboard for the n...   \n",
       "3758  Coastin’ LyricsWhen life brings trouble\\nYou c...   \n",
       "3759  Headbanger Lyrics[Redman]\\nNegroes!!!!!!!!\\n\\n...   \n",
       "3760  Sound Bwoy Bureill Lyrics[Intro: Sample from C...   \n",
       "\n",
       "                                          correctLyrics  \n",
       "0      There is a lady who is sure all that glitters...  \n",
       "1      Hey Jude, do not make it bad Take a sad song ...  \n",
       "2      Hey, Pip, play your tambourine Make the sailo...  \n",
       "3      Hay tres ninas jipis en la habitacion Una se ...  \n",
       "4      Once upon a time you dressed so fine Threw th...  \n",
       "...                                                 ...  \n",
       "3756   I end careers, years, pierce ears fierce with...  \n",
       "3757  \"All aboard for the night train\" I throw my ta...  \n",
       "3758  When life brings trouble You can fight or run ...  \n",
       "3759   Negroes!!!!!!!! The head banger, WHAT? The he...  \n",
       "3760   We are the winning champion sound. You cannot...  \n",
       "\n",
       "[3761 rows x 5 columns]"
      ]
     },
     "metadata": {},
     "output_type": "display_data"
    }
   ],
   "source": [
    "import re\n",
    "import contractions\n",
    "import unicodedata\n",
    "\n",
    "def correctLyrics(row, maxLen):\n",
    "    text = row['lyrics']\n",
    "    #1. Remove '\\n' and Unicode Escape Sequence ('\\u2005f)\n",
    "    text =  re.sub(r'\\n', ' ', text)\n",
    "    text = unicodedata.normalize('NFKD', text).encode('ascii', 'ignore').decode('utf-8')\n",
    "    #2. Remove '[]'\n",
    "    text = re.sub(r'\\[.*?\\]', ' ', text)\n",
    "    #3. Remove initial title + 'Lyrics' Keyword\n",
    "    titleWords = text.split(' ')[:maxLen] #Save time and avoid errors\n",
    "    restWords = text.split(' ')[maxLen:]\n",
    "    titleWords = re.sub(r'.*?Lyrics', '', ' '.join(titleWords))\n",
    "    text = titleWords + ' ' + ' '.join(restWords)\n",
    "    #4. Remove 'Embed' at the end word of the song\n",
    "    text = re.sub(r'\\d+Embed|Embed', '', text)\n",
    "    #5.Avoid more than 1 Espaces\n",
    "    text = re.sub(r'\\s+', ' ', text)\n",
    "    #6. Remove contractions\n",
    "    text = contractions.fix(text)\n",
    "    return text\n",
    "\n",
    "df['correctLyrics'] = df.apply(lambda x: correctLyrics(x,maxLen), axis=1)\n",
    "\n",
    "display(df)"
   ]
  },
  {
   "cell_type": "markdown",
   "metadata": {},
   "source": [
    "After all these modifications let's see if the previous songs lyrics has an uniform structure: "
   ]
  },
  {
   "cell_type": "code",
   "execution_count": 17,
   "metadata": {},
   "outputs": [
    {
     "name": "stdout",
     "output_type": "stream",
     "text": [
      "SONG 1\n",
      "[\" There is a lady who is sure all that glitters is gold And she is buying a stairway to Heaven When she gets there she knows, if the stores are all closed With a word she can get what she came for Ooh, ooh, and she is buying a stairway to Heaven There is a sign on the wall, but she wants to be sure Because you know sometimes words have two meanings In a tree by the brook, there is a songbird who sings Sometimes all of our thoughts are misgiven Ooh, it makes me wonder Ooh, makes me wonder There is a feeling I get when I look to the West And my spirit is crying for leaving In my thoughts I have seen rings of smoke through the trees And the voices of those who stand looking Ooh, it makes me wonder Ooh, really makes me wonder And it is whispered that soon if we all call the tune Then the piper will lead us to reason And a new day will dawn for those who stand long And the forests will echo with laughter Oh-oh-oh-oh-woahhh If there is a bustle in your hedgerow, do not be alarmed now It is just a spring clean for the May queen Yes, there are two paths you can go by, but in the long run There is still time to change the road you are on And it makes me wonder Ohh, woah Your head is humming, and it will not go, in case you do not know The piper's calling you to join him Dear lady, can you hear the wind blow? And did you know Your stairway lies on the whispering wind? And as we wind on down the road Our shadows taller than our soul There walks a lady we all know Who shines white light and wants to show How everything still turns to gold And if you listen very hard The tune will come to you at last When all are one, and one is all To be a rock and not to roll And she is buying a stairway to Heaven\"]\n",
      "\n",
      "SONG 2\n",
      "[' Hey Jude, do not make it bad Take a sad song and make it better Remember to let her into your heart Then you can start to make it better Hey Jude, do not be afraid You were made to go out and get her The minute you let her under your skin Then you begin to make it better And anytime you feel the pain, hey Jude, refrain Do not carry the world upon your shoulders For well you know that it is a fool who plays it cool By making his world a little colder Na na na na na na na na na na Hey Jude, do not let me down You have found her, now go and get her (Let it out and let it in) Remember (Hey Jude) to let her into your heart Then you can start to make it better So let it out and let it in, hey Jude, begin You are waiting for someone to perform with And do not you know that it is just you, hey Jude, you will do The movement you need is on your shoulder Na na na na na na na na na yeah Hey Jude, do not make it bad Take a sad song and make it better Remember to let her under your skin Then you will begin to make it (Woah, fucking hell!) Better better better better better better, oh Yeah yeah yeah yeah yeah yeah yeah Naa na na na na na na, na na na na, hey Jude Naa na na na na na na, na na na na, hey Jude Naa na na na na na na, na na na na, hey Jude Naa na na na na na na, na na na na, hey Jude (Jude Judy Judy Judy Judy Judy ow wow) Naa na na na na na na (Na na na), na na na na, hey Jude (Jude Jude Jude Jude Jude) Naa na na na na na na (Yeah yeah yeah), na na na na, hey Jude (You know you can make, Jude Jude, You are not going to break it) Naa na (Do not make it bad Jude) na na na na na (Take a sad song and make it better), na na na na, hey Jude Hey Jude, hey Jude wow Naa na na na na na na, na na na na, hey Jude Naa na na na na na na, na na na na, hey Jude Jude Jude Jude Jude Jude Jude Naa na na na na na na, na na na na, hey Jude Naa na na na na na na, na na na na, hey Jude (Na na na na na na na na na na na na) Naa na na na na na na, na na na na, hey Jude Naa na na na na na na, na na na na, hey Jude Naa na na na na na na (Make it Jude), na na na na, hey Jude (Yeah yeah yeah yeah yeah yeah yeah) Naa na na na na na na, na na na na, hey Jude (Go listen to ya ma ma ma ma ma ma ma ma) Naa na na na na na na, na na na na, hey Jude Naa na na na na na na, na na na na, hey Jude']\n",
      "\n"
     ]
    }
   ],
   "source": [
    "instances = [l for l in df['correctLyrics'].values[:2]]\n",
    "\n",
    "for si,s in enumerate(instances):\n",
    "    print(f'SONG {si + 1}')\n",
    "    print(str([s])+'\\n')"
   ]
  },
  {
   "cell_type": "markdown",
   "metadata": {},
   "source": [
    "Now, these lyrics seems to be readable, escape sequences and Unicode elements has been removed, both title at the begining of the word and Embed at the has been also adressed. Finally, contractions has been recover onto its original verb. So far, so good."
   ]
  },
  {
   "cell_type": "markdown",
   "metadata": {},
   "source": [
    "However, something we need to know previously working with songs lyrics is that our dataset is about the 1000 most heard songs for every genre but this does not implies that all our songs are in the same language! Therefore, it would be useful to determine which language predominates for each song and in the case of minoritary languages, remove that instance because otherwise it would be impossible to asign a topic for these kind of sentences. Therefore, it is the moment to visualize which language priorises in this dataset and which other languages could surprise us."
   ]
  },
  {
   "cell_type": "code",
   "execution_count": 18,
   "metadata": {},
   "outputs": [],
   "source": [
    "from spacy.language import Language\n",
    "from spacy_langdetect import LanguageDetector\n",
    "\n",
    "# Add LanguageDetector and assign it a string name\n",
    "@Language.factory(\"language_detector\")\n",
    "def create_language_detector(nlp, name):\n",
    "    return LanguageDetector(language_detection_function=None)\n",
    "\n",
    "mult_nlp = spacy.load('xx_sent_ud_sm')\n",
    "\n",
    "mult_nlp.add_pipe('language_detector', last=True)\n",
    "\n",
    "mult_doc = mult_nlp(df['correctLyrics'].values[0])\n",
    "def getLanguage(row):\n",
    "    mult_doc = mult_nlp(row['correctLyrics'])\n",
    "    return mult_doc._.language['language']\n",
    "\n",
    "df['language'] = df.apply(getLanguage, axis = 1)"
   ]
  },
  {
   "cell_type": "markdown",
   "metadata": {},
   "source": [
    "Surprisingly it only tooks one minute!. When we iniciate the process we were expecting 30 mins at list. This is not bad at all, now we can see which languages predominates in our dataset and this could be good information for a better interpretation of the number of topics we may need to select. Let's plot a histogram to visualize how this ``language`` variable is distributed."
   ]
  },
  {
   "cell_type": "code",
   "execution_count": 19,
   "metadata": {},
   "outputs": [
    {
     "data": {
      "text/plain": [
       "<Axes: >"
      ]
     },
     "execution_count": 19,
     "metadata": {},
     "output_type": "execute_result"
    },
    {
     "data": {
      "image/png": "[encoded data removed]",
      "text/plain": [
       "<Figure size 432x288 with 1 Axes>"
      ]
     },
     "metadata": {
      "needs_background": "light"
     },
     "output_type": "display_data"
    }
   ],
   "source": [
    "df['language'].hist()"
   ]
  },
  {
   "cell_type": "markdown",
   "metadata": {},
   "source": [
    "Wow! Almost every song is in english. So, obviously this will be the main language in the corpus. However, let's put the spotlight in those minoritary languages, it does not seem that they include sufficient enough docs to perform a correct. Thus, let's focus now in this languages songs:"
   ]
  },
  {
   "cell_type": "code",
   "execution_count": 20,
   "metadata": {},
   "outputs": [
    {
     "name": "stdout",
     "output_type": "stream",
     "text": [
      "Tne number of non-english songs is 32 which correspond to 0.851% of the dataset\n"
     ]
    },
    {
     "data": {
      "image/png": "[encoded data removed]",
      "text/plain": [
       "<Figure size 432x288 with 1 Axes>"
      ]
     },
     "metadata": {
      "needs_background": "light"
     },
     "output_type": "display_data"
    }
   ],
   "source": [
    "dfNoteng = df.loc[df['language'] != 'en']\n",
    "dfNoteng['language'].hist()\n",
    "print(f'Tne number of non-english songs is {dfNoteng.shape[0]} which correspond to {dfNoteng.shape[0]/df.shape[0]*100:.3f}% of the dataset')"
   ]
  },
  {
   "cell_type": "markdown",
   "metadata": {},
   "source": [
    "It is less than a 1% of the total songs and the most repeated language is 'tagalog' which is a philipine language and are 6 instances of this language. Therefore it is assumible the loss of these instances. Therefore, after this deletion it is our time to apply our spicy Pipeline after the creation of the corpus."
   ]
  },
  {
   "cell_type": "code",
   "execution_count": 21,
   "metadata": {},
   "outputs": [],
   "source": [
    "df = df.loc[df['language'] == 'en'].reset_index(drop=True)\n",
    "\n",
    "corpus = [elem for elem in df['correctLyrics']]\n",
    "\n",
    "with open('corpus.txt', 'w+') as c:\n",
    "    c.write(str(corpus))"
   ]
  },
  {
   "cell_type": "markdown",
   "metadata": {},
   "source": [
    "``corpus`` variable is composed by a long list including every song on it. We have done is in this way because we think Python lists for this kind of task would be faster than using Pandas Dataframes. From this we will create a Pipeline simiarily as we did in classes notebook and use further machine learning algorithm as final work statement requests."
   ]
  },
  {
   "cell_type": "markdown",
   "metadata": {},
   "source": [
    "Once the ``corpus`` has been created, it is very easy to apply a Pipeline:"
   ]
  },
  {
   "cell_type": "code",
   "execution_count": 22,
   "metadata": {},
   "outputs": [
    {
     "name": "stderr",
     "output_type": "stream",
     "text": [
      "100%|██████████| 3729/3729 [00:34<00:00, 108.65it/s]\n"
     ]
    }
   ],
   "source": [
    "from num2words import num2words\n",
    "from tqdm import tqdm\n",
    "from nltk.tokenize import wordpunct_tokenize\n",
    "from nltk.corpus import stopwords\n",
    "from nltk.stem import WordNetLemmatizer\n",
    "\n",
    "stopwords_en = stopwords.words('english')\n",
    "wnl = WordNetLemmatizer()\n",
    "\n",
    "#IMPORT CORPUS\n",
    "with open('corpus.txt', 'r') as c:\n",
    "    corpus = eval(c.read())\n",
    "##############\n",
    "\n",
    "valid_POS = set(['VERB', 'NOUN', 'ADJ', 'PROPN', 'NUM'])\n",
    "\n",
    "def convertNum2words(token):\n",
    "    try:\n",
    "        return num2words(token)\n",
    "    except:\n",
    "        return token\n",
    "\n",
    "def corpusPreprocessing(song):\n",
    "    #1. Tokenization\n",
    "    doc = wordpunct_tokenize(song)\n",
    "    #2. Filtering by Alphanumeric and Lower the Text\n",
    "    lowerToken = [token.lower() for token in doc if token.isalnum()]\n",
    "    tokenList = [convertNum2words(token) for token in lowerToken]\n",
    "    #3. Lemmatization of the data\n",
    "    lemmaList = [wnl.lemmatize(el) for el in tokenList]\n",
    "    #4. Cleanning StopWords\n",
    "    finalCorpus = [lemma for lemma in lemmaList if lemma not in stopwords_en]\n",
    "    return finalCorpus\n",
    "\n",
    "corpus = [corpusPreprocessing(s) for s in tqdm(corpus)]"
   ]
  },
  {
   "cell_type": "code",
   "execution_count": 23,
   "metadata": {},
   "outputs": [],
   "source": [
    "#SAVE CORPUS\n",
    "with open('corpus.txt', 'w+') as c:\n",
    "    c.write(str(corpus))\n",
    "##############"
   ]
  },
  {
   "cell_type": "markdown",
   "metadata": {},
   "source": [
    "It is surprisingly fast compared to the Pipeline provided by SpaCy. In only took 33 seconds which is 10 times less than the previous Pipeline we constructed but we decided to rewrite it because of the lack of performance and .lower() was not available. Anyway, we decided to store this new corpus inside a txt file such as a 'checkpoint' to save time as much as possible."
   ]
  },
  {
   "cell_type": "markdown",
   "metadata": {},
   "source": [
    "### **1.2 Text Vectorization**"
   ]
  },
  {
   "cell_type": "markdown",
   "metadata": {},
   "source": [
    "Now it is the moment of use N-Grams from ``gensim`` library in order to group in the same token those words that has a tendency of appear together:"
   ]
  },
  {
   "cell_type": "code",
   "execution_count": 24,
   "metadata": {},
   "outputs": [
    {
     "name": "stderr",
     "output_type": "stream",
     "text": [
      "100%|██████████| 3729/3729 [00:02<00:00, 1519.17it/s]\n"
     ]
    }
   ],
   "source": [
    "#IMPORT CORPUS\n",
    "with open('corpus.txt', 'r') as c:\n",
    "    corpus = eval(c.read())\n",
    "##############\n",
    "\n",
    "from gensim.models.phrases import Phrases\n",
    "\n",
    "phrase_model = Phrases(corpus, min_count=2, threshold=20)\n",
    "\n",
    "corpus = [el for el in tqdm(phrase_model[corpus])]"
   ]
  },
  {
   "cell_type": "markdown",
   "metadata": {},
   "source": [
    "Finally, in order to find a BoW and TF-IDF representation from our corpus, it is necessary to create previously a Gensim Dictionary where the songs will be stored. Once it is created, we can't include more instances, therefore this step is only made when the corpus has been finished."
   ]
  },
  {
   "cell_type": "code",
   "execution_count": 25,
   "metadata": {},
   "outputs": [
    {
     "name": "stdout",
     "output_type": "stream",
     "text": [
      "Our dictionary contains 78935 terms\n"
     ]
    }
   ],
   "source": [
    "from gensim.corpora import Dictionary\n",
    "\n",
    "# Create dictionary of tokens\n",
    "D = Dictionary(corpus)\n",
    "\n",
    "print('Our dictionary contains', len(D), 'terms')"
   ]
  },
  {
   "cell_type": "markdown",
   "metadata": {},
   "source": [
    "Wow! more than 70000 terms in our diccionary. Compared to what we saw from IMBD dataset, this ones contains more items. However, this is not definitive, probably there are several terms that appears barely compared to from what we see in the IMBD which maybe follows a similar structure since a review could be good, bad but nothing else. Let's filter our Diccionary and we will see which are the real tokens that we will need to analyse:"
   ]
  },
  {
   "cell_type": "code",
   "execution_count": 26,
   "metadata": {},
   "outputs": [
    {
     "name": "stdout",
     "output_type": "stream",
     "text": [
      "Our dictionary contains 24464 terms\n"
     ]
    }
   ],
   "source": [
    "D.filter_extremes(no_below=3,no_above=.80)\n",
    "\n",
    "print('Our dictionary contains', len(D), 'terms')"
   ]
  },
  {
   "cell_type": "markdown",
   "metadata": {},
   "source": [
    "Now it makes sense, it decreased drastically and now it seems to be a good bunch of woords to work with. Now it is the moment to introduce clasical representations which using Gensim is quite easy:"
   ]
  },
  {
   "cell_type": "code",
   "execution_count": 27,
   "metadata": {},
   "outputs": [
    {
     "name": "stdout",
     "output_type": "stream",
     "text": [
      "Hey Ya! - Outkast:\n",
      "['pack', 'grip', 'takin', 'trip', 'seat', 'got', 'dancin', 'foot', 'leave', 'worry_behind', 'rain_shine', 'mind', 'ridin_groove', 'line', 'tonight', 'get', 'train', 'know', 'glad_came', 'hit', 'track', 'party', 'hard', 'back', 'leave', 'worry_behind', 'leave', 'worry_behind', 'rain_shine', 'mind', 'ridin_groove', 'line', 'tonight', 'check', 'wheel_turnin', 'know', 'stop', 'got', 'boiler', 'burnin', 'keepin_hot', 'grab', 'friend', 'get', 'train', 'comin', 'climb', 'board', 'leave', 'leave', 'worry_behind', 'leave', 'worry_behind', 'rain_shine', 'mind', 'ridin_groove', 'line', 'tonight', 'leave', 'worry_behind', 'leave', 'worry_behind', 'rain_shine', 'mind', 'ridin_groove', 'line', 'tonight', 'check', 'wheel_turnin', 'know', 'stop', 'got', 'boiler', 'burnin', 'yeah', 'keepin_hot', 'grab', 'friend', 'get', 'train', 'comin', 'climb', 'board', 'leave', 'leave', 'worry_behind', 'leave', 'worry_behind', 'rain_shine', 'mind', 'ridin_groove', 'line', 'tonight', 'ride', 'rain_shine', 'mind', 'ridin_groove', 'line', 'tonight', 'ride', 'rain_shine', 'mind', 'ridin_groove', 'line', 'tonight', 'ride', 'rain_shine', 'mind', 'ridin_groove', 'line', 'tonight', 'ride', 'rain_shine', 'mind']\n",
      "[(19, 3), (22, 1), (28, 3), (116, 1), (206, 1), (217, 3), (278, 9), (417, 1), (480, 4), (514, 11), (568, 2), (579, 2), (618, 2), (810, 8), (1066, 3), (1145, 2), (1259, 8), (1448, 1), (1662, 1), (1740, 2), (1889, 2), (2324, 1), (2527, 1), (2705, 2), (2972, 2), (3006, 1), (3009, 1), (3104, 1), (4233, 1), (5048, 1), (8485, 2), (9748, 9), (13981, 1), (22599, 2)]\n",
      "[(19, 0.02431133096033434), (22, 0.023579719337786822), (28, 0.01764963585386248), (116, 0.012006989255025236), (206, 0.032512810816588), (217, 0.020134976780875103), (278, 0.16517700035059207), (417, 0.01171233842055403), (480, 0.11588754813652881), (514, 0.2603376773118732), (568, 0.06220304206901739), (579, 0.049817767246792634), (618, 0.04643011711016165), (810, 0.2344694504503647), (1066, 0.125350037656453), (1145, 0.0899392312974144), (1259, 0.2415347411008154), (1448, 0.061393335973248794), (1662, 0.023732963779459965), (1740, 0.17408642910803346), (1889, 0.11082030344164624), (2324, 0.034711457441200404), (2527, 0.04322602922468562), (2705, 0.11082030344164624), (2972, 0.07360982404992486), (3006, 0.04485335839356855), (3009, 0.035743457392480846), (3104, 0.044177266017478935), (4233, 0.0435352771678587), (5048, 0.05300108574413724), (8485, 0.10978096885115313), (9748, 0.7833889309861506), (13981, 0.07991926026635017), (22599, 0.18141086125491268)]\n"
     ]
    }
   ],
   "source": [
    "from gensim.models import TfidfModel\n",
    "\n",
    "bow_songs = [D.doc2bow(doc) for doc in corpus]\n",
    "tfidf = TfidfModel(bow_songs)\n",
    "tfidf_songs = tfidf[bow_songs]\n",
    "\n",
    "print('Hey Ya! - Outkast:')\n",
    "print(corpus[2534])\n",
    "print(bow_songs[2534])\n",
    "print(tfidf_songs[2534])"
   ]
  },
  {
   "cell_type": "markdown",
   "metadata": {},
   "source": [
    "Therefore, this is our first figures obteinment from the words appearing in the lyrics song. Nevertheless, this is not enough to predict properly which genre our song has. This representation just considers the frequency of appearing but not the relation among words. For example, in this song ``Hey Ya! - Outkast``, word 'hey' which is some kind of musical onomatopoeia is repeated several times during the song, and its score is 0.53 in the TF-IDF representation which is really high despite it does not meaning anything the word by itself. But is not that bad, for example 'na' expresion could directly being related to pop song, we do not know how the classification model will behave. Furthermore, these kind of representations will be very useful for the developement of more complex models thus it is essential to save them in a variable for future usages.\n",
    "\n",
    "Without any more introduction, it is the moment to start developing further text-figure extraction models in order to obtain better insights from our data:"
   ]
  },
  {
   "cell_type": "markdown",
   "metadata": {},
   "source": [
    "#### **1.2.1 Word2Vec Representation**"
   ]
  },
  {
   "cell_type": "code",
   "execution_count": 28,
   "metadata": {},
   "outputs": [],
   "source": [
    "#TODO\n",
    "#WORD2VEC "
   ]
  },
  {
   "cell_type": "markdown",
   "metadata": {},
   "source": [
    "#### **1.2.2 FastText Representation**"
   ]
  },
  {
   "cell_type": "markdown",
   "metadata": {},
   "source": [
    "FastText is another approach toward word representation for future classification tasks we are going to develop during this notebook. Furthermore, we had an idea due to our Neural Network Course which was to implement an MLP NN in the classification task.\n",
    "\n",
    "Moreover, this algorithim is idoneal for short docs as songs lyrics are and in classes notebook we saw a Pipeline which returns the average of the embeddings of the words which will be really useful for the Neural Network and its linear layers."
   ]
  },
  {
   "cell_type": "markdown",
   "metadata": {},
   "source": [
    "In order to maximize the performance and make our algorithm as robust as possible we will directly load any pre-trained model and adjust it using our corpus. Therefore, first of all we need to load the model which can help us as much as possible."
   ]
  },
  {
   "cell_type": "code",
   "execution_count": 29,
   "metadata": {},
   "outputs": [],
   "source": [
    "import compress_fasttext\n",
    "\n",
    "fastTextPre = compress_fasttext.models.CompressedFastTextKeyedVectors.load(\n",
    "    'ft_cc.en.300_freqprune_100K_20K_pq_100.bin'\n",
    ")"
   ]
  },
  {
   "cell_type": "markdown",
   "metadata": {},
   "source": [
    "We decided to dowload a pre-trained model from Github (https://github.com/avidale/compress-fasttext/releases/tag/gensim-4-draft) which is based on cc.en.300.bin which was the model we used in class but updated up to Gensim >= 4.0.0  also trained over a Facebook Dataset.\n",
    "\n",
    "Let's show how this model has been trained by showing some similar words to the first word of the 5th first song of our dataset, just to check that clearly it makes sense to use it. Furthermore, even if the word does not appear in our FastText Dictionary, it will construct an embedding anyway therefore is very useful as we said before in order to make it as robust as possible to non-appearing words."
   ]
  },
  {
   "cell_type": "code",
   "execution_count": 30,
   "metadata": {},
   "outputs": [
    {
     "name": "stdout",
     "output_type": "stream",
     "text": [
      "Word similar to lady:\n",
      "[('woman', 0.7058992023242795), ('gentleman', 0.6620858776059471), ('girl', 0.6586058469783472), ('ladies', 0.6508614740853009), ('man', 0.5864333917215517), ('maid', 0.5358822322333194), ('gal', 0.5181655356649635), ('hostess', 0.5132772625084043), ('guy', 0.5079906678342049), ('husband', 0.4979106432241984)]\n",
      "\n",
      "Word similar to hey:\n",
      "[('yeah', 0.7789288401059054), ('Hey', 0.6943406755833088), ('yes', 0.6628033304769274), ('dunno', 0.6605168916282228), ('Anyway', 0.6503646563032917), ('thats', 0.6460367334322566), ('anyways', 0.6437630045067626), ('Yeah', 0.6402671861130218), ('yea', 0.6398807760628002), ('maybe', 0.638750632189878)]\n",
      "\n",
      "Word similar to upon:\n",
      "[('Upon', 0.5571007189608188), ('on', 0.5232045155852151), ('based', 0.4705611885703212), ('solely', 0.4348302498291361), ('the', 0.42164649077587435), ('placed', 0.42072702630631886), ('brought', 0.3952660894980005), ('reliance', 0.394296303722936), ('dependent', 0.3939951307776036), ('rests', 0.3935409751083754)]\n",
      "\n",
      "Word similar to need:\n",
      "[('want', 0.7358948582160145), ('needed', 0.6610104621229801), ('can', 0.6513489325571838), ('should', 0.6362951810169499), ('get', 0.6257482647030554), ('needing', 0.6204784505513082), ('have', 0.6199029626210072), ('help', 0.6142493368707023), ('require', 0.6129065275154487), ('NEED', 0.6095794441421523)]\n",
      "\n",
      "Word similar to fighting:\n",
      "[('fight', 0.7854098694601113), ('battling', 0.676465629564773), ('battle', 0.6706542338655603), ('fights', 0.6646800842868407), ('fought', 0.63960791524486), ('battles', 0.616997459615), ('Fighting', 0.5937620340532774), ('combat', 0.5798715441020846), ('fighters', 0.5642805525722777), ('fighter', 0.528172015890681)]\n",
      "\n"
     ]
    }
   ],
   "source": [
    "for w in corpus[:5]:\n",
    "    print(f'Word similar to {w[0]}:')\n",
    "    print(str(fastTextPre.most_similar(w[0]))+'\\n')"
   ]
  },
  {
   "cell_type": "markdown",
   "metadata": {},
   "source": [
    "It looks quite good, for example an onomatopoeia such as 'hey' is related to others like 'yeah'. The main problem I see from this relations is that some of them are just the same word but starting in capital letters. That is not a big problem and we always can create our own model based on our corpus and compare its efficiency with respect to this one which clearly seems to have been worked properly.\n",
    "\n",
    "Final step is the creation of our dataset from our corpus through the obtention of word embeddings mean of every song and from this we will be able to develop any classification task in the Second Part of this notebook."
   ]
  },
  {
   "cell_type": "code",
   "execution_count": 31,
   "metadata": {},
   "outputs": [
    {
     "name": "stdout",
     "output_type": "stream",
     "text": [
      "Corpus Matrix Dimension is: (3729, 300)\n"
     ]
    }
   ],
   "source": [
    "from compress_fasttext.feature_extraction import FastTextTransformer\n",
    "\n",
    "corpusVec = FastTextTransformer(model=fastTextPre).transform(corpus)\n",
    "\n",
    "print(f'Corpus Matrix Dimension is: {corpusVec.shape}')"
   ]
  },
  {
   "cell_type": "markdown",
   "metadata": {},
   "source": [
    "Using FastTextTransformer we are able to obtain the embbedings of every song lyrics in our dataset. As we can see the number of songs clearly coincide with the number of total songs our dataset has and 300 columns represents the vector size our pre-trained model has. This is sufficient enough to develop our Machine Learning Task but we will save it here and we will continue with this in the Second Part."
   ]
  },
  {
   "cell_type": "markdown",
   "metadata": {},
   "source": [
    "### **1.3 Topic Modeling**"
   ]
  },
  {
   "cell_type": "code",
   "execution_count": 64,
   "metadata": {},
   "outputs": [],
   "source": [
    "#TODO\n",
    "\n",
    "#TOPIC SELECTION\n",
    "#SEMANTIC SIMILARITY-LDA"
   ]
  },
  {
   "cell_type": "markdown",
   "metadata": {},
   "source": [
    "## **2.Machine Learning Model**"
   ]
  },
  {
   "cell_type": "markdown",
   "metadata": {},
   "source": [
    "### **2.1 Classification Task**"
   ]
  },
  {
   "cell_type": "markdown",
   "metadata": {},
   "source": [
    "#### **2.1.1 Machine Learning Approach**"
   ]
  },
  {
   "cell_type": "code",
   "execution_count": 65,
   "metadata": {},
   "outputs": [],
   "source": [
    "#TODO\n",
    "#MACHINE LEARNING IN CLASS"
   ]
  },
  {
   "cell_type": "markdown",
   "metadata": {},
   "source": [
    "#### **2.1.2 Deep Learning Approach**"
   ]
  },
  {
   "cell_type": "markdown",
   "metadata": {},
   "source": [
    "During our course on Neural Networks(https://aplicaciones.uc3m.es/cpa/generaFicha?&est=350&plan=392&asig=16506&idioma=2) we have learned how to develop many types of NN such as MLPs, CNNs, RNNs etc. For this simple task of classification, directly comes to our mind a MLP which is one of the simplest ones and using the mean of the embbedings our text vectorizaation models has provided us we can direclty train this kind of NN and compare its result with respect to the previous obtained by different machine learning algorithms we have provided.\n",
    "\n",
    "First of all is neccesary to load Pytorch which will be the Deep Learning library we have been using during the course:"
   ]
  },
  {
   "cell_type": "code",
   "execution_count": 41,
   "metadata": {},
   "outputs": [],
   "source": [
    "import torch\n",
    "from torch import nn\n",
    "from torch import optim"
   ]
  },
  {
   "cell_type": "markdown",
   "metadata": {},
   "source": [
    "Next step is the obtention of a training and testing set and because we are talking about Deep learning, in order to check overfitting during the training: "
   ]
  },
  {
   "cell_type": "code",
   "execution_count": 42,
   "metadata": {},
   "outputs": [],
   "source": [
    "from sklearn.model_selection import train_test_split\n",
    "from sklearn.preprocessing import LabelEncoder\n",
    "\n",
    "Y = df['type'].values\n",
    "\n",
    "# Discretize 'string' variables using sklearn\n",
    "encoder = LabelEncoder()\n",
    "Y = encoder.fit_transform(Y)\n",
    "\n",
    "x_train, x_test, y_train, y_test = train_test_split(corpusVec, Y, test_size=0.3, random_state=33)\n",
    "\n",
    "#Validation set is obtained from the train set\n",
    "x_train, x_val, y_train, y_val = train_test_split(x_train, y_train, test_size=0.3, random_state=33)"
   ]
  },
  {
   "cell_type": "code",
   "execution_count": 203,
   "metadata": {},
   "outputs": [],
   "source": [
    "class MLP_2layer(nn.Module):\n",
    "    def __init__(self,input_size,hidden1,hidden2,output_size, drop): \n",
    "        super().__init__()\n",
    "        \n",
    "        self.output1 = nn.Linear(input_size,hidden1)\n",
    "        self.output2 = nn.Linear(hidden1,hidden2)\n",
    "        self.output3 = nn.Linear(hidden2,output_size)\n",
    "        \n",
    "        self.relu = nn.ReLU()\n",
    "        self.logsoftmax = nn.LogSoftmax(dim=1)     \n",
    "        self.dropout = nn.Dropout(drop)                                                        \n",
    "        \n",
    "    def forward(self, x):\n",
    "        # First Layer\n",
    "        x = self.dropout(self.relu(self.output1(x)))\n",
    "        # Second Layer\n",
    "        x = self.dropout(self.relu(self.output2(x)))\n",
    "        # Output \n",
    "        out = self.logsoftmax(self.output3(x))\n",
    "        return out\n",
    "    \n",
    "class MLP_2layer_train(MLP_2layer):\n",
    "    \n",
    "    def __init__(self,input_size,hidden1,hidden2, output_size, drop=0.0,lr=0.0005, batch_size=50):\n",
    "        \n",
    "        super().__init__(input_size,hidden1,hidden2,output_size,drop)  \n",
    "        \n",
    "        self.lr = lr # Learning Rate\n",
    "        \n",
    "        self.optim = optim.Adam(self.parameters(), self.lr) # Optimizer\n",
    "        self.criterion = nn.NLLLoss()               \n",
    "        \n",
    "        self.batch_size = batch_size\n",
    "        self.loss_during_training = [] \n",
    "        self.valid_loss_during_training = [] \n",
    "           \n",
    "    def score(self,x_test,Y):\n",
    "        accuracy = 0.0\n",
    "        \n",
    "        with torch.no_grad(): \n",
    "            logprobs = self.forward(torch.Tensor(x_test)).detach().numpy()\n",
    "            if(len(Y)>0):\n",
    "                accuracy = np.sum(np.argmax(logprobs,1)==Y)/np.shape(Y)[0]\n",
    "            \n",
    "        return logprobs,accuracy\n",
    "            \n",
    "    def fit(self,x_train,x_val,Y,Yval,epochs=100):\n",
    "        x_train = torch.Tensor(x_train)\n",
    "        x_val = torch.Tensor(x_val)\n",
    "        labels = torch.Tensor(Y).type(torch.LongTensor) # Training labels\n",
    "        labelsval = torch.Tensor(Yval).type(torch.LongTensor) # Validation labels\n",
    "        \n",
    "        self.epochs=epochs\n",
    "        \n",
    "        self.num_train = len(x_train) # Number of training points\n",
    "        self.num_batchs = np.floor(self.num_train/self.batch_size) # Number of training batches\n",
    "        self.num_val = len(x_val) # Number of validation points\n",
    "        self.num_batchs_val = np.floor(self.num_val/self.batch_size) # Numero of validating batches\n",
    "        \n",
    "        \n",
    "        for e in range(int(self.epochs)): \n",
    "            self.train() # Activate dropout\n",
    "            running_loss = 0.\n",
    "            \n",
    "            # Random data permutation\n",
    "            idx = np.random.permutation(self.num_train)\n",
    "            \n",
    "            for i in range(int(self.num_batchs)):\n",
    "                self.optim.zero_grad() \n",
    "                idx_batch = idx[i*self.batch_size:(i+1)*self.batch_size]\n",
    "                # We compute the classifier output for every data\n",
    "                out = self.forward(x_train[idx_batch])\n",
    "                # Cost function and gradient descent step\n",
    "                loss = self.criterion(out,labels[idx_batch])\n",
    "                running_loss += loss.item()\n",
    "                loss.backward()\n",
    "                # Gradient clipping\n",
    "                nn.utils.clip_grad_norm_(self.parameters(), 2.0)\n",
    "                # SGD steps\n",
    "                self.optim.step()\n",
    "            \n",
    "            # print(running_loss)\n",
    "            self.loss_during_training.append(running_loss/self.num_batchs)\n",
    "            \n",
    "            # We repeat for validation\n",
    "            with torch.no_grad():    \n",
    "                # set model to evaluation mode\n",
    "                self.eval()\n",
    "                running_loss = 0.\n",
    "                \n",
    "                idx = np.random.permutation(self.num_val)\n",
    "                \n",
    "                for i in range(int(self.num_batchs_val)):\n",
    "                    idx_batch = idx[i*self.batch_size:(i+1)*self.batch_size] \n",
    "                    out = self.forward(x_val[idx_batch])\n",
    "                    loss = self.criterion(out,labelsval[idx_batch])\n",
    "                    running_loss += loss.item() \n",
    "                    \n",
    "                self.valid_loss_during_training.append(running_loss/self.num_batchs_val)    \n",
    "                    \n",
    "\n",
    "class MLP_3layer(nn.Module):\n",
    "    def __init__(self,input_size,hidden1,hidden2,hidden3,output_size,p): #Nlabels will be 10 in our case\n",
    "        super().__init__()\n",
    "        \n",
    "        self.output1 = nn.Linear(input_size,hidden1)\n",
    "        self.output2 = nn.Linear(hidden1,hidden2)\n",
    "        self.output3 = nn.Linear(hidden2,hidden3)\n",
    "        self.output4 = nn.Linear(hidden3,output_size)\n",
    "        \n",
    "        self.relu = nn.ReLU()\n",
    "        self.logsoftmax = nn.LogSoftmax(dim=1)     \n",
    "        self.dropout = nn.Dropout(p)                                                        \n",
    "        \n",
    "    def forward(self, x):\n",
    "        # First Layer\n",
    "        x = self.dropout(self.relu(self.output1(x)))\n",
    "        # Second Layer\n",
    "        x = self.dropout(self.relu(self.output2(x)))\n",
    "        # Third Layer\n",
    "        x = self.dropout(self.relu(self.output3(x)))\n",
    "        # Output \n",
    "        out = self.logsoftmax(self.output4(x))\n",
    "        return out"
   ]
  },
  {
   "cell_type": "markdown",
   "metadata": {},
   "source": [
    "The datails of above NN will be especially especified at the report but averall is a MLP with 2 linear layers and Negative Log-Likelihood as loss function in order to check overfitting over the validation set.\n",
    "\n",
    "Now is the moment of defining the MLP, training it and plot how much the loss varies depending on which is the set:"
   ]
  },
  {
   "cell_type": "code",
   "execution_count": 204,
   "metadata": {},
   "outputs": [],
   "source": [
    "my_MLP1 = MLP_2layer_train(input_size=300, hidden1 = 32, hidden2 = 16, \n",
    "                        output_size = 4, drop=0.33)\n",
    "\n",
    "\n",
    "my_MLP1.fit(x_train,x_val,y_train,y_val,epochs=50)"
   ]
  },
  {
   "cell_type": "code",
   "execution_count": 205,
   "metadata": {},
   "outputs": [
    {
     "data": {
      "image/png": "[encoded data removed]",
      "text/plain": [
       "<Figure size 432x288 with 1 Axes>"
      ]
     },
     "metadata": {
      "needs_background": "light"
     },
     "output_type": "display_data"
    }
   ],
   "source": [
    "plt.plot(my_MLP1.loss_during_training,label='Training Cross Entropy Loss', color = 'blue')\n",
    "plt.plot(my_MLP1.valid_loss_during_training,label='validation Cross Entropy Loss', color = 'red')\n",
    "plt.xlabel('Iterations')\n",
    "plt.ylabel('Loss')\n",
    "plt.grid()"
   ]
  },
  {
   "cell_type": "markdown",
   "metadata": {},
   "source": [
    "From above plot we can see that after 50-60 iterations our model became to overfit. Let's visualize the accuracy of the model:"
   ]
  },
  {
   "cell_type": "code",
   "execution_count": 206,
   "metadata": {},
   "outputs": [
    {
     "name": "stdout",
     "output_type": "stream",
     "text": [
      "The test accuracy is 0.5218945487042002\n"
     ]
    }
   ],
   "source": [
    "logprobs,acc = my_MLP1.score(x_test, y_test)\n",
    "\n",
    "probs = np.exp(logprobs)  \n",
    "\n",
    "print(f\"The test accuracy is {acc}\")"
   ]
  },
  {
   "cell_type": "code",
   "execution_count": 217,
   "metadata": {},
   "outputs": [
    {
     "name": "stdout",
     "output_type": "stream",
     "text": [
      "[[0.03138079 0.02201927 0.91960275 0.02699715]\n",
      " [0.44919252 0.22249137 0.01209561 0.31622046]\n",
      " [0.48529086 0.19133629 0.01813954 0.3052333 ]\n",
      " ...\n",
      " [0.4348792  0.24464771 0.0027639  0.3177091 ]\n",
      " [0.41060963 0.25875726 0.00101456 0.32961857]\n",
      " [0.4137459  0.2436534  0.02148508 0.32111558]]\n"
     ]
    }
   ],
   "source": [
    "print(probs)"
   ]
  },
  {
   "cell_type": "code",
   "execution_count": 238,
   "metadata": {},
   "outputs": [
    {
     "data": {
      "image/png": "[encoded data removed]",
      "text/plain": [
       "<Figure size 432x288 with 1 Axes>"
      ]
     },
     "metadata": {
      "needs_background": "light"
     },
     "output_type": "display_data"
    },
    {
     "name": "stdout",
     "output_type": "stream",
     "text": [
      "AUC ROC for MLP1 is 0.759\n"
     ]
    }
   ],
   "source": [
    "from sklearn import metrics\n",
    "fpr0, recall0, thresholds0 = metrics.roc_curve(y_test, probs[:,0], pos_label=0) \n",
    "fpr1, recall1, thresholds1 = metrics.roc_curve(y_test, probs[:,1], pos_label=1) \n",
    "fpr2, recall2, thresholds2 = metrics.roc_curve(y_test, probs[:,2], pos_label=2) \n",
    "fpr3, recall3, thresholds3 = metrics.roc_curve(y_test, probs[:,3], pos_label=3) \n",
    "\n",
    "Y_decoded = encoder.inverse_transform([0,1,2,3]) \n",
    "\n",
    "fig,ax = plt.subplots()\n",
    "plt.plot(fpr0, recall0,lw=2.5,label=f'ROC curve {Y_decoded[0]}', color = 'red')\n",
    "plt.plot(fpr1, recall1,lw=2.5,label=f'ROC curve {Y_decoded[1]}', color = 'blue')\n",
    "plt.plot(fpr2, recall2,lw=2.5,label=f'ROC curve {Y_decoded[2]}', color = 'green')\n",
    "plt.plot(fpr3, recall3,lw=2.5,label=f'ROC curve {Y_decoded[3]}', color = 'black')\n",
    "plt.legend(loc=7)\n",
    "plt.grid(which='major', color='gray', alpha=0.6, linestyle='dotted', lw=1.5)\n",
    "plt.xlabel('False Positive Rate')\n",
    "plt.ylabel('Recall (R)')\n",
    "plt.title('Curva ROC')\n",
    "plt.show()\n",
    "\n",
    "area_roc = metrics.roc_auc_score(y_test, probs,  multi_class='ovr')\n",
    "\n",
    "print(f\"AUC ROC for MLP1 is {area_roc:.4f}\")"
   ]
  },
  {
   "cell_type": "markdown",
   "metadata": {},
   "source": [
    "That's not enough, our MLP with high droput did not figure out. From this base let's develop another MLP but now adding another layer and reducing the dropout during the process:"
   ]
  },
  {
   "cell_type": "code",
   "execution_count": 207,
   "metadata": {},
   "outputs": [],
   "source": [
    "class MLP_3layer(nn.Module):\n",
    "    def __init__(self,input_size,hidden1,hidden2,hidden3,output_size,p): \n",
    "        super().__init__()\n",
    "        \n",
    "        self.output1 = nn.Linear(input_size,hidden1)\n",
    "        self.output2 = nn.Linear(hidden1,hidden2)\n",
    "        self.output3 = nn.Linear(hidden2,hidden3)\n",
    "        self.output4 = nn.Linear(hidden3,output_size)\n",
    "        \n",
    "        self.relu = nn.ReLU()\n",
    "        self.logsoftmax = nn.LogSoftmax(dim=1)     \n",
    "        self.dropout = nn.Dropout(p)                                                        \n",
    "        \n",
    "    def forward(self, x):\n",
    "        # First Layer\n",
    "        x = self.dropout(self.relu(self.output1(x)))\n",
    "        # Second Layer\n",
    "        x = self.dropout(self.relu(self.output2(x)))\n",
    "        # Third Layer\n",
    "        x = self.dropout(self.relu(self.output3(x)))\n",
    "        # Output \n",
    "        out = self.logsoftmax(self.output4(x))\n",
    "        return out\n",
    "\n",
    "class MLP_3layer_train(MLP_3layer):\n",
    "    \n",
    "    def __init__(self,input_size,hidden1,hidden2,hidden3, output_size, drop=0.0,lr=0.0005, batch_size=50):\n",
    "        \n",
    "        super().__init__(input_size,hidden1,hidden2,hidden3,output_size,drop)  \n",
    "        \n",
    "        self.lr = lr # Learning Rate\n",
    "        \n",
    "        self.optim = optim.Adam(self.parameters(), self.lr) # Optimizer\n",
    "        self.criterion = nn.NLLLoss()               \n",
    "        \n",
    "        self.batch_size = batch_size\n",
    "        self.loss_during_training = [] \n",
    "        self.valid_loss_during_training = [] \n",
    "           \n",
    "    def score(self,x_test,Y):\n",
    "        accuracy = 0.0\n",
    "        \n",
    "        with torch.no_grad(): \n",
    "            logprobs = self.forward(torch.Tensor(x_test)).detach().numpy()\n",
    "            if(len(Y)>0):\n",
    "                accuracy = np.sum(np.argmax(logprobs,1)==Y)/np.shape(Y)[0]\n",
    "            \n",
    "        return logprobs,accuracy\n",
    "            \n",
    "    def fit(self,x_train,x_val,Y,Yval,epochs=100):\n",
    "        x_train = torch.Tensor(x_train)\n",
    "        x_val = torch.Tensor(x_val)\n",
    "        labels = torch.Tensor(Y).type(torch.LongTensor) # Training labels\n",
    "        labelsval = torch.Tensor(Yval).type(torch.LongTensor) # Validation labels\n",
    "        \n",
    "        self.epochs=epochs\n",
    "        \n",
    "        self.num_train = len(x_train) # Number of training points\n",
    "        self.num_batchs = np.floor(self.num_train/self.batch_size) # Number of training batches\n",
    "        self.num_val = len(x_val) # Number of validation points\n",
    "        self.num_batchs_val = np.floor(self.num_val/self.batch_size) # Numero of validating batches\n",
    "        \n",
    "        \n",
    "        for e in range(int(self.epochs)): \n",
    "            self.train() # Activate dropout\n",
    "            running_loss = 0.\n",
    "            \n",
    "            # Random data permutation\n",
    "            idx = np.random.permutation(self.num_train)\n",
    "            \n",
    "            for i in range(int(self.num_batchs)):\n",
    "                self.optim.zero_grad() \n",
    "                idx_batch = idx[i*self.batch_size:(i+1)*self.batch_size]\n",
    "                # We compute the classifier output for every data\n",
    "                out = self.forward(x_train[idx_batch])\n",
    "                # Cost function and gradient descent step\n",
    "                loss = self.criterion(out,labels[idx_batch])\n",
    "                running_loss += loss.item()\n",
    "                loss.backward()\n",
    "                # Gradient clipping\n",
    "                nn.utils.clip_grad_norm_(self.parameters(), 2.0)\n",
    "                # SGD steps\n",
    "                self.optim.step()\n",
    "            \n",
    "            # print(running_loss)\n",
    "            self.loss_during_training.append(running_loss/self.num_batchs)\n",
    "            \n",
    "            # We repeat for validation\n",
    "            with torch.no_grad():    \n",
    "                # set model to evaluation mode\n",
    "                self.eval()\n",
    "                running_loss = 0.\n",
    "                \n",
    "                idx = np.random.permutation(self.num_val)\n",
    "                \n",
    "                for i in range(int(self.num_batchs_val)):\n",
    "                    idx_batch = idx[i*self.batch_size:(i+1)*self.batch_size] \n",
    "                    out = self.forward(x_val[idx_batch])\n",
    "                    loss = self.criterion(out,labelsval[idx_batch])\n",
    "                    running_loss += loss.item() \n",
    "                    \n",
    "                self.valid_loss_during_training.append(running_loss/self.num_batchs_val) "
   ]
  },
  {
   "cell_type": "code",
   "execution_count": 214,
   "metadata": {},
   "outputs": [
    {
     "data": {
      "image/png": "[encoded data removed]",
      "text/plain": [
       "<Figure size 432x288 with 1 Axes>"
      ]
     },
     "metadata": {
      "needs_background": "light"
     },
     "output_type": "display_data"
    }
   ],
   "source": [
    "my_MLP2 = MLP_3layer_train(input_size=300, hidden1 = 32, hidden2 = 16, hidden3=8,\n",
    "                        output_size = 4, drop=0.1)\n",
    "\n",
    "\n",
    "my_MLP2.fit(x_train,x_val,y_train,y_val,epochs=50)\n",
    "\n",
    "plt.plot(my_MLP2.loss_during_training,label='Training Cross Entropy Loss', color = 'blue')\n",
    "plt.plot(my_MLP2.valid_loss_during_training,label='validation Cross Entropy Loss', color = 'red')\n",
    "plt.xlabel('Iterations')\n",
    "plt.ylabel('Loss')\n",
    "plt.grid()"
   ]
  },
  {
   "cell_type": "code",
   "execution_count": 215,
   "metadata": {},
   "outputs": [
    {
     "name": "stdout",
     "output_type": "stream",
     "text": [
      "The test accuracy is 0.5084897229669347\n"
     ]
    }
   ],
   "source": [
    "logprobs,acc = my_MLP2.score(x_test, y_test)\n",
    "\n",
    "probs = np.exp(logprobs)  \n",
    "\n",
    "print(f\"The test accuracy is {acc}\")"
   ]
  },
  {
   "cell_type": "code",
   "execution_count": 239,
   "metadata": {},
   "outputs": [
    {
     "data": {
      "image/png": "[encoded data removed]",
      "text/plain": [
       "<Figure size 432x288 with 1 Axes>"
      ]
     },
     "metadata": {
      "needs_background": "light"
     },
     "output_type": "display_data"
    },
    {
     "name": "stdout",
     "output_type": "stream",
     "text": [
      "AUC ROC for MLP2 is 0.7585\n"
     ]
    }
   ],
   "source": [
    "from sklearn import metrics\n",
    "fpr0, recall0, thresholds0 = metrics.roc_curve(y_test, probs[:,0], pos_label=0) \n",
    "fpr1, recall1, thresholds1 = metrics.roc_curve(y_test, probs[:,1], pos_label=1) \n",
    "fpr2, recall2, thresholds2 = metrics.roc_curve(y_test, probs[:,2], pos_label=2) \n",
    "fpr3, recall3, thresholds3 = metrics.roc_curve(y_test, probs[:,3], pos_label=3) \n",
    "\n",
    "fig,ax = plt.subplots()\n",
    "plt.plot(fpr0, recall0,lw=2.5,label=f'ROC curve {Y_decoded[0]}', color = 'red')\n",
    "plt.plot(fpr1, recall1,lw=2.5,label=f'ROC curve {Y_decoded[1]}', color = 'blue')\n",
    "plt.plot(fpr2, recall2,lw=2.5,label=f'ROC curve {Y_decoded[2]}', color = 'green')\n",
    "plt.plot(fpr3, recall3,lw=2.5,label=f'ROC curve {Y_decoded[3]}', color = 'black')\n",
    "plt.legend(loc=7)\n",
    "plt.grid(which='major', color='gray', alpha=0.6, linestyle='dotted', lw=1.5)\n",
    "plt.xlabel('False Positive Rate')\n",
    "plt.ylabel('Recall (R)')\n",
    "plt.title('Curva ROC')\n",
    "plt.show()\n",
    "\n",
    "area_roc = metrics.roc_auc_score(y_test, probs,  multi_class='ovr')\n",
    "\n",
    "print(f\"AUC ROC for MLP2 is {area_roc:.4f}\")"
   ]
  },
  {
   "cell_type": "markdown",
   "metadata": {},
   "source": [
    "It is even worse! Compared to other NN we have developed in the other course at least these MLPs are more robust to overfit. Furthermore clearly the implementation of a new layer to reduce the dropout does not worked unfortunatelly. \n",
    "\n",
    "Our expectations over these MLPs were higher than what we get returned because in the course of NN we have also created one of this over a NLP dataset and its accuracy were much higher. Obiously the dataset always is very important in the final result, but I do not know, I was expecting more. "
   ]
  },
  {
   "cell_type": "markdown",
   "metadata": {},
   "source": [
    "### **2.2 Clustering Task**"
   ]
  },
  {
   "cell_type": "code",
   "execution_count": 67,
   "metadata": {},
   "outputs": [],
   "source": [
    "#TODO\n",
    "#UNSUPERVISED LEARNING REGARDING CLUSTERING"
   ]
  }
 ],
 "metadata": {
  "kernelspec": {
   "display_name": "Python 3.10.10 ('finalML')",
   "language": "python",
   "name": "python3"
  },
  "language_info": {
   "codemirror_mode": {
    "name": "ipython",
    "version": 3
   },
   "file_extension": ".py",
   "mimetype": "text/x-python",
   "name": "python",
   "nbconvert_exporter": "python",
   "pygments_lexer": "ipython3",
   "version": "3.10.10"
  },
  "orig_nbformat": 4,
  "vscode": {
   "interpreter": {
    "hash": "9ffb13643f58659a366a8d1a886476c8d650c48df7782f3d3477a7c406b6c188"
   }
  }
 },
 "nbformat": 4,
 "nbformat_minor": 2
}
