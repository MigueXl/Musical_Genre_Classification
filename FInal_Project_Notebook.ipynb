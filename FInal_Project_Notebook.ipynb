{
 "cells": [
  {
   "cell_type": "markdown",
   "metadata": {},
   "source": [
    "# **Machine Learning Applications Final Project Notebook**\n",
    "\n",
    "Date: May 9, 2023\n",
    "\n",
    "Authors: Óscar Montoya Amores (100451858), Javier Serrano Sánchez-Ocaña (100451673), Miguel Ángel Ponce Martínez (100451309)"
   ]
  },
  {
   "cell_type": "markdown",
   "metadata": {},
   "source": [
    "#### **LIBRARIES IMPORT**"
   ]
  },
  {
   "cell_type": "code",
   "execution_count": 2,
   "metadata": {},
   "outputs": [],
   "source": [
    "import numpy as np\n",
    "import pandas as pd\n",
    "import zipfile as zp\n",
    "from termcolor import colored\n",
    "import seaborn as sns\n",
    "import matplotlib.pyplot as plt\n",
    "\n",
    "import spacy    "
   ]
  },
  {
   "cell_type": "markdown",
   "metadata": {},
   "source": [
    "## **0. Dataset Loading and DF Preprocessing**"
   ]
  },
  {
   "cell_type": "markdown",
   "metadata": {},
   "source": [
    "#### **DATASET IMPORT**"
   ]
  },
  {
   "cell_type": "markdown",
   "metadata": {},
   "source": [
    "Let's load the dataset obtained from Kaggle (https://www.kaggle.com/datasets/elizzyliu/song-lyrics) and obtain the main insights from this data:"
   ]
  },
  {
   "cell_type": "code",
   "execution_count": 3,
   "metadata": {},
   "outputs": [
    {
     "data": {
      "text/html": [
       "<div>\n",
       "<style scoped>\n",
       "    .dataframe tbody tr th:only-of-type {\n",
       "        vertical-align: middle;\n",
       "    }\n",
       "\n",
       "    .dataframe tbody tr th {\n",
       "        vertical-align: top;\n",
       "    }\n",
       "\n",
       "    .dataframe thead th {\n",
       "        text-align: right;\n",
       "    }\n",
       "</style>\n",
       "<table border=\"1\" class=\"dataframe\">\n",
       "  <thead>\n",
       "    <tr style=\"text-align: right;\">\n",
       "      <th></th>\n",
       "      <th>song</th>\n",
       "      <th>artist</th>\n",
       "      <th>type</th>\n",
       "      <th>lyrics</th>\n",
       "    </tr>\n",
       "  </thead>\n",
       "  <tbody>\n",
       "    <tr>\n",
       "      <th>0</th>\n",
       "      <td>Stairway to Heaven</td>\n",
       "      <td>Led Zeppelin</td>\n",
       "      <td>rock</td>\n",
       "      <td>Stairway to Heaven Lyrics[Intro]\\r\\n\\r\\n[Verse...</td>\n",
       "    </tr>\n",
       "    <tr>\n",
       "      <th>1</th>\n",
       "      <td>Hey Jude</td>\n",
       "      <td>Beatles</td>\n",
       "      <td>rock</td>\n",
       "      <td>Hey Jude Lyrics[Verse 1: Paul McCartney]\\r\\nHe...</td>\n",
       "    </tr>\n",
       "    <tr>\n",
       "      <th>2</th>\n",
       "      <td>All Along the Watchtower</td>\n",
       "      <td>Hendrix, Jimi</td>\n",
       "      <td>rock</td>\n",
       "      <td>Ii. Tambourine Lyrics[Chorus, sung]\\r\\nHey, Pi...</td>\n",
       "    </tr>\n",
       "    <tr>\n",
       "      <th>3</th>\n",
       "      <td>Satisfaction</td>\n",
       "      <td>Rolling Stones</td>\n",
       "      <td>rock</td>\n",
       "      <td>Sin título I Lyrics[Letra de \"Sin título I\"]\\r...</td>\n",
       "    </tr>\n",
       "    <tr>\n",
       "      <th>4</th>\n",
       "      <td>Like A Rolling Stone</td>\n",
       "      <td>Dylan, Bob</td>\n",
       "      <td>rock</td>\n",
       "      <td>Like a Rolling Stone Lyrics[Verse 1]\\r\\nOnce u...</td>\n",
       "    </tr>\n",
       "    <tr>\n",
       "      <th>...</th>\n",
       "      <td>...</td>\n",
       "      <td>...</td>\n",
       "      <td>...</td>\n",
       "      <td>...</td>\n",
       "    </tr>\n",
       "    <tr>\n",
       "      <th>3995</th>\n",
       "      <td>Motown 25</td>\n",
       "      <td>Elzhi</td>\n",
       "      <td>rap &amp; hip hop</td>\n",
       "      <td>Motown 25 Lyrics[Verse 1: eLZhi]\\r\\nI end care...</td>\n",
       "    </tr>\n",
       "    <tr>\n",
       "      <th>3996</th>\n",
       "      <td>How Ya Like Me Now</td>\n",
       "      <td>Kool Moe Dee</td>\n",
       "      <td>rap &amp; hip hop</td>\n",
       "      <td>How Ya Like Me Now Lyrics\"All aboard for the n...</td>\n",
       "    </tr>\n",
       "    <tr>\n",
       "      <th>3997</th>\n",
       "      <td>Coastin’</td>\n",
       "      <td>Zion I feat. K.Flay</td>\n",
       "      <td>rap &amp; hip hop</td>\n",
       "      <td>Coastin’ LyricsWhen life brings trouble\\r\\nYou...</td>\n",
       "    </tr>\n",
       "    <tr>\n",
       "      <th>3998</th>\n",
       "      <td>Head Banger</td>\n",
       "      <td>EPMD</td>\n",
       "      <td>rap &amp; hip hop</td>\n",
       "      <td>Headbanger Lyrics[Redman]\\r\\nNegroes!!!!!!!!\\r...</td>\n",
       "    </tr>\n",
       "    <tr>\n",
       "      <th>3999</th>\n",
       "      <td>Sound Bwoy Burell</td>\n",
       "      <td>Smif-N-Wessun</td>\n",
       "      <td>rap &amp; hip hop</td>\n",
       "      <td>Sound Bwoy Bureill Lyrics[Intro: Sample from C...</td>\n",
       "    </tr>\n",
       "  </tbody>\n",
       "</table>\n",
       "<p>4000 rows × 4 columns</p>\n",
       "</div>"
      ],
      "text/plain": [
       "                          song               artist           type  \\\n",
       "0           Stairway to Heaven         Led Zeppelin           rock   \n",
       "1                     Hey Jude              Beatles           rock   \n",
       "2     All Along the Watchtower        Hendrix, Jimi           rock   \n",
       "3                 Satisfaction       Rolling Stones           rock   \n",
       "4         Like A Rolling Stone           Dylan, Bob           rock   \n",
       "...                        ...                  ...            ...   \n",
       "3995                 Motown 25                Elzhi  rap & hip hop   \n",
       "3996        How Ya Like Me Now         Kool Moe Dee  rap & hip hop   \n",
       "3997                  Coastin’  Zion I feat. K.Flay  rap & hip hop   \n",
       "3998               Head Banger                 EPMD  rap & hip hop   \n",
       "3999         Sound Bwoy Burell        Smif-N-Wessun  rap & hip hop   \n",
       "\n",
       "                                                 lyrics  \n",
       "0     Stairway to Heaven Lyrics[Intro]\\r\\n\\r\\n[Verse...  \n",
       "1     Hey Jude Lyrics[Verse 1: Paul McCartney]\\r\\nHe...  \n",
       "2     Ii. Tambourine Lyrics[Chorus, sung]\\r\\nHey, Pi...  \n",
       "3     Sin título I Lyrics[Letra de \"Sin título I\"]\\r...  \n",
       "4     Like a Rolling Stone Lyrics[Verse 1]\\r\\nOnce u...  \n",
       "...                                                 ...  \n",
       "3995  Motown 25 Lyrics[Verse 1: eLZhi]\\r\\nI end care...  \n",
       "3996  How Ya Like Me Now Lyrics\"All aboard for the n...  \n",
       "3997  Coastin’ LyricsWhen life brings trouble\\r\\nYou...  \n",
       "3998  Headbanger Lyrics[Redman]\\r\\nNegroes!!!!!!!!\\r...  \n",
       "3999  Sound Bwoy Bureill Lyrics[Intro: Sample from C...  \n",
       "\n",
       "[4000 rows x 4 columns]"
      ]
     },
     "metadata": {},
     "output_type": "display_data"
    }
   ],
   "source": [
    "df = pd.read_csv('all_lyrics.csv')\n",
    "\n",
    "display(df)"
   ]
  },
  {
   "cell_type": "code",
   "execution_count": 4,
   "metadata": {},
   "outputs": [
    {
     "data": {
      "text/html": [
       "<div>\n",
       "<style scoped>\n",
       "    .dataframe tbody tr th:only-of-type {\n",
       "        vertical-align: middle;\n",
       "    }\n",
       "\n",
       "    .dataframe tbody tr th {\n",
       "        vertical-align: top;\n",
       "    }\n",
       "\n",
       "    .dataframe thead th {\n",
       "        text-align: right;\n",
       "    }\n",
       "</style>\n",
       "<table border=\"1\" class=\"dataframe\">\n",
       "  <thead>\n",
       "    <tr style=\"text-align: right;\">\n",
       "      <th></th>\n",
       "      <th>song</th>\n",
       "      <th>artist</th>\n",
       "      <th>type</th>\n",
       "      <th>lyrics</th>\n",
       "    </tr>\n",
       "  </thead>\n",
       "  <tbody>\n",
       "    <tr>\n",
       "      <th>count</th>\n",
       "      <td>4000</td>\n",
       "      <td>4000</td>\n",
       "      <td>4000</td>\n",
       "      <td>3896</td>\n",
       "    </tr>\n",
       "    <tr>\n",
       "      <th>unique</th>\n",
       "      <td>3881</td>\n",
       "      <td>1583</td>\n",
       "      <td>4</td>\n",
       "      <td>3761</td>\n",
       "    </tr>\n",
       "    <tr>\n",
       "      <th>top</th>\n",
       "      <td>Summertime</td>\n",
       "      <td>Beatles</td>\n",
       "      <td>rock</td>\n",
       "      <td>Summer Country Songs LyricsA\\r\\nAaron Lewis – ...</td>\n",
       "    </tr>\n",
       "    <tr>\n",
       "      <th>freq</th>\n",
       "      <td>5</td>\n",
       "      <td>51</td>\n",
       "      <td>1000</td>\n",
       "      <td>10</td>\n",
       "    </tr>\n",
       "  </tbody>\n",
       "</table>\n",
       "</div>"
      ],
      "text/plain": [
       "              song   artist  type  \\\n",
       "count         4000     4000  4000   \n",
       "unique        3881     1583     4   \n",
       "top     Summertime  Beatles  rock   \n",
       "freq             5       51  1000   \n",
       "\n",
       "                                                   lyrics  \n",
       "count                                                3896  \n",
       "unique                                               3761  \n",
       "top     Summer Country Songs LyricsA\\r\\nAaron Lewis – ...  \n",
       "freq                                                   10  "
      ]
     },
     "execution_count": 4,
     "metadata": {},
     "output_type": "execute_result"
    }
   ],
   "source": [
    "df.describe()"
   ]
  },
  {
   "cell_type": "markdown",
   "metadata": {},
   "source": [
    "This dataset is composed by the 1000 most famous songs from every musical genre(``type Variable``) and our goal is find some relation among songs lyrics and its genre. \n",
    "\n",
    "Firstly, null values seems to appear in the lyrics row because as we can see 104 songs ``lyrics`` are not counted properly. So first thing wee need to do is remove null values.\n",
    "\n",
    "Moreover, the unique row bothers us too. It is expected that ``type`` and ``artist`` have several instances repeated (Artist could have many famous songs and obviously given 4 genres it will be repeated). Furthermore, even two different artists could present two different songs with the same name (``song``). However, it is really strange that two songs represent the same lyrics. Here we could have be talking about plagiarism, corrupted data or simply describe() function is not working as expected with long string stucture, so before starting to apply some Machine Learnings Applicatios we have seen in class we need to fix this trouble."
   ]
  },
  {
   "cell_type": "code",
   "execution_count": 5,
   "metadata": {},
   "outputs": [
    {
     "name": "stdout",
     "output_type": "stream",
     "text": [
      "There are exactly 104 null values in the lyrics variable which corresponds to the 2.600% of the data set\n"
     ]
    }
   ],
   "source": [
    "null = df['lyrics'].isna().values\n",
    "\n",
    "print(f'There are exactly {sum(null)} null values in the lyrics variable which corresponds to the {sum(null)/len(null)*100:.3f}% of the data set')\n"
   ]
  },
  {
   "cell_type": "markdown",
   "metadata": {},
   "source": [
    "We think this percentege is assumible of being removed from the dataset but before doing so let's see the proportion of songs genre which receives null lyrics. "
   ]
  },
  {
   "cell_type": "code",
   "execution_count": 6,
   "metadata": {},
   "outputs": [
    {
     "data": {
      "text/plain": [
       "<AxesSubplot:>"
      ]
     },
     "execution_count": 6,
     "metadata": {},
     "output_type": "execute_result"
    },
    {
     "data": {
      "image/png": "[encoded data removed]",
      "text/plain": [
       "<Figure size 432x288 with 1 Axes>"
      ]
     },
     "metadata": {
      "needs_background": "light"
     },
     "output_type": "display_data"
    }
   ],
   "source": [
    "df_null = df[null]\n",
    "df_null['type'].hist()"
   ]
  },
  {
   "cell_type": "markdown",
   "metadata": {},
   "source": [
    "Most of the null lyrics are from ``rap & hip hop`` but nothing alarming. We can assume to remove this instances, update the dataframe and repeat a similar process to find out repeted lyrics. "
   ]
  },
  {
   "cell_type": "code",
   "execution_count": 7,
   "metadata": {},
   "outputs": [],
   "source": [
    "df = df.dropna(subset=['lyrics', 'type'])"
   ]
  },
  {
   "cell_type": "code",
   "execution_count": 8,
   "metadata": {},
   "outputs": [
    {
     "name": "stdout",
     "output_type": "stream",
     "text": [
      "[False False False ... False False False]\n"
     ]
    }
   ],
   "source": [
    "print(df.duplicated().values)"
   ]
  },
  {
   "cell_type": "code",
   "execution_count": 9,
   "metadata": {},
   "outputs": [
    {
     "name": "stdout",
     "output_type": "stream",
     "text": [
      "There are exactly 14 repeated values in the lyrics variable which corresponds to the 0.359% of the data set\n"
     ]
    },
    {
     "data": {
      "text/plain": [
       "<AxesSubplot:>"
      ]
     },
     "execution_count": 9,
     "metadata": {},
     "output_type": "execute_result"
    },
    {
     "data": {
      "image/png": "[encoded data removed]",
      "text/plain": [
       "<Figure size 432x288 with 1 Axes>"
      ]
     },
     "metadata": {
      "needs_background": "light"
     },
     "output_type": "display_data"
    }
   ],
   "source": [
    "repeated = df[df.duplicated()]\n",
    "print(f'There are exactly {len(repeated)} repeated values in the lyrics variable which corresponds to the {len(repeated)/len(df)*100:.3f}% of the data set')\n",
    "repeated['type'].hist()"
   ]
  },
  {
   "cell_type": "markdown",
   "metadata": {},
   "source": [
    "Again, the ammount of repeated values are not very important but this time is focused on only two genres. However, we will remove it because it is not adding any information and let's repeat the describe() process to finally start to focus on the Machine Learning Apps."
   ]
  },
  {
   "cell_type": "code",
   "execution_count": 10,
   "metadata": {},
   "outputs": [
    {
     "data": {
      "text/html": [
       "<div>\n",
       "<style scoped>\n",
       "    .dataframe tbody tr th:only-of-type {\n",
       "        vertical-align: middle;\n",
       "    }\n",
       "\n",
       "    .dataframe tbody tr th {\n",
       "        vertical-align: top;\n",
       "    }\n",
       "\n",
       "    .dataframe thead th {\n",
       "        text-align: right;\n",
       "    }\n",
       "</style>\n",
       "<table border=\"1\" class=\"dataframe\">\n",
       "  <thead>\n",
       "    <tr style=\"text-align: right;\">\n",
       "      <th></th>\n",
       "      <th>song</th>\n",
       "      <th>artist</th>\n",
       "      <th>type</th>\n",
       "      <th>lyrics</th>\n",
       "    </tr>\n",
       "  </thead>\n",
       "  <tbody>\n",
       "    <tr>\n",
       "      <th>count</th>\n",
       "      <td>3761</td>\n",
       "      <td>3761</td>\n",
       "      <td>3761</td>\n",
       "      <td>3761</td>\n",
       "    </tr>\n",
       "    <tr>\n",
       "      <th>unique</th>\n",
       "      <td>3668</td>\n",
       "      <td>1476</td>\n",
       "      <td>4</td>\n",
       "      <td>3761</td>\n",
       "    </tr>\n",
       "    <tr>\n",
       "      <th>top</th>\n",
       "      <td>Angel</td>\n",
       "      <td>Beatles</td>\n",
       "      <td>rock</td>\n",
       "      <td>Stairway to Heaven Lyrics[Intro]\\r\\n\\r\\n[Verse...</td>\n",
       "    </tr>\n",
       "    <tr>\n",
       "      <th>freq</th>\n",
       "      <td>5</td>\n",
       "      <td>48</td>\n",
       "      <td>972</td>\n",
       "      <td>1</td>\n",
       "    </tr>\n",
       "  </tbody>\n",
       "</table>\n",
       "</div>"
      ],
      "text/plain": [
       "         song   artist  type  \\\n",
       "count    3761     3761  3761   \n",
       "unique   3668     1476     4   \n",
       "top     Angel  Beatles  rock   \n",
       "freq        5       48   972   \n",
       "\n",
       "                                                   lyrics  \n",
       "count                                                3761  \n",
       "unique                                               3761  \n",
       "top     Stairway to Heaven Lyrics[Intro]\\r\\n\\r\\n[Verse...  \n",
       "freq                                                    1  "
      ]
     },
     "execution_count": 10,
     "metadata": {},
     "output_type": "execute_result"
    }
   ],
   "source": [
    "df = df.drop_duplicates(subset=['lyrics'], keep='first').reset_index(drop=True)\n",
    "df.describe()"
   ]
  },
  {
   "cell_type": "markdown",
   "metadata": {},
   "source": [
    "Good news regarding the ``lyrics`` variable, is time to begin working with spacy and more NLP libaries we have seen during classes."
   ]
  },
  {
   "cell_type": "markdown",
   "metadata": {},
   "source": [
    "## **1. Text Preprocessing and vectorization**"
   ]
  },
  {
   "cell_type": "markdown",
   "metadata": {},
   "source": [
    "### **1.1 NLP Pipeline**"
   ]
  },
  {
   "cell_type": "markdown",
   "metadata": {},
   "source": [
    "Before the implementation of the Pipeline let's print some ``lyrics`` instances in order to visualize which kind of none useful set of characters has been introduced"
   ]
  },
  {
   "cell_type": "code",
   "execution_count": 11,
   "metadata": {},
   "outputs": [
    {
     "name": "stdout",
     "output_type": "stream",
     "text": [
      "SONG 1\n",
      "[\"Stairway to Heaven Lyrics[Intro]\\r\\n\\r\\n[Verse 1]\\r\\nThere's a lady who's sure all that glitters is gold\\r\\nAnd she's buying a stairway to Heaven\\r\\nWhen she gets there she knows, if the stores are all closed\\r\\nWith a word she can get what she came for\\r\\nOoh, ooh, and she's buying a stairway to Heaven\\r\\nThere's a sign on the wall, but she wants to be sure\\r\\n'Cause you know sometimes words have two meanings\\r\\nIn a tree by the brook, there's a songbird who sings\\r\\nSometimes all of our thoughts are misgiven\\r\\n\\r\\n[Chorus]\\r\\nOoh, it  makes me wonder\\r\\nOoh, makes me wonder\\r\\n[Verse 2]\\r\\nThere's a feeling I get when I look to the West\\r\\nAnd my spirit is crying for leaving\\r\\nIn my thoughts I have seen rings of smoke through the trees\\r\\nAnd the voices of those who stand looking\\r\\n\\r\\n[Chorus]\\r\\nOoh, it makes me wonder\\r\\nOoh, really makes me wonder\\r\\n\\r\\n[Verse 3]\\r\\nAnd it's whispered that soon if we all call the tune\\r\\nThen the piper will lead us to reason\\r\\nAnd a new day will dawn for those who stand long\\r\\nAnd the forests will echo with laughter\\r\\n\\r\\n[Chorus]\\r\\nOh-oh-oh-oh-woahhh\\r\\n\\r\\n[Verse 4]\\r\\nIf there's a bustle in your hedgerow, don't be alarmed now\\r\\nIt's just a spring clean for the May queen\\r\\nYes, there are two paths you can go by, but in the long run\\r\\nThere's still time to change the road you're on\\r\\n\\r\\n[Chorus]\\r\\nAnd it makes me wonder\\r\\nOhh, woah\\r\\n[Verse 5]\\r\\nYour head is humming, and it won't go, in case you don't know\\r\\nThe piper's calling you to join him\\r\\nDear lady, can you hear the wind blow? And did you know\\r\\nYour stairway lies on the whispering wind?\\r\\n[Guitar Solo]\\r\\n\\r\\n[Bridge]\\r\\nAnd as we wind on down the road\\r\\nOur shadows taller than our soul\\r\\nThere walks a lady we all know\\r\\nWho shines white light and wants to show\\r\\nHow everything still turns to gold\\r\\nAnd if you listen very hard\\r\\nThe tune will come to you at last\\r\\nWhen all are one, and one is all\\r\\nTo be a rock and not to roll\\r\\n\\r\\n[Outro]\\r\\nAnd she's buying a stairway to Heaven280Embed\"]\n",
      "\n",
      "SONG 2\n",
      "[\"Hey Jude Lyrics[Verse 1: Paul McCartney]\\r\\nHey Jude, don't make it bad\\r\\nTake a sad song and make it better\\r\\nRemember to let her into your heart\\r\\nThen you can start to make it better\\r\\n\\r\\n[Verse 2: Paul McCartney, John Lennon, George Harrison]\\r\\nHey Jude, don't be afraid\\r\\nYou were made to go out and get her\\r\\nThe minute you let her under your skin\\r\\nThen you begin to make it better\\r\\n\\r\\n[Chorus: Paul McCartney, John Lennon, George Harrison]\\r\\nAnd anytime you feel the pain, hey Jude, refrain\\r\\nDon't carry the world upon your shoulders\\r\\nFor well you know that it's a fool who plays it cool\\r\\nBy making his world a little colder\\r\\nNa na na na na na na na na na\\r\\n[Verse 3: Paul McCartney]\\r\\nHey Jude, don't let me down\\r\\nYou have found her, now go and get her\\r\\n(Let it out and let it in)\\r\\nRemember (Hey Jude) to let her into your heart\\r\\nThen you can start to make it better\\r\\n\\r\\n[Chorus: Paul McCartney, John Lennon, George Harrison]\\r\\nSo let it out and let it in, hey Jude, begin\\r\\nYou're waiting for someone to perform with\\r\\nAnd don't you know that it's just you, hey Jude, you'll do\\r\\nThe movement you need is on your shoulder\\r\\nNa na na na na na na na na yeah\\r\\n\\r\\n[Verse 4: Paul McCartney & John Lennon]\\r\\nHey Jude, don't make it bad\\r\\nTake a sad song and make it better\\r\\nRemember to let her under your skin\\r\\nThen you'll begin to make it (Woah, fucking hell!)\\r\\nBetter better better better better better, oh\\r\\n\\r\\n[Outro: Paul McCartney & Lennon/Harrison/Starr]\\r\\nYeah yeah yeah yeah yeah yeah yeah\\r\\nNaa na na na na na na, na na na na, hey Jude\\r\\nNaa na na na na na na, na na na na, hey Jude\\r\\nNaa na na na na na na, na na na na, hey Jude\\r\\nNaa na na na na na na, na na na na, hey Jude\\r\\n(Jude Judy Judy Judy Judy Judy ow wow)\\r\\nNaa na na na na na na (Na na na), na na na na, hey Jude\\r\\n(Jude Jude Jude Jude Jude)\\r\\nNaa na na na na na na (Yeah yeah yeah), na na na na, hey Jude\\r\\n(You know you can make, Jude Jude, You're not gonna break it)\\r\\nNaa na (Don't make it bad Jude) na na na na na (Take a sad song and make it better), na na na na, hey Jude\\r\\nHey Jude, hey Jude wow\\r\\nNaa na na na na na na, na na na na, hey Jude\\r\\nNaa na na na na na na, na na na na, hey Jude\\r\\nJude Jude Jude Jude Jude Jude\\r\\nNaa na na na na na na, na na na na, hey Jude\\r\\nNaa na na na na na na, na na na na, hey Jude\\r\\n(Na na na na na na na na na na na na)\\r\\nNaa na na na na na na, na na na na, hey Jude\\r\\nNaa na na na na na na, na na na na, hey Jude\\r\\nNaa na na na na na na (Make it Jude), na na na na, hey Jude\\r\\n(Yeah yeah yeah yeah yeah yeah yeah)\\r\\nNaa na na na na na na, na na na na, hey Jude\\r\\n(Go listen to ya ma ma ma ma ma ma ma ma)\\r\\nNaa na na na na na na, na na na na, hey Jude\\r\\nNaa na na na na na na, na na na na, hey Jude96Embed\"]\n",
      "\n"
     ]
    }
   ],
   "source": [
    "instances = [l for l in df['lyrics'].values[:2]]\n",
    "\n",
    "for si,s in enumerate(instances):\n",
    "    print(f'SONG {si + 1}')\n",
    "    print(str([s])+'\\n')"
   ]
  },
  {
   "cell_type": "markdown",
   "metadata": {},
   "source": [
    "From these two songs we can clearly see that there are a lot of characters which is not necessary at all. Firstly it seems that at the beguining of every song, the title of the song it is included, an iformation wich is stored in other variable and we do not need. Also at the end of the song a sequence of numbers and 'Embed' word is appearing. Furthermore, every information inside '[]' is not corresponding to the lyrics itself. Finally, '/n' wich corresponds to line skip must be removed.\n",
    "\n",
    "Regarding expresions like 'na', 'yeah', 'hey'... could be interpreted as some kind of stopword which maybe is not a word which express to much but especially in this second song for example it seems to be half of the song. So deppending on troubles we could face, we will change the decision of keeping this strings. However, contractions must be treated as a 'formal' word in orther to obtain the same meaning for every word. This can be counter benefit especially in ``rap & hip hop`` genre which most of the words uses contraction to fit with the rithm of the song. But at the end we are triying to find the meaning of the words in the song and each word must be represented in the same manner in every one.  "
   ]
  },
  {
   "cell_type": "markdown",
   "metadata": {},
   "source": [
    "Creating a function to address all this problems would be the best manner to properly display the lyrics:"
   ]
  },
  {
   "cell_type": "code",
   "execution_count": 12,
   "metadata": {},
   "outputs": [],
   "source": [
    "#Maximum length of any song's Title\n",
    "lengthTitle = df['song'].apply(lambda x: len(x.split(' '))).values\n",
    "maxLen = np.max(lengthTitle) + 5 #This 5 is just a margin just in case"
   ]
  },
  {
   "cell_type": "code",
   "execution_count": 13,
   "metadata": {},
   "outputs": [
    {
     "data": {
      "text/html": [
       "<div>\n",
       "<style scoped>\n",
       "    .dataframe tbody tr th:only-of-type {\n",
       "        vertical-align: middle;\n",
       "    }\n",
       "\n",
       "    .dataframe tbody tr th {\n",
       "        vertical-align: top;\n",
       "    }\n",
       "\n",
       "    .dataframe thead th {\n",
       "        text-align: right;\n",
       "    }\n",
       "</style>\n",
       "<table border=\"1\" class=\"dataframe\">\n",
       "  <thead>\n",
       "    <tr style=\"text-align: right;\">\n",
       "      <th></th>\n",
       "      <th>song</th>\n",
       "      <th>artist</th>\n",
       "      <th>type</th>\n",
       "      <th>lyrics</th>\n",
       "      <th>correctLyrics</th>\n",
       "    </tr>\n",
       "  </thead>\n",
       "  <tbody>\n",
       "    <tr>\n",
       "      <th>0</th>\n",
       "      <td>Stairway to Heaven</td>\n",
       "      <td>Led Zeppelin</td>\n",
       "      <td>rock</td>\n",
       "      <td>Stairway to Heaven Lyrics[Intro]\\r\\n\\r\\n[Verse...</td>\n",
       "      <td>There is a lady who is sure all that glitters...</td>\n",
       "    </tr>\n",
       "    <tr>\n",
       "      <th>1</th>\n",
       "      <td>Hey Jude</td>\n",
       "      <td>Beatles</td>\n",
       "      <td>rock</td>\n",
       "      <td>Hey Jude Lyrics[Verse 1: Paul McCartney]\\r\\nHe...</td>\n",
       "      <td>Hey Jude, do not make it bad Take a sad song ...</td>\n",
       "    </tr>\n",
       "    <tr>\n",
       "      <th>2</th>\n",
       "      <td>All Along the Watchtower</td>\n",
       "      <td>Hendrix, Jimi</td>\n",
       "      <td>rock</td>\n",
       "      <td>Ii. Tambourine Lyrics[Chorus, sung]\\r\\nHey, Pi...</td>\n",
       "      <td>Hey, Pip, play your tambourine Make the sailo...</td>\n",
       "    </tr>\n",
       "    <tr>\n",
       "      <th>3</th>\n",
       "      <td>Satisfaction</td>\n",
       "      <td>Rolling Stones</td>\n",
       "      <td>rock</td>\n",
       "      <td>Sin título I Lyrics[Letra de \"Sin título I\"]\\r...</td>\n",
       "      <td>Hay tres ninas jipis en la habitacion Una se ...</td>\n",
       "    </tr>\n",
       "    <tr>\n",
       "      <th>4</th>\n",
       "      <td>Like A Rolling Stone</td>\n",
       "      <td>Dylan, Bob</td>\n",
       "      <td>rock</td>\n",
       "      <td>Like a Rolling Stone Lyrics[Verse 1]\\r\\nOnce u...</td>\n",
       "      <td>Once upon a time you dressed so fine Threw th...</td>\n",
       "    </tr>\n",
       "    <tr>\n",
       "      <th>...</th>\n",
       "      <td>...</td>\n",
       "      <td>...</td>\n",
       "      <td>...</td>\n",
       "      <td>...</td>\n",
       "      <td>...</td>\n",
       "    </tr>\n",
       "    <tr>\n",
       "      <th>3756</th>\n",
       "      <td>Motown 25</td>\n",
       "      <td>Elzhi</td>\n",
       "      <td>rap &amp; hip hop</td>\n",
       "      <td>Motown 25 Lyrics[Verse 1: eLZhi]\\r\\nI end care...</td>\n",
       "      <td>I end careers, years, pierce ears fierce with...</td>\n",
       "    </tr>\n",
       "    <tr>\n",
       "      <th>3757</th>\n",
       "      <td>How Ya Like Me Now</td>\n",
       "      <td>Kool Moe Dee</td>\n",
       "      <td>rap &amp; hip hop</td>\n",
       "      <td>How Ya Like Me Now Lyrics\"All aboard for the n...</td>\n",
       "      <td>\"All aboard for the night train\" I throw my ta...</td>\n",
       "    </tr>\n",
       "    <tr>\n",
       "      <th>3758</th>\n",
       "      <td>Coastin’</td>\n",
       "      <td>Zion I feat. K.Flay</td>\n",
       "      <td>rap &amp; hip hop</td>\n",
       "      <td>Coastin’ LyricsWhen life brings trouble\\r\\nYou...</td>\n",
       "      <td>When life brings trouble You can fight or run ...</td>\n",
       "    </tr>\n",
       "    <tr>\n",
       "      <th>3759</th>\n",
       "      <td>Head Banger</td>\n",
       "      <td>EPMD</td>\n",
       "      <td>rap &amp; hip hop</td>\n",
       "      <td>Headbanger Lyrics[Redman]\\r\\nNegroes!!!!!!!!\\r...</td>\n",
       "      <td>Negroes!!!!!!!! The head banger, WHAT? The he...</td>\n",
       "    </tr>\n",
       "    <tr>\n",
       "      <th>3760</th>\n",
       "      <td>Sound Bwoy Burell</td>\n",
       "      <td>Smif-N-Wessun</td>\n",
       "      <td>rap &amp; hip hop</td>\n",
       "      <td>Sound Bwoy Bureill Lyrics[Intro: Sample from C...</td>\n",
       "      <td>We are the winning champion sound. You cannot...</td>\n",
       "    </tr>\n",
       "  </tbody>\n",
       "</table>\n",
       "<p>3761 rows × 5 columns</p>\n",
       "</div>"
      ],
      "text/plain": [
       "                          song               artist           type  \\\n",
       "0           Stairway to Heaven         Led Zeppelin           rock   \n",
       "1                     Hey Jude              Beatles           rock   \n",
       "2     All Along the Watchtower        Hendrix, Jimi           rock   \n",
       "3                 Satisfaction       Rolling Stones           rock   \n",
       "4         Like A Rolling Stone           Dylan, Bob           rock   \n",
       "...                        ...                  ...            ...   \n",
       "3756                 Motown 25                Elzhi  rap & hip hop   \n",
       "3757        How Ya Like Me Now         Kool Moe Dee  rap & hip hop   \n",
       "3758                  Coastin’  Zion I feat. K.Flay  rap & hip hop   \n",
       "3759               Head Banger                 EPMD  rap & hip hop   \n",
       "3760         Sound Bwoy Burell        Smif-N-Wessun  rap & hip hop   \n",
       "\n",
       "                                                 lyrics  \\\n",
       "0     Stairway to Heaven Lyrics[Intro]\\r\\n\\r\\n[Verse...   \n",
       "1     Hey Jude Lyrics[Verse 1: Paul McCartney]\\r\\nHe...   \n",
       "2     Ii. Tambourine Lyrics[Chorus, sung]\\r\\nHey, Pi...   \n",
       "3     Sin título I Lyrics[Letra de \"Sin título I\"]\\r...   \n",
       "4     Like a Rolling Stone Lyrics[Verse 1]\\r\\nOnce u...   \n",
       "...                                                 ...   \n",
       "3756  Motown 25 Lyrics[Verse 1: eLZhi]\\r\\nI end care...   \n",
       "3757  How Ya Like Me Now Lyrics\"All aboard for the n...   \n",
       "3758  Coastin’ LyricsWhen life brings trouble\\r\\nYou...   \n",
       "3759  Headbanger Lyrics[Redman]\\r\\nNegroes!!!!!!!!\\r...   \n",
       "3760  Sound Bwoy Bureill Lyrics[Intro: Sample from C...   \n",
       "\n",
       "                                          correctLyrics  \n",
       "0      There is a lady who is sure all that glitters...  \n",
       "1      Hey Jude, do not make it bad Take a sad song ...  \n",
       "2      Hey, Pip, play your tambourine Make the sailo...  \n",
       "3      Hay tres ninas jipis en la habitacion Una se ...  \n",
       "4      Once upon a time you dressed so fine Threw th...  \n",
       "...                                                 ...  \n",
       "3756   I end careers, years, pierce ears fierce with...  \n",
       "3757  \"All aboard for the night train\" I throw my ta...  \n",
       "3758  When life brings trouble You can fight or run ...  \n",
       "3759   Negroes!!!!!!!! The head banger, WHAT? The he...  \n",
       "3760   We are the winning champion sound. You cannot...  \n",
       "\n",
       "[3761 rows x 5 columns]"
      ]
     },
     "metadata": {},
     "output_type": "display_data"
    }
   ],
   "source": [
    "import re\n",
    "import contractions\n",
    "import unicodedata\n",
    "\n",
    "def correctLyrics(row, maxLen):\n",
    "    text = row['lyrics']\n",
    "    #1. Remove '\\n' and Unicode Escape Sequence ('\\u2005f)\n",
    "    text =  re.sub(r'\\n', ' ', text)\n",
    "    text = unicodedata.normalize('NFKD', text).encode('ascii', 'ignore').decode('utf-8')\n",
    "    #2. Remove '[]'\n",
    "    text = re.sub(r'\\[.*?\\]', ' ', text)\n",
    "    #3. Remove initial title + 'Lyrics' Keyword\n",
    "    titleWords = text.split(' ')[:maxLen] #Save time and avoid errors\n",
    "    restWords = text.split(' ')[maxLen:]\n",
    "    titleWords = re.sub(r'.*?Lyrics', '', ' '.join(titleWords))\n",
    "    text = titleWords + ' ' + ' '.join(restWords)\n",
    "    #4. Remove 'Embed' at the end word of the song\n",
    "    text = re.sub(r'\\d+Embed|Embed', '', text)\n",
    "    #5.Avoid more than 1 Espaces\n",
    "    text = re.sub(r'\\s+', ' ', text)\n",
    "    #6. Remove contractions\n",
    "    text = contractions.fix(text)\n",
    "    return text\n",
    "\n",
    "df['correctLyrics'] = df.apply(lambda x: correctLyrics(x,maxLen), axis=1)\n",
    "\n",
    "display(df)"
   ]
  },
  {
   "cell_type": "markdown",
   "metadata": {},
   "source": [
    "After all these modifications let's see if the previous songs lyrics has an uniform structure: "
   ]
  },
  {
   "cell_type": "code",
   "execution_count": 14,
   "metadata": {},
   "outputs": [
    {
     "name": "stdout",
     "output_type": "stream",
     "text": [
      "SONG 1\n",
      "[\" There is a lady who is sure all that glitters is gold And she is buying a stairway to Heaven When she gets there she knows, if the stores are all closed With a word she can get what she came for Ooh, ooh, and she is buying a stairway to Heaven There is a sign on the wall, but she wants to be sure Because you know sometimes words have two meanings In a tree by the brook, there is a songbird who sings Sometimes all of our thoughts are misgiven Ooh, it makes me wonder Ooh, makes me wonder There is a feeling I get when I look to the West And my spirit is crying for leaving In my thoughts I have seen rings of smoke through the trees And the voices of those who stand looking Ooh, it makes me wonder Ooh, really makes me wonder And it is whispered that soon if we all call the tune Then the piper will lead us to reason And a new day will dawn for those who stand long And the forests will echo with laughter Oh-oh-oh-oh-woahhh If there is a bustle in your hedgerow, do not be alarmed now It is just a spring clean for the May queen Yes, there are two paths you can go by, but in the long run There is still time to change the road you are on And it makes me wonder Ohh, woah Your head is humming, and it will not go, in case you do not know The piper's calling you to join him Dear lady, can you hear the wind blow? And did you know Your stairway lies on the whispering wind? And as we wind on down the road Our shadows taller than our soul There walks a lady we all know Who shines white light and wants to show How everything still turns to gold And if you listen very hard The tune will come to you at last When all are one, and one is all To be a rock and not to roll And she is buying a stairway to Heaven\"]\n",
      "\n",
      "SONG 2\n",
      "[' Hey Jude, do not make it bad Take a sad song and make it better Remember to let her into your heart Then you can start to make it better Hey Jude, do not be afraid You were made to go out and get her The minute you let her under your skin Then you begin to make it better And anytime you feel the pain, hey Jude, refrain Do not carry the world upon your shoulders For well you know that it is a fool who plays it cool By making his world a little colder Na na na na na na na na na na Hey Jude, do not let me down You have found her, now go and get her (Let it out and let it in) Remember (Hey Jude) to let her into your heart Then you can start to make it better So let it out and let it in, hey Jude, begin You are waiting for someone to perform with And do not you know that it is just you, hey Jude, you will do The movement you need is on your shoulder Na na na na na na na na na yeah Hey Jude, do not make it bad Take a sad song and make it better Remember to let her under your skin Then you will begin to make it (Woah, fucking hell!) Better better better better better better, oh Yeah yeah yeah yeah yeah yeah yeah Naa na na na na na na, na na na na, hey Jude Naa na na na na na na, na na na na, hey Jude Naa na na na na na na, na na na na, hey Jude Naa na na na na na na, na na na na, hey Jude (Jude Judy Judy Judy Judy Judy ow wow) Naa na na na na na na (Na na na), na na na na, hey Jude (Jude Jude Jude Jude Jude) Naa na na na na na na (Yeah yeah yeah), na na na na, hey Jude (You know you can make, Jude Jude, You are not going to break it) Naa na (Do not make it bad Jude) na na na na na (Take a sad song and make it better), na na na na, hey Jude Hey Jude, hey Jude wow Naa na na na na na na, na na na na, hey Jude Naa na na na na na na, na na na na, hey Jude Jude Jude Jude Jude Jude Jude Naa na na na na na na, na na na na, hey Jude Naa na na na na na na, na na na na, hey Jude (Na na na na na na na na na na na na) Naa na na na na na na, na na na na, hey Jude Naa na na na na na na, na na na na, hey Jude Naa na na na na na na (Make it Jude), na na na na, hey Jude (Yeah yeah yeah yeah yeah yeah yeah) Naa na na na na na na, na na na na, hey Jude (Go listen to ya ma ma ma ma ma ma ma ma) Naa na na na na na na, na na na na, hey Jude Naa na na na na na na, na na na na, hey Jude']\n",
      "\n"
     ]
    }
   ],
   "source": [
    "instances = [l for l in df['correctLyrics'].values[:2]]\n",
    "\n",
    "for si,s in enumerate(instances):\n",
    "    print(f'SONG {si + 1}')\n",
    "    print(str([s])+'\\n')"
   ]
  },
  {
   "cell_type": "markdown",
   "metadata": {},
   "source": [
    "Now, these lyrics seems to be readable, escape sequences and Unicode elements has been removed, both title at the begining of the word and Embed at the has been also adressed. Finally, contractions has been recover onto its original verb. So far, so good."
   ]
  },
  {
   "cell_type": "markdown",
   "metadata": {},
   "source": [
    "However, something we need to know previously working with songs lyrics is that our dataset is about the 1000 most heard songs for every genre but this does not implies that all our songs are in the same language! Therefore, it would be useful to determine which language predominates for each song and in the case of minoritary languages, remove that instance because otherwise it would be impossible to asign a topic for these kind of sentences. Therefore, it is the moment to visualize which language priorises in this dataset and which other languages could surprise us."
   ]
  },
  {
   "cell_type": "code",
   "execution_count": 15,
   "metadata": {},
   "outputs": [],
   "source": [
    "from spacy.language import Language\n",
    "from spacy_langdetect import LanguageDetector\n",
    "\n",
    "# Add LanguageDetector and assign it a string name\n",
    "@Language.factory(\"language_detector\")\n",
    "def create_language_detector(nlp, name):\n",
    "    return LanguageDetector(language_detection_function=None)\n",
    "\n",
    "mult_nlp = spacy.load('xx_sent_ud_sm')\n",
    "\n",
    "mult_nlp.add_pipe('language_detector', last=True)\n",
    "\n",
    "mult_doc = mult_nlp(df['correctLyrics'].values[0])\n",
    "def getLanguage(row):\n",
    "    mult_doc = mult_nlp(row['correctLyrics'])\n",
    "    return mult_doc._.language['language']\n",
    "\n",
    "df['language'] = df.apply(getLanguage, axis = 1)"
   ]
  },
  {
   "cell_type": "markdown",
   "metadata": {},
   "source": [
    "Surprisingly it only tooks one minute!. When we iniciate the process we were expecting 30 mins at list. This is not bad at all, now we can see which languages predominates in our dataset and this could be good information for a better interpretation of the number of topics we may need to select. Let's plot a histogram to visualize how this ``language`` variable is distributed."
   ]
  },
  {
   "cell_type": "code",
   "execution_count": 16,
   "metadata": {},
   "outputs": [
    {
     "data": {
      "text/plain": [
       "<AxesSubplot:>"
      ]
     },
     "execution_count": 16,
     "metadata": {},
     "output_type": "execute_result"
    },
    {
     "data": {
      "image/png": "[encoded data removed]",
      "text/plain": [
       "<Figure size 432x288 with 1 Axes>"
      ]
     },
     "metadata": {
      "needs_background": "light"
     },
     "output_type": "display_data"
    }
   ],
   "source": [
    "df['language'].hist()"
   ]
  },
  {
   "cell_type": "markdown",
   "metadata": {},
   "source": [
    "Wow! Almost every song is in english. So, obviously this will be the main language in the corpus. However, let's put the spotlight in those minoritary languages, it does not seem that they include sufficient enough docs to perform a correct. Thus, let's focus now in this languages songs:"
   ]
  },
  {
   "cell_type": "code",
   "execution_count": 17,
   "metadata": {},
   "outputs": [
    {
     "name": "stdout",
     "output_type": "stream",
     "text": [
      "Tne number of non-english songs is 32 which correspond to 0.851% of the dataset\n"
     ]
    },
    {
     "data": {
      "image/png": "[encoded data removed]",
      "text/plain": [
       "<Figure size 432x288 with 1 Axes>"
      ]
     },
     "metadata": {
      "needs_background": "light"
     },
     "output_type": "display_data"
    }
   ],
   "source": [
    "dfNoteng = df.loc[df['language'] != 'en']\n",
    "dfNoteng['language'].hist()\n",
    "print(f'Tne number of non-english songs is {dfNoteng.shape[0]} which correspond to {dfNoteng.shape[0]/df.shape[0]*100:.3f}% of the dataset')"
   ]
  },
  {
   "cell_type": "markdown",
   "metadata": {},
   "source": [
    "It is less than a 1% of the total songs and the most repeated language is 'tagalog' which is a philipine language and are 6 instances of this language. Therefore it is assumible the loss of these instances. Therefore, after this deletion it is our time to apply our spicy Pipeline after the creation of the corpus."
   ]
  },
  {
   "cell_type": "code",
   "execution_count": 18,
   "metadata": {},
   "outputs": [],
   "source": [
    "df = df.loc[df['language'] == 'en'].reset_index(drop=True)\n",
    "\n",
    "corpus = [elem for elem in df['correctLyrics']]\n",
    "\n",
    "with open('corpus.txt', 'w+') as c:\n",
    "    c.write(str(corpus))"
   ]
  },
  {
   "cell_type": "markdown",
   "metadata": {},
   "source": [
    "``corpus`` variable is composed by a long list including every song on it. We have done is in this way because we think Python lists for this kind of task would be faster than using Pandas Dataframes. From this we will create a Pipeline simiarily as we did in classes notebook and use further machine learning algorithm as final work statement requests."
   ]
  },
  {
   "cell_type": "markdown",
   "metadata": {},
   "source": [
    "Once the ``corpus`` has been created, it is very easy to apply a Pipeline:"
   ]
  },
  {
   "cell_type": "code",
   "execution_count": 19,
   "metadata": {},
   "outputs": [
    {
     "name": "stderr",
     "output_type": "stream",
     "text": [
      "100%|██████████| 3729/3729 [00:23<00:00, 157.82it/s]\n"
     ]
    }
   ],
   "source": [
    "from num2words import num2words\n",
    "from tqdm import tqdm\n",
    "from nltk.tokenize import wordpunct_tokenize\n",
    "from nltk.corpus import stopwords\n",
    "from nltk.stem import WordNetLemmatizer\n",
    "\n",
    "stopwords_en = stopwords.words('english')\n",
    "wnl = WordNetLemmatizer()\n",
    "\n",
    "#IMPORT CORPUS\n",
    "with open('corpus.txt', 'r') as c:\n",
    "    corpus = eval(c.read())\n",
    "##############\n",
    "\n",
    "valid_POS = set(['VERB', 'NOUN', 'ADJ', 'PROPN', 'NUM'])\n",
    "\n",
    "def convertNum2words(token):\n",
    "    try:\n",
    "        return num2words(token)\n",
    "    except:\n",
    "        return token\n",
    "\n",
    "def corpusPreprocessing(song):\n",
    "    #1. Tokenization\n",
    "    doc = wordpunct_tokenize(song)\n",
    "    #2. Filtering by Alphanumeric and Lower the Text\n",
    "    lowerToken = [token.lower() for token in doc if token.isalnum()]\n",
    "    tokenList = [convertNum2words(token) for token in lowerToken]\n",
    "    #3. Lemmatization of the data\n",
    "    lemmaList = [wnl.lemmatize(el) for el in tokenList]\n",
    "    #4. Cleanning StopWords\n",
    "    finalCorpus = [lemma for lemma in lemmaList if lemma not in stopwords_en]\n",
    "    return finalCorpus\n",
    "\n",
    "corpus = [corpusPreprocessing(s) for s in tqdm(corpus)]"
   ]
  },
  {
   "cell_type": "code",
   "execution_count": 20,
   "metadata": {},
   "outputs": [],
   "source": [
    "#SAVE CORPUS\n",
    "with open('corpus.txt', 'w+') as c:\n",
    "    c.write(str(corpus))\n",
    "##############"
   ]
  },
  {
   "cell_type": "markdown",
   "metadata": {},
   "source": [
    "It is surprisingly fast compared to the Pipeline provided by SpaCy. In only took 33 seconds which is 10 times less than the previous Pipeline we constructed but we decided to rewrite it because of the lack of performance and .lower() was not available. Anyway, we decided to store this new corpus inside a txt file such as a 'checkpoint' to save time as much as possible."
   ]
  },
  {
   "cell_type": "markdown",
   "metadata": {},
   "source": [
    "### **1.2 Text Vectorization**"
   ]
  },
  {
   "cell_type": "markdown",
   "metadata": {},
   "source": [
    "Now it is the moment of use N-Grams from ``gensim`` library in order to group in the same token those words that has a tendency of appear together:"
   ]
  },
  {
   "cell_type": "code",
   "execution_count": 21,
   "metadata": {},
   "outputs": [
    {
     "name": "stderr",
     "output_type": "stream",
     "text": [
      "100%|██████████| 3729/3729 [00:02<00:00, 1424.90it/s]\n"
     ]
    }
   ],
   "source": [
    "#IMPORT CORPUS\n",
    "with open('corpus.txt', 'r') as c:\n",
    "    corpus = eval(c.read())\n",
    "##############\n",
    "from tqdm import tqdm\n",
    "from gensim.models.phrases import Phrases\n",
    "\n",
    "phrase_model = Phrases(corpus, min_count=2, threshold=20)\n",
    "\n",
    "corpus = [el for el in tqdm(phrase_model[corpus])]"
   ]
  },
  {
   "cell_type": "markdown",
   "metadata": {},
   "source": [
    "Finally, in order to find a BoW and TF-IDF representation from our corpus, it is necessary to create previously a Gensim Dictionary where the songs will be stored. Once it is created, we can't include more instances, therefore this step is only made when the corpus has been finished."
   ]
  },
  {
   "cell_type": "code",
   "execution_count": 22,
   "metadata": {},
   "outputs": [
    {
     "name": "stdout",
     "output_type": "stream",
     "text": [
      "Our dictionary contains 78940 terms\n"
     ]
    }
   ],
   "source": [
    "from gensim.corpora import Dictionary\n",
    "\n",
    "# Create dictionary of tokens\n",
    "D = Dictionary(corpus)\n",
    "\n",
    "print('Our dictionary contains', len(D), 'terms')"
   ]
  },
  {
   "cell_type": "markdown",
   "metadata": {},
   "source": [
    "Wow! more than 70000 terms in our diccionary. Compared to what we saw from IMBD dataset, this ones contains more items. However, this is not definitive, probably there are several terms that appears barely compared to from what we see in the IMBD which maybe follows a similar structure since a review could be good, bad but nothing else. Let's filter our Diccionary and we will see which are the real tokens that we will need to analyse:"
   ]
  },
  {
   "cell_type": "code",
   "execution_count": 23,
   "metadata": {},
   "outputs": [
    {
     "name": "stdout",
     "output_type": "stream",
     "text": [
      "Our dictionary contains 24465 terms\n"
     ]
    }
   ],
   "source": [
    "D.filter_extremes(no_below=3,no_above=.80)\n",
    "\n",
    "print('Our dictionary contains', len(D), 'terms')"
   ]
  },
  {
   "cell_type": "markdown",
   "metadata": {},
   "source": [
    "Now it makes sense, it decreased drastically and now it seems to be a good bunch of woords to work with. Now it is the moment to introduce clasical representations which using Gensim is quite easy:"
   ]
  },
  {
   "cell_type": "code",
   "execution_count": 24,
   "metadata": {},
   "outputs": [
    {
     "name": "stdout",
     "output_type": "stream",
     "text": [
      "[(3, 16), (5, 1), (10, 2), (11, 1), (17, 1), (19, 1), (20, 12), (21, 1), (23, 1), (25, 3), (28, 3), (33, 1), (37, 1), (38, 12), (40, 4), (43, 1), (46, 6), (47, 1), (65, 2), (67, 1), (68, 9), (69, 2), (72, 2), (75, 1), (77, 1), (78, 3), (82, 5), (83, 1), (85, 1), (87, 4), (91, 4), (95, 1), (97, 1), (98, 1), (99, 1), (100, 1), (101, 1), (102, 3), (103, 2), (104, 1), (105, 1), (106, 1), (107, 5), (108, 1), (109, 1), (110, 1), (111, 2), (112, 2), (113, 2), (114, 2), (115, 13), (116, 4), (117, 1), (118, 1), (119, 1), (120, 1), (121, 1), (122, 1), (123, 1), (124, 6), (125, 1), (126, 2), (127, 3), (128, 2), (129, 1), (130, 6), (131, 1), (132, 1), (133, 1), (134, 1), (135, 1), (136, 1), (137, 1), (138, 1), (139, 1), (140, 1), (141, 1), (142, 2), (143, 4), (144, 2), (145, 1), (146, 1), (147, 1), (148, 1), (149, 1), (150, 1), (151, 1), (152, 2), (153, 1), (154, 1), (155, 1), (156, 1), (157, 1), (158, 1), (159, 3), (160, 2), (161, 1), (162, 1), (163, 1), (164, 1), (165, 2), (166, 1), (167, 1), (168, 1), (169, 1), (170, 2), (171, 1), (172, 1), (173, 1), (174, 3), (175, 1), (176, 1), (177, 1), (178, 2), (179, 1), (180, 1), (181, 1), (182, 1), (183, 1), (184, 1), (185, 1), (186, 1), (187, 1), (188, 1), (189, 2), (190, 1), (191, 1), (192, 2), (193, 4), (194, 1), (195, 1), (196, 1), (197, 1), (198, 1), (199, 1), (200, 2), (201, 1), (202, 1), (203, 1), (204, 1), (205, 2), (206, 1), (207, 3), (208, 2), (209, 1), (210, 1), (211, 1), (212, 1), (213, 1), (214, 2), (215, 17), (216, 1), (217, 1), (218, 1), (219, 1), (220, 2), (221, 1), (222, 1), (223, 2), (224, 3), (225, 1), (226, 2), (227, 1), (228, 1), (229, 1), (230, 1), (231, 1), (232, 3), (233, 1), (234, 1), (235, 3), (236, 1), (237, 1), (238, 1), (239, 1), (240, 1), (241, 1), (242, 1), (243, 1), (244, 1), (245, 1), (246, 1), (247, 2), (248, 1), (249, 1), (250, 1), (251, 1), (252, 1), (253, 1), (254, 1), (255, 1), (256, 2), (257, 6), (258, 1), (259, 3), (260, 3), (261, 1), (262, 1), (263, 1), (264, 1), (265, 1), (266, 1), (267, 1), (268, 2), (269, 1), (270, 1), (271, 4), (272, 2), (273, 1), (274, 1), (275, 1), (276, 2), (277, 1), (278, 1), (279, 1), (280, 1), (281, 1), (282, 1), (283, 1), (284, 1), (285, 4), (286, 1), (287, 1), (288, 1), (289, 2), (290, 1), (291, 2), (292, 1), (293, 1), (294, 2), (295, 9), (296, 4), (297, 1), (298, 1), (299, 2), (300, 2), (301, 1), (302, 2), (303, 1), (304, 1), (305, 1), (306, 1), (307, 18), (308, 2), (309, 1), (310, 1), (311, 1), (312, 7), (313, 1), (314, 1), (315, 1), (316, 1), (317, 2), (318, 1), (319, 1), (320, 2), (321, 2), (322, 1), (323, 1), (324, 1), (325, 1), (326, 4), (327, 1), (328, 1), (329, 1), (330, 2), (331, 1), (332, 1), (333, 1), (334, 3), (335, 1), (336, 3), (337, 1), (338, 2), (339, 3), (340, 3), (341, 1), (342, 2), (343, 1), (344, 2), (345, 1), (346, 4), (347, 1), (348, 1), (349, 1), (350, 1), (351, 1), (352, 6), (353, 2), (354, 1), (355, 1), (356, 1), (357, 2), (358, 1), (359, 1), (360, 1), (361, 1), (362, 1), (363, 1), (364, 1), (365, 2), (366, 1), (367, 1), (368, 1), (369, 1), (370, 1), (371, 1), (372, 1), (373, 1), (374, 1), (375, 1), (376, 1), (377, 1), (378, 7), (379, 1), (380, 1), (381, 1), (382, 6), (383, 1), (384, 2), (385, 1), (386, 1), (387, 2), (388, 1), (389, 1), (390, 1), (391, 1), (392, 1), (393, 1), (394, 1), (395, 1), (396, 1), (397, 1), (398, 1), (399, 2), (400, 1), (401, 1), (402, 1), (403, 1), (404, 1), (405, 1), (406, 1), (407, 6), (408, 1), (409, 1), (410, 1), (411, 3), (412, 1), (413, 2), (414, 2), (415, 3), (416, 3), (417, 3), (418, 1), (419, 1), (420, 1)]\n",
      "[(3, 0.1464953182843599), (5, 0.01034787926788741), (10, 0.008350238032094323), (11, 0.010967378636990594), (17, 0.010967378636990594), (19, 0.003190286443264685), (20, 0.04784413880576349), (21, 0.014788606071835304), (23, 0.009040364279380516), (25, 0.0435407651262952), (28, 0.006948290171978487), (33, 0.01726369805128829), (37, 0.007572169834150173), (38, 0.08649807160135202), (40, 0.017112785128803914), (43, 0.009999998404246785), (46, 0.022102277108365855), (47, 0.010444155621584008), (65, 0.025808769090667028), (67, 0.014049222628241206), (68, 0.0994681353468307), (69, 0.036680116850427165), (72, 0.022996129443469206), (75, 0.01127645097181393), (77, 0.009024066492820745), (78, 0.010595632375165103), (82, 0.038602441881793695), (83, 0.0083264710341161), (85, 0.01062001805001282), (87, 0.015523770964781827), (91, 0.05219032742875344), (95, 0.014027096477729097), (97, 0.010597694783925145), (98, 0.03570881900296581), (99, 0.034267081611813154), (100, 0.03223506688741536), (101, 0.012629709508322939), (102, 0.04599277643932053), (103, 0.0519135278067345), (104, 0.03570881900296581), (105, 0.03570881900296581), (106, 0.016378136660883957), (107, 0.11068624765623288), (108, 0.023255547931916677), (109, 0.01906927913155516), (110, 0.0235420010353364), (111, 0.06629756642228611), (112, 0.06853416322362631), (113, 0.017618163157652394), (114, 0.04122534893956191), (115, 0.4090128996631013), (116, 0.01890759585671238), (117, 0.01087236982093572), (118, 0.016378136660883957), (119, 0.02672930004746712), (120, 0.023396728111544505), (121, 0.017843457930620026), (122, 0.01376893305400863), (123, 0.03020305216301757), (124, 0.10881285808962707), (125, 0.034267081611813154), (126, 0.07141763800593162), (127, 0.030089222150303033), (128, 0.02332123242571018), (129, 0.02645833865638445), (130, 0.07063193343751734), (131, 0.016037082309733115), (132, 0.01722176002454348), (133, 0.008856065344357423), (134, 0.011674403195278984), (135, 0.02077974210516523), (136, 0.01798734049098218), (137, 0.021041274396664155), (138, 0.02620127898004217), (139, 0.03223506688741536), (140, 0.01376893305400863), (141, 0.03223506688741536), (142, 0.032341463924196415), (143, 0.04836670128313185), (144, 0.05345860009493424), (145, 0.02528756265631447), (146, 0.01925377474894128), (147, 0.01823672352816649), (148, 0.019644484077648655), (149, 0.034267081611813154), (150, 0.021609228463821625), (151, 0.03570881900296581), (152, 0.0375522431848386), (153, 0.03146253074331549), (154, 0.02731957738071227), (155, 0.03146253074331549), (156, 0.0245150265122146), (157, 0.01839253602461346), (158, 0.022137249531246576), (159, 0.03367710153990561), (160, 0.0350459494875833), (161, 0.013176326385397182), (162, 0.01849916908890719), (163, 0.013896352585838743), (164, 0.02731957738071227), (165, 0.051001705856474976), (166, 0.012696979846547763), (167, 0.02876131477186492), (168, 0.017138922354230514), (169, 0.030793329496262713), (170, 0.03318899360847103), (171, 0.03146253074331549), (172, 0.033148783211143056), (173, 0.02122353320751888), (174, 0.03887281561277216), (175, 0.023845825265161824), (176, 0.027015753150886845), (177, 0.025500852928237488), (178, 0.05752262954372984), (179, 0.02131721004617047), (180, 0.02131721004617047), (181, 0.01906927913155516), (182, 0.0168206207962331), (183, 0.016594496804235515), (184, 0.02095257181643621), (185, 0.034267081611813154), (186, 0.023255547931916677), (187, 0.02876131477186492), (188, 0.016898321034060932), (189, 0.05839475587814127), (190, 0.022483011787816806), (191, 0.008595466565937546), (192, 0.018480374715687593), (193, 0.03045991139494732), (194, 0.016859320331782578), (195, 0.033148783211143056), (196, 0.007584363428852669), (197, 0.009147611737304492), (198, 0.034267081611813154), (199, 0.02967503109559261), (200, 0.027330340477360136), (201, 0.012816920458859649), (202, 0.02876131477186492), (203, 0.01461185750337229), (204, 0.01944532283947208), (205, 0.02458126759408268), (206, 0.012799609336464353), (207, 0.03523173851610628), (208, 0.025879604225774504), (209, 0.028360175543554536), (210, 0.022027100812687044), (211, 0.018833397243837546), (212, 0.006467286020989286), (213, 0.02595676390336725), (214, 0.04321845692764325), (215, 0.19083690872613174), (216, 0.022727526864491723), (217, 0.002642238862375787), (218, 0.023255547931916677), (219, 0.01538853030882992), (220, 0.03054795053043398), (221, 0.034267081611813154), (222, 0.03570881900296581), (223, 0.020301014323302644), (224, 0.042689517332203185), (225, 0.027015753150886845), (226, 0.028277434475400823), (227, 0.034267081611813154), (228, 0.007964689848018042), (229, 0.02876131477186492), (230, 0.012228570280012558), (231, 0.019644484077648655), (232, 0.02869427710010734), (233, 0.010326733392842473), (234, 0.01866349741569613), (235, 0.06856322611081887), (236, 0.008091402831021466), (237, 0.027015753150886845), (238, 0.0187761215924193), (239, 0.033148783211143056), (240, 0.02645833865638445), (241, 0.02224987370796975), (242, 0.03146253074331549), (243, 0.03146253074331549), (244, 0.03570881900296581), (245, 0.03146253074331549), (246, 0.02876131477186492), (247, 0.0336412415924662), (248, 0.02764301637119482), (249, 0.03570881900296581), (250, 0.01957721373942383), (251, 0.02260377823270045), (252, 0.014184071076198755), (253, 0.025500852928237488), (254, 0.01844556895283549), (255, 0.013543425832050636), (256, 0.010678455994156495), (257, 0.015935515271727787), (258, 0.03146253074331549), (259, 0.08195873214213681), (260, 0.02132179569655207), (261, 0.029197377939070634), (262, 0.01227504571308849), (263, 0.020450997063419008), (264, 0.011498064721734603), (265, 0.0033345882565896843), (266, 0.022984586540834007), (267, 0.03570881900296581), (268, 0.05839475587814127), (269, 0.008543455788292966), (270, 0.02224987370796975), (271, 0.019927116901669484), (272, 0.06853416322362631), (273, 0.012417115335428804), (274, 0.010109927466653651), (275, 0.014762971412616047), (276, 0.04496602357563361), (277, 0.01871949313735378), (278, 0.007146265934462376), (279, 0.033148783211143056), (280, 0.01393955599952384), (281, 0.014093770165563266), (282, 0.03020305216301757), (283, 0.02150998631093861), (284, 0.015330925479773511), (285, 0.03645746961382494), (286, 0.012091675320782962), (287, 0.02672930004746712), (288, 0.033148783211143056), (289, 0.019405148539693474), (290, 0.025500852928237488), (291, 0.06040610432603514), (292, 0.024886423428004092), (293, 0.01304758185718836), (294, 0.03826005223430001), (295, 0.04269767580791423), (296, 0.03379309384568848), (297, 0.030793329496262713), (298, 0.024339164083785787), (299, 0.03699833817781438), (300, 0.061586658992525425), (301, 0.019191518483121086), (302, 0.0470840020706728), (303, 0.01774978109196844), (304, 0.01344418367916762), (305, 0.0235420010353364), (306, 0.024169264255644373), (307, 0.5663255533796787), (308, 0.019498735866681886), (309, 0.01839253602461346), (310, 0.015161980326356458), (311, 0.03146253074331549), (312, 0.12144049304560639), (313, 0.024004935928855428), (314, 0.017938919196903203), (315, 0.013120744688685067), (316, 0.022483011787816806), (317, 0.05463915476142454), (318, 0.02967503109559261), (319, 0.007789962979141452), (320, 0.04226315061459929), (321, 0.04769165053032365), (322, 0.027988778627765044), (323, 0.03020305216301757), (324, 0.008513975909461574), (325, 0.015330925479773511), (326, 0.05490867908427465), (327, 0.0236916110991224), (328, 0.028360175543554536), (329, 0.024886423428004092), (330, 0.05528603274238964), (331, 0.03570881900296581), (332, 0.03570881900296581), (333, 0.0235420010353364), (334, 0.04634041492946391), (335, 0.0049275996171879635), (336, 0.09944634963342916), (337, 0.03570881900296581), (338, 0.036371688518348315), (339, 0.05000623070667969), (340, 0.011996810315825793), (341, 0.01849916908890719), (342, 0.03282710845687539), (343, 0.02620127898004217), (344, 0.040901994126838016), (345, 0.015874881584313588), (346, 0.07969190398397623), (347, 0.03223506688741536), (348, 0.03146253074331549), (349, 0.01166061621285509), (350, 0.03020305216301757), (351, 0.014116193312368634), (352, 0.10434995911610939), (353, 0.02529288525775596), (354, 0.022483011787816806), (355, 0.01229063379704134), (356, 0.0111257158513501), (357, 0.023266311028564548), (358, 0.018135476348271177), (359, 0.025082980579372065), (360, 0.02528756265631447), (361, 0.022027100812687044), (362, 0.01889133505618037), (363, 0.027988778627765044), (364, 0.01244924086178458), (365, 0.01826192400909439), (366, 0.02764301637119482), (367, 0.019510834425283563), (368, 0.01752297474379165), (369, 0.027988778627765044), (370, 0.02764301637119482), (371, 0.03223506688741536), (372, 0.033148783211143056), (373, 0.0236916110991224), (374, 0.011633155514282274), (375, 0.030793329496262713), (376, 0.02645833865638445), (377, 0.004870446439527964), (378, 0.22564546821190756), (379, 0.03020305216301757), (380, 0.024886423428004092), (381, 0.023845825265161824), (382, 0.04146809097288339), (383, 0.010664965122149967), (384, 0.029525942825232094), (385, 0.02645833865638445), (386, 0.024339164083785787), (387, 0.022629707912569727), (388, 0.01871949313735378), (389, 0.03570881900296581), (390, 0.02620127898004217), (391, 0.030793329496262713), (392, 0.03570881900296581), (393, 0.034267081611813154), (394, 0.016103461623873386), (395, 0.028360175543554536), (396, 0.03570881900296581), (397, 0.03020305216301757), (398, 0.02731957738071227), (399, 0.008381202313441912), (400, 0.014788606071835304), (401, 0.011150525629495919), (402, 0.014971816837285047), (403, 0.01839253602461346), (404, 0.034267081611813154), (405, 0.00462779216571165), (406, 0.01900925967226636), (407, 0.1847599769775763), (408, 0.02876131477186492), (409, 0.012834291585265344), (410, 0.020142495684443675), (411, 0.051172295093263626), (412, 0.010120041627403167), (413, 0.037899901038231716), (414, 0.016061962712540973), (415, 0.016194218640008414), (416, 0.0752489417381162), (417, 0.013832703396078068), (418, 0.020068248919785956), (419, 0.033148783211143056), (420, 0.01456248207983772)]\n"
     ]
    }
   ],
   "source": [
    "from gensim.models import TfidfModel\n",
    "\n",
    "bow_songs = [D.doc2bow(doc) for doc in corpus] #bow gensim corpus\n",
    "tfidf = TfidfModel(bow_songs)\n",
    "tfidf_songs = tfidf[bow_songs]\n",
    "\n",
    "print(bow_songs[1])\n",
    "print(tfidf_songs[1])"
   ]
  },
  {
   "attachments": {},
   "cell_type": "markdown",
   "metadata": {},
   "source": [
    "Therefore, this is our first figures obteinment from the words appearing in the lyrics song. Nevertheless, this is not enough to predict properly which genre our song has. This representation just considers the frequency of appearing but not the relation among words. For example, in this song ```Hey Jude - The Beatles``, word 'na' which is some kind of musical onomatopoeia is repeated several times during the song, and its score is 0.88 in the TF-IDF representation which is really high despite it does not meaning anything the word by itself. But is not that bad, for example 'na' expresion could directly being related to rock song, we do not know how the classification model will behave. Furthermore, these kind of representations will be very useful for the developement of more complex models thus it is essential to save them in a variable for future usages.\n",
    "\n",
    "Without any more introduction, it is the moment to start developing further text-figure extraction models in order to obtain better insights from our data:\n",
    "\n",
    "As our objective is to make a classification by genre, we will develop 3 different approaches to see which of them works better:\n",
    "\n",
    "1) The first will be based on a Word2Vec, we will train our own word2vec with the lyrics of the songs of the data set and after that they will be combined with basic classical machine learning models.\n",
    "2) To compare how word2vec works with a bigger base of embeedings, we will try also a pre-trained model, using for the classification also machine learning models.\n",
    "3) The third way will be a FastText representation combined with a MLP Neural Network.\n",
    "\n",
    "So let's create first the representations:"
   ]
  },
  {
   "attachments": {},
   "cell_type": "markdown",
   "metadata": {},
   "source": [
    "#### **1.2.1 Word2Vec Representation**\n",
    "\n",
    "##### **1.2.1.1 Word2Vec Representation with our Data**\n"
   ]
  },
  {
   "attachments": {},
   "cell_type": "markdown",
   "metadata": {},
   "source": [
    "From the corpus file in which we have all the lyrics cleaned and converted in tokens, we create the word2vec. \n",
    "\n",
    "We implement a seed to work in so we can keep track of the results. And we will try with a vector size of 200 for the embeeding size."
   ]
  },
  {
   "cell_type": "code",
   "execution_count": 25,
   "metadata": {},
   "outputs": [],
   "source": [
    "#WORD2VEC \n",
    "\n",
    "from gensim.models import Word2Vec\n",
    "\n",
    "model_w2v = Word2Vec(corpus, vector_size=200, seed= 33)"
   ]
  },
  {
   "attachments": {},
   "cell_type": "markdown",
   "metadata": {},
   "source": [
    "Check the results of the word2vec:"
   ]
  },
  {
   "cell_type": "code",
   "execution_count": 26,
   "metadata": {},
   "outputs": [
    {
     "name": "stdout",
     "output_type": "stream",
     "text": [
      "['wa', 'like', 'got', 'love', 'know', 'get', 'one', 'want', 'baby', 'time', 'go', 'would', 'come', 'see', 'going', 'make', 'oh', 'man', 'yeah', 'back', 'way', 'never', 'say', 'nigga', 'take', 'right', 'let', 'cannot', 'life', 'day', 'girl', 'good', 'could', 'thing', 'two', 'said', 'give', 'need', 'tell', 'feel', 'well', 'think', 'night', 'little', 'u', 'still', 'shit', 'keep', 'look', 'eye']\n",
      "\n",
      "============= Embedding of the first word =============\n",
      "[-0.35633123 -0.65573406  0.6324914   0.5553358  -0.07175688  0.6284817\n",
      " -0.3340926  -0.7393087  -0.84120125  0.79238135 -0.05857508  0.14053103\n",
      "  0.75815326 -0.0111374   0.9429879   0.00651788 -0.40393272 -0.12435041\n",
      "  0.41853553 -0.33340287 -0.718116   -0.10276466  0.9330045   0.20495953\n",
      " -0.17411748  0.03952269  1.1347082  -1.5307131   0.644882   -0.9295283\n",
      "  0.7720839   1.3365684  -0.36532938  0.656959    0.3390927   0.29441804\n",
      " -0.10325693 -0.6175142   0.971814    1.0093685  -1.1485531   0.2582945\n",
      "  0.14529043 -0.47650722 -0.03347995  0.4741467   0.16704156 -0.17543672\n",
      " -1.1159431   0.819423    0.15782656 -0.5626012  -1.1302029  -1.316268\n",
      "  0.7268773  -0.21679203 -0.04438792 -0.70750165  0.37116694  0.8269006\n",
      " -0.39339685 -0.56575596  0.30200318  0.35130292 -0.11087077 -0.3994794\n",
      "  0.7889435   0.19498765  0.06979269  0.3413244   1.4926498   0.24152525\n",
      "  0.850716   -1.1844441   0.3192152   0.59818655  1.1186403   0.28490353\n",
      " -1.3711433  -0.35835958  0.04468692  0.16968054 -1.0896244   0.6532082\n",
      " -0.15444241 -0.72445756 -1.1572921   0.4646706   1.3854188   0.8823094\n",
      " -0.33330497  0.6013006   0.01066341 -0.20302293 -0.53726083 -0.16863771\n",
      " -0.3070792  -0.5067002   0.61672914  0.20875342  0.16519074 -0.6562014\n",
      "  1.0350124  -0.40828517  0.08772708  0.5365886   1.2003486  -0.2269898\n",
      "  1.3456844   0.3069837  -0.06067041 -0.03576446 -0.68550915  0.7035789\n",
      " -0.41779855  0.07663078  0.5191576  -0.6623466   0.12857607  0.43357047\n",
      "  1.0250304   0.24279593 -0.5829174  -0.2874093  -0.8643035  -0.14889944\n",
      "  0.11992411  0.12704937  0.26896593 -0.13489914 -0.22508222 -0.03165008\n",
      "  0.26636255  0.5281261   0.21230622 -0.8342174  -0.18895938  1.3224396\n",
      "  1.5160764  -0.15547988 -0.2764834  -1.1161641  -0.27203333 -0.44217306\n",
      "  0.31851104  0.39647847  0.37581408  0.09269836  0.07148062 -1.9521136\n",
      " -0.73092717 -1.4788214   0.41444764 -0.36757755 -0.02391842 -0.07816759\n",
      "  0.0696518   0.3446136   0.67989784  0.16982633  0.3106168  -0.33060956\n",
      " -0.19066328 -0.03413118 -1.3921852   0.36637235  0.79318684  0.7423143\n",
      "  0.43484318 -0.47353944 -0.5149914  -0.05632556  0.02869029  1.5598037\n",
      "  0.11976878 -0.08622067 -0.41760305 -0.11721189  0.5083322  -0.00232193\n",
      "  0.48034632  0.08134881  0.06524807  0.61592036  0.06619861 -0.46694624\n",
      " -1.0924948   0.10202339 -0.25804555  1.2253419  -0.00283901  0.04317391\n",
      " -0.8921522   0.4170705  -0.00314166 -1.1726431   1.1617457   0.7257471\n",
      " -0.1623047  -0.05485055]\n",
      "(200,)\n"
     ]
    }
   ],
   "source": [
    "words = list(model_w2v.wv.key_to_index)\n",
    "print(words[0:50]) #first 50 words\n",
    "print('\\n============= Embedding of the first word =============')\n",
    "print(model_w2v.wv[words[0]])\n",
    "print(model_w2v.wv[words[0]].shape)"
   ]
  },
  {
   "attachments": {},
   "cell_type": "markdown",
   "metadata": {},
   "source": [
    "Save the w2v model in a KeyedVectors, that will result in a smaller and faster object thanks to the mapping between keys and vectors:"
   ]
  },
  {
   "cell_type": "code",
   "execution_count": 27,
   "metadata": {},
   "outputs": [
    {
     "name": "stdout",
     "output_type": "stream",
     "text": [
      "22175\n"
     ]
    },
    {
     "data": {
      "text/plain": [
       "0"
      ]
     },
     "execution_count": 27,
     "metadata": {},
     "output_type": "execute_result"
    }
   ],
   "source": [
    "from gensim.models import KeyedVectors\n",
    "\n",
    "# Store just the words + their trained embeddings.\n",
    "word_vectors = model_w2v.wv\n",
    "word_vectors.save(\"model_w2v_imbd_sampling03.wordvectors\")\n",
    "\n",
    "# Load back with memory-mapping = read-only, shared across processes.\n",
    "wv = KeyedVectors.load(\"model_w2v_imbd_sampling03.wordvectors\", mmap='r')\n",
    "print(len(wv))\n",
    "import gc\n",
    "del model_w2v\n",
    "gc.collect()"
   ]
  },
  {
   "attachments": {},
   "cell_type": "markdown",
   "metadata": {},
   "source": [
    "Let's visualize the embeedings that will help to know the performance of the model.\n",
    "\n",
    "We know we can do this thanks to the t-SNE implemented in Sklearn, that reduces high dimensional data to 2 or 3 dimensions keeping as much information as possible.\n",
    "\n",
    "So let's have a look into out space of embeedings to have a first impression on how the word2vec has separated the words:"
   ]
  },
  {
   "cell_type": "code",
   "execution_count": 28,
   "metadata": {},
   "outputs": [
    {
     "name": "stderr",
     "output_type": "stream",
     "text": [
      "c:\\Users\\34649\\anaconda3\\envs\\ML\\lib\\site-packages\\sklearn\\manifold\\_t_sne.py:790: FutureWarning: The default learning rate in TSNE will change from 200.0 to 'auto' in 1.2.\n",
      "  warnings.warn(\n"
     ]
    },
    {
     "data": {
      "image/png": "[encoded data removed]",
      "text/plain": [
       "<Figure size 1152x1152 with 1 Axes>"
      ]
     },
     "metadata": {
      "needs_background": "light"
     },
     "output_type": "display_data"
    }
   ],
   "source": [
    "from sklearn.manifold import TSNE\n",
    "\n",
    "tsne = TSNE(init='random')\n",
    "embed_tsne = tsne.fit_transform(wv.vectors)\n",
    "\n",
    "# We plot only 500 embeddings\n",
    "fig, ax = plt.subplots(figsize=(16, 16))\n",
    "for idx, word in enumerate((list(wv.key_to_index.keys())[:500])):\n",
    "    plt.scatter(*embed_tsne[idx, :], color='steelblue')\n",
    "    plt.annotate(word, (embed_tsne[idx, 0], embed_tsne[idx, 1]), alpha=0.7)\n",
    "      \n",
    "plt.grid()"
   ]
  },
  {
   "cell_type": "code",
   "execution_count": 29,
   "metadata": {},
   "outputs": [
    {
     "data": {
      "text/plain": [
       "35"
      ]
     },
     "execution_count": 29,
     "metadata": {},
     "output_type": "execute_result"
    }
   ],
   "source": [
    "del embed_tsne #clean memory\n",
    "gc.collect()"
   ]
  },
  {
   "attachments": {},
   "cell_type": "markdown",
   "metadata": {},
   "source": [
    "So, what is left is to create a function that can link the keyed Vectors to the list of tokens representing the songs lyrics, and results in the embeeding vector of the lyrics of each song made by the vectors of the words that conform that song."
   ]
  },
  {
   "cell_type": "code",
   "execution_count": 30,
   "metadata": {},
   "outputs": [],
   "source": [
    "def get_lyrics_vector(model, lyrics):\n",
    "  vectors = []\n",
    "  for token in lyrics:\n",
    "      if token in model:\n",
    "          vectors.append(model[token])\n",
    "  if len(vectors) == 0:\n",
    "      # If all tokens are OOV, return a vector of zeros\n",
    "      return np.zeros(model.vector_size)\n",
    "  else:\n",
    "      return np.mean(vectors, axis=0)\n",
    "\n",
    "lyrics_embeddings = []\n",
    "for i in corpus:\n",
    "    lyrics_embeddings.append(get_lyrics_vector(wv, i))\n"
   ]
  },
  {
   "cell_type": "code",
   "execution_count": 39,
   "metadata": {},
   "outputs": [
    {
     "name": "stdout",
     "output_type": "stream",
     "text": [
      "[-0.34024054 -0.34099832  0.1275118   0.17957471  0.47045708  0.21442868\n",
      " -0.22241944 -0.06566223 -0.02512254  0.50733197 -0.35150534  0.3548891\n",
      "  0.28902465  0.33222342  0.36462018 -0.20703064  0.18621247 -0.1548699\n",
      " -0.18525113  0.06981155 -0.1129395   0.04671338 -0.12437516 -0.1683894\n",
      "  0.24672212 -0.20857668  0.48330906 -0.41569105  0.4936307   0.10206272\n",
      "  0.00366528 -0.06872773  0.24252291 -0.12071206 -0.05169732 -0.29853722\n",
      "  0.10333535  0.4116969  -0.02614379  0.13123196 -0.39427423 -0.07435802\n",
      " -0.161554   -0.04812155 -0.11069191  0.06166301  0.05101025  0.11450924\n",
      "  0.03337283  0.26355198 -0.11414315  0.06241149 -0.31148526 -0.30416027\n",
      " -0.189083   -0.14020878  0.16355138  0.20140123 -0.30399132  0.36967835\n",
      "  0.25372925  0.0654505   0.18276478 -0.27855584  0.22202608 -0.2823547\n",
      " -0.18411104 -0.03128278  0.34228042  0.8285372  -0.09543537  0.17113425\n",
      "  0.1763559  -0.7858172   0.18085197  0.05716765  0.45068422  0.1978453\n",
      " -0.28808782 -0.51122916  0.58849704 -0.30636755  0.10931007  0.15432644\n",
      " -0.04166753 -0.48518422  0.32200843 -0.04070418  0.17794728  0.4566418\n",
      "  0.0522462   0.0052229   0.0323428  -0.56260496 -0.24743061 -0.20669895\n",
      " -0.24611208 -0.15758418 -0.11711053 -0.35907215 -0.08533811 -0.25457495\n",
      "  0.26268452  0.01602219  0.08343395  0.01009115  0.09695464 -0.39112428\n",
      "  0.44885752  0.5213108   0.04384465 -0.28893888 -0.17580818  0.0471106\n",
      "  0.22193992 -0.13926339  0.32530418 -0.24541895  0.2686986   0.00281664\n",
      "  0.2270067  -0.13938859  0.16875027  0.16934252  0.31987032  0.01592037\n",
      " -0.09005737  0.73216534 -0.07157717 -0.45696416 -0.16470192 -0.2896962\n",
      "  0.47832626  0.09188133 -0.02294661 -0.1041872   0.18351804 -0.00406349\n",
      "  0.04920673 -0.29800883  0.06819515  0.03140646  0.06414402  0.60895866\n",
      "  0.1794378   0.29784837 -0.18045004 -0.55558956  0.21729249 -0.20384307\n",
      "  0.3440307  -0.40490925 -0.22582047  0.0734164   0.5346623  -0.5909023\n",
      " -0.06743664  0.57932115  0.22426693  0.0653754   0.21956784  0.4171183\n",
      " -0.04896956 -0.46699116 -0.01946923  0.06113389  0.65052485  0.3227417\n",
      "  0.5556027  -0.34390455 -0.03469836  0.17065746  0.34794584  0.14225835\n",
      " -0.11608969  0.5127846   0.05204279 -0.20005876  0.40971842 -0.481232\n",
      "  0.02213996  0.54089695  0.35441914  0.12907536  0.11255673  0.08850396\n",
      " -0.38131884  0.06836513 -0.15588395  0.44009963 -0.11504355 -0.26280043\n",
      " -0.03750592  0.32417804 -0.1565709  -0.6975551   0.0164109  -0.16178581\n",
      " -0.02799685  0.33659512]\n",
      "200\n",
      "3729\n"
     ]
    }
   ],
   "source": [
    "print(lyrics_embeddings[0])\n",
    "print(len(lyrics_embeddings[0])) #we can see each of them has 300 dimensions\n",
    "print(len(lyrics_embeddings)) #equals the number of songs"
   ]
  },
  {
   "attachments": {},
   "cell_type": "markdown",
   "metadata": {},
   "source": [
    "##### CLASSIFICATION\n",
    "\n",
    "Now that we have the embeedings of the lyrics, created and based in a word2vec modeled with the own songs, we have a representation of the lyrics in numbers, so we will work with some machine learning classifiers and see how wll they can classify by genre in <b>section 2<b>"
   ]
  },
  {
   "attachments": {},
   "cell_type": "markdown",
   "metadata": {},
   "source": [
    "##### **1.2.1.2 Word2Vec with Pre-Trained Model**\n",
    "\n",
    "From the gensim documentation we decided to use the pre-trained model: \"word2vec-google-news-300\", that has 300 dimensions, which should be fine and enough for our objective.\n"
   ]
  },
  {
   "cell_type": "code",
   "execution_count": 1,
   "metadata": {},
   "outputs": [
    {
     "name": "stdout",
     "output_type": "stream",
     "text": [
      "[==================================================] 100.0% 1662.8/1662.8MB downloaded\n"
     ]
    }
   ],
   "source": [
    "import gensim.downloader as api\n",
    "\n",
    "pre_w2v = api.load(\"word2vec-google-news-300\")"
   ]
  },
  {
   "cell_type": "code",
   "execution_count": 33,
   "metadata": {},
   "outputs": [
    {
     "name": "stdout",
     "output_type": "stream",
     "text": [
      "<class 'gensim.models.keyedvectors.KeyedVectors'>\n"
     ]
    }
   ],
   "source": [
    "print(type(pre_w2v))\n"
   ]
  },
  {
   "attachments": {},
   "cell_type": "markdown",
   "metadata": {},
   "source": [
    "We can see that now we have directly a keyedvectors object, with the mapping between keys and vectors.\n",
    "\n",
    "So we can directly pass to link the tokens we have in each of our songs's lyrics with the corresponding vector of our new keyed vectors object:"
   ]
  },
  {
   "cell_type": "code",
   "execution_count": 34,
   "metadata": {},
   "outputs": [],
   "source": [
    "def get_lyrics_vector(model, lyrics):\n",
    "  vectors = []\n",
    "  for token in lyrics:\n",
    "      if token in model:\n",
    "          vectors.append(model[token])\n",
    "  if len(vectors) == 0:\n",
    "      # If all tokens are OOV, return a vector of zeros\n",
    "      return np.zeros(model.vector_size)\n",
    "  else:\n",
    "      return np.mean(vectors, axis=0)\n",
    "\n",
    "lyrics_embeddings_pre = []\n",
    "for i in corpus:\n",
    "    lyrics_embeddings_pre.append(get_lyrics_vector(pre_w2v, i))"
   ]
  },
  {
   "cell_type": "code",
   "execution_count": 38,
   "metadata": {},
   "outputs": [
    {
     "name": "stdout",
     "output_type": "stream",
     "text": [
      "[ 0.03764191  0.01680911  0.02917939  0.07250047 -0.06872599 -0.0527283\n",
      "  0.04931778 -0.07780812  0.10342871  0.1155538  -0.06705698 -0.10832203\n",
      " -0.06433553  0.02791469 -0.08942156  0.07580641  0.06468143  0.09460323\n",
      "  0.02160174 -0.08267625 -0.01490749  0.08382135  0.07986633 -0.04091013\n",
      "  0.06311885 -0.0069638  -0.06185263 -0.01732039  0.05336882 -0.04841734\n",
      " -0.07339673  0.04897331 -0.05919791 -0.01851171 -0.02823274 -0.08294087\n",
      "  0.0716463  -0.02210689  0.04641913  0.09102935  0.06469021 -0.0963939\n",
      "  0.13705072 -0.07202254 -0.03410276 -0.03430087 -0.0905313   0.00619811\n",
      " -0.00997948  0.06349027 -0.07168807  0.08087606  0.00952997 -0.00062997\n",
      "  0.04841442  0.00883186 -0.04402878 -0.09251373  0.05344151 -0.04804488\n",
      " -0.01371192  0.03545097 -0.05698254 -0.03032231  0.00857108 -0.05201145\n",
      " -0.05650203  0.07186534 -0.10086951  0.06021252  0.04317943  0.03024957\n",
      "  0.07271444 -0.00274859 -0.15255405 -0.06716308  0.06744245  0.05934751\n",
      "  0.04092354  0.10571897  0.01696628 -0.03543182  0.0448999  -0.05057322\n",
      " -0.08555546  0.02045601 -0.08570747  0.07470967  0.03926167  0.0219058\n",
      "  0.00372376  0.07140626 -0.10218731 -0.06011596 -0.08082686 -0.06849498\n",
      "  0.07941775  0.02843447 -0.0103976  -0.0848586  -0.10105678 -0.04234842\n",
      "  0.06653038  0.04073707 -0.03205596 -0.02654989  0.0447877  -0.00433694\n",
      "  0.01261274 -0.05754675 -0.07267975  0.01262579  0.00339216  0.00196339\n",
      "  0.08990972 -0.04833611  0.03024521 -0.02585458  0.0036994   0.03018677\n",
      " -0.04692066  0.02780134 -0.0941494   0.08282266  0.00827723 -0.01719955\n",
      " -0.08199339 -0.02942101  0.05396067  0.01531638 -0.08256726 -0.10371123\n",
      " -0.00507779  0.02267135  0.04077593 -0.02215509 -0.00279299  0.05619745\n",
      "  0.05500891  0.07962151  0.06047012 -0.07041283 -0.01757096 -0.00751937\n",
      "  0.03806023  0.07558148 -0.02980105 -0.0992228  -0.03225857 -0.08695915\n",
      "  0.06357064  0.02527788 -0.0583293   0.04847247 -0.03805588 -0.02109183\n",
      " -0.03385076 -0.04579504 -0.0642745  -0.01630166 -0.02625332  0.05018696\n",
      "  0.05590384 -0.01627401  0.03035042 -0.1345559   0.0570066  -0.08152772\n",
      " -0.00494201 -0.014751   -0.11390755  0.03760061 -0.01480068 -0.07689994\n",
      " -0.06225912 -0.03408813  0.07986288 -0.07375828  0.01932417  0.01393113\n",
      " -0.06886253 -0.05369166  0.08278733  0.00999322 -0.052072   -0.01872942\n",
      " -0.03435258 -0.01304718  0.0391723   0.03698036  0.09551612 -0.02201227\n",
      "  0.0633639   0.00203014 -0.00515105  0.07684619 -0.02976548 -0.00902001\n",
      " -0.07083197 -0.0248973   0.00525224  0.02642702 -0.10088813 -0.04629872\n",
      "  0.02362425 -0.04204932 -0.02898413  0.01949052  0.01778463 -0.01182619\n",
      " -0.04019532  0.06164907 -0.05412591 -0.05540799 -0.12499484  0.02042423\n",
      "  0.05273438 -0.00131435 -0.09590574 -0.02246759  0.00897469  0.02565553\n",
      " -0.006978    0.01147259  0.0675662  -0.03706069  0.04066528  0.02246805\n",
      "  0.01004579 -0.00137903  0.02274649 -0.05727636 -0.05369384  0.03918738\n",
      "  0.0706579   0.03371602 -0.04788414 -0.08883116  0.09149709 -0.00287301\n",
      "  0.05156484 -0.0030018  -0.0464855  -0.07719056 -0.02804806  0.00067225\n",
      "  0.03584163  0.05389186  0.01167673 -0.02793035 -0.01513396  0.05231424\n",
      "  0.10111781  0.08351967  0.03083664 -0.07361539 -0.01652177  0.0312685\n",
      " -0.07723861 -0.0666567  -0.04638764 -0.0198662  -0.077695    0.05468819\n",
      "  0.04964172  0.07744879 -0.02330384 -0.00699828 -0.09326544 -0.00674461\n",
      "  0.023173    0.11085143  0.12980571  0.0366897   0.07441752 -0.06572264\n",
      " -0.07927446 -0.11507766 -0.03830403  0.01844108  0.02209527 -0.065697\n",
      "  0.04679744  0.03836834  0.0312921  -0.03782077 -0.06479628  0.00749023\n",
      "  0.02126608  0.09640801 -0.0427845   0.04245018 -0.09936007 -0.0326541\n",
      " -0.04220868 -0.05267857  0.02143802 -0.08759329  0.06588516 -0.01117537]\n",
      "300\n",
      "3729\n"
     ]
    }
   ],
   "source": [
    "print(lyrics_embeddings_pre[0])\n",
    "print(len(lyrics_embeddings_pre[0])) #we can see each of them has 300 dimensions\n",
    "print(len(lyrics_embeddings_pre)) #equals the number of songs"
   ]
  },
  {
   "attachments": {},
   "cell_type": "markdown",
   "metadata": {},
   "source": [
    "So we are ready again to pass to the classification task, and see the difference between the word2vec created by ourselves with the data we have, and a much bigger pre-trained model linked afterwards with our lyrics."
   ]
  },
  {
   "cell_type": "markdown",
   "metadata": {},
   "source": [
    "#### **1.2.2 FastText Representation**"
   ]
  },
  {
   "cell_type": "code",
   "execution_count": null,
   "metadata": {},
   "outputs": [],
   "source": [
    "#TODO\n",
    "#FASTTEXT"
   ]
  },
  {
   "cell_type": "markdown",
   "metadata": {},
   "source": [
    "### **1.3 Topic Modeling**"
   ]
  },
  {
   "cell_type": "code",
   "execution_count": null,
   "metadata": {},
   "outputs": [],
   "source": [
    "#TODO\n",
    "\n",
    "#TOPIC SELECTION\n",
    "#SEMANTIC SIMILARITY-LDA"
   ]
  },
  {
   "cell_type": "markdown",
   "metadata": {},
   "source": [
    "## **2.Machine Learning Model**"
   ]
  },
  {
   "cell_type": "markdown",
   "metadata": {},
   "source": [
    "### **2.1 Classification Task**"
   ]
  },
  {
   "attachments": {},
   "cell_type": "markdown",
   "metadata": {},
   "source": [
    "#### **2.1.1 Machine Learning Approach**"
   ]
  },
  {
   "attachments": {},
   "cell_type": "markdown",
   "metadata": {},
   "source": [
    "#### **2.1.1.1 Machine Learning Approach with self-created word2vec**"
   ]
  },
  {
   "cell_type": "markdown",
   "metadata": {},
   "source": [
    "First we have to split the data and create an embeedings matrix:"
   ]
  },
  {
   "cell_type": "code",
   "execution_count": 41,
   "metadata": {},
   "outputs": [],
   "source": [
    "from sklearn.model_selection import train_test_split, GridSearchCV\n",
    "from sklearn.svm import SVC\n",
    "import random\n",
    "random.seed(33)\n",
    "\n",
    "#1) SPlit the data\n",
    "X_train, X_test, y_train, y_test = train_test_split(df['correctLyrics'], df['type'], test_size=0.3, random_state=33)\n",
    "\n",
    "#2)Embeedings matrix\n",
    "size_embeding = len(lyrics_embeddings[0])\n",
    "X_train_emb = np.zeros((len(X_train), size_embeding))\n",
    "for i, review in enumerate(X_train):\n",
    "    X_train_emb[i] = get_lyrics_vector(wv, review)\n"
   ]
  },
  {
   "attachments": {},
   "cell_type": "markdown",
   "metadata": {},
   "source": [
    "##### -SVM"
   ]
  },
  {
   "cell_type": "code",
   "execution_count": 56,
   "metadata": {},
   "outputs": [
    {
     "name": "stdout",
     "output_type": "stream",
     "text": [
      "SVM accuracy on the train set: 0.4454\n",
      "SVM accuracy on the test set: 0.4540\n",
      "Best SVM parameters are:  SVC(C=5, kernel='linear')\n"
     ]
    }
   ],
   "source": [
    "#3)Train with different hyper parameters the classifier and obtain the best result\n",
    "random.seed(33)\n",
    "svm = SVC()\n",
    "param_grid = {'C': [1,3,5,7,9], 'kernel': ['rbf', 'linear']}\n",
    "svm_grid_search = GridSearchCV(svm, param_grid, cv=5)\n",
    "svm_grid_search.fit(X_train_emb, y_train)\n",
    "\n",
    "# Evaluate the performance of the classifier on the test set\n",
    "X_test_emb = np.zeros((len(X_test), size_embeding))\n",
    "for i, review in enumerate(X_test):\n",
    "    X_test_emb[i] = get_lyrics_vector(wv, review)\n",
    "\n",
    "svm_best = svm_grid_search.best_estimator_\n",
    "svm_accuracy = svm_best.score(X_test_emb, y_test)\n",
    "svm_accuracy_train = svm_best.score(X_train_emb, y_train)\n",
    "\n",
    "\n",
    "print(f\"SVM accuracy on the train set: {svm_accuracy_train:.4f}\")\n",
    "print(f\"SVM accuracy on the test set: {svm_accuracy:.4f}\")\n",
    "print(\"Best SVM parameters are: \", svm_best)"
   ]
  },
  {
   "attachments": {},
   "cell_type": "markdown",
   "metadata": {},
   "source": [
    "##### -KNN"
   ]
  },
  {
   "cell_type": "code",
   "execution_count": 57,
   "metadata": {},
   "outputs": [
    {
     "name": "stdout",
     "output_type": "stream",
     "text": [
      "KNN accuracy on the train set: 0.5109\n",
      "KNN accuracy on the test set: 0.4236\n",
      "Best knn parameters are:  KNeighborsClassifier(n_neighbors=15)\n"
     ]
    }
   ],
   "source": [
    "from sklearn.neighbors import KNeighborsClassifier\n",
    "\n",
    "random.seed(33)\n",
    "knn = KNeighborsClassifier()\n",
    "param_grid = {'n_neighbors': [1,5,10,15,20,25,30,35,40]}\n",
    "knn_grid_search = GridSearchCV(knn, param_grid, cv=5)\n",
    "knn_grid_search.fit(X_train_emb, y_train)\n",
    "\n",
    "# Evaluate the performance of the classifier on the test set\n",
    "X_test_emb = np.zeros((len(X_test), size_embeding))\n",
    "for i, review in enumerate(X_test):\n",
    "    X_test_emb[i] = get_lyrics_vector(wv, review)\n",
    "\n",
    "\n",
    "knn_best = knn_grid_search.best_estimator_\n",
    "knn_accuracy = knn_best.score(X_test_emb, y_test)\n",
    "knn_accuracy_train = knn_best.score(X_train_emb, y_train)\n",
    "\n",
    "\n",
    "print(f\"KNN accuracy on the train set: {knn_accuracy_train:.4f}\")\n",
    "print(f\"KNN accuracy on the test set: {knn_accuracy:.4f}\")\n",
    "print(\"Best knn parameters are: \", knn_best)"
   ]
  },
  {
   "attachments": {},
   "cell_type": "markdown",
   "metadata": {},
   "source": [
    "##### -Random Forest"
   ]
  },
  {
   "cell_type": "code",
   "execution_count": 68,
   "metadata": {},
   "outputs": [
    {
     "name": "stdout",
     "output_type": "stream",
     "text": [
      "RF accuracy on the train set: 0.9943\n",
      "RF accuracy on the test set: 0.4781\n",
      "Best RF parameters are:  RandomForestClassifier(criterion='entropy', max_depth=15, n_estimators=400)\n"
     ]
    }
   ],
   "source": [
    "from  sklearn.ensemble import RandomForestClassifier\n",
    "\n",
    "random.seed(33)\n",
    "RF = RandomForestClassifier()\n",
    "param_grid = {'n_estimators': [50,100,200,400], 'criterion':['gini', 'entropy'], 'max_depth':[2,5,10,15]}\n",
    "RF_grid_search = GridSearchCV(RF, param_grid, cv=5)\n",
    "RF_grid_search.fit(X_train_emb, y_train)\n",
    "\n",
    "# Evaluate the performance of the classifier on the test set\n",
    "X_test_emb = np.zeros((len(X_test), size_embeding))\n",
    "for i, review in enumerate(X_test):\n",
    "    X_test_emb[i] = get_lyrics_vector(wv, review)\n",
    "\n",
    "\n",
    "RF_best = RF_grid_search.best_estimator_\n",
    "RF_accuracy = RF_best.score(X_test_emb, y_test)\n",
    "RF_accuracy_train = RF_best.score(X_train_emb, y_train)\n",
    "\n",
    "\n",
    "print(f\"RF accuracy on the train set: {RF_accuracy_train:.4f}\")\n",
    "print(f\"RF accuracy on the test set: {RF_accuracy:.4f}\")\n",
    "print(\"Best RF parameters are: \", RF_best)"
   ]
  },
  {
   "attachments": {},
   "cell_type": "markdown",
   "metadata": {},
   "source": [
    "##### -Multinomial Logistic Regression"
   ]
  },
  {
   "cell_type": "code",
   "execution_count": 78,
   "metadata": {},
   "outputs": [
    {
     "name": "stderr",
     "output_type": "stream",
     "text": [
      "c:\\Users\\34649\\anaconda3\\envs\\ML\\lib\\site-packages\\sklearn\\linear_model\\_logistic.py:814: ConvergenceWarning: lbfgs failed to converge (status=1):\n",
      "STOP: TOTAL NO. of ITERATIONS REACHED LIMIT.\n",
      "\n",
      "Increase the number of iterations (max_iter) or scale the data as shown in:\n",
      "    https://scikit-learn.org/stable/modules/preprocessing.html\n",
      "Please also refer to the documentation for alternative solver options:\n",
      "    https://scikit-learn.org/stable/modules/linear_model.html#logistic-regression\n",
      "  n_iter_i = _check_optimize_result(\n",
      "c:\\Users\\34649\\anaconda3\\envs\\ML\\lib\\site-packages\\sklearn\\linear_model\\_logistic.py:814: ConvergenceWarning: lbfgs failed to converge (status=1):\n",
      "STOP: TOTAL NO. of ITERATIONS REACHED LIMIT.\n",
      "\n",
      "Increase the number of iterations (max_iter) or scale the data as shown in:\n",
      "    https://scikit-learn.org/stable/modules/preprocessing.html\n",
      "Please also refer to the documentation for alternative solver options:\n",
      "    https://scikit-learn.org/stable/modules/linear_model.html#logistic-regression\n",
      "  n_iter_i = _check_optimize_result(\n",
      "c:\\Users\\34649\\anaconda3\\envs\\ML\\lib\\site-packages\\sklearn\\linear_model\\_logistic.py:814: ConvergenceWarning: lbfgs failed to converge (status=1):\n",
      "STOP: TOTAL NO. of ITERATIONS REACHED LIMIT.\n",
      "\n",
      "Increase the number of iterations (max_iter) or scale the data as shown in:\n",
      "    https://scikit-learn.org/stable/modules/preprocessing.html\n",
      "Please also refer to the documentation for alternative solver options:\n",
      "    https://scikit-learn.org/stable/modules/linear_model.html#logistic-regression\n",
      "  n_iter_i = _check_optimize_result(\n",
      "c:\\Users\\34649\\anaconda3\\envs\\ML\\lib\\site-packages\\sklearn\\linear_model\\_logistic.py:814: ConvergenceWarning: lbfgs failed to converge (status=1):\n",
      "STOP: TOTAL NO. of ITERATIONS REACHED LIMIT.\n",
      "\n",
      "Increase the number of iterations (max_iter) or scale the data as shown in:\n",
      "    https://scikit-learn.org/stable/modules/preprocessing.html\n",
      "Please also refer to the documentation for alternative solver options:\n",
      "    https://scikit-learn.org/stable/modules/linear_model.html#logistic-regression\n",
      "  n_iter_i = _check_optimize_result(\n",
      "c:\\Users\\34649\\anaconda3\\envs\\ML\\lib\\site-packages\\sklearn\\linear_model\\_logistic.py:814: ConvergenceWarning: lbfgs failed to converge (status=1):\n",
      "STOP: TOTAL NO. of ITERATIONS REACHED LIMIT.\n",
      "\n",
      "Increase the number of iterations (max_iter) or scale the data as shown in:\n",
      "    https://scikit-learn.org/stable/modules/preprocessing.html\n",
      "Please also refer to the documentation for alternative solver options:\n",
      "    https://scikit-learn.org/stable/modules/linear_model.html#logistic-regression\n",
      "  n_iter_i = _check_optimize_result(\n",
      "c:\\Users\\34649\\anaconda3\\envs\\ML\\lib\\site-packages\\sklearn\\linear_model\\_logistic.py:814: ConvergenceWarning: lbfgs failed to converge (status=1):\n",
      "STOP: TOTAL NO. of ITERATIONS REACHED LIMIT.\n",
      "\n",
      "Increase the number of iterations (max_iter) or scale the data as shown in:\n",
      "    https://scikit-learn.org/stable/modules/preprocessing.html\n",
      "Please also refer to the documentation for alternative solver options:\n",
      "    https://scikit-learn.org/stable/modules/linear_model.html#logistic-regression\n",
      "  n_iter_i = _check_optimize_result(\n",
      "c:\\Users\\34649\\anaconda3\\envs\\ML\\lib\\site-packages\\sklearn\\linear_model\\_logistic.py:814: ConvergenceWarning: lbfgs failed to converge (status=1):\n",
      "STOP: TOTAL NO. of ITERATIONS REACHED LIMIT.\n",
      "\n",
      "Increase the number of iterations (max_iter) or scale the data as shown in:\n",
      "    https://scikit-learn.org/stable/modules/preprocessing.html\n",
      "Please also refer to the documentation for alternative solver options:\n",
      "    https://scikit-learn.org/stable/modules/linear_model.html#logistic-regression\n",
      "  n_iter_i = _check_optimize_result(\n",
      "c:\\Users\\34649\\anaconda3\\envs\\ML\\lib\\site-packages\\sklearn\\linear_model\\_logistic.py:814: ConvergenceWarning: lbfgs failed to converge (status=1):\n",
      "STOP: TOTAL NO. of ITERATIONS REACHED LIMIT.\n",
      "\n",
      "Increase the number of iterations (max_iter) or scale the data as shown in:\n",
      "    https://scikit-learn.org/stable/modules/preprocessing.html\n",
      "Please also refer to the documentation for alternative solver options:\n",
      "    https://scikit-learn.org/stable/modules/linear_model.html#logistic-regression\n",
      "  n_iter_i = _check_optimize_result(\n",
      "c:\\Users\\34649\\anaconda3\\envs\\ML\\lib\\site-packages\\sklearn\\linear_model\\_logistic.py:814: ConvergenceWarning: lbfgs failed to converge (status=1):\n",
      "STOP: TOTAL NO. of ITERATIONS REACHED LIMIT.\n",
      "\n",
      "Increase the number of iterations (max_iter) or scale the data as shown in:\n",
      "    https://scikit-learn.org/stable/modules/preprocessing.html\n",
      "Please also refer to the documentation for alternative solver options:\n",
      "    https://scikit-learn.org/stable/modules/linear_model.html#logistic-regression\n",
      "  n_iter_i = _check_optimize_result(\n",
      "c:\\Users\\34649\\anaconda3\\envs\\ML\\lib\\site-packages\\sklearn\\linear_model\\_logistic.py:814: ConvergenceWarning: lbfgs failed to converge (status=1):\n",
      "STOP: TOTAL NO. of ITERATIONS REACHED LIMIT.\n",
      "\n",
      "Increase the number of iterations (max_iter) or scale the data as shown in:\n",
      "    https://scikit-learn.org/stable/modules/preprocessing.html\n",
      "Please also refer to the documentation for alternative solver options:\n",
      "    https://scikit-learn.org/stable/modules/linear_model.html#logistic-regression\n",
      "  n_iter_i = _check_optimize_result(\n",
      "c:\\Users\\34649\\anaconda3\\envs\\ML\\lib\\site-packages\\sklearn\\linear_model\\_logistic.py:814: ConvergenceWarning: lbfgs failed to converge (status=1):\n",
      "STOP: TOTAL NO. of ITERATIONS REACHED LIMIT.\n",
      "\n",
      "Increase the number of iterations (max_iter) or scale the data as shown in:\n",
      "    https://scikit-learn.org/stable/modules/preprocessing.html\n",
      "Please also refer to the documentation for alternative solver options:\n",
      "    https://scikit-learn.org/stable/modules/linear_model.html#logistic-regression\n",
      "  n_iter_i = _check_optimize_result(\n",
      "c:\\Users\\34649\\anaconda3\\envs\\ML\\lib\\site-packages\\sklearn\\linear_model\\_logistic.py:814: ConvergenceWarning: lbfgs failed to converge (status=1):\n",
      "STOP: TOTAL NO. of ITERATIONS REACHED LIMIT.\n",
      "\n",
      "Increase the number of iterations (max_iter) or scale the data as shown in:\n",
      "    https://scikit-learn.org/stable/modules/preprocessing.html\n",
      "Please also refer to the documentation for alternative solver options:\n",
      "    https://scikit-learn.org/stable/modules/linear_model.html#logistic-regression\n",
      "  n_iter_i = _check_optimize_result(\n",
      "c:\\Users\\34649\\anaconda3\\envs\\ML\\lib\\site-packages\\sklearn\\linear_model\\_logistic.py:814: ConvergenceWarning: lbfgs failed to converge (status=1):\n",
      "STOP: TOTAL NO. of ITERATIONS REACHED LIMIT.\n",
      "\n",
      "Increase the number of iterations (max_iter) or scale the data as shown in:\n",
      "    https://scikit-learn.org/stable/modules/preprocessing.html\n",
      "Please also refer to the documentation for alternative solver options:\n",
      "    https://scikit-learn.org/stable/modules/linear_model.html#logistic-regression\n",
      "  n_iter_i = _check_optimize_result(\n",
      "c:\\Users\\34649\\anaconda3\\envs\\ML\\lib\\site-packages\\sklearn\\linear_model\\_logistic.py:814: ConvergenceWarning: lbfgs failed to converge (status=1):\n",
      "STOP: TOTAL NO. of ITERATIONS REACHED LIMIT.\n",
      "\n",
      "Increase the number of iterations (max_iter) or scale the data as shown in:\n",
      "    https://scikit-learn.org/stable/modules/preprocessing.html\n",
      "Please also refer to the documentation for alternative solver options:\n",
      "    https://scikit-learn.org/stable/modules/linear_model.html#logistic-regression\n",
      "  n_iter_i = _check_optimize_result(\n"
     ]
    },
    {
     "name": "stdout",
     "output_type": "stream",
     "text": [
      "Logistic Regression accuracy on the train set: 0.4374\n",
      "LR accuracy on the test set: 0.4298\n",
      "Best LR parameters are:  LogisticRegression(C=1, multi_class='multinomial')\n"
     ]
    }
   ],
   "source": [
    "from sklearn.linear_model import LogisticRegression\n",
    "\n",
    "random.seed(33)\n",
    "lr = LogisticRegression()\n",
    "param_grid = {'multi_class':['multinomial', 'ovr'], 'solver':['lbfgs'], 'C':[0.0001, 0.001, 0.01, 0.1, 0.5,1]}\n",
    "lr_grid_search = GridSearchCV(lr, param_grid, cv=5)\n",
    "lr_grid_search.fit(X_train_emb, y_train)\n",
    "\n",
    "# Evaluate the performance of the classifier on the test set\n",
    "X_test_emb = np.zeros((len(X_test), size_embeding))\n",
    "for i, review in enumerate(X_test):\n",
    "    X_test_emb[i] = get_lyrics_vector(wv, review)\n",
    "\n",
    "\n",
    "lr_best = lr_grid_search.best_estimator_\n",
    "lr_accuracy = lr_best.score(X_test_emb, y_test)\n",
    "lr_accuracy_train = lr_best.score(X_train_emb, y_train)\n",
    "\n",
    "\n",
    "print(f\"Logistic Regression accuracy on the train set: {lr_accuracy_train:.4f}\")\n",
    "print(f\"LR accuracy on the test set: {lr_accuracy:.4f}\")\n",
    "print(\"Best LR parameters are: \", lr_best)"
   ]
  },
  {
   "attachments": {},
   "cell_type": "markdown",
   "metadata": {},
   "source": [
    "#### **2.1.1.2 Machine Learning Approach with pre-trained word2vec**"
   ]
  },
  {
   "attachments": {},
   "cell_type": "markdown",
   "metadata": {},
   "source": [
    "We will follow exactly the same steps we have done with our word2vec, so we can compare the results in terms of accuracy of the classification."
   ]
  },
  {
   "cell_type": "code",
   "execution_count": 42,
   "metadata": {},
   "outputs": [],
   "source": [
    "random.seed(33)\n",
    "\n",
    "#1) SPlit the data\n",
    "X_train, X_test, y_train, y_test = train_test_split(df['correctLyrics'], df['type'], test_size=0.3, random_state=33)\n",
    "\n",
    "#2)Embeedings matrix\n",
    "size_embeding_pre = len(lyrics_embeddings_pre[0])\n",
    "X_train_emb = np.zeros((len(X_train), size_embeding_pre))\n",
    "for i, review in enumerate(X_train):\n",
    "    X_train_emb[i] = get_lyrics_vector(pre_w2v, review)\n"
   ]
  },
  {
   "cell_type": "markdown",
   "metadata": {},
   "source": [
    "##### -SVM"
   ]
  },
  {
   "cell_type": "code",
   "execution_count": 43,
   "metadata": {},
   "outputs": [
    {
     "name": "stdout",
     "output_type": "stream",
     "text": [
      "SVM accuracy on the train set: 0.5418\n",
      "SVM accuracy on the test set: 0.5353\n",
      "Best SVM parameters are:  SVC(C=7)\n"
     ]
    }
   ],
   "source": [
    "#3)Train with different hyper parameters the classifier and obtain the best result\n",
    "random.seed(33)\n",
    "svm = SVC()\n",
    "param_grid = {'C': [1,3,5,7,9], 'kernel': ['rbf', 'linear']}\n",
    "svm_grid_search = GridSearchCV(svm, param_grid, cv=5)\n",
    "svm_grid_search.fit(X_train_emb, y_train)\n",
    "\n",
    "# Evaluate the performance of the classifier on the test set\n",
    "X_test_emb = np.zeros((len(X_test), size_embeding_pre))\n",
    "for i, review in enumerate(X_test):\n",
    "    X_test_emb[i] = get_lyrics_vector(pre_w2v, review)\n",
    "\n",
    "svm_best = svm_grid_search.best_estimator_\n",
    "svm_accuracy = svm_best.score(X_test_emb, y_test)\n",
    "svm_accuracy_train = svm_best.score(X_train_emb, y_train)\n",
    "\n",
    "\n",
    "print(f\"SVM accuracy on the train set: {svm_accuracy_train:.4f}\")\n",
    "print(f\"SVM accuracy on the test set: {svm_accuracy:.4f}\")\n",
    "print(\"Best SVM parameters are: \", svm_best)"
   ]
  },
  {
   "cell_type": "markdown",
   "metadata": {},
   "source": [
    "##### -KNN"
   ]
  },
  {
   "cell_type": "code",
   "execution_count": 44,
   "metadata": {},
   "outputs": [
    {
     "name": "stdout",
     "output_type": "stream",
     "text": [
      "KNN accuracy on the train set: 0.5502\n",
      "KNN accuracy on the test set: 0.4727\n",
      "Best knn parameters are:  KNeighborsClassifier(n_neighbors=10)\n"
     ]
    }
   ],
   "source": [
    "from sklearn.neighbors import KNeighborsClassifier\n",
    "\n",
    "random.seed(33)\n",
    "knn = KNeighborsClassifier()\n",
    "param_grid = {'n_neighbors': [1,5,10,15,20,25,30,35,40]}\n",
    "knn_grid_search = GridSearchCV(knn, param_grid, cv=5)\n",
    "knn_grid_search.fit(X_train_emb, y_train)\n",
    "\n",
    "# Evaluate the performance of the classifier on the test set\n",
    "X_test_emb = np.zeros((len(X_test), size_embeding_pre))\n",
    "for i, review in enumerate(X_test):\n",
    "    X_test_emb[i] = get_lyrics_vector(pre_w2v, review)\n",
    "\n",
    "\n",
    "knn_best = knn_grid_search.best_estimator_\n",
    "knn_accuracy = knn_best.score(X_test_emb, y_test)\n",
    "knn_accuracy_train = knn_best.score(X_train_emb, y_train)\n",
    "\n",
    "\n",
    "print(f\"KNN accuracy on the train set: {knn_accuracy_train:.4f}\")\n",
    "print(f\"KNN accuracy on the test set: {knn_accuracy:.4f}\")\n",
    "print(\"Best knn parameters are: \", knn_best)"
   ]
  },
  {
   "cell_type": "markdown",
   "metadata": {},
   "source": [
    "##### -Random Forest"
   ]
  },
  {
   "cell_type": "code",
   "execution_count": 45,
   "metadata": {},
   "outputs": [
    {
     "name": "stdout",
     "output_type": "stream",
     "text": [
      "RF accuracy on the train set: 0.9866\n",
      "RF accuracy on the test set: 0.5657\n",
      "Best RF parameters are:  RandomForestClassifier(max_depth=12, n_estimators=400)\n"
     ]
    }
   ],
   "source": [
    "from  sklearn.ensemble import RandomForestClassifier\n",
    "\n",
    "random.seed(33)\n",
    "RF = RandomForestClassifier()\n",
    "param_grid = {'n_estimators': [50,100,200,400], 'criterion':['gini', 'entropy'], 'max_depth':[2,5,10,12]}\n",
    "RF_grid_search = GridSearchCV(RF, param_grid, cv=5)\n",
    "RF_grid_search.fit(X_train_emb, y_train)\n",
    "\n",
    "# Evaluate the performance of the classifier on the test set\n",
    "X_test_emb = np.zeros((len(X_test), size_embeding_pre))\n",
    "for i, review in enumerate(X_test):\n",
    "    X_test_emb[i] = get_lyrics_vector(pre_w2v, review)\n",
    "\n",
    "\n",
    "RF_best = RF_grid_search.best_estimator_\n",
    "RF_accuracy = RF_best.score(X_test_emb, y_test)\n",
    "RF_accuracy_train = RF_best.score(X_train_emb, y_train)\n",
    "\n",
    "\n",
    "print(f\"RF accuracy on the train set: {RF_accuracy_train:.4f}\")\n",
    "print(f\"RF accuracy on the test set: {RF_accuracy:.4f}\")\n",
    "print(\"Best RF parameters are: \", RF_best)"
   ]
  },
  {
   "cell_type": "markdown",
   "metadata": {},
   "source": [
    "##### -Multinomial Logistic Regression"
   ]
  },
  {
   "cell_type": "code",
   "execution_count": 46,
   "metadata": {},
   "outputs": [
    {
     "name": "stderr",
     "output_type": "stream",
     "text": [
      "c:\\Users\\34649\\anaconda3\\envs\\ML\\lib\\site-packages\\sklearn\\linear_model\\_logistic.py:814: ConvergenceWarning: lbfgs failed to converge (status=1):\n",
      "STOP: TOTAL NO. of ITERATIONS REACHED LIMIT.\n",
      "\n",
      "Increase the number of iterations (max_iter) or scale the data as shown in:\n",
      "    https://scikit-learn.org/stable/modules/preprocessing.html\n",
      "Please also refer to the documentation for alternative solver options:\n",
      "    https://scikit-learn.org/stable/modules/linear_model.html#logistic-regression\n",
      "  n_iter_i = _check_optimize_result(\n",
      "c:\\Users\\34649\\anaconda3\\envs\\ML\\lib\\site-packages\\sklearn\\linear_model\\_logistic.py:814: ConvergenceWarning: lbfgs failed to converge (status=1):\n",
      "STOP: TOTAL NO. of ITERATIONS REACHED LIMIT.\n",
      "\n",
      "Increase the number of iterations (max_iter) or scale the data as shown in:\n",
      "    https://scikit-learn.org/stable/modules/preprocessing.html\n",
      "Please also refer to the documentation for alternative solver options:\n",
      "    https://scikit-learn.org/stable/modules/linear_model.html#logistic-regression\n",
      "  n_iter_i = _check_optimize_result(\n",
      "c:\\Users\\34649\\anaconda3\\envs\\ML\\lib\\site-packages\\sklearn\\linear_model\\_logistic.py:814: ConvergenceWarning: lbfgs failed to converge (status=1):\n",
      "STOP: TOTAL NO. of ITERATIONS REACHED LIMIT.\n",
      "\n",
      "Increase the number of iterations (max_iter) or scale the data as shown in:\n",
      "    https://scikit-learn.org/stable/modules/preprocessing.html\n",
      "Please also refer to the documentation for alternative solver options:\n",
      "    https://scikit-learn.org/stable/modules/linear_model.html#logistic-regression\n",
      "  n_iter_i = _check_optimize_result(\n",
      "c:\\Users\\34649\\anaconda3\\envs\\ML\\lib\\site-packages\\sklearn\\linear_model\\_logistic.py:814: ConvergenceWarning: lbfgs failed to converge (status=1):\n",
      "STOP: TOTAL NO. of ITERATIONS REACHED LIMIT.\n",
      "\n",
      "Increase the number of iterations (max_iter) or scale the data as shown in:\n",
      "    https://scikit-learn.org/stable/modules/preprocessing.html\n",
      "Please also refer to the documentation for alternative solver options:\n",
      "    https://scikit-learn.org/stable/modules/linear_model.html#logistic-regression\n",
      "  n_iter_i = _check_optimize_result(\n"
     ]
    },
    {
     "name": "stdout",
     "output_type": "stream",
     "text": [
      "Logistic Regression accuracy on the train set: 0.5184\n",
      "LR accuracy on the test set: 0.5130\n",
      "Best LR parameters are:  LogisticRegression(C=1, multi_class='multinomial')\n"
     ]
    }
   ],
   "source": [
    "from sklearn.linear_model import LogisticRegression\n",
    "\n",
    "random.seed(33)\n",
    "lr = LogisticRegression()\n",
    "param_grid = {'multi_class':['multinomial', 'ovr'], 'solver':['lbfgs'], 'C':[0.0001, 0.001, 0.01, 0.1, 0.5,1]}\n",
    "lr_grid_search = GridSearchCV(lr, param_grid, cv=5)\n",
    "lr_grid_search.fit(X_train_emb, y_train)\n",
    "\n",
    "# Evaluate the performance of the classifier on the test set\n",
    "X_test_emb = np.zeros((len(X_test), size_embeding_pre))\n",
    "for i, review in enumerate(X_test):\n",
    "    X_test_emb[i] = get_lyrics_vector(pre_w2v, review)\n",
    "\n",
    "\n",
    "lr_best = lr_grid_search.best_estimator_\n",
    "lr_accuracy = lr_best.score(X_test_emb, y_test)\n",
    "lr_accuracy_train = lr_best.score(X_train_emb, y_train)\n",
    "\n",
    "\n",
    "print(f\"Logistic Regression accuracy on the train set: {lr_accuracy_train:.4f}\")\n",
    "print(f\"LR accuracy on the test set: {lr_accuracy:.4f}\")\n",
    "print(\"Best LR parameters are: \", lr_best)"
   ]
  },
  {
   "attachments": {},
   "cell_type": "markdown",
   "metadata": {},
   "source": [
    "We can see the results are better with the pre-trained model, what is in fact, what we expected, as word2vec works better with more words, and our self created model based on the lyrics of the song was not speccially big."
   ]
  },
  {
   "cell_type": "markdown",
   "metadata": {},
   "source": [
    "#### **2.1.2 Deep Learning Approach**"
   ]
  },
  {
   "cell_type": "code",
   "execution_count": null,
   "metadata": {},
   "outputs": [],
   "source": [
    "#TODO\n",
    "#NEURAL NETWORK IN CLASS"
   ]
  },
  {
   "cell_type": "markdown",
   "metadata": {},
   "source": [
    "### **2.2 Clustering Task**"
   ]
  },
  {
   "cell_type": "code",
   "execution_count": null,
   "metadata": {},
   "outputs": [],
   "source": [
    "#TODO\n",
    "#UNSUPERVISED LEARNING REGARDING CLUSTERING"
   ]
  }
 ],
 "metadata": {
  "kernelspec": {
   "display_name": "Python 3.10.6 ('ML')",
   "language": "python",
   "name": "python3"
  },
  "language_info": {
   "codemirror_mode": {
    "name": "ipython",
    "version": 3
   },
   "file_extension": ".py",
   "mimetype": "text/x-python",
   "name": "python",
   "nbconvert_exporter": "python",
   "pygments_lexer": "ipython3",
   "version": "3.10.4"
  },
  "orig_nbformat": 4,
  "vscode": {
   "interpreter": {
    "hash": "381ff88311bfa90205062e08049120f59c6e3b2eedf7e19586806884b20be455"
   }
  }
 },
 "nbformat": 4,
 "nbformat_minor": 2
}
